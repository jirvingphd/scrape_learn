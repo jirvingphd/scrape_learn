{
 "cells": [
  {
   "cell_type": "code",
   "execution_count": 7,
   "metadata": {},
   "outputs": [
    {
     "name": "stdout",
     "output_type": "stream",
     "text": [
      "[i] Workflow:\n",
      "driver = start_driver()\n",
      "login_data=load_login_data()\n",
      "github_login(driver,login_data)\n",
      "instruct_menu_to_cohort_roster(driver,cohort='pt')\n",
      "df = cohort_driver_to_csv(driver,'pt_cohort_data.csv',load=True)\n",
      "Loaded json data. Keys:\n",
      "dict_keys(['username', 'password'])\n",
      "[i] Successfully saved 'pt_cohort_data.csv'\n"
     ]
    }
   ],
   "source": [
    "import learn_scrape as ls\n",
    "ls.help()\n",
    "driver=ls.start_driver()\n",
    "ls.sleep(0.5)\n",
    "ls.github_login(driver)\n",
    "ls.instruct_menu_to_cohort_roster(driver,cohort='pt')\n",
    "df_pt = ls.cohort_driver_to_csv(driver,'pt_cohort_data.csv',load=True)\n",
    "df_pt\n",
    "# driver.back()"
   ]
  },
  {
   "cell_type": "code",
   "execution_count": 15,
   "metadata": {},
   "outputs": [],
   "source": [
    "df_pt['Completed Lessons'] = df_pt['Completed Lessons'].astype(\"int\")"
   ]
  },
  {
   "cell_type": "code",
   "execution_count": 16,
   "metadata": {},
   "outputs": [
    {
     "data": {
      "text/plain": [
       "Index(['Completed Lessons', 'Last Checkin Note', 'Checkins (NoShows)',\n",
       "       'Instructor'],\n",
       "      dtype='object')"
      ]
     },
     "execution_count": 16,
     "metadata": {},
     "output_type": "execute_result"
    }
   ],
   "source": [
    "df_pt.columns"
   ]
  },
  {
   "cell_type": "code",
   "execution_count": 19,
   "metadata": {},
   "outputs": [
    {
     "data": {
      "text/plain": [
       "<matplotlib.axes._subplots.AxesSubplot at 0x1256603c8>"
      ]
     },
     "execution_count": 19,
     "metadata": {},
     "output_type": "execute_result"
    },
    {
     "data": {
      "image/png": "[encoded data removed]",
      "text/plain": [
       "<Figure size 432x288 with 1 Axes>"
      ]
     },
     "metadata": {
      "needs_background": "light"
     },
     "output_type": "display_data"
    }
   ],
   "source": [
    "# df_pt.set_index('Student Name ',inplace=True)\n",
    "df_pt.plot(kind='barh')#kind='bar',x='Completed Lessons')"
   ]
  },
  {
   "cell_type": "code",
   "execution_count": 22,
   "metadata": {},
   "outputs": [],
   "source": [
    "driver.back()"
   ]
  },
  {
   "cell_type": "code",
   "execution_count": 24,
   "metadata": {},
   "outputs": [
    {
     "name": "stdout",
     "output_type": "stream",
     "text": [
      "Loaded json data. Keys:\n",
      "dict_keys(['username', 'password'])\n"
     ]
    },
    {
     "ename": "JavascriptException",
     "evalue": "Message: javascript error: Failed to execute 'elementsFromPoint' on 'Document': The provided double value is non-finite.\n  (Session info: chrome=79.0.3945.79)\n",
     "output_type": "error",
     "traceback": [
      "\u001b[0;31m---------------------------------------------------------------------------\u001b[0m",
      "\u001b[0;31mJavascriptException\u001b[0m                       Traceback (most recent call last)",
      "\u001b[0;32m<ipython-input-24-57f02c4a053c>\u001b[0m in \u001b[0;36m<module>\u001b[0;34m\u001b[0m\n\u001b[1;32m      2\u001b[0m \u001b[0mls\u001b[0m\u001b[0;34m.\u001b[0m\u001b[0msleep\u001b[0m\u001b[0;34m(\u001b[0m\u001b[0;36m0.5\u001b[0m\u001b[0;34m)\u001b[0m\u001b[0;34m\u001b[0m\u001b[0;34m\u001b[0m\u001b[0m\n\u001b[1;32m      3\u001b[0m \u001b[0mls\u001b[0m\u001b[0;34m.\u001b[0m\u001b[0mgithub_login\u001b[0m\u001b[0;34m(\u001b[0m\u001b[0mdriver\u001b[0m\u001b[0;34m)\u001b[0m\u001b[0;34m\u001b[0m\u001b[0;34m\u001b[0m\u001b[0m\n\u001b[0;32m----> 4\u001b[0;31m \u001b[0mls\u001b[0m\u001b[0;34m.\u001b[0m\u001b[0minstruct_menu_to_cohort_roster\u001b[0m\u001b[0;34m(\u001b[0m\u001b[0mdriver\u001b[0m\u001b[0;34m,\u001b[0m\u001b[0mcohort\u001b[0m\u001b[0;34m=\u001b[0m\u001b[0;34m'ft'\u001b[0m\u001b[0;34m)\u001b[0m\u001b[0;34m\u001b[0m\u001b[0;34m\u001b[0m\u001b[0m\n\u001b[0m\u001b[1;32m      5\u001b[0m \u001b[0mdf_ft\u001b[0m \u001b[0;34m=\u001b[0m \u001b[0mls\u001b[0m\u001b[0;34m.\u001b[0m\u001b[0mcohort_driver_to_csv\u001b[0m\u001b[0;34m(\u001b[0m\u001b[0mdriver\u001b[0m\u001b[0;34m,\u001b[0m\u001b[0;34m'ft_cohort_data.csv'\u001b[0m\u001b[0;34m,\u001b[0m\u001b[0mload\u001b[0m\u001b[0;34m=\u001b[0m\u001b[0;32mTrue\u001b[0m\u001b[0;34m)\u001b[0m\u001b[0;34m\u001b[0m\u001b[0;34m\u001b[0m\u001b[0m\n",
      "\u001b[0;32m~/Documents/GitHub/_MY_SIDE_PROJECTS/scrape_learn/learn_scrape.py\u001b[0m in \u001b[0;36minstruct_menu_to_cohort_roster\u001b[0;34m(driver, cohort)\u001b[0m\n\u001b[1;32m     68\u001b[0m \u001b[0;34m\u001b[0m\u001b[0m\n\u001b[1;32m     69\u001b[0m     \u001b[0mactions\u001b[0m\u001b[0;34m.\u001b[0m\u001b[0mclick\u001b[0m\u001b[0;34m(\u001b[0m\u001b[0mcohort_link\u001b[0m\u001b[0;34m)\u001b[0m\u001b[0;34m\u001b[0m\u001b[0;34m\u001b[0m\u001b[0m\n\u001b[0;32m---> 70\u001b[0;31m     \u001b[0;32mreturn\u001b[0m \u001b[0mactions\u001b[0m\u001b[0;34m.\u001b[0m\u001b[0mperform\u001b[0m\u001b[0;34m(\u001b[0m\u001b[0;34m)\u001b[0m\u001b[0;34m\u001b[0m\u001b[0;34m\u001b[0m\u001b[0m\n\u001b[0m\u001b[1;32m     71\u001b[0m \u001b[0;34m\u001b[0m\u001b[0m\n\u001b[1;32m     72\u001b[0m \u001b[0;34m\u001b[0m\u001b[0m\n",
      "\u001b[0;32m//anaconda3/envs/learn-env/lib/python3.6/site-packages/selenium/webdriver/common/action_chains.py\u001b[0m in \u001b[0;36mperform\u001b[0;34m(self)\u001b[0m\n\u001b[1;32m     78\u001b[0m         \"\"\"\n\u001b[1;32m     79\u001b[0m         \u001b[0;32mif\u001b[0m \u001b[0mself\u001b[0m\u001b[0;34m.\u001b[0m\u001b[0m_driver\u001b[0m\u001b[0;34m.\u001b[0m\u001b[0mw3c\u001b[0m\u001b[0;34m:\u001b[0m\u001b[0;34m\u001b[0m\u001b[0;34m\u001b[0m\u001b[0m\n\u001b[0;32m---> 80\u001b[0;31m             \u001b[0mself\u001b[0m\u001b[0;34m.\u001b[0m\u001b[0mw3c_actions\u001b[0m\u001b[0;34m.\u001b[0m\u001b[0mperform\u001b[0m\u001b[0;34m(\u001b[0m\u001b[0;34m)\u001b[0m\u001b[0;34m\u001b[0m\u001b[0;34m\u001b[0m\u001b[0m\n\u001b[0m\u001b[1;32m     81\u001b[0m         \u001b[0;32melse\u001b[0m\u001b[0;34m:\u001b[0m\u001b[0;34m\u001b[0m\u001b[0;34m\u001b[0m\u001b[0m\n\u001b[1;32m     82\u001b[0m             \u001b[0;32mfor\u001b[0m \u001b[0maction\u001b[0m \u001b[0;32min\u001b[0m \u001b[0mself\u001b[0m\u001b[0;34m.\u001b[0m\u001b[0m_actions\u001b[0m\u001b[0;34m:\u001b[0m\u001b[0;34m\u001b[0m\u001b[0;34m\u001b[0m\u001b[0m\n",
      "\u001b[0;32m//anaconda3/envs/learn-env/lib/python3.6/site-packages/selenium/webdriver/common/actions/action_builder.py\u001b[0m in \u001b[0;36mperform\u001b[0;34m(self)\u001b[0m\n\u001b[1;32m     74\u001b[0m             \u001b[0;32mif\u001b[0m \u001b[0mencoded\u001b[0m\u001b[0;34m[\u001b[0m\u001b[0;34m'actions'\u001b[0m\u001b[0;34m]\u001b[0m\u001b[0;34m:\u001b[0m\u001b[0;34m\u001b[0m\u001b[0;34m\u001b[0m\u001b[0m\n\u001b[1;32m     75\u001b[0m                 \u001b[0menc\u001b[0m\u001b[0;34m[\u001b[0m\u001b[0;34m\"actions\"\u001b[0m\u001b[0;34m]\u001b[0m\u001b[0;34m.\u001b[0m\u001b[0mappend\u001b[0m\u001b[0;34m(\u001b[0m\u001b[0mencoded\u001b[0m\u001b[0;34m)\u001b[0m\u001b[0;34m\u001b[0m\u001b[0;34m\u001b[0m\u001b[0m\n\u001b[0;32m---> 76\u001b[0;31m         \u001b[0mself\u001b[0m\u001b[0;34m.\u001b[0m\u001b[0mdriver\u001b[0m\u001b[0;34m.\u001b[0m\u001b[0mexecute\u001b[0m\u001b[0;34m(\u001b[0m\u001b[0mCommand\u001b[0m\u001b[0;34m.\u001b[0m\u001b[0mW3C_ACTIONS\u001b[0m\u001b[0;34m,\u001b[0m \u001b[0menc\u001b[0m\u001b[0;34m)\u001b[0m\u001b[0;34m\u001b[0m\u001b[0;34m\u001b[0m\u001b[0m\n\u001b[0m\u001b[1;32m     77\u001b[0m \u001b[0;34m\u001b[0m\u001b[0m\n\u001b[1;32m     78\u001b[0m     \u001b[0;32mdef\u001b[0m \u001b[0mclear_actions\u001b[0m\u001b[0;34m(\u001b[0m\u001b[0mself\u001b[0m\u001b[0;34m)\u001b[0m\u001b[0;34m:\u001b[0m\u001b[0;34m\u001b[0m\u001b[0;34m\u001b[0m\u001b[0m\n",
      "\u001b[0;32m//anaconda3/envs/learn-env/lib/python3.6/site-packages/selenium/webdriver/remote/webdriver.py\u001b[0m in \u001b[0;36mexecute\u001b[0;34m(self, driver_command, params)\u001b[0m\n\u001b[1;32m    319\u001b[0m         \u001b[0mresponse\u001b[0m \u001b[0;34m=\u001b[0m \u001b[0mself\u001b[0m\u001b[0;34m.\u001b[0m\u001b[0mcommand_executor\u001b[0m\u001b[0;34m.\u001b[0m\u001b[0mexecute\u001b[0m\u001b[0;34m(\u001b[0m\u001b[0mdriver_command\u001b[0m\u001b[0;34m,\u001b[0m \u001b[0mparams\u001b[0m\u001b[0;34m)\u001b[0m\u001b[0;34m\u001b[0m\u001b[0;34m\u001b[0m\u001b[0m\n\u001b[1;32m    320\u001b[0m         \u001b[0;32mif\u001b[0m \u001b[0mresponse\u001b[0m\u001b[0;34m:\u001b[0m\u001b[0;34m\u001b[0m\u001b[0;34m\u001b[0m\u001b[0m\n\u001b[0;32m--> 321\u001b[0;31m             \u001b[0mself\u001b[0m\u001b[0;34m.\u001b[0m\u001b[0merror_handler\u001b[0m\u001b[0;34m.\u001b[0m\u001b[0mcheck_response\u001b[0m\u001b[0;34m(\u001b[0m\u001b[0mresponse\u001b[0m\u001b[0;34m)\u001b[0m\u001b[0;34m\u001b[0m\u001b[0;34m\u001b[0m\u001b[0m\n\u001b[0m\u001b[1;32m    322\u001b[0m             response['value'] = self._unwrap_value(\n\u001b[1;32m    323\u001b[0m                 response.get('value', None))\n",
      "\u001b[0;32m//anaconda3/envs/learn-env/lib/python3.6/site-packages/selenium/webdriver/remote/errorhandler.py\u001b[0m in \u001b[0;36mcheck_response\u001b[0;34m(self, response)\u001b[0m\n\u001b[1;32m    240\u001b[0m                 \u001b[0malert_text\u001b[0m \u001b[0;34m=\u001b[0m \u001b[0mvalue\u001b[0m\u001b[0;34m[\u001b[0m\u001b[0;34m'alert'\u001b[0m\u001b[0;34m]\u001b[0m\u001b[0;34m.\u001b[0m\u001b[0mget\u001b[0m\u001b[0;34m(\u001b[0m\u001b[0;34m'text'\u001b[0m\u001b[0;34m)\u001b[0m\u001b[0;34m\u001b[0m\u001b[0;34m\u001b[0m\u001b[0m\n\u001b[1;32m    241\u001b[0m             \u001b[0;32mraise\u001b[0m \u001b[0mexception_class\u001b[0m\u001b[0;34m(\u001b[0m\u001b[0mmessage\u001b[0m\u001b[0;34m,\u001b[0m \u001b[0mscreen\u001b[0m\u001b[0;34m,\u001b[0m \u001b[0mstacktrace\u001b[0m\u001b[0;34m,\u001b[0m \u001b[0malert_text\u001b[0m\u001b[0;34m)\u001b[0m\u001b[0;34m\u001b[0m\u001b[0;34m\u001b[0m\u001b[0m\n\u001b[0;32m--> 242\u001b[0;31m         \u001b[0;32mraise\u001b[0m \u001b[0mexception_class\u001b[0m\u001b[0;34m(\u001b[0m\u001b[0mmessage\u001b[0m\u001b[0;34m,\u001b[0m \u001b[0mscreen\u001b[0m\u001b[0;34m,\u001b[0m \u001b[0mstacktrace\u001b[0m\u001b[0;34m)\u001b[0m\u001b[0;34m\u001b[0m\u001b[0;34m\u001b[0m\u001b[0m\n\u001b[0m\u001b[1;32m    243\u001b[0m \u001b[0;34m\u001b[0m\u001b[0m\n\u001b[1;32m    244\u001b[0m     \u001b[0;32mdef\u001b[0m \u001b[0m_value_or_default\u001b[0m\u001b[0;34m(\u001b[0m\u001b[0mself\u001b[0m\u001b[0;34m,\u001b[0m \u001b[0mobj\u001b[0m\u001b[0;34m,\u001b[0m \u001b[0mkey\u001b[0m\u001b[0;34m,\u001b[0m \u001b[0mdefault\u001b[0m\u001b[0;34m)\u001b[0m\u001b[0;34m:\u001b[0m\u001b[0;34m\u001b[0m\u001b[0;34m\u001b[0m\u001b[0m\n",
      "\u001b[0;31mJavascriptException\u001b[0m: Message: javascript error: Failed to execute 'elementsFromPoint' on 'Document': The provided double value is non-finite.\n  (Session info: chrome=79.0.3945.79)\n"
     ]
    }
   ],
   "source": [
    "driver=ls.start_driver()\n",
    "ls.sleep(0.5)\n",
    "ls.github_login(driver)\n",
    "ls.instruct_menu_to_cohort_roster(driver,cohort='ft')\n",
    "df_ft = ls.cohort_driver_to_csv(driver,'ft_cohort_data.csv',load=True)"
   ]
  },
  {
   "cell_type": "code",
   "execution_count": null,
   "metadata": {},
   "outputs": [],
   "source": [
    "ls.sleep(0.5)\n",
    "ls.instruct_menu_to_cohort_roster(driver,cohort='ft')\n",
    "df_ft = ls.cohort_driver_to_csv(driver,'ft_cohort_data.csv',load=True)"
   ]
  },
  {
   "cell_type": "code",
   "execution_count": null,
   "metadata": {},
   "outputs": [],
   "source": [
    "# login_data=ls.load_login_data()\n",
    "ls.github_login(driver)"
   ]
  },
  {
   "cell_type": "code",
   "execution_count": null,
   "metadata": {},
   "outputs": [],
   "source": [
    "import requests\n",
    "import time\n",
    "\n",
    "from selenium import webdriver\n",
    "from selenium.webdriver import ActionChains\n",
    "from selenium.webdriver.common.keys import Keys\n",
    "from bs4 import BeautifulSoup\n",
    "import pandas as pd"
   ]
  },
  {
   "cell_type": "code",
   "execution_count": null,
   "metadata": {
    "code_folding": [
     0
    ]
   },
   "outputs": [],
   "source": [
    "# import os,sys\n",
    "# os.path.abspath(os.curdir)"
   ]
  },
  {
   "cell_type": "code",
   "execution_count": null,
   "metadata": {
    "code_folding": [
     0
    ]
   },
   "outputs": [],
   "source": [
    "# def add_dir_to_path(path=None,rel_path=None,verbose=True):\n",
    "#     \"\"\"Adds the provided path (or current directory if None provided) to\n",
    "#     sys.path.\n",
    "    \n",
    "#     Args:\n",
    "#         path (str): folder to add to path (May need to be absolute).\n",
    "#         rel_path (str): relative folder path to be converted to absolute and added.\n",
    "#         verbose (bool): Controls display of success/failure messages. Default =True\"\"\"\n",
    "#     import pathlib, os, sys\n",
    "    \n",
    "#     # If no path provided:\n",
    "#     if path is None:\n",
    "    \n",
    "#         ## If no relative path provided, use current dir\n",
    "#         if rel_path is not None:\n",
    "#             if verbose:\n",
    "#                 print(f\"[i] Converting relative path '{rel_path}' to absolute.\")\n",
    "#             import os\n",
    "#             os.chdir(rel_path)\n",
    "#             add_path = os.path.abspath(os.curdir)\n",
    "# #             print os.path.abspath(os.)\n",
    "            \n",
    "#         else:\n",
    "#             add_path = os.path.abspath(os.curdir)\n",
    "        \n",
    "\n",
    "#     ## Set add_path = to provided path\n",
    "#     else:\n",
    "#         add_path=path\n",
    "        \n",
    "#     ## Check if folder already in path\n",
    "#     if add_path in sys.path:\n",
    "#         print(f'[i] Path already in sys.path:\\n\\t- \"{add_path}\"')\n",
    "#         return\n",
    "\n",
    "#     ## otherwise append path\n",
    "#     else:\n",
    "#         sys.path.append(add_path)\n",
    "    \n",
    "#     ## Check if \n",
    "#     if add_path in sys.path:\n",
    "#         if verbose:\n",
    "#             print(f'[Success] Successfully added to sys.path:\\n\\t -\"{add_path}\"')\n",
    "#     else:\n",
    "#         if verbose:        \n",
    "#             print(f'[Error] Path was not added to path.')\n",
    "#     return\n",
    "        \n",
    "# add_dir_to_path('/Users/jamesirving/')\n",
    "# sys.path\n",
    "# # import sys,os\n",
    "# # add_path = os.path.abspath(os.curdir)\n",
    "# # print(add_path)\n",
    "# # add_path in sys.path"
   ]
  },
  {
   "cell_type": "code",
   "execution_count": null,
   "metadata": {},
   "outputs": [],
   "source": [
    "def start_driver(url = 'https://instruction.learn.co/staff/students'):\n",
    "    from selenium import webdriver\n",
    "    driver = webdriver.Chrome()\n",
    "    driver.get(url)\n",
    "    return driver\n",
    "\n",
    "driver = start_driver()"
   ]
  },
  {
   "cell_type": "code",
   "execution_count": null,
   "metadata": {},
   "outputs": [],
   "source": [
    "# driver = webdriver.Chrome()"
   ]
  },
  {
   "cell_type": "code",
   "execution_count": null,
   "metadata": {},
   "outputs": [],
   "source": [
    "# url = 'https://instruction.learn.co/staff/students'"
   ]
  },
  {
   "cell_type": "code",
   "execution_count": null,
   "metadata": {},
   "outputs": [],
   "source": [
    "# driver.get(url)"
   ]
  },
  {
   "cell_type": "markdown",
   "metadata": {},
   "source": [
    "## Username for Github"
   ]
  },
  {
   "cell_type": "code",
   "execution_count": null,
   "metadata": {},
   "outputs": [],
   "source": [
    "# import os\n",
    "# login_data_file = \"/Users/jamesirving/.secret/learn_login.json\"\n",
    "\n",
    "# just_folder = '/'.join(login_data_file.split('/')[:-1])\n",
    "# os.chdir(just_folder)\n",
    "# print(os.path.abspath(os.getcwd()))\n",
    "# %ls"
   ]
  },
  {
   "cell_type": "code",
   "execution_count": null,
   "metadata": {},
   "outputs": [],
   "source": [
    "def load_login_data(login_data_file = \"/Users/jamesirving/.secret/learn_login.json\",\n",
    "                   verbose=True):\n",
    "    \"\"\"Loads in json file from path\"\"\"\n",
    "    with open(login_data_file,'r+') as f:\n",
    "        import json\n",
    "        fdata= f.read()\n",
    "        login_data =  json.loads(fdata)\n",
    "        \n",
    "        if verbose:\n",
    "            print(\"Loaded json data. Keys:\")\n",
    "            print(login_data.keys())\n",
    "        return login_data\n",
    "login_data=load_login_data()"
   ]
  },
  {
   "cell_type": "code",
   "execution_count": null,
   "metadata": {},
   "outputs": [],
   "source": [
    "# username = driver.find_element_by_xpath('//*[@id=\"login_field\"]')\n",
    "# username.send_keys(login_data['username'])"
   ]
  },
  {
   "cell_type": "markdown",
   "metadata": {},
   "source": [
    "## Password for Github"
   ]
  },
  {
   "cell_type": "code",
   "execution_count": null,
   "metadata": {},
   "outputs": [],
   "source": [
    "def github_login(driver,login_data):\n",
    "    \"\"\"Logs into GitHub Account (for instruction.learn)\n",
    "    url = 'https://instruction.learn.co/staff/students'\n",
    "    \"\"\"\n",
    "    username = driver.find_element_by_xpath('//*[@id=\"login_field\"]')\n",
    "    username.send_keys(login_data['username'])\n",
    "\n",
    "    password = driver.find_element_by_xpath('//*[@id=\"password\"]')\n",
    "    password.send_keys(login_data['password'])\n",
    "\n",
    "    sign_in = driver.find_element_by_xpath('//*[@id=\"login\"]/form/div[2]/input[8]')\n",
    "    sign_in.click()\n",
    "github_login(driver,login_data)"
   ]
  },
  {
   "cell_type": "code",
   "execution_count": null,
   "metadata": {},
   "outputs": [],
   "source": [
    "# sign_in = driver.find_element_by_xpath('//*[@id=\"login\"]/form/div[2]/input[8]')\n",
    "# sign_in.click()\n",
    "cohort_lead =d river.find_element_by_xpath('/html/body/div[1]/nav/div[1]/ul/li[1]/a')\n",
    "my_cohorts = driver.find_element_by_xpath('//*[@id=\"js-parentDropdownLink\"]')#'/html/body/div[1]/nav/div[1]/ul/li[1]/div')\n",
    "# my_cohorts=driver.find_element_by_class_name(\"uk-navbar-dropdown uk-navbar-dropdown-bottom-left\")\n",
    "\n",
    "actions = ActionChains(driver)\n",
    "actions.move_to_element(cohort_lead)\n",
    "actions.pause(.5)\n",
    "actions.click(my_cohorts)\n",
    "actions.perform()"
   ]
  },
  {
   "cell_type": "markdown",
   "metadata": {
    "heading_collapsed": true
   },
   "source": [
    "# New code: branch point - Cohort Rosters\n",
    "- Would like to go to Cohort > Student Rosters later.\n"
   ]
  },
  {
   "cell_type": "code",
   "execution_count": null,
   "metadata": {
    "hidden": true
   },
   "outputs": [],
   "source": [
    "def instruct_menu_to_cohort_roster(driver,cohort=\"pt\"):\n",
    "    import time\n",
    "    time.sleep(0.5)\n",
    "    \n",
    "    cohort_lead =driver.find_element_by_xpath('/html/body/div[1]/nav/div[1]/ul/li[1]/a')\n",
    "    my_cohorts = driver.find_element_by_xpath('//*[@id=\"js-parentDropdownLink\"]')\n",
    "    if cohort==\"pt\":\n",
    "        cohort_link = driver.find_element_by_xpath('//*[@id=\"js-childrenList-141\"]/ul/li[1]/a')\n",
    "\n",
    "    elif cohort==\"ft\":\n",
    "        cohort_link = driver.find_element_by_xpath('//*[@id=\"js-sidenavChildrenList-140\"]/li[2]/a')\n",
    "#         return ft_cohort\n",
    "\n",
    "    actions = ActionChains(driver)\n",
    "    actions.move_to_element(cohort_lead)\n",
    "    actions.pause(.5)\n",
    "    actions.click(my_cohorts)\n",
    "    actions.pause(.5)\n",
    "\n",
    "    actions.click(cohort_link)\n",
    "    return actions.perform()\n",
    "\n",
    "instruct_menu_to_cohort_roster(driver)"
   ]
  },
  {
   "cell_type": "code",
   "execution_count": null,
   "metadata": {
    "hidden": true
   },
   "outputs": [],
   "source": [
    "# import time\n",
    "# time.sleep(0.5)\n",
    "# menu = driver.find_element_by_xpath('/html/body/div[1]/nav/div[3]/a')\n",
    "# menu.click()"
   ]
  },
  {
   "cell_type": "code",
   "execution_count": null,
   "metadata": {
    "hidden": true
   },
   "outputs": [],
   "source": [
    "my_cohorts = driver.find_element_by_xpath('//*[@id=\"js-parentSidenavLink\"]')\n",
    "my_cohorts.click()"
   ]
  },
  {
   "cell_type": "code",
   "execution_count": null,
   "metadata": {
    "hidden": true
   },
   "outputs": [],
   "source": [
    "pt_cohort = driver.find_element_by_xpath('//*[@id=\"js-sidenavChildrenList-140\"]/li[1]/a')\n",
    "ft_cohort = driver.find_element_by_xpath('//*[@id=\"js-sidenavChildrenList-140\"]/li[2]/a')"
   ]
  },
  {
   "cell_type": "code",
   "execution_count": null,
   "metadata": {
    "hidden": true
   },
   "outputs": [],
   "source": [
    "pt_cohort.click()"
   ]
  },
  {
   "cell_type": "code",
   "execution_count": null,
   "metadata": {
    "hidden": true
   },
   "outputs": [],
   "source": [
    "# with open(\"john_ofrecio.txt\",'r') as f:\n",
    "#     john = f.read()\n",
    "# john"
   ]
  },
  {
   "cell_type": "code",
   "execution_count": null,
   "metadata": {
    "hidden": true
   },
   "outputs": [],
   "source": [
    "def cohort_driver_to_csv(driver,output_file='cohort_output.csv',\n",
    "                         debug=False,load=False,\n",
    "                        load_kws=None):\n",
    "    \"\"\"Exports the table content inside of the driver.page_source to csv file.\n",
    "    \n",
    "    Args:\n",
    "        driver (WebDriver): cohort instruct page's driver\n",
    "        output_file (str): name of csv file to save.\n",
    "    \n",
    "    TO DO: Add link extraction\"\"\"\n",
    "    my_html = driver.page_source\n",
    "    soup = BeautifulSoup(my_html, 'html.parser')\n",
    "\n",
    "    table = soup.find(\"table\")\n",
    "    rows = table.find_all('tr')\n",
    "\n",
    "    output_rows = []\n",
    "    for row in rows:\n",
    "        row_text = row.get_text(separator='\\t',strip=True)\n",
    "        \n",
    "        if \"Links\" in row_text:\n",
    "            row_text=row_text.replace(\"\\tLinks\",' ')\n",
    "        \n",
    "        profile_links = [x['href'] for x in john_data.find_all('a')]\n",
    "        if debug:\n",
    "            print(len(row_text.split('t')))\n",
    "            if 'John' in row_text:\n",
    "                print(\"Returning John row object\")\n",
    "                return row\n",
    "            \n",
    "        repl_dict={\n",
    "            ':':' ',\n",
    "#             ')':' ',\n",
    "            '\\n':' '\n",
    "        }\n",
    "        for k,v in repl_dict.items():\n",
    "            row_text = row_text.replace(k,v)\n",
    "#         row_text = row_text.replace(':',' ').replace(')',' ').replace('\\n',' ')\n",
    "\n",
    "        output_rows.append(row_text)#row.get_text(separator='\\t',strip=True))\n",
    "\n",
    "    with open(output_file, 'w+') as csvfile:\n",
    "        csvfile.write('\\n'.join(output_rows))\n",
    "        \n",
    "    print(f\"[i] Successfully saved '{output_file}'\")\n",
    "    \n",
    "    if load:\n",
    "#         header = pd.read_csv(output_file,delimiter='\\t',nrows=1)\n",
    "        if load_kws is not None:\n",
    "            df = pd.read_csv(output_file,delimiter='\\t',**load_kws)\n",
    "        else:\n",
    "            df = pd.read_csv(output_file,delimiter='\\t')\n",
    "         \n",
    "        ## Save column names to restore\n",
    "#         cols = df.columns\n",
    "        df.reset_index(inplace=True)\n",
    "        cols = df.drop('index',axis=1).columns\n",
    "        \n",
    "        if df[\"Completed Lessons\"].isna().any():\n",
    "            shift_index = df.loc[(df['Completed Lessons'].isna())].index#.copy()\n",
    "            \n",
    "#             ## Preview bad row alignment\n",
    "#             display(df.loc[shift_index])\n",
    "            \n",
    "            ## Replace the column data to match others\n",
    "            cols_to_swap = {\"Completed Lessons\":\"Last Checkin Note\",\n",
    "                           \"Instructor\":\"Checkins (NoShows)\",\n",
    "                           \"Checkins (NoShows)\":\"Last Checkin Note\"}\n",
    "            \n",
    "            for bad_col,good_col in cols_to_swap.items():\n",
    "#             df.loc[shift_index,'Completed Lessons']=df.loc[shift_index,'Last Checkin Note'].copy()\n",
    "                df.loc[shift_index,bad_col]=df.loc[shift_index,good_col].copy()\n",
    "            df.loc[shift_index,\"Last Checkin Note\"]=np.nan\n",
    "        \n",
    "        \n",
    "#             ##Preview changes\n",
    "#             display(df.loc[shift_index])\n",
    "        \n",
    "        \n",
    "        \n",
    "        # Drop one of the redundant columns\n",
    "        drop_col = \"Completed Lessons\"#'Last Checkin Note'\n",
    "        df.drop(columns=[drop_col],inplace=True)\n",
    "\n",
    "        # Restore names to columns\n",
    "        df.columns = cols\n",
    "        \n",
    "        return df\n",
    "    \n",
    "df = cohort_driver_to_csv(driver,\"pt_cohort_data.csv\",load=True)\n",
    "df"
   ]
  },
  {
   "cell_type": "code",
   "execution_count": null,
   "metadata": {
    "hidden": true
   },
   "outputs": [],
   "source": []
  },
  {
   "cell_type": "code",
   "execution_count": null,
   "metadata": {
    "hidden": true
   },
   "outputs": [],
   "source": [
    "\n",
    "# def cohort_driver_to_csv2(driver,output_file='cohort_output.csv',\n",
    "#                          debug=False,load=False,\n",
    "#                         load_kws=None):\n",
    "#     \"\"\"Exports the table content inside of the driver.page_source to csv file.\n",
    "    \n",
    "#     Args:\n",
    "#         driver (WebDriver): cohort instruct page's driver\n",
    "#         output_file (str): name of csv file to save.\n",
    "    \n",
    "#     TO DO: Add link extraction\"\"\"\n",
    "#     my_html = driver.page_source\n",
    "#     soup = BeautifulSoup(my_html, 'html.parser')\n",
    "\n",
    "#     table = soup.find(\"table\")\n",
    "#     rows = table.find_all('tr')\n",
    "\n",
    "#     output_rows = []\n",
    "#     for row in rows:\n",
    "#         row_text = row.get_text(separator='\\t',strip=True)\n",
    "        \n",
    "#         ## TO DO:\n",
    "#         if \"Links\" in row_text:\n",
    "#             row_text=row_text.replace(\"\\tLinks\",' ')\n",
    "#             row_text+=\"\\tLinks\"\n",
    "        \n",
    "#         profile_links = [x['href'] for x in row.find_all('a')]#\n",
    "        \n",
    "#         ## send back bad rows for troubleshooting\n",
    "#         if debug:\n",
    "#             print(len(row_text.split('t')))\n",
    "#             if 'John' in row_text:\n",
    "#                 print(\"Returning John row object\")\n",
    "#                 return row\n",
    "            \n",
    "#         ## Replace Strings\n",
    "#         repl_dict={\n",
    "#             ':':' ',\n",
    "# #             ')':' ',\n",
    "#             '\\n':' '\n",
    "#         }\n",
    "#         for k,v in repl_dict.items():\n",
    "#             row_text = row_text.replace(k,v)\n",
    "\n",
    "#         ## Append Links\n",
    "#         row_text+=\",\".join(profile_links)\n",
    "#         ## Append cleaned row\n",
    "#         output_rows.append(row_text)#row.get_text(separator='\\t',strip=True))\n",
    "\n",
    "#     with open(output_file, 'w+') as csvfile:\n",
    "#         csvfile.write('\\n'.join(output_rows))\n",
    "        \n",
    "#     print(f\"[i] Successfully saved '{output_file}'\")\n",
    "    \n",
    "#     if load:\n",
    "# #         header = pd.read_csv(output_file,delimiter='\\t',nrows=1)\n",
    "#         if load_kws is not None:\n",
    "#             df = pd.read_csv(output_file,delimiter='\\t',**load_kws)\n",
    "#         else:\n",
    "#             df = pd.read_csv(output_file,delimiter='\\t')\n",
    "         \n",
    "#         ## Save column names to restore\n",
    "# #         cols = df.columns\n",
    "#         df.reset_index(inplace=True)\n",
    "#         cols = df.drop('index',axis=1).columns\n",
    "\n",
    "#         display(df)\n",
    "#         if df[\"Completed Lessons\"].isna().any():\n",
    "        \n",
    "#             shift_index = df.loc[(df['Completed Lessons'].isna())].index#.copy()\n",
    "            \n",
    "#             ## Preview bad row alignment\n",
    "#             display(df.loc[shift_index])\n",
    "            \n",
    "#             ## Replace the column data to match others\n",
    "#             cols_to_swap = {\"Completed Lessons\":\"Last Checkin Note\",\n",
    "#                            \"Instructor\":\"Checkins (NoShows)\",\n",
    "#                            \"Checkins (NoShows)\":\"Last Checkin Note\"}\n",
    "            \n",
    "#             for bad_col,good_col in cols_to_swap.items():\n",
    "# #             df.loc[shift_index,'Completed Lessons']=df.loc[shift_index,'Last Checkin Note'].copy()\n",
    "#                 df.loc[shift_index,bad_col]=df.loc[shift_index,good_col].copy()\n",
    "#             df.loc[shift_index,\"Last Checkin Note\"]=np.nan\n",
    "        \n",
    "        \n",
    "#             ##Preview changes\n",
    "#             display(df.loc[shift_index])\n",
    "        \n",
    "        \n",
    "        \n",
    "#         # Drop one of the redundant columns\n",
    "#         drop_col = \"Completed Lessons\"#'Last Checkin Note'\n",
    "#         df.drop(columns=[drop_col],inplace=True)\n",
    "\n",
    "#         # Restore names to columns\n",
    "#         df.columns = cols\n",
    "        \n",
    "#         return df\n",
    "    \n",
    "\n",
    "# df = cohort_driver_to_csv2(driver,\"pt_cohort_data.csv\",load=True)\n",
    "# df"
   ]
  },
  {
   "cell_type": "code",
   "execution_count": null,
   "metadata": {
    "hidden": true
   },
   "outputs": [],
   "source": [
    "# df"
   ]
  },
  {
   "cell_type": "code",
   "execution_count": null,
   "metadata": {
    "hidden": true
   },
   "outputs": [],
   "source": [
    "john_data = cohort_driver_to_csv(driver,\"pt_cohort_data.csv\",debug=True)#,load=True)\n",
    "row_text = john_data.get_text(separator='\\t',strip=True)\n",
    "row_text = row_text.replace(':','')\n",
    "len(row_text.split('t'))"
   ]
  },
  {
   "cell_type": "code",
   "execution_count": null,
   "metadata": {
    "hidden": true
   },
   "outputs": [],
   "source": [
    "[x['href'] for x in john_data.find_all('a')]"
   ]
  },
  {
   "cell_type": "code",
   "execution_count": null,
   "metadata": {
    "hidden": true
   },
   "outputs": [],
   "source": [
    "df = pd.read_csv(\"pt_cohort_data.csv\",delimmeter='\\t')"
   ]
  },
  {
   "cell_type": "code",
   "execution_count": null,
   "metadata": {
    "hidden": true
   },
   "outputs": [],
   "source": [
    "df"
   ]
  },
  {
   "cell_type": "markdown",
   "metadata": {
    "hidden": true
   },
   "source": [
    "### Progress Summary; 12/13/19\n",
    "- Have gotten pretty far using:\n",
    "    - https://kite.com/python/examples/4420/beautifulsoup-parse-an-html-table-and-write-to-a-csv\n",
    "    - https://gist.github.com/AO8/63b9a5acb9fb238cbed13a0269d14137\n",
    "    \n",
    "- Current Issue is some rows get broken up into multiple.\n",
    "- Related to the contenst of the Notes cell.\n",
    "- Not sure what causes it to become confused and think its more than 1 line of data."
   ]
  },
  {
   "cell_type": "markdown",
   "metadata": {
    "hidden": true
   },
   "source": [
    "### Example Jeff Code to copy\n"
   ]
  },
  {
   "cell_type": "code",
   "execution_count": null,
   "metadata": {
    "hidden": true
   },
   "outputs": [],
   "source": [
    "# program\n",
    "soup.findAll('h3', class_ = 'uk-card-title uk-margin-remove-bottom')[1].text.strip()"
   ]
  },
  {
   "cell_type": "code",
   "execution_count": null,
   "metadata": {
    "hidden": true
   },
   "outputs": [],
   "source": [
    "# ed coach check ins \n",
    "soup.findAll('div', class_ = 'uk-card-body')[1]"
   ]
  },
  {
   "cell_type": "code",
   "execution_count": null,
   "metadata": {
    "hidden": true
   },
   "outputs": [],
   "source": [
    "soup.findAll('div', class_ = 'uk-card-body')[1].findAll('div')"
   ]
  },
  {
   "cell_type": "code",
   "execution_count": null,
   "metadata": {
    "hidden": true
   },
   "outputs": [],
   "source": [
    "start_ed_coach = soup.findAll('div', class_ = 'uk-card-body')[1].text.find('Educational')"
   ]
  },
  {
   "cell_type": "code",
   "execution_count": null,
   "metadata": {
    "hidden": true
   },
   "outputs": [],
   "source": [
    "stop_ed_coach = soup.findAll('div', class_ = 'uk-card-body')[1].text.find('Maximum')"
   ]
  },
  {
   "cell_type": "code",
   "execution_count": null,
   "metadata": {
    "hidden": true
   },
   "outputs": [],
   "source": [
    "my_str = soup.findAll('div', class_ = 'uk-card-body')[1].text[start_ed_coach:stop_ed_coach]"
   ]
  },
  {
   "cell_type": "code",
   "execution_count": null,
   "metadata": {
    "hidden": true
   },
   "outputs": [],
   "source": []
  },
  {
   "cell_type": "code",
   "execution_count": null,
   "metadata": {
    "hidden": true
   },
   "outputs": [],
   "source": []
  },
  {
   "cell_type": "code",
   "execution_count": null,
   "metadata": {
    "hidden": true
   },
   "outputs": [],
   "source": [
    "from pprint import pprint\n",
    "# pprint(soup.prettify()[:1000])\n",
    "# table = soup.find_all(\"table\")\n",
    "rows = soup.find_all(\"table\",attrs={\"class\":\"details\"})\n",
    "rows"
   ]
  },
  {
   "cell_type": "code",
   "execution_count": null,
   "metadata": {
    "hidden": true
   },
   "outputs": [],
   "source": [
    "text = []\n",
    "[text.append(tag.text) for tag in rows]\n",
    "text\n",
    "# cleaned_text = ','.join(text).replace('\\n',',')\n",
    "# df = pd.read_html(cleaned_text)"
   ]
  },
  {
   "cell_type": "code",
   "execution_count": null,
   "metadata": {
    "hidden": true
   },
   "outputs": [],
   "source": [
    "tag=rows[0]\n",
    "# tag.get_text()\n",
    "tag.text"
   ]
  },
  {
   "cell_type": "code",
   "execution_count": null,
   "metadata": {
    "hidden": true
   },
   "outputs": [],
   "source": []
  },
  {
   "cell_type": "code",
   "execution_count": null,
   "metadata": {
    "hidden": true,
    "scrolled": false
   },
   "outputs": [],
   "source": [
    "tag= rows[0]\n",
    "help(tag)"
   ]
  },
  {
   "cell_type": "markdown",
   "metadata": {},
   "source": [
    "# Original Continue'd Workflow:"
   ]
  },
  {
   "cell_type": "code",
   "execution_count": null,
   "metadata": {},
   "outputs": [],
   "source": [
    "# click view students to get to the students section\n",
    "view = driver.find_element_by_xpath('/html/body/div[4]/div[2]/div[1]/div/div[2]/a')\n",
    "view.click()"
   ]
  },
  {
   "cell_type": "code",
   "execution_count": null,
   "metadata": {},
   "outputs": [],
   "source": []
  },
  {
   "cell_type": "code",
   "execution_count": null,
   "metadata": {},
   "outputs": [],
   "source": []
  },
  {
   "cell_type": "code",
   "execution_count": null,
   "metadata": {},
   "outputs": [],
   "source": []
  },
  {
   "cell_type": "code",
   "execution_count": null,
   "metadata": {},
   "outputs": [],
   "source": [
    "# cancelled students\n",
    "canceled = driver.find_element_by_xpath('//*[@id=\"student-index-card\"]/h2[2]')\n",
    "canceled.click()"
   ]
  },
  {
   "cell_type": "code",
   "execution_count": null,
   "metadata": {},
   "outputs": [],
   "source": [
    "# grab canceled students\n",
    "my_html = driver.page_source\n",
    "soup = BeautifulSoup(my_html, 'html.parser')"
   ]
  },
  {
   "cell_type": "code",
   "execution_count": 1,
   "metadata": {},
   "outputs": [
    {
     "ename": "NameError",
     "evalue": "name 'soup' is not defined",
     "output_type": "error",
     "traceback": [
      "\u001b[0;31m---------------------------------------------------------------------------\u001b[0m",
      "\u001b[0;31mNameError\u001b[0m                                 Traceback (most recent call last)",
      "\u001b[0;32m<ipython-input-1-0c000bb6c59b>\u001b[0m in \u001b[0;36m<module>\u001b[0;34m\u001b[0m\n\u001b[1;32m      1\u001b[0m \u001b[0mcanceled_url\u001b[0m \u001b[0;34m=\u001b[0m \u001b[0;34m[\u001b[0m\u001b[0;34m]\u001b[0m\u001b[0;34m\u001b[0m\u001b[0;34m\u001b[0m\u001b[0m\n\u001b[1;32m      2\u001b[0m \u001b[0mcanceled_name\u001b[0m \u001b[0;34m=\u001b[0m \u001b[0;34m[\u001b[0m\u001b[0;34m]\u001b[0m\u001b[0;34m\u001b[0m\u001b[0;34m\u001b[0m\u001b[0m\n\u001b[0;32m----> 3\u001b[0;31m \u001b[0;32mfor\u001b[0m \u001b[0mx\u001b[0m \u001b[0;32min\u001b[0m \u001b[0msoup\u001b[0m\u001b[0;34m.\u001b[0m\u001b[0mfind\u001b[0m\u001b[0;34m(\u001b[0m\u001b[0mid\u001b[0m \u001b[0;34m=\u001b[0m \u001b[0;34m'js-students-cancelled'\u001b[0m\u001b[0;34m)\u001b[0m\u001b[0;34m.\u001b[0m\u001b[0mfind_all\u001b[0m\u001b[0;34m(\u001b[0m\u001b[0;34m'a'\u001b[0m\u001b[0;34m)\u001b[0m\u001b[0;34m:\u001b[0m\u001b[0;34m\u001b[0m\u001b[0;34m\u001b[0m\u001b[0m\n\u001b[0m\u001b[1;32m      4\u001b[0m     \u001b[0mprint\u001b[0m\u001b[0;34m(\u001b[0m\u001b[0mx\u001b[0m\u001b[0;34m[\u001b[0m\u001b[0;34m'href'\u001b[0m\u001b[0;34m]\u001b[0m \u001b[0;34m+\u001b[0m \u001b[0;34m' - '\u001b[0m \u001b[0;34m+\u001b[0m \u001b[0mx\u001b[0m\u001b[0;34m.\u001b[0m\u001b[0mtext\u001b[0m\u001b[0;34m)\u001b[0m\u001b[0;34m\u001b[0m\u001b[0;34m\u001b[0m\u001b[0m\n\u001b[1;32m      5\u001b[0m     \u001b[0mcanceled_url\u001b[0m\u001b[0;34m.\u001b[0m\u001b[0mappend\u001b[0m\u001b[0;34m(\u001b[0m\u001b[0mx\u001b[0m\u001b[0;34m[\u001b[0m\u001b[0;34m'href'\u001b[0m\u001b[0;34m]\u001b[0m\u001b[0;34m)\u001b[0m\u001b[0;34m\u001b[0m\u001b[0;34m\u001b[0m\u001b[0m\n",
      "\u001b[0;31mNameError\u001b[0m: name 'soup' is not defined"
     ]
    }
   ],
   "source": [
    "canceled_url = []\n",
    "canceled_name = []\n",
    "for x in soup.find(id = 'js-students-cancelled').find_all('a'):\n",
    "    \n",
    "    ## ADD IF CHECK FOR COHORT LIST HERE.\n",
    "    print(x['href'] + ' - ' + x.text)\n",
    "    canceled_url.append(x['href'])\n",
    "    canceled_name.append(x.text)"
   ]
  },
  {
   "cell_type": "code",
   "execution_count": null,
   "metadata": {},
   "outputs": [],
   "source": [
    "canc"
   ]
  },
  {
   "cell_type": "code",
   "execution_count": null,
   "metadata": {},
   "outputs": [],
   "source": [
    "canceled_df = pd.DataFrame({'name': canceled_name,\n",
    "                            'url': canceled_url})"
   ]
  },
  {
   "cell_type": "code",
   "execution_count": null,
   "metadata": {},
   "outputs": [],
   "source": [
    "canceled_df.head()"
   ]
  },
  {
   "cell_type": "code",
   "execution_count": null,
   "metadata": {},
   "outputs": [],
   "source": [
    "soup.find(id = 'js-students-graduated').find_all('a')"
   ]
  },
  {
   "cell_type": "code",
   "execution_count": null,
   "metadata": {},
   "outputs": [],
   "source": [
    "graduated_url = []\n",
    "graduated_name = []\n",
    "for x in soup.find(id = 'js-students-graduated').find_all('a'):\n",
    "    print(x['href'] + ' - ' + x.text)\n",
    "    graduated_url.append(x['href'])\n",
    "    graduated_name.append(x.text)"
   ]
  },
  {
   "cell_type": "code",
   "execution_count": null,
   "metadata": {},
   "outputs": [],
   "source": [
    "graduated_df = pd.DataFrame({'name': graduated_name,\n",
    "                            'url': graduated_url})"
   ]
  },
  {
   "cell_type": "code",
   "execution_count": null,
   "metadata": {},
   "outputs": [],
   "source": [
    "graduated_df.head()"
   ]
  },
  {
   "cell_type": "code",
   "execution_count": null,
   "metadata": {},
   "outputs": [],
   "source": [
    "canceled_df.head()"
   ]
  },
  {
   "cell_type": "code",
   "execution_count": null,
   "metadata": {},
   "outputs": [],
   "source": [
    "canceled_df.loc[0, 'url']"
   ]
  },
  {
   "cell_type": "code",
   "execution_count": null,
   "metadata": {},
   "outputs": [],
   "source": [
    "https://instruction.learn.co/staff/students/siguy12"
   ]
  },
  {
   "cell_type": "code",
   "execution_count": null,
   "metadata": {},
   "outputs": [],
   "source": [
    "'https://instructor.learn.co' + canceled_df.loc[0, 'url']"
   ]
  },
  {
   "cell_type": "code",
   "execution_count": null,
   "metadata": {},
   "outputs": [],
   "source": [
    "driver.get('https://instruction.learn.co/' + canceled_df.loc[0, 'url'])"
   ]
  },
  {
   "cell_type": "code",
   "execution_count": null,
   "metadata": {},
   "outputs": [],
   "source": [
    "# grab program, pacing, past_cohorts, learn.co url"
   ]
  },
  {
   "cell_type": "code",
   "execution_count": null,
   "metadata": {},
   "outputs": [],
   "source": [
    "my_html = driver.page_source\n",
    "soup = BeautifulSoup(my_html, 'html.parser')"
   ]
  },
  {
   "cell_type": "code",
   "execution_count": null,
   "metadata": {},
   "outputs": [],
   "source": [
    "# program\n",
    "soup.findAll('h3', class_ = 'uk-card-title uk-margin-remove-bottom')[1].text.strip()"
   ]
  },
  {
   "cell_type": "code",
   "execution_count": null,
   "metadata": {},
   "outputs": [],
   "source": [
    "# ed coach check ins \n",
    "soup.findAll('div', class_ = 'uk-card-body')[1]"
   ]
  },
  {
   "cell_type": "code",
   "execution_count": null,
   "metadata": {},
   "outputs": [],
   "source": [
    "soup.findAll('div', class_ = 'uk-card-body')[1].findAll('div')"
   ]
  },
  {
   "cell_type": "code",
   "execution_count": null,
   "metadata": {},
   "outputs": [],
   "source": [
    "start_ed_coach = soup.findAll('div', class_ = 'uk-card-body')[1].text.find('Educational')"
   ]
  },
  {
   "cell_type": "code",
   "execution_count": null,
   "metadata": {},
   "outputs": [],
   "source": [
    "stop_ed_coach = soup.findAll('div', class_ = 'uk-card-body')[1].text.find('Maximum')"
   ]
  },
  {
   "cell_type": "code",
   "execution_count": null,
   "metadata": {},
   "outputs": [],
   "source": [
    "my_str = soup.findAll('div', class_ = 'uk-card-body')[1].text[start_ed_coach:stop_ed_coach]"
   ]
  },
  {
   "cell_type": "code",
   "execution_count": null,
   "metadata": {},
   "outputs": [],
   "source": [
    "my_str"
   ]
  },
  {
   "cell_type": "code",
   "execution_count": null,
   "metadata": {},
   "outputs": [],
   "source": [
    "[int(s) for s in my_str.split() if s.isdigit()]"
   ]
  },
  {
   "cell_type": "code",
   "execution_count": null,
   "metadata": {},
   "outputs": [],
   "source": [
    "# cohort \n",
    "soup.findAll('div', class_ = 'uk-card-body')[1].findAll('div')[0].text"
   ]
  },
  {
   "cell_type": "code",
   "execution_count": null,
   "metadata": {},
   "outputs": [],
   "source": [
    "# pacing\n",
    "soup.findAll('div', class_ = 'uk-card-body')[1].findAll('div')[1].text"
   ]
  },
  {
   "cell_type": "code",
   "execution_count": null,
   "metadata": {},
   "outputs": [],
   "source": [
    "# past cohorts \n",
    "soup.findAll('div', class_ = 'uk-card-body')[1].findAll('div')[2].text"
   ]
  },
  {
   "cell_type": "code",
   "execution_count": null,
   "metadata": {},
   "outputs": [],
   "source": [
    "# learn.co link\n",
    "soup.find('div', class_ = 'custom-badges').findAll('a', class_ = 'custom-badge-icon')[1]['href']"
   ]
  },
  {
   "cell_type": "code",
   "execution_count": null,
   "metadata": {},
   "outputs": [],
   "source": [
    "driver.get('http://learn.co/siguy12')"
   ]
  },
  {
   "cell_type": "code",
   "execution_count": null,
   "metadata": {},
   "outputs": [],
   "source": [
    "def get_info(url_part2):\n",
    "    driver.get('https://instruction.learn.co' + url_part2)\n",
    "    time.sleep(2)\n",
    "    my_html = driver.page_source\n",
    "    soup = BeautifulSoup(my_html, 'html.parser')\n",
    "    program = soup.findAll('h3', class_ = 'uk-card-title uk-margin-remove-bottom')[1].text.strip()\n",
    "    start_ed_coach = soup.findAll('div', class_ = 'uk-card-body')[1].text.find('Educational')\n",
    "    stop_ed_coach = soup.findAll('div', class_ = 'uk-card-body')[1].text.find('Maximum')\n",
    "    my_str = soup.findAll('div', class_ = 'uk-card-body')[1].text[start_ed_coach:stop_ed_coach]\n",
    "    ed_coach_taken = [int(s) for s in my_str.split() if s.isdigit()][0]\n",
    "    try:\n",
    "        ed_coach_avail = [int(s) for s in my_str.split() if s.isdigit()][1]\n",
    "    except IndexError:\n",
    "        ed_coach_avail = ''\n",
    "    cohort = soup.findAll('div', class_ = 'uk-card-body')[1].findAll('div')[0].text\n",
    "    pacing = soup.findAll('div', class_ = 'uk-card-body')[1].findAll('div')[1].text\n",
    "    try:\n",
    "        past_cohorts = soup.findAll('div', class_ = 'uk-card-body')[1].findAll('div')[2].text\n",
    "    except IndexError:\n",
    "        past_cohorts = ''\n",
    "    learn_link = soup.find('div', class_ = 'custom-badges').findAll('a', class_ = 'custom-badge-icon')[1]['href']\n",
    "    return program, ed_coach_taken, ed_coach_avail, cohort, pacing, past_cohorts, learn_link"
   ]
  },
  {
   "cell_type": "code",
   "execution_count": null,
   "metadata": {},
   "outputs": [],
   "source": [
    "get_info('/staff/students/siguy12')"
   ]
  },
  {
   "cell_type": "code",
   "execution_count": null,
   "metadata": {},
   "outputs": [],
   "source": [
    "get_info('/staff/students/perafolio')"
   ]
  },
  {
   "cell_type": "code",
   "execution_count": null,
   "metadata": {},
   "outputs": [],
   "source": [
    "canceled_df.head(2)"
   ]
  },
  {
   "cell_type": "code",
   "execution_count": null,
   "metadata": {},
   "outputs": [],
   "source": [
    "prog_list = []\n",
    "ed_coach_used_list = []\n",
    "ed_coach_avail_list = []\n",
    "cohort_list = []\n",
    "pacing_list = []\n",
    "past_cohorts_list = []\n",
    "learn_list = []\n",
    "for index, x in enumerate(canceled_df['url']):\n",
    "    prog_elem, ed_elem1, ed_elem2, cohort_elem, pacing_elem, past_elem, learn_elem = get_info(x)\n",
    "    prog_list.append(prog_elem)\n",
    "    ed_coach_avail_list.append(ed_elem1)\n",
    "    ed_coach_used_list.append(ed_elem1)\n",
    "    cohort_list.append(cohort_elem)\n",
    "    pacing_list.append(pacing_elem)\n",
    "    past_cohorts_list.append(past_elem)\n",
    "    learn_list.append(learn_elem)\n",
    "    if index % 50 == 0:\n",
    "        print(f'Completed {index} out of {len(canceled_df[\"url\"])}')"
   ]
  },
  {
   "cell_type": "code",
   "execution_count": null,
   "metadata": {},
   "outputs": [],
   "source": [
    "canceled_df['program'] = prog_list\n",
    "canceled_df['cohort'] = cohort_list\n",
    "canceled_df['pacing'] = pacing_list\n",
    "canceled_df['past_cohorts'] = past_cohorts_list\n",
    "canceled_df['ed_coach_used'] = ed_coach_used_list\n",
    "canceled_df['ed_coach_available'] = ed_coach_avail_list\n",
    "canceled_df['learn_url'] = learn_list"
   ]
  },
  {
   "cell_type": "code",
   "execution_count": null,
   "metadata": {},
   "outputs": [],
   "source": [
    "canceled_df.to_csv('canceled_df.csv', index = False)"
   ]
  },
  {
   "cell_type": "code",
   "execution_count": null,
   "metadata": {},
   "outputs": [],
   "source": [
    "prog_list = []\n",
    "ed_coach_used_list = []\n",
    "ed_coach_avail_list = []\n",
    "cohort_list = []\n",
    "pacing_list = []\n",
    "past_cohorts_list = []\n",
    "learn_list = []\n",
    "for index, x in enumerate(graduated_df['url']):\n",
    "    prog_elem, ed_elem1, ed_elem2, cohort_elem, pacing_elem, past_elem, learn_elem = get_info(x)\n",
    "    prog_list.append(prog_elem)\n",
    "    ed_coach_avail_list.append(ed_elem1)\n",
    "    ed_coach_used_list.append(ed_elem1)\n",
    "    cohort_list.append(cohort_elem)\n",
    "    pacing_list.append(pacing_elem)\n",
    "    past_cohorts_list.append(past_elem)\n",
    "    learn_list.append(learn_elem)\n",
    "    if index % 50 == 0:\n",
    "        print(f'Completed {index} out of {len(graduated_df[\"url\"])}')"
   ]
  },
  {
   "cell_type": "code",
   "execution_count": null,
   "metadata": {},
   "outputs": [],
   "source": [
    "graduated_df['program'] = prog_list\n",
    "graduated_df['cohort'] = cohort_list\n",
    "graduated_df['pacing'] = pacing_list\n",
    "graduated_df['past_cohorts'] = past_cohorts_list\n",
    "graduated_df['ed_coach_used'] = ed_coach_used_list\n",
    "graduated_df['ed_coach_available'] = ed_coach_avail_list\n",
    "graduated_df['learn_url'] = learn_list"
   ]
  },
  {
   "cell_type": "code",
   "execution_count": null,
   "metadata": {},
   "outputs": [],
   "source": [
    "graduated_df.to_csv('graduated_df.csv', index = False)"
   ]
  },
  {
   "cell_type": "code",
   "execution_count": null,
   "metadata": {},
   "outputs": [],
   "source": [
    "graduated_df.head()"
   ]
  },
  {
   "cell_type": "code",
   "execution_count": null,
   "metadata": {},
   "outputs": [],
   "source": [
    "graduated_df[graduated_df['name'] == 'Jon Tyler']"
   ]
  },
  {
   "cell_type": "code",
   "execution_count": null,
   "metadata": {},
   "outputs": [],
   "source": [
    "graduated_df['program'].value_counts()"
   ]
  },
  {
   "cell_type": "code",
   "execution_count": null,
   "metadata": {},
   "outputs": [],
   "source": [
    "canceled_df['program'].value_counts()"
   ]
  },
  {
   "cell_type": "code",
   "execution_count": null,
   "metadata": {},
   "outputs": [],
   "source": [
    "56 / 129"
   ]
  },
  {
   "cell_type": "code",
   "execution_count": null,
   "metadata": {},
   "outputs": [],
   "source": [
    "131 / 321"
   ]
  },
  {
   "cell_type": "code",
   "execution_count": null,
   "metadata": {},
   "outputs": [],
   "source": [
    "canceled_df[canceled_df['program'].str.contains('Data Science')]['pacing'].value_counts()"
   ]
  },
  {
   "cell_type": "code",
   "execution_count": null,
   "metadata": {},
   "outputs": [],
   "source": [
    "graduated_df[graduated_df['program'].str.contains('Data Science')]['pacing'].value_counts()"
   ]
  },
  {
   "cell_type": "code",
   "execution_count": null,
   "metadata": {},
   "outputs": [],
   "source": [
    "# data for canceled students \n",
    "cancled_sp = canceled_df[(canceled_df['program'].str.contains('Data Science')) & \n",
    "           (canceled_df['pacing'].str.contains('Self Paced')) & \n",
    "           (canceled_df['past_cohorts'] == '')]"
   ]
  },
  {
   "cell_type": "code",
   "execution_count": null,
   "metadata": {},
   "outputs": [],
   "source": [
    "cancled_sp"
   ]
  },
  {
   "cell_type": "code",
   "execution_count": null,
   "metadata": {},
   "outputs": [],
   "source": [
    "driver.close()"
   ]
  },
  {
   "cell_type": "code",
   "execution_count": null,
   "metadata": {},
   "outputs": [],
   "source": [
    "driver = webdriver.Chrome()"
   ]
  },
  {
   "cell_type": "code",
   "execution_count": null,
   "metadata": {},
   "outputs": [],
   "source": [
    "test_url = cancled_sp.loc[18, 'learn_url']"
   ]
  },
  {
   "cell_type": "code",
   "execution_count": null,
   "metadata": {},
   "outputs": [],
   "source": [
    "driver.get(test_url)"
   ]
  },
  {
   "cell_type": "code",
   "execution_count": null,
   "metadata": {},
   "outputs": [],
   "source": [
    "sign_in_gh = driver.find_element_by_xpath('//*[@id=\"js--region-main\"]/div/div[1]/div/div/div[5]/form/div/div[6]/a')"
   ]
  },
  {
   "cell_type": "code",
   "execution_count": null,
   "metadata": {},
   "outputs": [],
   "source": [
    "sign_in_gh.click()"
   ]
  },
  {
   "cell_type": "markdown",
   "metadata": {},
   "source": [
    "## Username for Github"
   ]
  },
  {
   "cell_type": "code",
   "execution_count": null,
   "metadata": {},
   "outputs": [],
   "source": [
    "un = driver.find_element_by_xpath('//*[@id=\"login_field\"]')\n",
    "un.send_keys()"
   ]
  },
  {
   "cell_type": "markdown",
   "metadata": {},
   "source": [
    "## Password for Github"
   ]
  },
  {
   "cell_type": "code",
   "execution_count": null,
   "metadata": {},
   "outputs": [],
   "source": [
    "pw = driver.find_element_by_xpath('//*[@id=\"password\"]')\n",
    "pw.send_keys()"
   ]
  },
  {
   "cell_type": "code",
   "execution_count": null,
   "metadata": {},
   "outputs": [],
   "source": [
    "sn = driver.find_element_by_xpath('//*[@id=\"login\"]/form/div[2]/input[8]')\n",
    "sn.click()"
   ]
  },
  {
   "cell_type": "code",
   "execution_count": null,
   "metadata": {},
   "outputs": [],
   "source": [
    "time.sleep(4)"
   ]
  },
  {
   "cell_type": "code",
   "execution_count": null,
   "metadata": {},
   "outputs": [],
   "source": [
    "driver.get(test_url)"
   ]
  },
  {
   "cell_type": "code",
   "execution_count": null,
   "metadata": {},
   "outputs": [],
   "source": [
    "my_html = driver.page_source\n",
    "soup = BeautifulSoup(my_html, 'html.parser')"
   ]
  },
  {
   "cell_type": "code",
   "execution_count": null,
   "metadata": {},
   "outputs": [],
   "source": [
    "soup.find('h4', class_ = 'heading heading--level-6 heading--color-green heading--font-size-larger heading--weight-bolder').text"
   ]
  },
  {
   "cell_type": "code",
   "execution_count": null,
   "metadata": {},
   "outputs": [],
   "source": [
    "while True:\n",
    "    try:\n",
    "        lm = driver.find_element_by_xpath(\"//*[contains(text(), 'Load more')]\")\n",
    "        lm.click()\n",
    "        time.sleep(2)\n",
    "    except:\n",
    "        break"
   ]
  },
  {
   "cell_type": "code",
   "execution_count": null,
   "metadata": {},
   "outputs": [],
   "source": [
    "driver.get('http://learn.co/govenfist')"
   ]
  },
  {
   "cell_type": "code",
   "execution_count": null,
   "metadata": {},
   "outputs": [],
   "source": [
    "my_html = driver.page_source\n",
    "soup = BeautifulSoup(my_html, 'html.parser')"
   ]
  },
  {
   "cell_type": "code",
   "execution_count": null,
   "metadata": {},
   "outputs": [],
   "source": [
    "# curriculum\n",
    "soup.find('h4', class_ = 'heading heading--level-6 heading--color-green heading--font-size-larger heading--weight-bolder').text"
   ]
  },
  {
   "cell_type": "code",
   "execution_count": null,
   "metadata": {},
   "outputs": [],
   "source": [
    "#lessons completed\n",
    "soup.find('span', class_ = 'heading heading--level-1 heading--color-green heading--font-size-largest heading--weight-lighter').text"
   ]
  },
  {
   "cell_type": "code",
   "execution_count": null,
   "metadata": {},
   "outputs": [],
   "source": [
    "# last lab \n",
    "soup.find('h4', class_ = 'heading heading--level-1 heading--color-blue heading--weight-lighter').text"
   ]
  },
  {
   "cell_type": "code",
   "execution_count": null,
   "metadata": {},
   "outputs": [],
   "source": [
    "while True:\n",
    "    try:\n",
    "        lm = driver.find_element_by_xpath(\"//*[contains(text(), 'Load more')]\")\n",
    "        lm.click()\n",
    "        time.sleep(2)\n",
    "    except:\n",
    "        break"
   ]
  },
  {
   "cell_type": "code",
   "execution_count": null,
   "metadata": {},
   "outputs": [],
   "source": [
    "my_html = driver.page_source\n",
    "soup = BeautifulSoup(my_html, 'html.parser')"
   ]
  },
  {
   "cell_type": "code",
   "execution_count": null,
   "metadata": {},
   "outputs": [],
   "source": [
    "first_date = soup.findAll('div', \n",
    "                          class_ = 'module module--flush-wings util--padding-tl util--padding-bl')[0]"
   ]
  },
  {
   "cell_type": "code",
   "execution_count": null,
   "metadata": {},
   "outputs": [],
   "source": [
    "# date\n",
    "first_date.find('div', class_ = 'heading heading--level-2 heading--color-grey-light').text"
   ]
  },
  {
   "cell_type": "code",
   "execution_count": null,
   "metadata": {},
   "outputs": [],
   "source": [
    "lessons = first_date.find('ul',\n",
    "                          class_ = 'list list--spacing-large list--separators-grey-faintest')"
   ]
  },
  {
   "cell_type": "code",
   "execution_count": null,
   "metadata": {},
   "outputs": [],
   "source": [
    "# lessons\n",
    "for l_lesson in lessons.findAll('div', class_ = 'media-block__content'):\n",
    "    print(l_lesson.find('a').text)"
   ]
  },
  {
   "cell_type": "code",
   "execution_count": null,
   "metadata": {},
   "outputs": [],
   "source": [
    "# iterate through the entire \n",
    "all_labs = soup.findAll('div', \n",
    "                          class_ = 'module module--flush-wings util--padding-tl util--padding-bl')\n",
    "\n",
    "dates_list = []\n",
    "lessons_list = []\n",
    "\n",
    "for d in all_labs:\n",
    "    date = d.find('div', \n",
    "                  class_ = 'heading heading--level-2 heading--color-grey-light').text\n",
    "    lessons = d.find('ul',\n",
    "                          class_ = 'list list--spacing-large list--separators-grey-faintest')\n",
    "    for l_lesson in lessons.findAll('div', class_ = 'media-block__content'):\n",
    "        dates_list.append(date)\n",
    "        lessons_list.append(l_lesson.find('a').text)\n",
    "        print(l_lesson.find('a').text)"
   ]
  },
  {
   "cell_type": "code",
   "execution_count": null,
   "metadata": {},
   "outputs": [],
   "source": [
    "len(dates_list)"
   ]
  },
  {
   "cell_type": "code",
   "execution_count": null,
   "metadata": {},
   "outputs": [],
   "source": [
    "len(lessons_list)"
   ]
  },
  {
   "cell_type": "code",
   "execution_count": null,
   "metadata": {},
   "outputs": [],
   "source": [
    "df_lessons = pd.DataFrame({'dates': dates_list,\n",
    "                          'lesson': lessons_list})"
   ]
  },
  {
   "cell_type": "code",
   "execution_count": null,
   "metadata": {},
   "outputs": [],
   "source": [
    "df_lessons.tail(15)"
   ]
  },
  {
   "cell_type": "code",
   "execution_count": null,
   "metadata": {},
   "outputs": [],
   "source": [
    "cancled_sp.loc[18, 'url'].split('/')[-1]"
   ]
  },
  {
   "cell_type": "code",
   "execution_count": null,
   "metadata": {},
   "outputs": [],
   "source": [
    "cancled_sp.head()"
   ]
  },
  {
   "cell_type": "code",
   "execution_count": null,
   "metadata": {},
   "outputs": [],
   "source": [
    "cancled_sp['curriculum'] = ''\n",
    "cancled_sp['lessons_completed'] = 0\n",
    "cancled_sp['last_lesson'] = ''"
   ]
  },
  {
   "cell_type": "code",
   "execution_count": null,
   "metadata": {},
   "outputs": [],
   "source": [
    "cancled_sp"
   ]
  },
  {
   "cell_type": "code",
   "execution_count": null,
   "metadata": {},
   "outputs": [],
   "source": [
    "#driver.close()\n",
    "driver = webdriver.Chrome()\n",
    "\n",
    "driver.get('http://learn.co/superguy200')\n",
    "    \n",
    "# sign into github \n",
    "\n",
    "# click sign up with github button\n",
    "sign_in_gh = driver.find_element_by_xpath('//*[@id=\"js--region-main\"]/div/div[1]/div/div/div[5]/form/div/div[6]/a')\n",
    "sign_in_gh.click()\n",
    "\n",
    "# enter github username \n",
    "un = driver.find_element_by_xpath('//*[@id=\"login_field\"]')\n",
    "un.send_keys()\n",
    "\n",
    "# enter github password\n",
    "pw = driver.find_element_by_xpath('//*[@id=\"password\"]')\n",
    "pw.send_keys()\n",
    "\n",
    "# click submit\n",
    "sn = driver.find_element_by_xpath('//*[@id=\"login\"]/form/div[2]/input[8]')\n",
    "sn.click()\n",
    "\n",
    "for index, row in cancled_sp.iterrows():\n",
    "    \n",
    "    # visit url\n",
    "    driver.get(row['learn_url'])\n",
    "    \n",
    "    # let load\n",
    "    time.sleep(2)\n",
    "    \n",
    "    # grab html\n",
    "    my_html = driver.page_source\n",
    "    soup = BeautifulSoup(my_html, 'html.parser')\n",
    "    \n",
    "    # check to see if they are in bootcamp prep\n",
    "    curriculum = soup.find('h4', \n",
    "              class_ = 'heading heading--level-6 heading--color-green heading--font-size-larger heading--weight-bolder').text\n",
    "    print(f'{row[\"name\"]} - {curriculum}')\n",
    "    if curriculum == 'Bootcamp Prep':\n",
    "        cancled_sp.loc[index, 'curriculum'] = curriculum\n",
    "        continue\n",
    "    else:\n",
    "        # add curriculum\n",
    "        cancled_sp.loc[index, 'curriculum'] = curriculum\n",
    "        \n",
    "        # grab lessons completed \n",
    "        les_completed = soup.find('span', \n",
    "                                   class_ = 'heading heading--level-1 heading--color-green heading--font-size-largest heading--weight-lighter').text\n",
    "        cancled_sp.loc[index, 'lessons_completed'] = les_completed\n",
    "        \n",
    "        # grab last lesson completed \n",
    "        las_completed = soup.find('h4', \n",
    "                                  class_ = 'heading heading--level-1 heading--color-blue heading--weight-lighter').text\n",
    "        cancled_sp.loc[index, 'last_lesson'] = las_completed\n",
    "        \n",
    "        # click load more a bunch\n",
    "        while True:\n",
    "            try:\n",
    "                lm = driver.find_element_by_xpath(\"//*[contains(text(), 'Load more')]\")\n",
    "                lm.click()\n",
    "                time.sleep(2)\n",
    "            except:\n",
    "                break\n",
    "                \n",
    "        # grab html\n",
    "        time.sleep(2)\n",
    "        my_html = driver.page_source\n",
    "        soup = BeautifulSoup(my_html, 'html.parser')\n",
    "        \n",
    "        all_labs = soup.findAll('div', \n",
    "                          class_ = 'module module--flush-wings util--padding-tl util--padding-bl')\n",
    "\n",
    "        dates_list = []\n",
    "        lessons_list = []\n",
    "\n",
    "        for d in all_labs:\n",
    "            date = d.find('div', \n",
    "                          class_ = 'heading heading--level-2 heading--color-grey-light').text\n",
    "            lessons = d.find('ul',\n",
    "                                  class_ = 'list list--spacing-large list--separators-grey-faintest')\n",
    "            for l_lesson in lessons.findAll('div', class_ = 'media-block__content'):\n",
    "                dates_list.append(date)\n",
    "                lessons_list.append(l_lesson.find('a').text)\n",
    "                \n",
    "        df_ls = pd.DataFrame({'dates': dates_list,\n",
    "                          'lesson': lessons_list})\n",
    "        \n",
    "        df_ls.to_csv(f'./lessons/canceled/{row[\"url\"].split(\"/\")[-1]}.csv')"
   ]
  },
  {
   "cell_type": "code",
   "execution_count": null,
   "metadata": {},
   "outputs": [],
   "source": [
    "# graduated students \n",
    "grad_sp = graduated_df[(graduated_df['program'].str.contains('Data Science')) & \n",
    "            (graduated_df['pacing'].str.contains('Self Pace')) & \n",
    "            (graduated_df['name'] != 'Emily Pfeifer')]"
   ]
  },
  {
   "cell_type": "code",
   "execution_count": null,
   "metadata": {},
   "outputs": [],
   "source": [
    "grad_sp['curriculum'] = ''\n",
    "grad_sp['lessons_completed'] = 0\n",
    "grad_sp['last_lesson'] = ''"
   ]
  },
  {
   "cell_type": "code",
   "execution_count": null,
   "metadata": {},
   "outputs": [],
   "source": [
    "#driver.close()\n",
    "driver = webdriver.Chrome()\n",
    "\n",
    "driver.get('http://learn.co/superguy200')\n",
    "    \n",
    "# sign into github \n",
    "\n",
    "# click sign up with github button\n",
    "sign_in_gh = driver.find_element_by_xpath('//*[@id=\"js--region-main\"]/div/div[1]/div/div/div[5]/form/div/div[6]/a')\n",
    "sign_in_gh.click()\n",
    "\n",
    "# enter github username \n",
    "un = driver.find_element_by_xpath('//*[@id=\"login_field\"]')\n",
    "un.send_keys()\n",
    "\n",
    "# enter github password\n",
    "pw = driver.find_element_by_xpath('//*[@id=\"password\"]')\n",
    "pw.send_keys()\n",
    "\n",
    "# click submit\n",
    "sn = driver.find_element_by_xpath('//*[@id=\"login\"]/form/div[2]/input[8]')\n",
    "sn.click()\n",
    "\n",
    "for index, row in grad_sp.iterrows():\n",
    "    \n",
    "    # visit url\n",
    "    driver.get(row['learn_url'])\n",
    "    \n",
    "    # let load\n",
    "    time.sleep(2)\n",
    "    \n",
    "    # grab html\n",
    "    my_html = driver.page_source\n",
    "    soup = BeautifulSoup(my_html, 'html.parser')\n",
    "    \n",
    "    # check to see if they are in bootcamp prep\n",
    "    curriculum = soup.find('h4', \n",
    "              class_ = 'heading heading--level-6 heading--color-green heading--font-size-larger heading--weight-bolder').text\n",
    "    print(f'{row[\"name\"]} - {curriculum}')\n",
    "    if curriculum == 'Bootcamp Prep':\n",
    "        grad_sp.loc[index, 'curriculum'] = curriculum\n",
    "        continue\n",
    "    else:\n",
    "        # add curriculum\n",
    "        grad_sp.loc[index, 'curriculum'] = curriculum\n",
    "        \n",
    "        # grab lessons completed \n",
    "        les_completed = soup.find('span', \n",
    "                                   class_ = 'heading heading--level-1 heading--color-green heading--font-size-largest heading--weight-lighter').text\n",
    "        grad_sp.loc[index, 'lessons_completed'] = les_completed\n",
    "        \n",
    "        # grab last lesson completed \n",
    "        las_completed = soup.find('h4', \n",
    "                                  class_ = 'heading heading--level-1 heading--color-blue heading--weight-lighter').text\n",
    "        grad_sp.loc[index, 'last_lesson'] = las_completed\n",
    "        \n",
    "        # click load more a bunch\n",
    "        while True:\n",
    "            try:\n",
    "                lm = driver.find_element_by_xpath(\"//*[contains(text(), 'Load more')]\")\n",
    "                lm.click()\n",
    "                time.sleep(2)\n",
    "            except:\n",
    "                break\n",
    "                \n",
    "        # grab html\n",
    "        time.sleep(2)\n",
    "        my_html = driver.page_source\n",
    "        soup = BeautifulSoup(my_html, 'html.parser')\n",
    "        \n",
    "        all_labs = soup.findAll('div', \n",
    "                          class_ = 'module module--flush-wings util--padding-tl util--padding-bl')\n",
    "\n",
    "        dates_list = []\n",
    "        lessons_list = []\n",
    "\n",
    "        for d in all_labs:\n",
    "            date = d.find('div', \n",
    "                          class_ = 'heading heading--level-2 heading--color-grey-light').text\n",
    "            lessons = d.find('ul',\n",
    "                                  class_ = 'list list--spacing-large list--separators-grey-faintest')\n",
    "            for l_lesson in lessons.findAll('div', class_ = 'media-block__content'):\n",
    "                dates_list.append(date)\n",
    "                lessons_list.append(l_lesson.find('a').text)\n",
    "                \n",
    "        df_ls = pd.DataFrame({'dates': dates_list,\n",
    "                          'lesson': lessons_list})\n",
    "        \n",
    "        df_ls.to_csv(f'./lessons/grad/{row[\"url\"].split(\"/\")[-1]}.csv')"
   ]
  },
  {
   "cell_type": "code",
   "execution_count": null,
   "metadata": {},
   "outputs": [],
   "source": [
    "cancled_sp.to_csv('canceled_sp.csv', index = False)\n",
    "grad_sp.to_csv('grad_sp.csv', index = False)"
   ]
  },
  {
   "cell_type": "code",
   "execution_count": null,
   "metadata": {},
   "outputs": [],
   "source": [
    "grad_sp"
   ]
  },
  {
   "cell_type": "code",
   "execution_count": null,
   "metadata": {},
   "outputs": [],
   "source": []
  }
 ],
 "metadata": {
  "kernelspec": {
   "display_name": "Python [conda env:learn-env] *",
   "language": "python",
   "name": "conda-env-learn-env-py"
  },
  "language_info": {
   "codemirror_mode": {
    "name": "ipython",
    "version": 3
   },
   "file_extension": ".py",
   "mimetype": "text/x-python",
   "name": "python",
   "nbconvert_exporter": "python",
   "pygments_lexer": "ipython3",
   "version": "3.6.11"
  },
  "toc": {
   "base_numbering": 1,
   "nav_menu": {},
   "number_sections": true,
   "sideBar": true,
   "skip_h1_title": false,
   "title_cell": "Table of Contents",
   "title_sidebar": "Contents",
   "toc_cell": false,
   "toc_position": {},
   "toc_section_display": true,
   "toc_window_display": true
  },
  "varInspector": {
   "cols": {
    "lenName": 16,
    "lenType": 16,
    "lenVar": 40
   },
   "kernels_config": {
    "python": {
     "delete_cmd_postfix": "",
     "delete_cmd_prefix": "del ",
     "library": "var_list.py",
     "varRefreshCmd": "print(var_dic_list())"
    },
    "r": {
     "delete_cmd_postfix": ") ",
     "delete_cmd_prefix": "rm(",
     "library": "var_list.r",
     "varRefreshCmd": "cat(var_dic_list()) "
    }
   },
   "types_to_exclude": [
    "module",
    "function",
    "builtin_function_or_method",
    "instance",
    "_Feature"
   ],
   "window_display": false
  }
 },
 "nbformat": 4,
 "nbformat_minor": 2
}
