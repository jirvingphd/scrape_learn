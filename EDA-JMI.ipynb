{
 "cells": [
  {
   "cell_type": "code",
   "execution_count": 2,
   "metadata": {
    "ExecuteTime": {
     "end_time": "2019-12-27T00:40:53.800716Z",
     "start_time": "2019-12-27T00:40:52.858006Z"
    }
   },
   "outputs": [
    {
     "name": "stdout",
     "output_type": "stream",
     "text": [
      "fsds_1007219  v0.5.13 loaded.  Read the docs: https://fsds.readthedocs.io/en/latest/ \n"
     ]
    },
    {
     "data": {
      "text/html": [
       "<style  type=\"text/css\" >\n",
       "</style><table id=\"T_89c959f8_2841_11ea_8127_4865ee12e626\" ><caption>Loaded Packages and Handles</caption><thead>    <tr>        <th class=\"col_heading level0 col0\" >Handle</th>        <th class=\"col_heading level0 col1\" >Package</th>        <th class=\"col_heading level0 col2\" >Description</th>    </tr></thead><tbody>\n",
       "                <tr>\n",
       "                                <td id=\"T_89c959f8_2841_11ea_8127_4865ee12e626row0_col0\" class=\"data row0 col0\" >dp</td>\n",
       "                        <td id=\"T_89c959f8_2841_11ea_8127_4865ee12e626row0_col1\" class=\"data row0 col1\" >IPython.display</td>\n",
       "                        <td id=\"T_89c959f8_2841_11ea_8127_4865ee12e626row0_col2\" class=\"data row0 col2\" >Display modules with helpful display and clearing commands.</td>\n",
       "            </tr>\n",
       "            <tr>\n",
       "                                <td id=\"T_89c959f8_2841_11ea_8127_4865ee12e626row1_col0\" class=\"data row1 col0\" >fs</td>\n",
       "                        <td id=\"T_89c959f8_2841_11ea_8127_4865ee12e626row1_col1\" class=\"data row1 col1\" >fsds_100719</td>\n",
       "                        <td id=\"T_89c959f8_2841_11ea_8127_4865ee12e626row1_col2\" class=\"data row1 col2\" >Custom data science bootcamp student package</td>\n",
       "            </tr>\n",
       "            <tr>\n",
       "                                <td id=\"T_89c959f8_2841_11ea_8127_4865ee12e626row2_col0\" class=\"data row2 col0\" >mpl</td>\n",
       "                        <td id=\"T_89c959f8_2841_11ea_8127_4865ee12e626row2_col1\" class=\"data row2 col1\" >matplotlib</td>\n",
       "                        <td id=\"T_89c959f8_2841_11ea_8127_4865ee12e626row2_col2\" class=\"data row2 col2\" >Matplotlib's base OOP module with formatting artists</td>\n",
       "            </tr>\n",
       "            <tr>\n",
       "                                <td id=\"T_89c959f8_2841_11ea_8127_4865ee12e626row3_col0\" class=\"data row3 col0\" >plt</td>\n",
       "                        <td id=\"T_89c959f8_2841_11ea_8127_4865ee12e626row3_col1\" class=\"data row3 col1\" >matplotlib.pyplot</td>\n",
       "                        <td id=\"T_89c959f8_2841_11ea_8127_4865ee12e626row3_col2\" class=\"data row3 col2\" >Matplotlib's matlab-like plotting module</td>\n",
       "            </tr>\n",
       "            <tr>\n",
       "                                <td id=\"T_89c959f8_2841_11ea_8127_4865ee12e626row4_col0\" class=\"data row4 col0\" >np</td>\n",
       "                        <td id=\"T_89c959f8_2841_11ea_8127_4865ee12e626row4_col1\" class=\"data row4 col1\" >numpy</td>\n",
       "                        <td id=\"T_89c959f8_2841_11ea_8127_4865ee12e626row4_col2\" class=\"data row4 col2\" >scientific computing with Python</td>\n",
       "            </tr>\n",
       "            <tr>\n",
       "                                <td id=\"T_89c959f8_2841_11ea_8127_4865ee12e626row5_col0\" class=\"data row5 col0\" >pd</td>\n",
       "                        <td id=\"T_89c959f8_2841_11ea_8127_4865ee12e626row5_col1\" class=\"data row5 col1\" >pandas</td>\n",
       "                        <td id=\"T_89c959f8_2841_11ea_8127_4865ee12e626row5_col2\" class=\"data row5 col2\" >High performance data structures and tools</td>\n",
       "            </tr>\n",
       "            <tr>\n",
       "                                <td id=\"T_89c959f8_2841_11ea_8127_4865ee12e626row6_col0\" class=\"data row6 col0\" >sns</td>\n",
       "                        <td id=\"T_89c959f8_2841_11ea_8127_4865ee12e626row6_col1\" class=\"data row6 col1\" >seaborn</td>\n",
       "                        <td id=\"T_89c959f8_2841_11ea_8127_4865ee12e626row6_col2\" class=\"data row6 col2\" >High-level data visualization library based on matplotlib</td>\n",
       "            </tr>\n",
       "    </tbody></table>"
      ],
      "text/plain": [
       "<pandas.io.formats.style.Styler at 0x1a23b42400>"
      ]
     },
     "metadata": {},
     "output_type": "display_data"
    }
   ],
   "source": [
    "from fsds_100719.imports import *"
   ]
  },
  {
   "cell_type": "code",
   "execution_count": 3,
   "metadata": {
    "ExecuteTime": {
     "end_time": "2019-12-27T00:40:57.215869Z",
     "start_time": "2019-12-27T00:40:57.213097Z"
    }
   },
   "outputs": [],
   "source": [
    "import pandas as pd\n",
    "import matplotlib.pyplot as plt\n",
    "import re\n",
    "# import fs"
   ]
  },
  {
   "cell_type": "code",
   "execution_count": 7,
   "metadata": {
    "ExecuteTime": {
     "end_time": "2019-12-27T00:41:37.737078Z",
     "start_time": "2019-12-27T00:41:37.732683Z"
    }
   },
   "outputs": [
    {
     "data": {
      "text/plain": [
       "['.DS_Store',\n",
       " 'df_students_with_progress.csv',\n",
       " 'progress',\n",
       " 'df_students_jmi.csv']"
      ]
     },
     "execution_count": 7,
     "metadata": {},
     "output_type": "execute_result"
    }
   ],
   "source": [
    "import os,sys\n",
    "os.listdir(\"../scraped_student_info/\")"
   ]
  },
  {
   "cell_type": "code",
   "execution_count": 8,
   "metadata": {
    "ExecuteTime": {
     "end_time": "2019-12-27T00:41:54.575988Z",
     "start_time": "2019-12-27T00:41:54.534771Z"
    }
   },
   "outputs": [
    {
     "data": {
      "text/html": [
       "<div>\n",
       "<style scoped>\n",
       "    .dataframe tbody tr th:only-of-type {\n",
       "        vertical-align: middle;\n",
       "    }\n",
       "\n",
       "    .dataframe tbody tr th {\n",
       "        vertical-align: top;\n",
       "    }\n",
       "\n",
       "    .dataframe thead th {\n",
       "        text-align: right;\n",
       "    }\n",
       "</style>\n",
       "<table border=\"1\" class=\"dataframe\">\n",
       "  <thead>\n",
       "    <tr style=\"text-align: right;\">\n",
       "      <th></th>\n",
       "      <th>student_name</th>\n",
       "      <th>slack_url</th>\n",
       "      <th>learn_url</th>\n",
       "      <th>github_url</th>\n",
       "      <th>mailto_url</th>\n",
       "      <th>projects_url</th>\n",
       "      <th>grad_dash_url</th>\n",
       "      <th>cohort_lead</th>\n",
       "      <th>ed_coach</th>\n",
       "      <th>last_active</th>\n",
       "      <th>...</th>\n",
       "      <th>career_coach</th>\n",
       "      <th>section</th>\n",
       "      <th>ed_coach_avail</th>\n",
       "      <th>ed_coach_used</th>\n",
       "      <th>cohort</th>\n",
       "      <th>pacing</th>\n",
       "      <th>grad_date</th>\n",
       "      <th>commitment_level</th>\n",
       "      <th>lives_in</th>\n",
       "      <th>progress_csv</th>\n",
       "    </tr>\n",
       "  </thead>\n",
       "  <tbody>\n",
       "    <tr>\n",
       "      <td>0</td>\n",
       "      <td>Acusio Bivona</td>\n",
       "      <td>slack://user?team=learn-co&amp;id=</td>\n",
       "      <td>http://learn.co/coachcooz</td>\n",
       "      <td>http://github.com/coachcooz</td>\n",
       "      <td>mailto:acusio13@gmail.com</td>\n",
       "      <td>https://learn.co/portfolio-projects/student-da...</td>\n",
       "      <td>https://learn.co/graduation/student-dashboard/...</td>\n",
       "      <td>James Irving</td>\n",
       "      <td>Dara Paoletti</td>\n",
       "      <td>12/23/19</td>\n",
       "      <td>...</td>\n",
       "      <td>Not currently</td>\n",
       "      <td>Data Science</td>\n",
       "      <td>11</td>\n",
       "      <td>3</td>\n",
       "      <td>online-ds-pt-100719</td>\n",
       "      <td>Part Time</td>\n",
       "      <td>[('2020-08-15', '')]</td>\n",
       "      <td>['Part Time']</td>\n",
       "      <td>['Los Angeles, California, United States']</td>\n",
       "      <td>../scraped_student_info/progress/learn_progres...</td>\n",
       "    </tr>\n",
       "    <tr>\n",
       "      <td>1</td>\n",
       "      <td>Andrea Osika</td>\n",
       "      <td>slack://user?team=learn-co&amp;id=andio (Andi Osika)</td>\n",
       "      <td>http://learn.co/andiosika</td>\n",
       "      <td>http://github.com/andiosika</td>\n",
       "      <td>mailto:andiosika@gmail.com</td>\n",
       "      <td>https://learn.co/portfolio-projects/student-da...</td>\n",
       "      <td>https://learn.co/graduation/student-dashboard/...</td>\n",
       "      <td>[]</td>\n",
       "      <td>Dara Paoletti</td>\n",
       "      <td>12/23/19</td>\n",
       "      <td>...</td>\n",
       "      <td>Not currently</td>\n",
       "      <td>Data Science</td>\n",
       "      <td>11</td>\n",
       "      <td>2</td>\n",
       "      <td>online-ds-pt-100719</td>\n",
       "      <td>Part Time</td>\n",
       "      <td>[]</td>\n",
       "      <td>[]</td>\n",
       "      <td>[]</td>\n",
       "      <td>../scraped_student_info/progress/learn_progres...</td>\n",
       "    </tr>\n",
       "    <tr>\n",
       "      <td>2</td>\n",
       "      <td>Darius Fuller</td>\n",
       "      <td>slack://user?team=learn-co&amp;id=Darius F.</td>\n",
       "      <td>http://learn.co/dfuller22</td>\n",
       "      <td>http://github.com/dfuller22</td>\n",
       "      <td>mailto:d_full22@yahoo.com</td>\n",
       "      <td>https://learn.co/portfolio-projects/student-da...</td>\n",
       "      <td>https://learn.co/graduation/student-dashboard/...</td>\n",
       "      <td>James Irving</td>\n",
       "      <td>Dara Paoletti</td>\n",
       "      <td>12/24/19</td>\n",
       "      <td>...</td>\n",
       "      <td>Not currently</td>\n",
       "      <td>Data Science</td>\n",
       "      <td>11</td>\n",
       "      <td>2</td>\n",
       "      <td>online-ds-pt-100719</td>\n",
       "      <td>Part Time</td>\n",
       "      <td>[('2020-08-31', '')]</td>\n",
       "      <td>['Part Time']</td>\n",
       "      <td>['Seattle, Washington, United States']</td>\n",
       "      <td>../scraped_student_info/progress/learn_progres...</td>\n",
       "    </tr>\n",
       "    <tr>\n",
       "      <td>3</td>\n",
       "      <td>Devin Belden</td>\n",
       "      <td>slack://user?team=learn-co&amp;id=Devin B</td>\n",
       "      <td>http://learn.co/devinbelden</td>\n",
       "      <td>http://github.com/devinbelden</td>\n",
       "      <td>mailto:devin.belden.28@gmail.com</td>\n",
       "      <td>https://learn.co/portfolio-projects/student-da...</td>\n",
       "      <td>https://learn.co/graduation/student-dashboard/...</td>\n",
       "      <td>James Irving</td>\n",
       "      <td>Dara Paoletti</td>\n",
       "      <td>12/20/19</td>\n",
       "      <td>...</td>\n",
       "      <td>Not currently</td>\n",
       "      <td>Data Science</td>\n",
       "      <td>11</td>\n",
       "      <td>5</td>\n",
       "      <td>online-ds-ft-100719</td>\n",
       "      <td>Full Time</td>\n",
       "      <td>[('2020-03-31', '')]</td>\n",
       "      <td>['Full Time']</td>\n",
       "      <td>['United States']</td>\n",
       "      <td>../scraped_student_info/progress/learn_progres...</td>\n",
       "    </tr>\n",
       "    <tr>\n",
       "      <td>4</td>\n",
       "      <td>Douglas Steen</td>\n",
       "      <td>slack://user?team=learn-co&amp;id=Doug Steen</td>\n",
       "      <td>http://learn.co/douglaspsteen</td>\n",
       "      <td>http://github.com/douglaspsteen</td>\n",
       "      <td>mailto:douglaspsteen@gmail.com</td>\n",
       "      <td>https://learn.co/portfolio-projects/student-da...</td>\n",
       "      <td>https://learn.co/graduation/student-dashboard/...</td>\n",
       "      <td>James Irving</td>\n",
       "      <td>Dara Paoletti</td>\n",
       "      <td>12/21/19</td>\n",
       "      <td>...</td>\n",
       "      <td>Not currently</td>\n",
       "      <td>Data Science</td>\n",
       "      <td>11</td>\n",
       "      <td>3</td>\n",
       "      <td>online-ds-ft-100719</td>\n",
       "      <td>Full Time</td>\n",
       "      <td>[('2020-03-31', '')]</td>\n",
       "      <td>['Full Time']</td>\n",
       "      <td>['Grapevine, Texas, United States']</td>\n",
       "      <td>../scraped_student_info/progress/learn_progres...</td>\n",
       "    </tr>\n",
       "    <tr>\n",
       "      <td>5</td>\n",
       "      <td>Ice Asortse</td>\n",
       "      <td>slack://user?team=learn-co&amp;id=</td>\n",
       "      <td>http://learn.co/dantarshi</td>\n",
       "      <td>http://github.com/dantarshi</td>\n",
       "      <td>mailto:dantarshi@gmail.com</td>\n",
       "      <td>https://learn.co/portfolio-projects/student-da...</td>\n",
       "      <td>https://learn.co/graduation/student-dashboard/...</td>\n",
       "      <td>James Irving</td>\n",
       "      <td>Dara Paoletti</td>\n",
       "      <td>12/24/19</td>\n",
       "      <td>...</td>\n",
       "      <td>Not currently</td>\n",
       "      <td>Data Science</td>\n",
       "      <td>11</td>\n",
       "      <td>2</td>\n",
       "      <td>online-ds-ft-100719</td>\n",
       "      <td>Full Time</td>\n",
       "      <td>[('2020-03-31', '')]</td>\n",
       "      <td>['Full Time']</td>\n",
       "      <td>['Pittsburgh, Pennsylvania, United States']</td>\n",
       "      <td>../scraped_student_info/progress/learn_progres...</td>\n",
       "    </tr>\n",
       "    <tr>\n",
       "      <td>6</td>\n",
       "      <td>Jamaal Smith</td>\n",
       "      <td>slack://user?team=learn-co&amp;id=Jamaal Smith</td>\n",
       "      <td>http://learn.co/jdsmithwes</td>\n",
       "      <td>http://github.com/jdsmithwes</td>\n",
       "      <td>mailto:jdsmith1906@gmail.com</td>\n",
       "      <td>https://learn.co/portfolio-projects/student-da...</td>\n",
       "      <td>https://learn.co/graduation/student-dashboard/...</td>\n",
       "      <td>James Irving</td>\n",
       "      <td>Dara Paoletti</td>\n",
       "      <td>12/21/19</td>\n",
       "      <td>...</td>\n",
       "      <td>Not currently</td>\n",
       "      <td>Data Science</td>\n",
       "      <td>11</td>\n",
       "      <td>2</td>\n",
       "      <td>online-ds-ft-100719</td>\n",
       "      <td>Full Time</td>\n",
       "      <td>[]</td>\n",
       "      <td>[]</td>\n",
       "      <td>[]</td>\n",
       "      <td>../scraped_student_info/progress/learn_progres...</td>\n",
       "    </tr>\n",
       "    <tr>\n",
       "      <td>7</td>\n",
       "      <td>John Kline</td>\n",
       "      <td>slack://user?team=learn-co&amp;id=John Kline</td>\n",
       "      <td>http://learn.co/katahdin28</td>\n",
       "      <td>http://github.com/katahdin28</td>\n",
       "      <td>mailto:johnmkline@gmail.com</td>\n",
       "      <td>https://learn.co/portfolio-projects/student-da...</td>\n",
       "      <td>https://learn.co/graduation/student-dashboard/...</td>\n",
       "      <td>James Irving</td>\n",
       "      <td>Dara Paoletti</td>\n",
       "      <td>12/19/19</td>\n",
       "      <td>...</td>\n",
       "      <td>Not currently</td>\n",
       "      <td>Data Science</td>\n",
       "      <td>11</td>\n",
       "      <td>1</td>\n",
       "      <td>online-ds-ft-100719</td>\n",
       "      <td>Full Time</td>\n",
       "      <td>[('2020-03-15', '')]</td>\n",
       "      <td>['Full Time']</td>\n",
       "      <td>['United States']</td>\n",
       "      <td>../scraped_student_info/progress/learn_progres...</td>\n",
       "    </tr>\n",
       "    <tr>\n",
       "      <td>8</td>\n",
       "      <td>John Lemaster</td>\n",
       "      <td>slack://user?team=learn-co&amp;id=John Lemaster</td>\n",
       "      <td>http://learn.co/lemaster1</td>\n",
       "      <td>http://github.com/lemaster1</td>\n",
       "      <td>mailto:heylemaster@gmail.com</td>\n",
       "      <td>https://learn.co/portfolio-projects/student-da...</td>\n",
       "      <td>https://learn.co/graduation/student-dashboard/...</td>\n",
       "      <td>James Irving</td>\n",
       "      <td>Dara Paoletti</td>\n",
       "      <td>12/24/19</td>\n",
       "      <td>...</td>\n",
       "      <td>Not currently</td>\n",
       "      <td>Data Science</td>\n",
       "      <td>11</td>\n",
       "      <td>2</td>\n",
       "      <td>online-ds-ft-100719</td>\n",
       "      <td>Full Time</td>\n",
       "      <td>[('2020-03-31', '')]</td>\n",
       "      <td>['Full Time']</td>\n",
       "      <td>['Chicago, Illinois, United States']</td>\n",
       "      <td>../scraped_student_info/progress/learn_progres...</td>\n",
       "    </tr>\n",
       "    <tr>\n",
       "      <td>9</td>\n",
       "      <td>John Ofrecio</td>\n",
       "      <td>slack://user?team=learn-co&amp;id=John Ofrecio</td>\n",
       "      <td>http://learn.co/jofrecio</td>\n",
       "      <td>http://github.com/jofrecio</td>\n",
       "      <td>mailto:john.ofrecio@gmail.com</td>\n",
       "      <td>https://learn.co/portfolio-projects/student-da...</td>\n",
       "      <td>https://learn.co/graduation/student-dashboard/...</td>\n",
       "      <td>James Irving</td>\n",
       "      <td>Dara Paoletti</td>\n",
       "      <td>12/16/19</td>\n",
       "      <td>...</td>\n",
       "      <td>Not currently</td>\n",
       "      <td>Data Science</td>\n",
       "      <td>11</td>\n",
       "      <td>2</td>\n",
       "      <td>online-ds-pt-100719</td>\n",
       "      <td>Part Time</td>\n",
       "      <td>[]</td>\n",
       "      <td>['Part Time']</td>\n",
       "      <td>['Rockville, Maryland, United States']</td>\n",
       "      <td>../scraped_student_info/progress/learn_progres...</td>\n",
       "    </tr>\n",
       "    <tr>\n",
       "      <td>10</td>\n",
       "      <td>Melvin Gonzalez</td>\n",
       "      <td>slack://user?team=learn-co&amp;id=Melvin Gonzalez,...</td>\n",
       "      <td>http://learn.co/melvingonzalezjr</td>\n",
       "      <td>http://github.com/melvingonzalezjr</td>\n",
       "      <td>mailto:mgonzalez713@gmail.com</td>\n",
       "      <td>https://learn.co/portfolio-projects/student-da...</td>\n",
       "      <td>https://learn.co/graduation/student-dashboard/...</td>\n",
       "      <td>James Irving</td>\n",
       "      <td>Dara Paoletti</td>\n",
       "      <td>12/22/19</td>\n",
       "      <td>...</td>\n",
       "      <td>Not currently</td>\n",
       "      <td>Data Science</td>\n",
       "      <td>11</td>\n",
       "      <td>5</td>\n",
       "      <td>online-ds-ft-100719</td>\n",
       "      <td>Full Time</td>\n",
       "      <td>[('2020-01-31', '')]</td>\n",
       "      <td>['Full Time']</td>\n",
       "      <td>['United States']</td>\n",
       "      <td>../scraped_student_info/progress/learn_progres...</td>\n",
       "    </tr>\n",
       "    <tr>\n",
       "      <td>11</td>\n",
       "      <td>Michael Burak</td>\n",
       "      <td>slack://user?team=learn-co&amp;id=michaelburak(the...</td>\n",
       "      <td>http://learn.co/michaelburak</td>\n",
       "      <td>http://github.com/michaelburak</td>\n",
       "      <td>mailto:michaelrburak@gmail.com</td>\n",
       "      <td>https://learn.co/portfolio-projects/student-da...</td>\n",
       "      <td>https://learn.co/graduation/student-dashboard/...</td>\n",
       "      <td>[]</td>\n",
       "      <td>Dara Paoletti</td>\n",
       "      <td>12/23/19</td>\n",
       "      <td>...</td>\n",
       "      <td>Currently assigned</td>\n",
       "      <td>Pre</td>\n",
       "      <td>11</td>\n",
       "      <td>2</td>\n",
       "      <td>online-ds-pt-100719</td>\n",
       "      <td>Part Time</td>\n",
       "      <td>[('2020-08-31', '')]</td>\n",
       "      <td>['Part Time']</td>\n",
       "      <td>['Boulder, Colorado, United States']</td>\n",
       "      <td>../scraped_student_info/progress/learn_progres...</td>\n",
       "    </tr>\n",
       "    <tr>\n",
       "      <td>12</td>\n",
       "      <td>Ru Kein</td>\n",
       "      <td>slack://user?team=learn-co&amp;id=ru</td>\n",
       "      <td>http://learn.co/hakkeray</td>\n",
       "      <td>http://github.com/hakkeray</td>\n",
       "      <td>mailto:rukeine@gmail.com</td>\n",
       "      <td>https://learn.co/portfolio-projects/student-da...</td>\n",
       "      <td>https://learn.co/graduation/student-dashboard/...</td>\n",
       "      <td>James Irving</td>\n",
       "      <td>Dara Paoletti</td>\n",
       "      <td>12/20/19</td>\n",
       "      <td>...</td>\n",
       "      <td>Not currently</td>\n",
       "      <td>Data Science</td>\n",
       "      <td>11</td>\n",
       "      <td>2</td>\n",
       "      <td>online-ds-ft-100719</td>\n",
       "      <td>Full Time</td>\n",
       "      <td>[('2020-01-31', '')]</td>\n",
       "      <td>['Full Time']</td>\n",
       "      <td>['Los Angeles, California, United States']</td>\n",
       "      <td>../scraped_student_info/progress/learn_progres...</td>\n",
       "    </tr>\n",
       "    <tr>\n",
       "      <td>13</td>\n",
       "      <td>Susanna Han</td>\n",
       "      <td>slack://user?team=learn-co&amp;id=Susanna Han</td>\n",
       "      <td>http://learn.co/ohsusanna93</td>\n",
       "      <td>http://github.com/ohsusanna93</td>\n",
       "      <td>mailto:susanna.jihae.han@gmail.com</td>\n",
       "      <td>https://learn.co/portfolio-projects/student-da...</td>\n",
       "      <td>https://learn.co/graduation/student-dashboard/...</td>\n",
       "      <td>[]</td>\n",
       "      <td>Dara Paoletti</td>\n",
       "      <td>12/16/19</td>\n",
       "      <td>...</td>\n",
       "      <td>Not currently</td>\n",
       "      <td>Data Science</td>\n",
       "      <td>11</td>\n",
       "      <td>1</td>\n",
       "      <td>online-ds-pt-100719</td>\n",
       "      <td>Part Time</td>\n",
       "      <td>[]</td>\n",
       "      <td>['Full Time']</td>\n",
       "      <td>['Champaign, Illinois, United States']</td>\n",
       "      <td>../scraped_student_info/progress/learn_progres...</td>\n",
       "    </tr>\n",
       "    <tr>\n",
       "      <td>14</td>\n",
       "      <td>Terry Ollila</td>\n",
       "      <td>slack://user?team=learn-co&amp;id=Terry Ollila</td>\n",
       "      <td>http://learn.co/terryollila</td>\n",
       "      <td>http://github.com/terryollila</td>\n",
       "      <td>mailto:terryollila@gmail.com</td>\n",
       "      <td>https://learn.co/portfolio-projects/student-da...</td>\n",
       "      <td>https://learn.co/graduation/student-dashboard/...</td>\n",
       "      <td>James Irving</td>\n",
       "      <td>Dara Paoletti</td>\n",
       "      <td>12/24/19</td>\n",
       "      <td>...</td>\n",
       "      <td>Not currently</td>\n",
       "      <td>Data Science</td>\n",
       "      <td>11</td>\n",
       "      <td>3</td>\n",
       "      <td>online-ds-ft-100719</td>\n",
       "      <td>Full Time</td>\n",
       "      <td>[('2020-03-31', '')]</td>\n",
       "      <td>['Full Time']</td>\n",
       "      <td>['Louisville, Colorado, United States']</td>\n",
       "      <td>../scraped_student_info/progress/learn_progres...</td>\n",
       "    </tr>\n",
       "  </tbody>\n",
       "</table>\n",
       "<p>15 rows × 22 columns</p>\n",
       "</div>"
      ],
      "text/plain": [
       "       student_name                                          slack_url  \\\n",
       "0     Acusio Bivona                     slack://user?team=learn-co&id=   \n",
       "1      Andrea Osika   slack://user?team=learn-co&id=andio (Andi Osika)   \n",
       "2     Darius Fuller            slack://user?team=learn-co&id=Darius F.   \n",
       "3      Devin Belden              slack://user?team=learn-co&id=Devin B   \n",
       "4     Douglas Steen           slack://user?team=learn-co&id=Doug Steen   \n",
       "5       Ice Asortse                     slack://user?team=learn-co&id=   \n",
       "6      Jamaal Smith         slack://user?team=learn-co&id=Jamaal Smith   \n",
       "7        John Kline           slack://user?team=learn-co&id=John Kline   \n",
       "8     John Lemaster        slack://user?team=learn-co&id=John Lemaster   \n",
       "9      John Ofrecio         slack://user?team=learn-co&id=John Ofrecio   \n",
       "10  Melvin Gonzalez  slack://user?team=learn-co&id=Melvin Gonzalez,...   \n",
       "11    Michael Burak  slack://user?team=learn-co&id=michaelburak(the...   \n",
       "12          Ru Kein                   slack://user?team=learn-co&id=ru   \n",
       "13      Susanna Han          slack://user?team=learn-co&id=Susanna Han   \n",
       "14     Terry Ollila         slack://user?team=learn-co&id=Terry Ollila   \n",
       "\n",
       "                           learn_url                          github_url  \\\n",
       "0          http://learn.co/coachcooz         http://github.com/coachcooz   \n",
       "1          http://learn.co/andiosika         http://github.com/andiosika   \n",
       "2          http://learn.co/dfuller22         http://github.com/dfuller22   \n",
       "3        http://learn.co/devinbelden       http://github.com/devinbelden   \n",
       "4      http://learn.co/douglaspsteen     http://github.com/douglaspsteen   \n",
       "5          http://learn.co/dantarshi         http://github.com/dantarshi   \n",
       "6         http://learn.co/jdsmithwes        http://github.com/jdsmithwes   \n",
       "7         http://learn.co/katahdin28        http://github.com/katahdin28   \n",
       "8          http://learn.co/lemaster1         http://github.com/lemaster1   \n",
       "9           http://learn.co/jofrecio          http://github.com/jofrecio   \n",
       "10  http://learn.co/melvingonzalezjr  http://github.com/melvingonzalezjr   \n",
       "11      http://learn.co/michaelburak      http://github.com/michaelburak   \n",
       "12          http://learn.co/hakkeray          http://github.com/hakkeray   \n",
       "13       http://learn.co/ohsusanna93       http://github.com/ohsusanna93   \n",
       "14       http://learn.co/terryollila       http://github.com/terryollila   \n",
       "\n",
       "                            mailto_url  \\\n",
       "0            mailto:acusio13@gmail.com   \n",
       "1           mailto:andiosika@gmail.com   \n",
       "2            mailto:d_full22@yahoo.com   \n",
       "3     mailto:devin.belden.28@gmail.com   \n",
       "4       mailto:douglaspsteen@gmail.com   \n",
       "5           mailto:dantarshi@gmail.com   \n",
       "6         mailto:jdsmith1906@gmail.com   \n",
       "7          mailto:johnmkline@gmail.com   \n",
       "8         mailto:heylemaster@gmail.com   \n",
       "9        mailto:john.ofrecio@gmail.com   \n",
       "10       mailto:mgonzalez713@gmail.com   \n",
       "11      mailto:michaelrburak@gmail.com   \n",
       "12            mailto:rukeine@gmail.com   \n",
       "13  mailto:susanna.jihae.han@gmail.com   \n",
       "14        mailto:terryollila@gmail.com   \n",
       "\n",
       "                                         projects_url  \\\n",
       "0   https://learn.co/portfolio-projects/student-da...   \n",
       "1   https://learn.co/portfolio-projects/student-da...   \n",
       "2   https://learn.co/portfolio-projects/student-da...   \n",
       "3   https://learn.co/portfolio-projects/student-da...   \n",
       "4   https://learn.co/portfolio-projects/student-da...   \n",
       "5   https://learn.co/portfolio-projects/student-da...   \n",
       "6   https://learn.co/portfolio-projects/student-da...   \n",
       "7   https://learn.co/portfolio-projects/student-da...   \n",
       "8   https://learn.co/portfolio-projects/student-da...   \n",
       "9   https://learn.co/portfolio-projects/student-da...   \n",
       "10  https://learn.co/portfolio-projects/student-da...   \n",
       "11  https://learn.co/portfolio-projects/student-da...   \n",
       "12  https://learn.co/portfolio-projects/student-da...   \n",
       "13  https://learn.co/portfolio-projects/student-da...   \n",
       "14  https://learn.co/portfolio-projects/student-da...   \n",
       "\n",
       "                                        grad_dash_url   cohort_lead  \\\n",
       "0   https://learn.co/graduation/student-dashboard/...  James Irving   \n",
       "1   https://learn.co/graduation/student-dashboard/...            []   \n",
       "2   https://learn.co/graduation/student-dashboard/...  James Irving   \n",
       "3   https://learn.co/graduation/student-dashboard/...  James Irving   \n",
       "4   https://learn.co/graduation/student-dashboard/...  James Irving   \n",
       "5   https://learn.co/graduation/student-dashboard/...  James Irving   \n",
       "6   https://learn.co/graduation/student-dashboard/...  James Irving   \n",
       "7   https://learn.co/graduation/student-dashboard/...  James Irving   \n",
       "8   https://learn.co/graduation/student-dashboard/...  James Irving   \n",
       "9   https://learn.co/graduation/student-dashboard/...  James Irving   \n",
       "10  https://learn.co/graduation/student-dashboard/...  James Irving   \n",
       "11  https://learn.co/graduation/student-dashboard/...            []   \n",
       "12  https://learn.co/graduation/student-dashboard/...  James Irving   \n",
       "13  https://learn.co/graduation/student-dashboard/...            []   \n",
       "14  https://learn.co/graduation/student-dashboard/...  James Irving   \n",
       "\n",
       "         ed_coach last_active  ...        career_coach       section  \\\n",
       "0   Dara Paoletti    12/23/19  ...       Not currently  Data Science   \n",
       "1   Dara Paoletti    12/23/19  ...       Not currently  Data Science   \n",
       "2   Dara Paoletti    12/24/19  ...       Not currently  Data Science   \n",
       "3   Dara Paoletti    12/20/19  ...       Not currently  Data Science   \n",
       "4   Dara Paoletti    12/21/19  ...       Not currently  Data Science   \n",
       "5   Dara Paoletti    12/24/19  ...       Not currently  Data Science   \n",
       "6   Dara Paoletti    12/21/19  ...       Not currently  Data Science   \n",
       "7   Dara Paoletti    12/19/19  ...       Not currently  Data Science   \n",
       "8   Dara Paoletti    12/24/19  ...       Not currently  Data Science   \n",
       "9   Dara Paoletti    12/16/19  ...       Not currently  Data Science   \n",
       "10  Dara Paoletti    12/22/19  ...       Not currently  Data Science   \n",
       "11  Dara Paoletti    12/23/19  ...  Currently assigned           Pre   \n",
       "12  Dara Paoletti    12/20/19  ...       Not currently  Data Science   \n",
       "13  Dara Paoletti    12/16/19  ...       Not currently  Data Science   \n",
       "14  Dara Paoletti    12/24/19  ...       Not currently  Data Science   \n",
       "\n",
       "   ed_coach_avail ed_coach_used               cohort     pacing  \\\n",
       "0              11             3  online-ds-pt-100719  Part Time   \n",
       "1              11             2  online-ds-pt-100719  Part Time   \n",
       "2              11             2  online-ds-pt-100719  Part Time   \n",
       "3              11             5  online-ds-ft-100719  Full Time   \n",
       "4              11             3  online-ds-ft-100719  Full Time   \n",
       "5              11             2  online-ds-ft-100719  Full Time   \n",
       "6              11             2  online-ds-ft-100719  Full Time   \n",
       "7              11             1  online-ds-ft-100719  Full Time   \n",
       "8              11             2  online-ds-ft-100719  Full Time   \n",
       "9              11             2  online-ds-pt-100719  Part Time   \n",
       "10             11             5  online-ds-ft-100719  Full Time   \n",
       "11             11             2  online-ds-pt-100719  Part Time   \n",
       "12             11             2  online-ds-ft-100719  Full Time   \n",
       "13             11             1  online-ds-pt-100719  Part Time   \n",
       "14             11             3  online-ds-ft-100719  Full Time   \n",
       "\n",
       "               grad_date commitment_level  \\\n",
       "0   [('2020-08-15', '')]    ['Part Time']   \n",
       "1                     []               []   \n",
       "2   [('2020-08-31', '')]    ['Part Time']   \n",
       "3   [('2020-03-31', '')]    ['Full Time']   \n",
       "4   [('2020-03-31', '')]    ['Full Time']   \n",
       "5   [('2020-03-31', '')]    ['Full Time']   \n",
       "6                     []               []   \n",
       "7   [('2020-03-15', '')]    ['Full Time']   \n",
       "8   [('2020-03-31', '')]    ['Full Time']   \n",
       "9                     []    ['Part Time']   \n",
       "10  [('2020-01-31', '')]    ['Full Time']   \n",
       "11  [('2020-08-31', '')]    ['Part Time']   \n",
       "12  [('2020-01-31', '')]    ['Full Time']   \n",
       "13                    []    ['Full Time']   \n",
       "14  [('2020-03-31', '')]    ['Full Time']   \n",
       "\n",
       "                                       lives_in  \\\n",
       "0    ['Los Angeles, California, United States']   \n",
       "1                                            []   \n",
       "2        ['Seattle, Washington, United States']   \n",
       "3                             ['United States']   \n",
       "4           ['Grapevine, Texas, United States']   \n",
       "5   ['Pittsburgh, Pennsylvania, United States']   \n",
       "6                                            []   \n",
       "7                             ['United States']   \n",
       "8          ['Chicago, Illinois, United States']   \n",
       "9        ['Rockville, Maryland, United States']   \n",
       "10                            ['United States']   \n",
       "11         ['Boulder, Colorado, United States']   \n",
       "12   ['Los Angeles, California, United States']   \n",
       "13       ['Champaign, Illinois, United States']   \n",
       "14      ['Louisville, Colorado, United States']   \n",
       "\n",
       "                                         progress_csv  \n",
       "0   ../scraped_student_info/progress/learn_progres...  \n",
       "1   ../scraped_student_info/progress/learn_progres...  \n",
       "2   ../scraped_student_info/progress/learn_progres...  \n",
       "3   ../scraped_student_info/progress/learn_progres...  \n",
       "4   ../scraped_student_info/progress/learn_progres...  \n",
       "5   ../scraped_student_info/progress/learn_progres...  \n",
       "6   ../scraped_student_info/progress/learn_progres...  \n",
       "7   ../scraped_student_info/progress/learn_progres...  \n",
       "8   ../scraped_student_info/progress/learn_progres...  \n",
       "9   ../scraped_student_info/progress/learn_progres...  \n",
       "10  ../scraped_student_info/progress/learn_progres...  \n",
       "11  ../scraped_student_info/progress/learn_progres...  \n",
       "12  ../scraped_student_info/progress/learn_progres...  \n",
       "13  ../scraped_student_info/progress/learn_progres...  \n",
       "14  ../scraped_student_info/progress/learn_progres...  \n",
       "\n",
       "[15 rows x 22 columns]"
      ]
     },
     "execution_count": 8,
     "metadata": {},
     "output_type": "execute_result"
    }
   ],
   "source": [
    "df_students = pd.read_csv(\"../scraped_student_info/df_students_with_progress.csv\")\n",
    "df_students"
   ]
  },
  {
   "cell_type": "code",
   "execution_count": 127,
   "metadata": {
    "ExecuteTime": {
     "end_time": "2019-12-27T01:26:38.298618Z",
     "start_time": "2019-12-27T01:26:38.294912Z"
    }
   },
   "outputs": [
    {
     "data": {
      "text/plain": [
       "'../scraped_student_info/progress/learn_progress_Terry Ollila.csv'"
      ]
     },
     "execution_count": 127,
     "metadata": {},
     "output_type": "execute_result"
    }
   ],
   "source": [
    "csv_file = df_students['progress_csv'][14]\n",
    "csv_file"
   ]
  },
  {
   "cell_type": "code",
   "execution_count": 128,
   "metadata": {
    "ExecuteTime": {
     "end_time": "2019-12-27T01:26:39.774768Z",
     "start_time": "2019-12-27T01:26:39.759989Z"
    }
   },
   "outputs": [
    {
     "data": {
      "text/html": [
       "<div>\n",
       "<style scoped>\n",
       "    .dataframe tbody tr th:only-of-type {\n",
       "        vertical-align: middle;\n",
       "    }\n",
       "\n",
       "    .dataframe tbody tr th {\n",
       "        vertical-align: top;\n",
       "    }\n",
       "\n",
       "    .dataframe thead th {\n",
       "        text-align: right;\n",
       "    }\n",
       "</style>\n",
       "<table border=\"1\" class=\"dataframe\">\n",
       "  <thead>\n",
       "    <tr style=\"text-align: right;\">\n",
       "      <th></th>\n",
       "      <th>dates</th>\n",
       "      <th>lesson</th>\n",
       "    </tr>\n",
       "  </thead>\n",
       "  <tbody>\n",
       "    <tr>\n",
       "      <td>0</td>\n",
       "      <td>Tuesday, Dec 24th</td>\n",
       "      <td>Regression Analysis using Linear Algebra and N...</td>\n",
       "    </tr>\n",
       "    <tr>\n",
       "      <td>1</td>\n",
       "      <td>Tuesday, Dec 24th</td>\n",
       "      <td>Solving Systems of Linear Equations with NumPy...</td>\n",
       "    </tr>\n",
       "    <tr>\n",
       "      <td>2</td>\n",
       "      <td>Tuesday, Dec 24th</td>\n",
       "      <td>Solving Systems of Linear Equations with NumPy...</td>\n",
       "    </tr>\n",
       "    <tr>\n",
       "      <td>3</td>\n",
       "      <td>Monday, Dec 23rd</td>\n",
       "      <td>Pure Python vs. Numpy - Lab</td>\n",
       "    </tr>\n",
       "    <tr>\n",
       "      <td>4</td>\n",
       "      <td>Monday, Dec 23rd</td>\n",
       "      <td>Properties of Dot Product - Lab</td>\n",
       "    </tr>\n",
       "    <tr>\n",
       "      <td>...</td>\n",
       "      <td>...</td>\n",
       "      <td>...</td>\n",
       "    </tr>\n",
       "    <tr>\n",
       "      <td>450</td>\n",
       "      <td>Thursday, Sep 5th</td>\n",
       "      <td>Python Intro To Strings</td>\n",
       "    </tr>\n",
       "    <tr>\n",
       "      <td>451</td>\n",
       "      <td>Thursday, Sep 5th</td>\n",
       "      <td>Instant Data Science</td>\n",
       "    </tr>\n",
       "    <tr>\n",
       "      <td>452</td>\n",
       "      <td>Thursday, Sep 5th</td>\n",
       "      <td>The Web is Made of HTML</td>\n",
       "    </tr>\n",
       "    <tr>\n",
       "      <td>453</td>\n",
       "      <td>Thursday, Sep 5th</td>\n",
       "      <td>Welcome to Bootcamp Prep</td>\n",
       "    </tr>\n",
       "    <tr>\n",
       "      <td>454</td>\n",
       "      <td>Thursday, Sep 5th</td>\n",
       "      <td>Introduction To Data Science</td>\n",
       "    </tr>\n",
       "  </tbody>\n",
       "</table>\n",
       "<p>451 rows × 2 columns</p>\n",
       "</div>"
      ],
      "text/plain": [
       "                 dates                                             lesson\n",
       "0    Tuesday, Dec 24th  Regression Analysis using Linear Algebra and N...\n",
       "1    Tuesday, Dec 24th  Solving Systems of Linear Equations with NumPy...\n",
       "2    Tuesday, Dec 24th  Solving Systems of Linear Equations with NumPy...\n",
       "3     Monday, Dec 23rd                        Pure Python vs. Numpy - Lab\n",
       "4     Monday, Dec 23rd                    Properties of Dot Product - Lab\n",
       "..                 ...                                                ...\n",
       "450  Thursday, Sep 5th                            Python Intro To Strings\n",
       "451  Thursday, Sep 5th                               Instant Data Science\n",
       "452  Thursday, Sep 5th                            The Web is Made of HTML\n",
       "453  Thursday, Sep 5th                           Welcome to Bootcamp Prep\n",
       "454  Thursday, Sep 5th                       Introduction To Data Science\n",
       "\n",
       "[451 rows x 2 columns]"
      ]
     },
     "execution_count": 128,
     "metadata": {},
     "output_type": "execute_result"
    }
   ],
   "source": [
    "df = pd.read_csv(csv_file,index_col=0)\n",
    "\n",
    "# df[df.duplicated(keep=False)]\n",
    "df.drop_duplicates(inplace=True)\n",
    "df\n"
   ]
  },
  {
   "cell_type": "code",
   "execution_count": 240,
   "metadata": {
    "ExecuteTime": {
     "end_time": "2019-12-27T01:54:42.115599Z",
     "start_time": "2019-12-27T01:54:42.112270Z"
    }
   },
   "outputs": [
    {
     "data": {
      "text/plain": [
       "[]"
      ]
     },
     "execution_count": 240,
     "metadata": {},
     "output_type": "execute_result"
    }
   ],
   "source": [
    "df._metadata"
   ]
  },
  {
   "cell_type": "code",
   "execution_count": 246,
   "metadata": {
    "ExecuteTime": {
     "end_time": "2019-12-27T01:56:54.064153Z",
     "start_time": "2019-12-27T01:56:54.060534Z"
    }
   },
   "outputs": [
    {
     "data": {
      "text/plain": [
       "Index(['student_name', 'slack_url', 'learn_url', 'github_url', 'mailto_url',\n",
       "       'projects_url', 'grad_dash_url', 'cohort_lead', 'ed_coach',\n",
       "       'last_active', 'completed_lessons', 'joined', 'career_coach', 'section',\n",
       "       'ed_coach_avail', 'ed_coach_used', 'cohort', 'pacing', 'grad_date',\n",
       "       'commitment_level', 'lives_in', 'progress_csv'],\n",
       "      dtype='object')"
      ]
     },
     "execution_count": 246,
     "metadata": {},
     "output_type": "execute_result"
    }
   ],
   "source": [
    "df_students.columns"
   ]
  },
  {
   "cell_type": "code",
   "execution_count": 251,
   "metadata": {
    "ExecuteTime": {
     "end_time": "2019-12-27T01:58:25.913811Z",
     "start_time": "2019-12-27T01:58:25.899130Z"
    }
   },
   "outputs": [
    {
     "data": {
      "text/html": [
       "<div>\n",
       "<style scoped>\n",
       "    .dataframe tbody tr th:only-of-type {\n",
       "        vertical-align: middle;\n",
       "    }\n",
       "\n",
       "    .dataframe tbody tr th {\n",
       "        vertical-align: top;\n",
       "    }\n",
       "\n",
       "    .dataframe thead th {\n",
       "        text-align: right;\n",
       "    }\n",
       "</style>\n",
       "<table border=\"1\" class=\"dataframe\">\n",
       "  <thead>\n",
       "    <tr style=\"text-align: right;\">\n",
       "      <th></th>\n",
       "      <th>dates</th>\n",
       "      <th>lesson</th>\n",
       "    </tr>\n",
       "  </thead>\n",
       "  <tbody>\n",
       "    <tr>\n",
       "      <td>0</td>\n",
       "      <td>Thursday, Dec 12th</td>\n",
       "      <td>Exploring Your Data</td>\n",
       "    </tr>\n",
       "    <tr>\n",
       "      <td>1</td>\n",
       "      <td>Wednesday, Dec 11th</td>\n",
       "      <td>Obtaining Your Data</td>\n",
       "    </tr>\n",
       "    <tr>\n",
       "      <td>2</td>\n",
       "      <td>Tuesday, Dec 10th</td>\n",
       "      <td>Introduction</td>\n",
       "    </tr>\n",
       "    <tr>\n",
       "      <td>3</td>\n",
       "      <td>Thursday, Dec 5th</td>\n",
       "      <td>AB Testing</td>\n",
       "    </tr>\n",
       "    <tr>\n",
       "      <td>4</td>\n",
       "      <td>Friday, Nov 22nd</td>\n",
       "      <td>Introduction</td>\n",
       "    </tr>\n",
       "    <tr>\n",
       "      <td>...</td>\n",
       "      <td>...</td>\n",
       "      <td>...</td>\n",
       "    </tr>\n",
       "    <tr>\n",
       "      <td>319</td>\n",
       "      <td>Thursday, Aug 22nd</td>\n",
       "      <td>Understanding Links in HTML</td>\n",
       "    </tr>\n",
       "    <tr>\n",
       "      <td>320</td>\n",
       "      <td>Thursday, Aug 22nd</td>\n",
       "      <td>Using Images in HTML</td>\n",
       "    </tr>\n",
       "    <tr>\n",
       "      <td>321</td>\n",
       "      <td>Thursday, Aug 22nd</td>\n",
       "      <td>Basics of HTML</td>\n",
       "    </tr>\n",
       "    <tr>\n",
       "      <td>322</td>\n",
       "      <td>Thursday, Aug 22nd</td>\n",
       "      <td>The Web is Made of HTML</td>\n",
       "    </tr>\n",
       "    <tr>\n",
       "      <td>323</td>\n",
       "      <td>Thursday, Aug 22nd</td>\n",
       "      <td>Welcome to Bootcamp Prep</td>\n",
       "    </tr>\n",
       "  </tbody>\n",
       "</table>\n",
       "<p>308 rows × 2 columns</p>\n",
       "</div>"
      ],
      "text/plain": [
       "                   dates                       lesson\n",
       "0     Thursday, Dec 12th          Exploring Your Data\n",
       "1    Wednesday, Dec 11th          Obtaining Your Data\n",
       "2      Tuesday, Dec 10th                 Introduction\n",
       "3      Thursday, Dec 5th                   AB Testing\n",
       "4       Friday, Nov 22nd                 Introduction\n",
       "..                   ...                          ...\n",
       "319   Thursday, Aug 22nd  Understanding Links in HTML\n",
       "320   Thursday, Aug 22nd         Using Images in HTML\n",
       "321   Thursday, Aug 22nd               Basics of HTML\n",
       "322   Thursday, Aug 22nd      The Web is Made of HTML\n",
       "323   Thursday, Aug 22nd     Welcome to Bootcamp Prep\n",
       "\n",
       "[308 rows x 2 columns]"
      ]
     },
     "execution_count": 251,
     "metadata": {},
     "output_type": "execute_result"
    }
   ],
   "source": [
    "def get_progress_df(df_students,row=14):\n",
    "    \"\"\"Returns the dataframe with the specified students progress csv.\n",
    "    Adds a new attribute to df called .student with the students name (for tracking purposes)\"\"\"\n",
    "    csv_file = df_students['progress_csv'][row]\n",
    "    df = pd.read_csv(csv_file,index_col=0)\n",
    "    # df[df.duplicated(keep=False)]\n",
    "    df.drop_duplicates(inplace=True)\n",
    "    \n",
    "    name = df_students['student_name'][row]\n",
    "    df.student=name\n",
    "    return df\n",
    "\n",
    "df = get_progress_df(df_students,row=12)\n",
    "df"
   ]
  },
  {
   "cell_type": "code",
   "execution_count": 252,
   "metadata": {
    "ExecuteTime": {
     "end_time": "2019-12-27T01:58:33.367086Z",
     "start_time": "2019-12-27T01:58:33.363770Z"
    }
   },
   "outputs": [
    {
     "data": {
      "text/plain": [
       "'Ru Kein'"
      ]
     },
     "execution_count": 252,
     "metadata": {},
     "output_type": "execute_result"
    }
   ],
   "source": [
    "df.student"
   ]
  },
  {
   "cell_type": "code",
   "execution_count": 253,
   "metadata": {
    "ExecuteTime": {
     "end_time": "2019-12-27T01:58:34.804734Z",
     "start_time": "2019-12-27T01:58:34.801141Z"
    }
   },
   "outputs": [
    {
     "data": {
      "text/plain": [
       "'Thursday, Dec 12th'"
      ]
     },
     "execution_count": 253,
     "metadata": {},
     "output_type": "execute_result"
    }
   ],
   "source": [
    "test_date = df['dates'][0]\n",
    "test_date"
   ]
  },
  {
   "cell_type": "code",
   "execution_count": 254,
   "metadata": {
    "ExecuteTime": {
     "end_time": "2019-12-27T01:58:35.236441Z",
     "start_time": "2019-12-27T01:58:35.231528Z"
    }
   },
   "outputs": [
    {
     "data": {
      "text/plain": [
       "[('Dec', '23', '')]"
      ]
     },
     "execution_count": 254,
     "metadata": {},
     "output_type": "execute_result"
    }
   ],
   "source": [
    "import re\n",
    "import datetime as dt\n",
    "\n",
    "test_date = 'Monday, Dec 23rd, 2019'\n",
    "# exp = r\"\\w*, (\\w*) (\\d+)\"\n",
    "exp=r\"\\w*, (\\w*) (\\d+)(\\d*)\"\n",
    "matches = re.findall(exp,test_date)\n",
    "matches"
   ]
  },
  {
   "cell_type": "code",
   "execution_count": 131,
   "metadata": {
    "ExecuteTime": {
     "end_time": "2019-12-27T01:26:43.575706Z",
     "start_time": "2019-12-27T01:26:43.417566Z"
    }
   },
   "outputs": [
    {
     "data": {
      "text/html": [
       "<div>\n",
       "<style scoped>\n",
       "    .dataframe tbody tr th:only-of-type {\n",
       "        vertical-align: middle;\n",
       "    }\n",
       "\n",
       "    .dataframe tbody tr th {\n",
       "        vertical-align: top;\n",
       "    }\n",
       "\n",
       "    .dataframe thead th {\n",
       "        text-align: right;\n",
       "    }\n",
       "</style>\n",
       "<table border=\"1\" class=\"dataframe\">\n",
       "  <thead>\n",
       "    <tr style=\"text-align: right;\">\n",
       "      <th></th>\n",
       "      <th>dates</th>\n",
       "      <th>lesson</th>\n",
       "      <th>datetime</th>\n",
       "    </tr>\n",
       "  </thead>\n",
       "  <tbody>\n",
       "    <tr>\n",
       "      <td>0</td>\n",
       "      <td>Tuesday, Dec 24th</td>\n",
       "      <td>Regression Analysis using Linear Algebra and N...</td>\n",
       "      <td>2019-12-24</td>\n",
       "    </tr>\n",
       "    <tr>\n",
       "      <td>1</td>\n",
       "      <td>Tuesday, Dec 24th</td>\n",
       "      <td>Solving Systems of Linear Equations with NumPy...</td>\n",
       "      <td>2019-12-24</td>\n",
       "    </tr>\n",
       "    <tr>\n",
       "      <td>2</td>\n",
       "      <td>Tuesday, Dec 24th</td>\n",
       "      <td>Solving Systems of Linear Equations with NumPy...</td>\n",
       "      <td>2019-12-24</td>\n",
       "    </tr>\n",
       "    <tr>\n",
       "      <td>3</td>\n",
       "      <td>Monday, Dec 23rd</td>\n",
       "      <td>Pure Python vs. Numpy - Lab</td>\n",
       "      <td>2019-12-23</td>\n",
       "    </tr>\n",
       "    <tr>\n",
       "      <td>4</td>\n",
       "      <td>Monday, Dec 23rd</td>\n",
       "      <td>Properties of Dot Product - Lab</td>\n",
       "      <td>2019-12-23</td>\n",
       "    </tr>\n",
       "    <tr>\n",
       "      <td>...</td>\n",
       "      <td>...</td>\n",
       "      <td>...</td>\n",
       "      <td>...</td>\n",
       "    </tr>\n",
       "    <tr>\n",
       "      <td>450</td>\n",
       "      <td>Thursday, Sep 5th</td>\n",
       "      <td>Python Intro To Strings</td>\n",
       "      <td>2019-09-05</td>\n",
       "    </tr>\n",
       "    <tr>\n",
       "      <td>451</td>\n",
       "      <td>Thursday, Sep 5th</td>\n",
       "      <td>Instant Data Science</td>\n",
       "      <td>2019-09-05</td>\n",
       "    </tr>\n",
       "    <tr>\n",
       "      <td>452</td>\n",
       "      <td>Thursday, Sep 5th</td>\n",
       "      <td>The Web is Made of HTML</td>\n",
       "      <td>2019-09-05</td>\n",
       "    </tr>\n",
       "    <tr>\n",
       "      <td>453</td>\n",
       "      <td>Thursday, Sep 5th</td>\n",
       "      <td>Welcome to Bootcamp Prep</td>\n",
       "      <td>2019-09-05</td>\n",
       "    </tr>\n",
       "    <tr>\n",
       "      <td>454</td>\n",
       "      <td>Thursday, Sep 5th</td>\n",
       "      <td>Introduction To Data Science</td>\n",
       "      <td>2019-09-05</td>\n",
       "    </tr>\n",
       "  </tbody>\n",
       "</table>\n",
       "<p>451 rows × 3 columns</p>\n",
       "</div>"
      ],
      "text/plain": [
       "                 dates                                             lesson  \\\n",
       "0    Tuesday, Dec 24th  Regression Analysis using Linear Algebra and N...   \n",
       "1    Tuesday, Dec 24th  Solving Systems of Linear Equations with NumPy...   \n",
       "2    Tuesday, Dec 24th  Solving Systems of Linear Equations with NumPy...   \n",
       "3     Monday, Dec 23rd                        Pure Python vs. Numpy - Lab   \n",
       "4     Monday, Dec 23rd                    Properties of Dot Product - Lab   \n",
       "..                 ...                                                ...   \n",
       "450  Thursday, Sep 5th                            Python Intro To Strings   \n",
       "451  Thursday, Sep 5th                               Instant Data Science   \n",
       "452  Thursday, Sep 5th                            The Web is Made of HTML   \n",
       "453  Thursday, Sep 5th                           Welcome to Bootcamp Prep   \n",
       "454  Thursday, Sep 5th                       Introduction To Data Science   \n",
       "\n",
       "      datetime  \n",
       "0   2019-12-24  \n",
       "1   2019-12-24  \n",
       "2   2019-12-24  \n",
       "3   2019-12-23  \n",
       "4   2019-12-23  \n",
       "..         ...  \n",
       "450 2019-09-05  \n",
       "451 2019-09-05  \n",
       "452 2019-09-05  \n",
       "453 2019-09-05  \n",
       "454 2019-09-05  \n",
       "\n",
       "[451 rows x 3 columns]"
      ]
     },
     "execution_count": 131,
     "metadata": {},
     "output_type": "execute_result"
    }
   ],
   "source": [
    "def match_year(x):\n",
    "    \"\"\"Used as an apply to the raw dates column scraped from learn with 'th','rd' etc as part of dates\n",
    "    and also missing the year (but only for current year).\n",
    "    \n",
    "    Args:\n",
    "        date_str (str): date as a string from learn progress column\n",
    "        \n",
    "    Returns:\n",
    "        date (datetime): proper datetime object with year filled in\"\"\"\n",
    "    import re\n",
    "    import datetime as dt\n",
    "\n",
    "    exp=r\"\\w*, (\\w*) (\\d+)(\\d*)\"\n",
    "    matches = re.findall(exp,x)\n",
    "    date_pieces = list(matches[0])\n",
    "    \n",
    "    if len(date_pieces[-1])==0:\n",
    "        date_pieces[-1] = dt.datetime.now().year\n",
    "\n",
    "    new_date = f\"{date_pieces[0]}, {date_pieces[1]} {date_pieces[2]}\"\n",
    "    return pd.to_datetime(new_date)\n",
    "    \n",
    "\n",
    "df['datetime'] = df['dates'].apply(match_year)\n",
    "df"
   ]
  },
  {
   "cell_type": "markdown",
   "metadata": {},
   "source": [
    "# PLOTTING DIFFERENT TIME FREQUENCIES"
   ]
  },
  {
   "cell_type": "code",
   "execution_count": 137,
   "metadata": {
    "ExecuteTime": {
     "end_time": "2019-12-27T01:27:19.015083Z",
     "start_time": "2019-12-27T01:27:19.012702Z"
    }
   },
   "outputs": [],
   "source": [
    "import matplotlib.dates as mdates"
   ]
  },
  {
   "cell_type": "code",
   "execution_count": 207,
   "metadata": {
    "ExecuteTime": {
     "end_time": "2019-12-27T01:43:03.611126Z",
     "start_time": "2019-12-27T01:43:03.603722Z"
    }
   },
   "outputs": [],
   "source": [
    "def plot_daily_progress(df,figsize=(12,6)):\n",
    "    \"\"\"Resamples progress df as days then plots and returns lessons per day.\"\"\"\\\n",
    "    try:\n",
    "    daily = df.set_index('datetime').resample('D')['lesson'].count()\n",
    "    ax = daily.plot()\n",
    "    fig=ax.get_figure()\n",
    "    fig.set_size_inches(figsize)\n",
    "    \n",
    "    fonts_labels= dict(size=14,family='serif')\n",
    "    \n",
    "    ax.set_title('DAILY PROGRESS',fontdict=dict(size=20,family='serif'))\n",
    "    ax.set_ylabel('# of Lessons/Day',fontdict=fonts_labels)\n",
    "    ax.set_xlabel('')\n",
    "\n",
    "    weeks = mdates.DayLocator(interval=7)\n",
    "    months = mdates.MonthLocator()\n",
    "\n",
    "    ## Format Minor ticks for weeks\n",
    "    ax.xaxis.set_minor_locator(weeks)\n",
    "    ax.xaxis.set_minor_formatter(mdates.DateFormatter('%d'))\n",
    "    ax.xaxis.grid(which='minor',ls=':')\n",
    "#     ax.xaxis.set_tick_params(which)\n",
    "\n",
    "    ## Format Major Ticks for Months\n",
    "    ax.xaxis.set_major_locator(months)\n",
    "    ax.xaxis.set_major_formatter(mdates.DateFormatter('%B'))\n",
    "    ax.xaxis.grid(which='major',lw=1,zorder=0,color='black')\n",
    "    \n",
    "\n",
    "    ax.xaxis.set_tick_params(which='major',\n",
    "                             labelrotation=90,\n",
    "                             pad=5,labelsize=12,\n",
    "                             length=20,direction='out')#,fontfamily='serif')\n",
    "    return fig,ax"
   ]
  },
  {
   "cell_type": "code",
   "execution_count": 208,
   "metadata": {
    "ExecuteTime": {
     "end_time": "2019-12-27T01:43:04.359248Z",
     "start_time": "2019-12-27T01:43:04.103613Z"
    }
   },
   "outputs": [
    {
     "data": {
      "text/plain": [
       "(<Figure size 864x432 with 1 Axes>,\n",
       " <matplotlib.axes._subplots.AxesSubplot at 0x1a2a26a6d8>)"
      ]
     },
     "execution_count": 208,
     "metadata": {},
     "output_type": "execute_result"
    },
    {
     "data": {
      "image/png": "[encoded data removed]",
      "text/plain": [
       "<Figure size 864x432 with 1 Axes>"
      ]
     },
     "metadata": {
      "needs_background": "light"
     },
     "output_type": "display_data"
    }
   ],
   "source": [
    "plot_daily_progress(df)"
   ]
  },
  {
   "cell_type": "code",
   "execution_count": 255,
   "metadata": {
    "ExecuteTime": {
     "end_time": "2019-12-27T03:27:47.486689Z",
     "start_time": "2019-12-27T03:27:47.483552Z"
    }
   },
   "outputs": [],
   "source": [
    "# weekly = df.set_index('datetime').resample('W')['lesson'].count()\n",
    "# ax=weekly.plot(style='.b')\n",
    "\n",
    "# # days = mdates.DayLocator(interval=)\n",
    "# days = mdates.AutoDateLocator()\n",
    "# days.intervald['DAILY'] =[7]\n",
    "\n",
    "# months = mdates.MonthLocator()\n",
    "\n",
    "# ## Format Minor ticks for weeks\n",
    "# ax.xaxis.set_minor_locator(days)\n",
    "# ax.xaxis.set_minor_formatter(mdates.DateFormatter('%d'))\n",
    "# ax.xaxis.grid(which='minor',ls=':')\n",
    "\n",
    "# # ax.xaxis.set_major_formatter(mdates.DateFormatter('%B'))\n",
    "# # ax.xaxis.set_major_locator(months)\n",
    "# # ax.xaxis.set_major_formatter(mdates.DateFormatter('%B'))\n",
    "# # ax.xaxis.grid(which='major',lw=1,zorder=0,color='black')"
   ]
  },
  {
   "cell_type": "code",
   "execution_count": 256,
   "metadata": {
    "ExecuteTime": {
     "end_time": "2019-12-27T03:27:51.875102Z",
     "start_time": "2019-12-27T03:27:51.872779Z"
    }
   },
   "outputs": [],
   "source": [
    "# plot_weekly_progress(df)"
   ]
  },
  {
   "cell_type": "code",
   "execution_count": 233,
   "metadata": {
    "ExecuteTime": {
     "end_time": "2019-12-27T01:51:40.573605Z",
     "start_time": "2019-12-27T01:51:40.570826Z"
    }
   },
   "outputs": [],
   "source": [
    "# def plot_weekly_progress(df,figsize=(12,6)):\n",
    "#     \"\"\"Resamples progress df as days then plots and returns lessons per day.\"\"\"\n",
    "    \n",
    "    \n",
    "#     weekly = df.set_index('datetime').resample('W')['lesson'].count()\n",
    "#     ax = weekly.plot()\n",
    "    \n",
    "#     fig=ax.get_figure()\n",
    "#     fig.set_size_inches(figsize)\n",
    "    \n",
    "#     fonts_labels= dict(size=14,family='serif')\n",
    "    \n",
    "#     ax.set_title('DAILY PROGRESS',fontdict=dict(size=20,family='serif'))\n",
    "#     ax.set_ylabel('# of Lessons/Day',fontdict=fonts_labels)\n",
    "#     ax.set_xlabel('')\n",
    "\n",
    "#     days = mdates.DayLocator(interval=7)\n",
    "#     months = mdates.MonthLocator()\n",
    "\n",
    "#     ## Format Minor ticks for weeks\n",
    "#     ax.xaxis.set_minor_locator(days)\n",
    "#     ax.xaxis.set_minor_formatter(mdates.DateFormatter('%d'))\n",
    "#     ax.xaxis.grid(which='minor',ls=':')\n",
    "# #     ax.xaxis.set_tick_params(which)\n",
    "\n",
    "#     ## Format Major Ticks for Months\n",
    "#     ax.xaxis.set_major_locator(months)\n",
    "#     ax.xaxis.set_major_formatter(mdates.DateFormatter('%B'))\n",
    "#     ax.xaxis.grid(which='major',lw=1,zorder=0,color='black')\n",
    "    \n",
    "\n",
    "#     ax.xaxis.set_tick_params(which='major',\n",
    "#                              labelrotation=90,\n",
    "#                              pad=5,labelsize=12,\n",
    "#                              length=20,direction='out')#,fontfamily='serif')\n",
    "#     return fig,ax"
   ]
  },
  {
   "cell_type": "markdown",
   "metadata": {},
   "source": [
    "# ADDING MOD / SECTION INFO FOR CURRICULUM v2 \n"
   ]
  },
  {
   "cell_type": "markdown",
   "metadata": {},
   "source": [
    "- Write a function to separate concatenate columns as rows and extract separate Mod / Section /Lesson Name columns "
   ]
  },
  {
   "cell_type": "code",
   "execution_count": 257,
   "metadata": {
    "ExecuteTime": {
     "end_time": "2019-12-27T03:29:31.859400Z",
     "start_time": "2019-12-27T03:29:31.844577Z"
    }
   },
   "outputs": [
    {
     "data": {
      "text/html": [
       "<div>\n",
       "<style scoped>\n",
       "    .dataframe tbody tr th:only-of-type {\n",
       "        vertical-align: middle;\n",
       "    }\n",
       "\n",
       "    .dataframe tbody tr th {\n",
       "        vertical-align: top;\n",
       "    }\n",
       "\n",
       "    .dataframe thead th {\n",
       "        text-align: right;\n",
       "    }\n",
       "</style>\n",
       "<table border=\"1\" class=\"dataframe\">\n",
       "  <thead>\n",
       "    <tr style=\"text-align: right;\">\n",
       "      <th></th>\n",
       "      <th>MODULE 1</th>\n",
       "      <th>MODULE 2</th>\n",
       "      <th>MODULE 3</th>\n",
       "      <th>MODULE 4</th>\n",
       "      <th>MODULE 5</th>\n",
       "      <th>MODULE 6</th>\n",
       "    </tr>\n",
       "  </thead>\n",
       "  <tbody>\n",
       "    <tr>\n",
       "      <td>0</td>\n",
       "      <td>Mod 1, Section 01 - Getting Started with Data ...</td>\n",
       "      <td>Mod 2, Section 09 - SQL and Relational Databases</td>\n",
       "      <td>Mod 3, Section 17 - Combinatorics and Probability</td>\n",
       "      <td>Mod 4, Section 25 - A Complete Data Science Pr...</td>\n",
       "      <td>Mod 5, Section 33 - K Nearest Neighbors</td>\n",
       "      <td>Mod 6, Section 42 - Graph Theory</td>\n",
       "    </tr>\n",
       "    <tr>\n",
       "      <td>1</td>\n",
       "      <td>Mod 1, Section 02 - Git, Github and Being Part...</td>\n",
       "      <td>Mod 2, Section 10 - Object Oriented Programming</td>\n",
       "      <td>Mod 3, Section 18 - Statistical Distributions</td>\n",
       "      <td>Mod 4, Section 26 - Linear Algebra</td>\n",
       "      <td>Mod 5, Section 34 - Decision Trees</td>\n",
       "      <td>Mod 6, Section 43 - Foundations of Natural Lan...</td>\n",
       "    </tr>\n",
       "    <tr>\n",
       "      <td>2</td>\n",
       "      <td>Mod 1, Section 03 - Importing and Statistical ...</td>\n",
       "      <td>Mod 2, Section 11 - JSON and XML</td>\n",
       "      <td>Mod 3, Section 19 - Central Limit Theorem and ...</td>\n",
       "      <td>Mod 4, Section 27 - Calculus, Cost Function, a...</td>\n",
       "      <td>Mod 5, Section 35 - Ensemble Methods</td>\n",
       "      <td>Mod 6, Section 44 - Introduction to Deep Learning</td>\n",
       "    </tr>\n",
       "    <tr>\n",
       "      <td>3</td>\n",
       "      <td>Mod 1, Section 04 - Python Libraries: Numpy an...</td>\n",
       "      <td>Mod 2, Section 12 - Accessing Data through APIs</td>\n",
       "      <td>Mod 3, Section 20 - Hypothesis Testing</td>\n",
       "      <td>Mod 4, Section 28 - Extensions to Linear Models</td>\n",
       "      <td>Mod 5, Section 36 - Support Vector Machines</td>\n",
       "      <td>Mod 6, Section 45 - Multi-Layer Perceptrons</td>\n",
       "    </tr>\n",
       "    <tr>\n",
       "      <td>4</td>\n",
       "      <td>Mod 1, Section 05 - Data Cleaning in Pandas</td>\n",
       "      <td>Mod 2, Section 13 - HTML, CSS and Web Scraping</td>\n",
       "      <td>Mod 3, Section 21 - Statistical Power and Anova</td>\n",
       "      <td>Mod 4, Section 29 - Introduction to Logistic R...</td>\n",
       "      <td>Mod 5, Section 37 - Principal Component Analysis</td>\n",
       "      <td>Mod 6, Section 46 - Tuning Neural Networks</td>\n",
       "    </tr>\n",
       "    <tr>\n",
       "      <td>5</td>\n",
       "      <td>Mod 1, Section 06 - Data Visualization</td>\n",
       "      <td>Mod 2, Section 14 - More SQL</td>\n",
       "      <td>Mod 3, Section 22 - AB Testing</td>\n",
       "      <td>Mod 4, Section 30 - In-depth Logistic Regression</td>\n",
       "      <td>Mod 5, Section 38 - Clustering</td>\n",
       "      <td>Mod 6, Section 47 - Introduction to Convolutio...</td>\n",
       "    </tr>\n",
       "    <tr>\n",
       "      <td>6</td>\n",
       "      <td>Mod 1, Section 07 - Introduction to Linear Reg...</td>\n",
       "      <td>Mod 2, Section 15 - Other Database structures</td>\n",
       "      <td>Mod 3, Section 23 - Bayesian Statistics</td>\n",
       "      <td>Mod 4, Section 31 - Working with Time Series Data</td>\n",
       "      <td>Mod 5, Section 39 - Building a Machine Learnin...</td>\n",
       "      <td>Mod 6, Section 48 - Transfer Learning</td>\n",
       "    </tr>\n",
       "    <tr>\n",
       "      <td>7</td>\n",
       "      <td>Mod 1, Section 08 - Multiple Regression and Mo...</td>\n",
       "      <td>Mod 2, Section 16 - Scraping and Storing your ...</td>\n",
       "      <td>Mod 3, Section 24 - Resampling and Monte Carlo...</td>\n",
       "      <td>Mod 4, Section 32 - Time Series Modeling</td>\n",
       "      <td>Mod 5, Section 40 - Big Data in PySpark</td>\n",
       "      <td>Mod 6, Section 49 - Deep NLP - Word Embeddings</td>\n",
       "    </tr>\n",
       "    <tr>\n",
       "      <td>8</td>\n",
       "      <td>Mod 1 - Office Hours</td>\n",
       "      <td>NaN</td>\n",
       "      <td>Mod 3 - Office Hours</td>\n",
       "      <td>Mod 4 - Office Hours</td>\n",
       "      <td>Mod 5, Section 41 - Recommendation Systems</td>\n",
       "      <td>Mod 6, Section 50 - Operationalizing code and AWS</td>\n",
       "    </tr>\n",
       "    <tr>\n",
       "      <td>9</td>\n",
       "      <td>NaN</td>\n",
       "      <td>NaN</td>\n",
       "      <td>NaN</td>\n",
       "      <td>NaN</td>\n",
       "      <td>Mod 5 - Office Hours</td>\n",
       "      <td>NaN</td>\n",
       "    </tr>\n",
       "  </tbody>\n",
       "</table>\n",
       "</div>"
      ],
      "text/plain": [
       "                                            MODULE 1  \\\n",
       "0  Mod 1, Section 01 - Getting Started with Data ...   \n",
       "1  Mod 1, Section 02 - Git, Github and Being Part...   \n",
       "2  Mod 1, Section 03 - Importing and Statistical ...   \n",
       "3  Mod 1, Section 04 - Python Libraries: Numpy an...   \n",
       "4        Mod 1, Section 05 - Data Cleaning in Pandas   \n",
       "5             Mod 1, Section 06 - Data Visualization   \n",
       "6  Mod 1, Section 07 - Introduction to Linear Reg...   \n",
       "7  Mod 1, Section 08 - Multiple Regression and Mo...   \n",
       "8                               Mod 1 - Office Hours   \n",
       "9                                                NaN   \n",
       "\n",
       "                                            MODULE 2  \\\n",
       "0   Mod 2, Section 09 - SQL and Relational Databases   \n",
       "1    Mod 2, Section 10 - Object Oriented Programming   \n",
       "2                   Mod 2, Section 11 - JSON and XML   \n",
       "3    Mod 2, Section 12 - Accessing Data through APIs   \n",
       "4     Mod 2, Section 13 - HTML, CSS and Web Scraping   \n",
       "5                       Mod 2, Section 14 - More SQL   \n",
       "6      Mod 2, Section 15 - Other Database structures   \n",
       "7  Mod 2, Section 16 - Scraping and Storing your ...   \n",
       "8                                                NaN   \n",
       "9                                                NaN   \n",
       "\n",
       "                                            MODULE 3  \\\n",
       "0  Mod 3, Section 17 - Combinatorics and Probability   \n",
       "1      Mod 3, Section 18 - Statistical Distributions   \n",
       "2  Mod 3, Section 19 - Central Limit Theorem and ...   \n",
       "3             Mod 3, Section 20 - Hypothesis Testing   \n",
       "4    Mod 3, Section 21 - Statistical Power and Anova   \n",
       "5                     Mod 3, Section 22 - AB Testing   \n",
       "6            Mod 3, Section 23 - Bayesian Statistics   \n",
       "7  Mod 3, Section 24 - Resampling and Monte Carlo...   \n",
       "8                               Mod 3 - Office Hours   \n",
       "9                                                NaN   \n",
       "\n",
       "                                            MODULE 4  \\\n",
       "0  Mod 4, Section 25 - A Complete Data Science Pr...   \n",
       "1                 Mod 4, Section 26 - Linear Algebra   \n",
       "2  Mod 4, Section 27 - Calculus, Cost Function, a...   \n",
       "3    Mod 4, Section 28 - Extensions to Linear Models   \n",
       "4  Mod 4, Section 29 - Introduction to Logistic R...   \n",
       "5   Mod 4, Section 30 - In-depth Logistic Regression   \n",
       "6  Mod 4, Section 31 - Working with Time Series Data   \n",
       "7           Mod 4, Section 32 - Time Series Modeling   \n",
       "8                               Mod 4 - Office Hours   \n",
       "9                                                NaN   \n",
       "\n",
       "                                            MODULE 5  \\\n",
       "0            Mod 5, Section 33 - K Nearest Neighbors   \n",
       "1                 Mod 5, Section 34 - Decision Trees   \n",
       "2               Mod 5, Section 35 - Ensemble Methods   \n",
       "3        Mod 5, Section 36 - Support Vector Machines   \n",
       "4   Mod 5, Section 37 - Principal Component Analysis   \n",
       "5                     Mod 5, Section 38 - Clustering   \n",
       "6  Mod 5, Section 39 - Building a Machine Learnin...   \n",
       "7            Mod 5, Section 40 - Big Data in PySpark   \n",
       "8         Mod 5, Section 41 - Recommendation Systems   \n",
       "9                               Mod 5 - Office Hours   \n",
       "\n",
       "                                            MODULE 6  \n",
       "0                   Mod 6, Section 42 - Graph Theory  \n",
       "1  Mod 6, Section 43 - Foundations of Natural Lan...  \n",
       "2  Mod 6, Section 44 - Introduction to Deep Learning  \n",
       "3        Mod 6, Section 45 - Multi-Layer Perceptrons  \n",
       "4         Mod 6, Section 46 - Tuning Neural Networks  \n",
       "5  Mod 6, Section 47 - Introduction to Convolutio...  \n",
       "6              Mod 6, Section 48 - Transfer Learning  \n",
       "7     Mod 6, Section 49 - Deep NLP - Word Embeddings  \n",
       "8  Mod 6, Section 50 - Operationalizing code and AWS  \n",
       "9                                                NaN  "
      ]
     },
     "execution_count": 257,
     "metadata": {},
     "output_type": "execute_result"
    }
   ],
   "source": [
    "curric = pd.read_csv('curriculum_v2.csv')\n",
    "curric"
   ]
  },
  {
   "cell_type": "code",
   "execution_count": 381,
   "metadata": {
    "ExecuteTime": {
     "end_time": "2019-12-27T04:01:42.154850Z",
     "start_time": "2019-12-27T04:01:42.141293Z"
    }
   },
   "outputs": [
    {
     "data": {
      "text/html": [
       "<div>\n",
       "<style scoped>\n",
       "    .dataframe tbody tr th:only-of-type {\n",
       "        vertical-align: middle;\n",
       "    }\n",
       "\n",
       "    .dataframe tbody tr th {\n",
       "        vertical-align: top;\n",
       "    }\n",
       "\n",
       "    .dataframe thead th {\n",
       "        text-align: right;\n",
       "    }\n",
       "</style>\n",
       "<table border=\"1\" class=\"dataframe\">\n",
       "  <thead>\n",
       "    <tr style=\"text-align: right;\">\n",
       "      <th></th>\n",
       "      <th>source</th>\n",
       "    </tr>\n",
       "  </thead>\n",
       "  <tbody>\n",
       "    <tr>\n",
       "      <td>0</td>\n",
       "      <td>Mod 1, Section 01 - Getting Started with Data ...</td>\n",
       "    </tr>\n",
       "    <tr>\n",
       "      <td>1</td>\n",
       "      <td>Mod 1, Section 02 - Git, Github and Being Part...</td>\n",
       "    </tr>\n",
       "    <tr>\n",
       "      <td>2</td>\n",
       "      <td>Mod 1, Section 03 - Importing and Statistical ...</td>\n",
       "    </tr>\n",
       "    <tr>\n",
       "      <td>3</td>\n",
       "      <td>Mod 1, Section 04 - Python Libraries: Numpy an...</td>\n",
       "    </tr>\n",
       "    <tr>\n",
       "      <td>4</td>\n",
       "      <td>Mod 1, Section 05 - Data Cleaning in Pandas</td>\n",
       "    </tr>\n",
       "    <tr>\n",
       "      <td>5</td>\n",
       "      <td>Mod 1, Section 06 - Data Visualization</td>\n",
       "    </tr>\n",
       "    <tr>\n",
       "      <td>6</td>\n",
       "      <td>Mod 1, Section 07 - Introduction to Linear Reg...</td>\n",
       "    </tr>\n",
       "    <tr>\n",
       "      <td>7</td>\n",
       "      <td>Mod 1, Section 08 - Multiple Regression and Mo...</td>\n",
       "    </tr>\n",
       "    <tr>\n",
       "      <td>8</td>\n",
       "      <td>Mod 1 - Office Hours</td>\n",
       "    </tr>\n",
       "    <tr>\n",
       "      <td>9</td>\n",
       "      <td>Mod 2, Section 09 - SQL and Relational Databases</td>\n",
       "    </tr>\n",
       "    <tr>\n",
       "      <td>10</td>\n",
       "      <td>Mod 2, Section 10 - Object Oriented Programming</td>\n",
       "    </tr>\n",
       "    <tr>\n",
       "      <td>11</td>\n",
       "      <td>Mod 2, Section 11 - JSON and XML</td>\n",
       "    </tr>\n",
       "    <tr>\n",
       "      <td>12</td>\n",
       "      <td>Mod 2, Section 12 - Accessing Data through APIs</td>\n",
       "    </tr>\n",
       "    <tr>\n",
       "      <td>13</td>\n",
       "      <td>Mod 2, Section 13 - HTML, CSS and Web Scraping</td>\n",
       "    </tr>\n",
       "    <tr>\n",
       "      <td>14</td>\n",
       "      <td>Mod 2, Section 14 - More SQL</td>\n",
       "    </tr>\n",
       "    <tr>\n",
       "      <td>15</td>\n",
       "      <td>Mod 2, Section 15 - Other Database structures</td>\n",
       "    </tr>\n",
       "    <tr>\n",
       "      <td>16</td>\n",
       "      <td>Mod 2, Section 16 - Scraping and Storing your ...</td>\n",
       "    </tr>\n",
       "    <tr>\n",
       "      <td>17</td>\n",
       "      <td>Mod 3, Section 17 - Combinatorics and Probability</td>\n",
       "    </tr>\n",
       "    <tr>\n",
       "      <td>18</td>\n",
       "      <td>Mod 3, Section 18 - Statistical Distributions</td>\n",
       "    </tr>\n",
       "    <tr>\n",
       "      <td>19</td>\n",
       "      <td>Mod 3, Section 19 - Central Limit Theorem and ...</td>\n",
       "    </tr>\n",
       "    <tr>\n",
       "      <td>20</td>\n",
       "      <td>Mod 3, Section 20 - Hypothesis Testing</td>\n",
       "    </tr>\n",
       "    <tr>\n",
       "      <td>21</td>\n",
       "      <td>Mod 3, Section 21 - Statistical Power and Anova</td>\n",
       "    </tr>\n",
       "    <tr>\n",
       "      <td>22</td>\n",
       "      <td>Mod 3, Section 22 - AB Testing</td>\n",
       "    </tr>\n",
       "    <tr>\n",
       "      <td>23</td>\n",
       "      <td>Mod 3, Section 23 - Bayesian Statistics</td>\n",
       "    </tr>\n",
       "    <tr>\n",
       "      <td>24</td>\n",
       "      <td>Mod 3, Section 24 - Resampling and Monte Carlo...</td>\n",
       "    </tr>\n",
       "    <tr>\n",
       "      <td>25</td>\n",
       "      <td>Mod 3 - Office Hours</td>\n",
       "    </tr>\n",
       "    <tr>\n",
       "      <td>26</td>\n",
       "      <td>Mod 4, Section 25 - A Complete Data Science Pr...</td>\n",
       "    </tr>\n",
       "    <tr>\n",
       "      <td>27</td>\n",
       "      <td>Mod 4, Section 26 - Linear Algebra</td>\n",
       "    </tr>\n",
       "    <tr>\n",
       "      <td>28</td>\n",
       "      <td>Mod 4, Section 27 - Calculus, Cost Function, a...</td>\n",
       "    </tr>\n",
       "    <tr>\n",
       "      <td>29</td>\n",
       "      <td>Mod 4, Section 28 - Extensions to Linear Models</td>\n",
       "    </tr>\n",
       "    <tr>\n",
       "      <td>30</td>\n",
       "      <td>Mod 4, Section 29 - Introduction to Logistic R...</td>\n",
       "    </tr>\n",
       "    <tr>\n",
       "      <td>31</td>\n",
       "      <td>Mod 4, Section 30 - In-depth Logistic Regression</td>\n",
       "    </tr>\n",
       "    <tr>\n",
       "      <td>32</td>\n",
       "      <td>Mod 4, Section 31 - Working with Time Series Data</td>\n",
       "    </tr>\n",
       "    <tr>\n",
       "      <td>33</td>\n",
       "      <td>Mod 4, Section 32 - Time Series Modeling</td>\n",
       "    </tr>\n",
       "    <tr>\n",
       "      <td>34</td>\n",
       "      <td>Mod 4 - Office Hours</td>\n",
       "    </tr>\n",
       "    <tr>\n",
       "      <td>35</td>\n",
       "      <td>Mod 5, Section 33 - K Nearest Neighbors</td>\n",
       "    </tr>\n",
       "    <tr>\n",
       "      <td>36</td>\n",
       "      <td>Mod 5, Section 34 - Decision Trees</td>\n",
       "    </tr>\n",
       "    <tr>\n",
       "      <td>37</td>\n",
       "      <td>Mod 5, Section 35 - Ensemble Methods</td>\n",
       "    </tr>\n",
       "    <tr>\n",
       "      <td>38</td>\n",
       "      <td>Mod 5, Section 36 - Support Vector Machines</td>\n",
       "    </tr>\n",
       "    <tr>\n",
       "      <td>39</td>\n",
       "      <td>Mod 5, Section 37 - Principal Component Analysis</td>\n",
       "    </tr>\n",
       "    <tr>\n",
       "      <td>40</td>\n",
       "      <td>Mod 5, Section 38 - Clustering</td>\n",
       "    </tr>\n",
       "    <tr>\n",
       "      <td>41</td>\n",
       "      <td>Mod 5, Section 39 - Building a Machine Learnin...</td>\n",
       "    </tr>\n",
       "    <tr>\n",
       "      <td>42</td>\n",
       "      <td>Mod 5, Section 40 - Big Data in PySpark</td>\n",
       "    </tr>\n",
       "    <tr>\n",
       "      <td>43</td>\n",
       "      <td>Mod 5, Section 41 - Recommendation Systems</td>\n",
       "    </tr>\n",
       "    <tr>\n",
       "      <td>44</td>\n",
       "      <td>Mod 5 - Office Hours</td>\n",
       "    </tr>\n",
       "    <tr>\n",
       "      <td>45</td>\n",
       "      <td>Mod 6, Section 42 - Graph Theory</td>\n",
       "    </tr>\n",
       "    <tr>\n",
       "      <td>46</td>\n",
       "      <td>Mod 6, Section 43 - Foundations of Natural Lan...</td>\n",
       "    </tr>\n",
       "    <tr>\n",
       "      <td>47</td>\n",
       "      <td>Mod 6, Section 44 - Introduction to Deep Learning</td>\n",
       "    </tr>\n",
       "    <tr>\n",
       "      <td>48</td>\n",
       "      <td>Mod 6, Section 45 - Multi-Layer Perceptrons</td>\n",
       "    </tr>\n",
       "    <tr>\n",
       "      <td>49</td>\n",
       "      <td>Mod 6, Section 46 - Tuning Neural Networks</td>\n",
       "    </tr>\n",
       "    <tr>\n",
       "      <td>50</td>\n",
       "      <td>Mod 6, Section 47 - Introduction to Convolutio...</td>\n",
       "    </tr>\n",
       "    <tr>\n",
       "      <td>51</td>\n",
       "      <td>Mod 6, Section 48 - Transfer Learning</td>\n",
       "    </tr>\n",
       "    <tr>\n",
       "      <td>52</td>\n",
       "      <td>Mod 6, Section 49 - Deep NLP - Word Embeddings</td>\n",
       "    </tr>\n",
       "    <tr>\n",
       "      <td>53</td>\n",
       "      <td>Mod 6, Section 50 - Operationalizing code and AWS</td>\n",
       "    </tr>\n",
       "  </tbody>\n",
       "</table>\n",
       "</div>"
      ],
      "text/plain": [
       "                                               source\n",
       "0   Mod 1, Section 01 - Getting Started with Data ...\n",
       "1   Mod 1, Section 02 - Git, Github and Being Part...\n",
       "2   Mod 1, Section 03 - Importing and Statistical ...\n",
       "3   Mod 1, Section 04 - Python Libraries: Numpy an...\n",
       "4         Mod 1, Section 05 - Data Cleaning in Pandas\n",
       "5              Mod 1, Section 06 - Data Visualization\n",
       "6   Mod 1, Section 07 - Introduction to Linear Reg...\n",
       "7   Mod 1, Section 08 - Multiple Regression and Mo...\n",
       "8                                Mod 1 - Office Hours\n",
       "9    Mod 2, Section 09 - SQL and Relational Databases\n",
       "10    Mod 2, Section 10 - Object Oriented Programming\n",
       "11                   Mod 2, Section 11 - JSON and XML\n",
       "12    Mod 2, Section 12 - Accessing Data through APIs\n",
       "13     Mod 2, Section 13 - HTML, CSS and Web Scraping\n",
       "14                       Mod 2, Section 14 - More SQL\n",
       "15      Mod 2, Section 15 - Other Database structures\n",
       "16  Mod 2, Section 16 - Scraping and Storing your ...\n",
       "17  Mod 3, Section 17 - Combinatorics and Probability\n",
       "18      Mod 3, Section 18 - Statistical Distributions\n",
       "19  Mod 3, Section 19 - Central Limit Theorem and ...\n",
       "20             Mod 3, Section 20 - Hypothesis Testing\n",
       "21    Mod 3, Section 21 - Statistical Power and Anova\n",
       "22                     Mod 3, Section 22 - AB Testing\n",
       "23            Mod 3, Section 23 - Bayesian Statistics\n",
       "24  Mod 3, Section 24 - Resampling and Monte Carlo...\n",
       "25                               Mod 3 - Office Hours\n",
       "26  Mod 4, Section 25 - A Complete Data Science Pr...\n",
       "27                 Mod 4, Section 26 - Linear Algebra\n",
       "28  Mod 4, Section 27 - Calculus, Cost Function, a...\n",
       "29    Mod 4, Section 28 - Extensions to Linear Models\n",
       "30  Mod 4, Section 29 - Introduction to Logistic R...\n",
       "31   Mod 4, Section 30 - In-depth Logistic Regression\n",
       "32  Mod 4, Section 31 - Working with Time Series Data\n",
       "33           Mod 4, Section 32 - Time Series Modeling\n",
       "34                               Mod 4 - Office Hours\n",
       "35            Mod 5, Section 33 - K Nearest Neighbors\n",
       "36                 Mod 5, Section 34 - Decision Trees\n",
       "37               Mod 5, Section 35 - Ensemble Methods\n",
       "38        Mod 5, Section 36 - Support Vector Machines\n",
       "39   Mod 5, Section 37 - Principal Component Analysis\n",
       "40                     Mod 5, Section 38 - Clustering\n",
       "41  Mod 5, Section 39 - Building a Machine Learnin...\n",
       "42            Mod 5, Section 40 - Big Data in PySpark\n",
       "43         Mod 5, Section 41 - Recommendation Systems\n",
       "44                               Mod 5 - Office Hours\n",
       "45                   Mod 6, Section 42 - Graph Theory\n",
       "46  Mod 6, Section 43 - Foundations of Natural Lan...\n",
       "47  Mod 6, Section 44 - Introduction to Deep Learning\n",
       "48        Mod 6, Section 45 - Multi-Layer Perceptrons\n",
       "49         Mod 6, Section 46 - Tuning Neural Networks\n",
       "50  Mod 6, Section 47 - Introduction to Convolutio...\n",
       "51              Mod 6, Section 48 - Transfer Learning\n",
       "52     Mod 6, Section 49 - Deep NLP - Word Embeddings\n",
       "53  Mod 6, Section 50 - Operationalizing code and AWS"
      ]
     },
     "execution_count": 381,
     "metadata": {},
     "output_type": "execute_result"
    }
   ],
   "source": [
    "cols = curric.columns\n",
    "\n",
    "df_merged = pd.DataFrame()\n",
    "\n",
    "series_list = []\n",
    "for col in cols:\n",
    "    series_list.append(curric[col])\n",
    "    \n",
    "df_merged['source'] = pd.concat(series_list,axis=0)\n",
    "df_merged.dropna(inplace=True)\n",
    "df_merged = df_merged.reset_index(drop=True)\n",
    "df_merged.head()"
   ]
  },
  {
   "cell_type": "code",
   "execution_count": 398,
   "metadata": {
    "ExecuteTime": {
     "end_time": "2019-12-27T04:04:57.442683Z",
     "start_time": "2019-12-27T04:04:57.437680Z"
    }
   },
   "outputs": [],
   "source": [
    "import re\n",
    "def get_mod_section(row,source_col='source'):\n",
    "    try:\n",
    "        x = row[source_col]\n",
    "    except:\n",
    "        matches=[('','','')]\n",
    "\n",
    "        \n",
    "    if isinstance(x,str):\n",
    "        matches = re.findall(r\"(Mod \\d).*(Section \\d+).*- ([A-Za-z ]+)\",x)\n",
    "    if len(matches)==0:\n",
    "        matches=[('','','')]\n",
    "#     try:\n",
    "\n",
    "    mod,sect,title=matches[0]\n",
    "#     print(mod,sect,title,sep='|')\n",
    "    row['mod'] = mod\n",
    "    row['sect'] = sect\n",
    "    row['title'] = title\n",
    "\n",
    "    return row#mod,sect,title#matches[0]\n",
    "#     except:\n",
    "#         return matches\n",
    "    \n",
    "# get_mod_section(curric.iloc[0,0])\n",
    "# res = mod1.apply(get_mod_section)#lambda x: re.findall(r\"(Mod \\d).*(Section \\d+).*- ([A-Za-z ]+)\",x))\n",
    "# res"
   ]
  },
  {
   "cell_type": "code",
   "execution_count": 399,
   "metadata": {
    "ExecuteTime": {
     "end_time": "2019-12-27T04:04:57.979158Z",
     "start_time": "2019-12-27T04:04:57.950786Z"
    }
   },
   "outputs": [
    {
     "data": {
      "text/html": [
       "<div>\n",
       "<style scoped>\n",
       "    .dataframe tbody tr th:only-of-type {\n",
       "        vertical-align: middle;\n",
       "    }\n",
       "\n",
       "    .dataframe tbody tr th {\n",
       "        vertical-align: top;\n",
       "    }\n",
       "\n",
       "    .dataframe thead th {\n",
       "        text-align: right;\n",
       "    }\n",
       "</style>\n",
       "<table border=\"1\" class=\"dataframe\">\n",
       "  <thead>\n",
       "    <tr style=\"text-align: right;\">\n",
       "      <th></th>\n",
       "      <th>source</th>\n",
       "      <th>mod</th>\n",
       "      <th>sect</th>\n",
       "      <th>title</th>\n",
       "    </tr>\n",
       "  </thead>\n",
       "  <tbody>\n",
       "    <tr>\n",
       "      <td>0</td>\n",
       "      <td>Mod 1, Section 01 - Getting Started with Data ...</td>\n",
       "      <td>Mod 1</td>\n",
       "      <td>Section 01</td>\n",
       "      <td>Getting Started with Data Science</td>\n",
       "    </tr>\n",
       "    <tr>\n",
       "      <td>1</td>\n",
       "      <td>Mod 1, Section 02 - Git, Github and Being Part...</td>\n",
       "      <td>Mod 1</td>\n",
       "      <td>Section 02</td>\n",
       "      <td>Git</td>\n",
       "    </tr>\n",
       "    <tr>\n",
       "      <td>2</td>\n",
       "      <td>Mod 1, Section 03 - Importing and Statistical ...</td>\n",
       "      <td>Mod 1</td>\n",
       "      <td>Section 03</td>\n",
       "      <td>Importing and Statistical Analysis of Data</td>\n",
       "    </tr>\n",
       "    <tr>\n",
       "      <td>3</td>\n",
       "      <td>Mod 1, Section 04 - Python Libraries: Numpy an...</td>\n",
       "      <td>Mod 1</td>\n",
       "      <td>Section 04</td>\n",
       "      <td>Python Libraries</td>\n",
       "    </tr>\n",
       "    <tr>\n",
       "      <td>4</td>\n",
       "      <td>Mod 1, Section 05 - Data Cleaning in Pandas</td>\n",
       "      <td>Mod 1</td>\n",
       "      <td>Section 05</td>\n",
       "      <td>Data Cleaning in Pandas</td>\n",
       "    </tr>\n",
       "    <tr>\n",
       "      <td>5</td>\n",
       "      <td>Mod 1, Section 06 - Data Visualization</td>\n",
       "      <td>Mod 1</td>\n",
       "      <td>Section 06</td>\n",
       "      <td>Data Visualization</td>\n",
       "    </tr>\n",
       "    <tr>\n",
       "      <td>6</td>\n",
       "      <td>Mod 1, Section 07 - Introduction to Linear Reg...</td>\n",
       "      <td>Mod 1</td>\n",
       "      <td>Section 07</td>\n",
       "      <td>Introduction to Linear Regression</td>\n",
       "    </tr>\n",
       "    <tr>\n",
       "      <td>7</td>\n",
       "      <td>Mod 1, Section 08 - Multiple Regression and Mo...</td>\n",
       "      <td>Mod 1</td>\n",
       "      <td>Section 08</td>\n",
       "      <td>Multiple Regression and Model Validation</td>\n",
       "    </tr>\n",
       "    <tr>\n",
       "      <td>8</td>\n",
       "      <td>Mod 1 - Office Hours</td>\n",
       "      <td></td>\n",
       "      <td></td>\n",
       "      <td></td>\n",
       "    </tr>\n",
       "    <tr>\n",
       "      <td>9</td>\n",
       "      <td>Mod 2, Section 09 - SQL and Relational Databases</td>\n",
       "      <td>Mod 2</td>\n",
       "      <td>Section 09</td>\n",
       "      <td>SQL and Relational Databases</td>\n",
       "    </tr>\n",
       "    <tr>\n",
       "      <td>10</td>\n",
       "      <td>Mod 2, Section 10 - Object Oriented Programming</td>\n",
       "      <td>Mod 2</td>\n",
       "      <td>Section 10</td>\n",
       "      <td>Object Oriented Programming</td>\n",
       "    </tr>\n",
       "    <tr>\n",
       "      <td>11</td>\n",
       "      <td>Mod 2, Section 11 - JSON and XML</td>\n",
       "      <td>Mod 2</td>\n",
       "      <td>Section 11</td>\n",
       "      <td>JSON and XML</td>\n",
       "    </tr>\n",
       "    <tr>\n",
       "      <td>12</td>\n",
       "      <td>Mod 2, Section 12 - Accessing Data through APIs</td>\n",
       "      <td>Mod 2</td>\n",
       "      <td>Section 12</td>\n",
       "      <td>Accessing Data through APIs</td>\n",
       "    </tr>\n",
       "    <tr>\n",
       "      <td>13</td>\n",
       "      <td>Mod 2, Section 13 - HTML, CSS and Web Scraping</td>\n",
       "      <td>Mod 2</td>\n",
       "      <td>Section 13</td>\n",
       "      <td>HTML</td>\n",
       "    </tr>\n",
       "    <tr>\n",
       "      <td>14</td>\n",
       "      <td>Mod 2, Section 14 - More SQL</td>\n",
       "      <td>Mod 2</td>\n",
       "      <td>Section 14</td>\n",
       "      <td>More SQL</td>\n",
       "    </tr>\n",
       "    <tr>\n",
       "      <td>15</td>\n",
       "      <td>Mod 2, Section 15 - Other Database structures</td>\n",
       "      <td>Mod 2</td>\n",
       "      <td>Section 15</td>\n",
       "      <td>Other Database structures</td>\n",
       "    </tr>\n",
       "    <tr>\n",
       "      <td>16</td>\n",
       "      <td>Mod 2, Section 16 - Scraping and Storing your ...</td>\n",
       "      <td>Mod 2</td>\n",
       "      <td>Section 16</td>\n",
       "      <td>Scraping and Storing your Data</td>\n",
       "    </tr>\n",
       "    <tr>\n",
       "      <td>17</td>\n",
       "      <td>Mod 3, Section 17 - Combinatorics and Probability</td>\n",
       "      <td>Mod 3</td>\n",
       "      <td>Section 17</td>\n",
       "      <td>Combinatorics and Probability</td>\n",
       "    </tr>\n",
       "    <tr>\n",
       "      <td>18</td>\n",
       "      <td>Mod 3, Section 18 - Statistical Distributions</td>\n",
       "      <td>Mod 3</td>\n",
       "      <td>Section 18</td>\n",
       "      <td>Statistical Distributions</td>\n",
       "    </tr>\n",
       "    <tr>\n",
       "      <td>19</td>\n",
       "      <td>Mod 3, Section 19 - Central Limit Theorem and ...</td>\n",
       "      <td>Mod 3</td>\n",
       "      <td>Section 19</td>\n",
       "      <td>Central Limit Theorem and Confidence Intervals</td>\n",
       "    </tr>\n",
       "    <tr>\n",
       "      <td>20</td>\n",
       "      <td>Mod 3, Section 20 - Hypothesis Testing</td>\n",
       "      <td>Mod 3</td>\n",
       "      <td>Section 20</td>\n",
       "      <td>Hypothesis Testing</td>\n",
       "    </tr>\n",
       "    <tr>\n",
       "      <td>21</td>\n",
       "      <td>Mod 3, Section 21 - Statistical Power and Anova</td>\n",
       "      <td>Mod 3</td>\n",
       "      <td>Section 21</td>\n",
       "      <td>Statistical Power and Anova</td>\n",
       "    </tr>\n",
       "    <tr>\n",
       "      <td>22</td>\n",
       "      <td>Mod 3, Section 22 - AB Testing</td>\n",
       "      <td>Mod 3</td>\n",
       "      <td>Section 22</td>\n",
       "      <td>AB Testing</td>\n",
       "    </tr>\n",
       "    <tr>\n",
       "      <td>23</td>\n",
       "      <td>Mod 3, Section 23 - Bayesian Statistics</td>\n",
       "      <td>Mod 3</td>\n",
       "      <td>Section 23</td>\n",
       "      <td>Bayesian Statistics</td>\n",
       "    </tr>\n",
       "    <tr>\n",
       "      <td>24</td>\n",
       "      <td>Mod 3, Section 24 - Resampling and Monte Carlo...</td>\n",
       "      <td>Mod 3</td>\n",
       "      <td>Section 24</td>\n",
       "      <td>Resampling and Monte Carlo Simulation</td>\n",
       "    </tr>\n",
       "    <tr>\n",
       "      <td>25</td>\n",
       "      <td>Mod 3 - Office Hours</td>\n",
       "      <td></td>\n",
       "      <td></td>\n",
       "      <td></td>\n",
       "    </tr>\n",
       "    <tr>\n",
       "      <td>26</td>\n",
       "      <td>Mod 4, Section 25 - A Complete Data Science Pr...</td>\n",
       "      <td>Mod 4</td>\n",
       "      <td>Section 25</td>\n",
       "      <td>A Complete Data Science Project Using Multiple...</td>\n",
       "    </tr>\n",
       "    <tr>\n",
       "      <td>27</td>\n",
       "      <td>Mod 4, Section 26 - Linear Algebra</td>\n",
       "      <td>Mod 4</td>\n",
       "      <td>Section 26</td>\n",
       "      <td>Linear Algebra</td>\n",
       "    </tr>\n",
       "    <tr>\n",
       "      <td>28</td>\n",
       "      <td>Mod 4, Section 27 - Calculus, Cost Function, a...</td>\n",
       "      <td>Mod 4</td>\n",
       "      <td>Section 27</td>\n",
       "      <td>Calculus</td>\n",
       "    </tr>\n",
       "    <tr>\n",
       "      <td>29</td>\n",
       "      <td>Mod 4, Section 28 - Extensions to Linear Models</td>\n",
       "      <td>Mod 4</td>\n",
       "      <td>Section 28</td>\n",
       "      <td>Extensions to Linear Models</td>\n",
       "    </tr>\n",
       "    <tr>\n",
       "      <td>30</td>\n",
       "      <td>Mod 4, Section 29 - Introduction to Logistic R...</td>\n",
       "      <td>Mod 4</td>\n",
       "      <td>Section 29</td>\n",
       "      <td>Introduction to Logistic Regression</td>\n",
       "    </tr>\n",
       "    <tr>\n",
       "      <td>31</td>\n",
       "      <td>Mod 4, Section 30 - In-depth Logistic Regression</td>\n",
       "      <td>Mod 4</td>\n",
       "      <td>Section 30</td>\n",
       "      <td>In</td>\n",
       "    </tr>\n",
       "    <tr>\n",
       "      <td>32</td>\n",
       "      <td>Mod 4, Section 31 - Working with Time Series Data</td>\n",
       "      <td>Mod 4</td>\n",
       "      <td>Section 31</td>\n",
       "      <td>Working with Time Series Data</td>\n",
       "    </tr>\n",
       "    <tr>\n",
       "      <td>33</td>\n",
       "      <td>Mod 4, Section 32 - Time Series Modeling</td>\n",
       "      <td>Mod 4</td>\n",
       "      <td>Section 32</td>\n",
       "      <td>Time Series Modeling</td>\n",
       "    </tr>\n",
       "    <tr>\n",
       "      <td>34</td>\n",
       "      <td>Mod 4 - Office Hours</td>\n",
       "      <td></td>\n",
       "      <td></td>\n",
       "      <td></td>\n",
       "    </tr>\n",
       "    <tr>\n",
       "      <td>35</td>\n",
       "      <td>Mod 5, Section 33 - K Nearest Neighbors</td>\n",
       "      <td>Mod 5</td>\n",
       "      <td>Section 33</td>\n",
       "      <td>K Nearest Neighbors</td>\n",
       "    </tr>\n",
       "    <tr>\n",
       "      <td>36</td>\n",
       "      <td>Mod 5, Section 34 - Decision Trees</td>\n",
       "      <td>Mod 5</td>\n",
       "      <td>Section 34</td>\n",
       "      <td>Decision Trees</td>\n",
       "    </tr>\n",
       "    <tr>\n",
       "      <td>37</td>\n",
       "      <td>Mod 5, Section 35 - Ensemble Methods</td>\n",
       "      <td>Mod 5</td>\n",
       "      <td>Section 35</td>\n",
       "      <td>Ensemble Methods</td>\n",
       "    </tr>\n",
       "    <tr>\n",
       "      <td>38</td>\n",
       "      <td>Mod 5, Section 36 - Support Vector Machines</td>\n",
       "      <td>Mod 5</td>\n",
       "      <td>Section 36</td>\n",
       "      <td>Support Vector Machines</td>\n",
       "    </tr>\n",
       "    <tr>\n",
       "      <td>39</td>\n",
       "      <td>Mod 5, Section 37 - Principal Component Analysis</td>\n",
       "      <td>Mod 5</td>\n",
       "      <td>Section 37</td>\n",
       "      <td>Principal Component Analysis</td>\n",
       "    </tr>\n",
       "    <tr>\n",
       "      <td>40</td>\n",
       "      <td>Mod 5, Section 38 - Clustering</td>\n",
       "      <td>Mod 5</td>\n",
       "      <td>Section 38</td>\n",
       "      <td>Clustering</td>\n",
       "    </tr>\n",
       "    <tr>\n",
       "      <td>41</td>\n",
       "      <td>Mod 5, Section 39 - Building a Machine Learnin...</td>\n",
       "      <td>Mod 5</td>\n",
       "      <td>Section 39</td>\n",
       "      <td>Building a Machine Learning Pipeline</td>\n",
       "    </tr>\n",
       "    <tr>\n",
       "      <td>42</td>\n",
       "      <td>Mod 5, Section 40 - Big Data in PySpark</td>\n",
       "      <td>Mod 5</td>\n",
       "      <td>Section 40</td>\n",
       "      <td>Big Data in PySpark</td>\n",
       "    </tr>\n",
       "    <tr>\n",
       "      <td>43</td>\n",
       "      <td>Mod 5, Section 41 - Recommendation Systems</td>\n",
       "      <td>Mod 5</td>\n",
       "      <td>Section 41</td>\n",
       "      <td>Recommendation Systems</td>\n",
       "    </tr>\n",
       "    <tr>\n",
       "      <td>44</td>\n",
       "      <td>Mod 5 - Office Hours</td>\n",
       "      <td></td>\n",
       "      <td></td>\n",
       "      <td></td>\n",
       "    </tr>\n",
       "    <tr>\n",
       "      <td>45</td>\n",
       "      <td>Mod 6, Section 42 - Graph Theory</td>\n",
       "      <td>Mod 6</td>\n",
       "      <td>Section 42</td>\n",
       "      <td>Graph Theory</td>\n",
       "    </tr>\n",
       "    <tr>\n",
       "      <td>46</td>\n",
       "      <td>Mod 6, Section 43 - Foundations of Natural Lan...</td>\n",
       "      <td>Mod 6</td>\n",
       "      <td>Section 43</td>\n",
       "      <td>Foundations of Natural Language Processing</td>\n",
       "    </tr>\n",
       "    <tr>\n",
       "      <td>47</td>\n",
       "      <td>Mod 6, Section 44 - Introduction to Deep Learning</td>\n",
       "      <td>Mod 6</td>\n",
       "      <td>Section 44</td>\n",
       "      <td>Introduction to Deep Learning</td>\n",
       "    </tr>\n",
       "    <tr>\n",
       "      <td>48</td>\n",
       "      <td>Mod 6, Section 45 - Multi-Layer Perceptrons</td>\n",
       "      <td>Mod 6</td>\n",
       "      <td>Section 45</td>\n",
       "      <td>Multi</td>\n",
       "    </tr>\n",
       "    <tr>\n",
       "      <td>49</td>\n",
       "      <td>Mod 6, Section 46 - Tuning Neural Networks</td>\n",
       "      <td>Mod 6</td>\n",
       "      <td>Section 46</td>\n",
       "      <td>Tuning Neural Networks</td>\n",
       "    </tr>\n",
       "    <tr>\n",
       "      <td>50</td>\n",
       "      <td>Mod 6, Section 47 - Introduction to Convolutio...</td>\n",
       "      <td>Mod 6</td>\n",
       "      <td>Section 47</td>\n",
       "      <td>Introduction to Convolutional Neural Networks</td>\n",
       "    </tr>\n",
       "    <tr>\n",
       "      <td>51</td>\n",
       "      <td>Mod 6, Section 48 - Transfer Learning</td>\n",
       "      <td>Mod 6</td>\n",
       "      <td>Section 48</td>\n",
       "      <td>Transfer Learning</td>\n",
       "    </tr>\n",
       "    <tr>\n",
       "      <td>52</td>\n",
       "      <td>Mod 6, Section 49 - Deep NLP - Word Embeddings</td>\n",
       "      <td>Mod 6</td>\n",
       "      <td>Section 49</td>\n",
       "      <td>Word Embeddings</td>\n",
       "    </tr>\n",
       "    <tr>\n",
       "      <td>53</td>\n",
       "      <td>Mod 6, Section 50 - Operationalizing code and AWS</td>\n",
       "      <td>Mod 6</td>\n",
       "      <td>Section 50</td>\n",
       "      <td>Operationalizing code and AWS</td>\n",
       "    </tr>\n",
       "  </tbody>\n",
       "</table>\n",
       "</div>"
      ],
      "text/plain": [
       "                                               source    mod        sect  \\\n",
       "0   Mod 1, Section 01 - Getting Started with Data ...  Mod 1  Section 01   \n",
       "1   Mod 1, Section 02 - Git, Github and Being Part...  Mod 1  Section 02   \n",
       "2   Mod 1, Section 03 - Importing and Statistical ...  Mod 1  Section 03   \n",
       "3   Mod 1, Section 04 - Python Libraries: Numpy an...  Mod 1  Section 04   \n",
       "4         Mod 1, Section 05 - Data Cleaning in Pandas  Mod 1  Section 05   \n",
       "5              Mod 1, Section 06 - Data Visualization  Mod 1  Section 06   \n",
       "6   Mod 1, Section 07 - Introduction to Linear Reg...  Mod 1  Section 07   \n",
       "7   Mod 1, Section 08 - Multiple Regression and Mo...  Mod 1  Section 08   \n",
       "8                                Mod 1 - Office Hours                      \n",
       "9    Mod 2, Section 09 - SQL and Relational Databases  Mod 2  Section 09   \n",
       "10    Mod 2, Section 10 - Object Oriented Programming  Mod 2  Section 10   \n",
       "11                   Mod 2, Section 11 - JSON and XML  Mod 2  Section 11   \n",
       "12    Mod 2, Section 12 - Accessing Data through APIs  Mod 2  Section 12   \n",
       "13     Mod 2, Section 13 - HTML, CSS and Web Scraping  Mod 2  Section 13   \n",
       "14                       Mod 2, Section 14 - More SQL  Mod 2  Section 14   \n",
       "15      Mod 2, Section 15 - Other Database structures  Mod 2  Section 15   \n",
       "16  Mod 2, Section 16 - Scraping and Storing your ...  Mod 2  Section 16   \n",
       "17  Mod 3, Section 17 - Combinatorics and Probability  Mod 3  Section 17   \n",
       "18      Mod 3, Section 18 - Statistical Distributions  Mod 3  Section 18   \n",
       "19  Mod 3, Section 19 - Central Limit Theorem and ...  Mod 3  Section 19   \n",
       "20             Mod 3, Section 20 - Hypothesis Testing  Mod 3  Section 20   \n",
       "21    Mod 3, Section 21 - Statistical Power and Anova  Mod 3  Section 21   \n",
       "22                     Mod 3, Section 22 - AB Testing  Mod 3  Section 22   \n",
       "23            Mod 3, Section 23 - Bayesian Statistics  Mod 3  Section 23   \n",
       "24  Mod 3, Section 24 - Resampling and Monte Carlo...  Mod 3  Section 24   \n",
       "25                               Mod 3 - Office Hours                      \n",
       "26  Mod 4, Section 25 - A Complete Data Science Pr...  Mod 4  Section 25   \n",
       "27                 Mod 4, Section 26 - Linear Algebra  Mod 4  Section 26   \n",
       "28  Mod 4, Section 27 - Calculus, Cost Function, a...  Mod 4  Section 27   \n",
       "29    Mod 4, Section 28 - Extensions to Linear Models  Mod 4  Section 28   \n",
       "30  Mod 4, Section 29 - Introduction to Logistic R...  Mod 4  Section 29   \n",
       "31   Mod 4, Section 30 - In-depth Logistic Regression  Mod 4  Section 30   \n",
       "32  Mod 4, Section 31 - Working with Time Series Data  Mod 4  Section 31   \n",
       "33           Mod 4, Section 32 - Time Series Modeling  Mod 4  Section 32   \n",
       "34                               Mod 4 - Office Hours                      \n",
       "35            Mod 5, Section 33 - K Nearest Neighbors  Mod 5  Section 33   \n",
       "36                 Mod 5, Section 34 - Decision Trees  Mod 5  Section 34   \n",
       "37               Mod 5, Section 35 - Ensemble Methods  Mod 5  Section 35   \n",
       "38        Mod 5, Section 36 - Support Vector Machines  Mod 5  Section 36   \n",
       "39   Mod 5, Section 37 - Principal Component Analysis  Mod 5  Section 37   \n",
       "40                     Mod 5, Section 38 - Clustering  Mod 5  Section 38   \n",
       "41  Mod 5, Section 39 - Building a Machine Learnin...  Mod 5  Section 39   \n",
       "42            Mod 5, Section 40 - Big Data in PySpark  Mod 5  Section 40   \n",
       "43         Mod 5, Section 41 - Recommendation Systems  Mod 5  Section 41   \n",
       "44                               Mod 5 - Office Hours                      \n",
       "45                   Mod 6, Section 42 - Graph Theory  Mod 6  Section 42   \n",
       "46  Mod 6, Section 43 - Foundations of Natural Lan...  Mod 6  Section 43   \n",
       "47  Mod 6, Section 44 - Introduction to Deep Learning  Mod 6  Section 44   \n",
       "48        Mod 6, Section 45 - Multi-Layer Perceptrons  Mod 6  Section 45   \n",
       "49         Mod 6, Section 46 - Tuning Neural Networks  Mod 6  Section 46   \n",
       "50  Mod 6, Section 47 - Introduction to Convolutio...  Mod 6  Section 47   \n",
       "51              Mod 6, Section 48 - Transfer Learning  Mod 6  Section 48   \n",
       "52     Mod 6, Section 49 - Deep NLP - Word Embeddings  Mod 6  Section 49   \n",
       "53  Mod 6, Section 50 - Operationalizing code and AWS  Mod 6  Section 50   \n",
       "\n",
       "                                                title  \n",
       "0                   Getting Started with Data Science  \n",
       "1                                                 Git  \n",
       "2          Importing and Statistical Analysis of Data  \n",
       "3                                    Python Libraries  \n",
       "4                             Data Cleaning in Pandas  \n",
       "5                                  Data Visualization  \n",
       "6                   Introduction to Linear Regression  \n",
       "7            Multiple Regression and Model Validation  \n",
       "8                                                      \n",
       "9                        SQL and Relational Databases  \n",
       "10                        Object Oriented Programming  \n",
       "11                                       JSON and XML  \n",
       "12                        Accessing Data through APIs  \n",
       "13                                               HTML  \n",
       "14                                           More SQL  \n",
       "15                          Other Database structures  \n",
       "16                     Scraping and Storing your Data  \n",
       "17                      Combinatorics and Probability  \n",
       "18                          Statistical Distributions  \n",
       "19     Central Limit Theorem and Confidence Intervals  \n",
       "20                                 Hypothesis Testing  \n",
       "21                        Statistical Power and Anova  \n",
       "22                                         AB Testing  \n",
       "23                                Bayesian Statistics  \n",
       "24              Resampling and Monte Carlo Simulation  \n",
       "25                                                     \n",
       "26  A Complete Data Science Project Using Multiple...  \n",
       "27                                     Linear Algebra  \n",
       "28                                           Calculus  \n",
       "29                        Extensions to Linear Models  \n",
       "30                Introduction to Logistic Regression  \n",
       "31                                                 In  \n",
       "32                      Working with Time Series Data  \n",
       "33                               Time Series Modeling  \n",
       "34                                                     \n",
       "35                                K Nearest Neighbors  \n",
       "36                                     Decision Trees  \n",
       "37                                   Ensemble Methods  \n",
       "38                            Support Vector Machines  \n",
       "39                       Principal Component Analysis  \n",
       "40                                         Clustering  \n",
       "41               Building a Machine Learning Pipeline  \n",
       "42                                Big Data in PySpark  \n",
       "43                             Recommendation Systems  \n",
       "44                                                     \n",
       "45                                       Graph Theory  \n",
       "46         Foundations of Natural Language Processing  \n",
       "47                      Introduction to Deep Learning  \n",
       "48                                              Multi  \n",
       "49                             Tuning Neural Networks  \n",
       "50      Introduction to Convolutional Neural Networks  \n",
       "51                                  Transfer Learning  \n",
       "52                                    Word Embeddings  \n",
       "53                      Operationalizing code and AWS  "
      ]
     },
     "execution_count": 399,
     "metadata": {},
     "output_type": "execute_result"
    }
   ],
   "source": [
    "df_merged= df_merged.apply(lambda x: get_mod_section(x),axis=1)\n",
    "# df_merged['Mod'] = df_merged.apply(lambda x: x[0])\n",
    "df_merged"
   ]
  },
  {
   "cell_type": "code",
   "execution_count": 344,
   "metadata": {
    "ExecuteTime": {
     "end_time": "2019-12-27T03:52:55.130866Z",
     "start_time": "2019-12-27T03:52:55.115701Z"
    }
   },
   "outputs": [
    {
     "ename": "TypeError",
     "evalue": "expected string or bytes-like object",
     "output_type": "error",
     "traceback": [
      "\u001b[0;31m---------------------------------------------------------------------------\u001b[0m",
      "\u001b[0;31mTypeError\u001b[0m                                 Traceback (most recent call last)",
      "\u001b[0;32m<ipython-input-344-b17dc04d81cc>\u001b[0m in \u001b[0;36m<module>\u001b[0;34m\u001b[0m\n\u001b[0;32m----> 1\u001b[0;31m \u001b[0mget_mod_section\u001b[0m\u001b[0;34m(\u001b[0m\u001b[0mdf_merged\u001b[0m\u001b[0;34m[\u001b[0m\u001b[0;36m0\u001b[0m\u001b[0;34m]\u001b[0m\u001b[0;34m)\u001b[0m\u001b[0;34m\u001b[0m\u001b[0;34m\u001b[0m\u001b[0m\n\u001b[0m",
      "\u001b[0;32m<ipython-input-343-779cdf10cb36>\u001b[0m in \u001b[0;36mget_mod_section\u001b[0;34m(x)\u001b[0m\n\u001b[1;32m      1\u001b[0m \u001b[0;32mimport\u001b[0m \u001b[0mre\u001b[0m\u001b[0;34m\u001b[0m\u001b[0;34m\u001b[0m\u001b[0m\n\u001b[1;32m      2\u001b[0m \u001b[0;32mdef\u001b[0m \u001b[0mget_mod_section\u001b[0m\u001b[0;34m(\u001b[0m\u001b[0mx\u001b[0m\u001b[0;34m)\u001b[0m\u001b[0;34m:\u001b[0m\u001b[0;34m\u001b[0m\u001b[0;34m\u001b[0m\u001b[0m\n\u001b[0;32m----> 3\u001b[0;31m     \u001b[0mmatches\u001b[0m \u001b[0;34m=\u001b[0m \u001b[0mre\u001b[0m\u001b[0;34m.\u001b[0m\u001b[0mfindall\u001b[0m\u001b[0;34m(\u001b[0m\u001b[0;34mr\"(Mod \\d).*(Section \\d+).*- ([A-Za-z ]+)\"\u001b[0m\u001b[0;34m,\u001b[0m\u001b[0mx\u001b[0m\u001b[0;34m)\u001b[0m\u001b[0;34m\u001b[0m\u001b[0;34m\u001b[0m\u001b[0m\n\u001b[0m\u001b[1;32m      4\u001b[0m     \u001b[0;32mtry\u001b[0m\u001b[0;34m:\u001b[0m\u001b[0;34m\u001b[0m\u001b[0;34m\u001b[0m\u001b[0m\n\u001b[1;32m      5\u001b[0m         \u001b[0mmod\u001b[0m\u001b[0;34m,\u001b[0m\u001b[0msect\u001b[0m\u001b[0;34m,\u001b[0m\u001b[0mtitle\u001b[0m\u001b[0;34m=\u001b[0m\u001b[0mmatches\u001b[0m\u001b[0;34m[\u001b[0m\u001b[0;36m0\u001b[0m\u001b[0;34m]\u001b[0m\u001b[0;34m\u001b[0m\u001b[0;34m\u001b[0m\u001b[0m\n",
      "\u001b[0;32m//anaconda3/envs/learn-env/lib/python3.6/re.py\u001b[0m in \u001b[0;36mfindall\u001b[0;34m(pattern, string, flags)\u001b[0m\n\u001b[1;32m    220\u001b[0m \u001b[0;34m\u001b[0m\u001b[0m\n\u001b[1;32m    221\u001b[0m     Empty matches are included in the result.\"\"\"\n\u001b[0;32m--> 222\u001b[0;31m     \u001b[0;32mreturn\u001b[0m \u001b[0m_compile\u001b[0m\u001b[0;34m(\u001b[0m\u001b[0mpattern\u001b[0m\u001b[0;34m,\u001b[0m \u001b[0mflags\u001b[0m\u001b[0;34m)\u001b[0m\u001b[0;34m.\u001b[0m\u001b[0mfindall\u001b[0m\u001b[0;34m(\u001b[0m\u001b[0mstring\u001b[0m\u001b[0;34m)\u001b[0m\u001b[0;34m\u001b[0m\u001b[0;34m\u001b[0m\u001b[0m\n\u001b[0m\u001b[1;32m    223\u001b[0m \u001b[0;34m\u001b[0m\u001b[0m\n\u001b[1;32m    224\u001b[0m \u001b[0;32mdef\u001b[0m \u001b[0mfinditer\u001b[0m\u001b[0;34m(\u001b[0m\u001b[0mpattern\u001b[0m\u001b[0;34m,\u001b[0m \u001b[0mstring\u001b[0m\u001b[0;34m,\u001b[0m \u001b[0mflags\u001b[0m\u001b[0;34m=\u001b[0m\u001b[0;36m0\u001b[0m\u001b[0;34m)\u001b[0m\u001b[0;34m:\u001b[0m\u001b[0;34m\u001b[0m\u001b[0;34m\u001b[0m\u001b[0m\n",
      "\u001b[0;31mTypeError\u001b[0m: expected string or bytes-like object"
     ]
    }
   ],
   "source": [
    "get_mod_section(df_merged[0])"
   ]
  },
  {
   "cell_type": "code",
   "execution_count": 337,
   "metadata": {
    "ExecuteTime": {
     "end_time": "2019-12-27T03:50:12.241504Z",
     "start_time": "2019-12-27T03:50:12.239396Z"
    }
   },
   "outputs": [],
   "source": [
    "# def apply_mod_section_to_row(row):\n",
    "#     matches = get_mod_section(str(row))\n",
    "#     if len(matches)==3:\n",
    "#         mod,sect,title = matches\n",
    "        \n",
    "#         row_out=pd.Series({'Source':row,'Mod':mod,'Sect':sect,'Title':title})\n",
    "        \n",
    "#         return row_out\n",
    "#     else:\n",
    "#         print('No match.')\n",
    "#         return row"
   ]
  },
  {
   "cell_type": "code",
   "execution_count": 338,
   "metadata": {
    "ExecuteTime": {
     "end_time": "2019-12-27T03:50:15.108044Z",
     "start_time": "2019-12-27T03:50:15.105999Z"
    }
   },
   "outputs": [],
   "source": [
    "# curric_full = curric['MODULE 1'].apply(apply_mod_section_to_row)\n",
    "# curric_full"
   ]
  },
  {
   "cell_type": "code",
   "execution_count": 304,
   "metadata": {
    "ExecuteTime": {
     "end_time": "2019-12-27T03:40:44.110941Z",
     "start_time": "2019-12-27T03:40:44.098655Z"
    }
   },
   "outputs": [
    {
     "ename": "ValueError",
     "evalue": "not enough values to unpack (expected 3, got 1)",
     "output_type": "error",
     "traceback": [
      "\u001b[0;31m---------------------------------------------------------------------------\u001b[0m",
      "\u001b[0;31mValueError\u001b[0m                                Traceback (most recent call last)",
      "\u001b[0;32m<ipython-input-304-691506c88727>\u001b[0m in \u001b[0;36m<module>\u001b[0;34m\u001b[0m\n\u001b[0;32m----> 1\u001b[0;31m \u001b[0mget_mod_section\u001b[0m\u001b[0;34m(\u001b[0m\u001b[0mcurric\u001b[0m\u001b[0;34m.\u001b[0m\u001b[0miloc\u001b[0m\u001b[0;34m[\u001b[0m\u001b[0;36m0\u001b[0m\u001b[0;34m,\u001b[0m\u001b[0;36m0\u001b[0m\u001b[0;34m]\u001b[0m\u001b[0;34m)\u001b[0m\u001b[0;34m\u001b[0m\u001b[0;34m\u001b[0m\u001b[0m\n\u001b[0m",
      "\u001b[0;32m<ipython-input-302-7c087cfa540d>\u001b[0m in \u001b[0;36mget_mod_section\u001b[0;34m(x)\u001b[0m\n\u001b[1;32m      1\u001b[0m \u001b[0;32mimport\u001b[0m \u001b[0mre\u001b[0m\u001b[0;34m\u001b[0m\u001b[0;34m\u001b[0m\u001b[0m\n\u001b[1;32m      2\u001b[0m \u001b[0;32mdef\u001b[0m \u001b[0mget_mod_section\u001b[0m\u001b[0;34m(\u001b[0m\u001b[0mx\u001b[0m\u001b[0;34m)\u001b[0m\u001b[0;34m:\u001b[0m\u001b[0;34m\u001b[0m\u001b[0;34m\u001b[0m\u001b[0m\n\u001b[0;32m----> 3\u001b[0;31m     \u001b[0;34m(\u001b[0m\u001b[0mmod\u001b[0m\u001b[0;34m,\u001b[0m\u001b[0msect\u001b[0m\u001b[0;34m,\u001b[0m\u001b[0mtitle\u001b[0m\u001b[0;34m)\u001b[0m\u001b[0;34m=\u001b[0m\u001b[0mre\u001b[0m\u001b[0;34m.\u001b[0m\u001b[0mfindall\u001b[0m\u001b[0;34m(\u001b[0m\u001b[0;34mr\"(Mod \\d).*(Section \\d+).*- ([A-Za-z ]+)\"\u001b[0m\u001b[0;34m,\u001b[0m\u001b[0mx\u001b[0m\u001b[0;34m)\u001b[0m\u001b[0;34m\u001b[0m\u001b[0;34m\u001b[0m\u001b[0m\n\u001b[0m\u001b[1;32m      4\u001b[0m \u001b[0;34m\u001b[0m\u001b[0m\n\u001b[1;32m      5\u001b[0m \u001b[0;34m\u001b[0m\u001b[0m\n",
      "\u001b[0;31mValueError\u001b[0m: not enough values to unpack (expected 3, got 1)"
     ]
    }
   ],
   "source": []
  },
  {
   "cell_type": "markdown",
   "metadata": {},
   "source": [
    "# CREATING DF TO AGGREGATE"
   ]
  },
  {
   "cell_type": "code",
   "execution_count": 236,
   "metadata": {
    "ExecuteTime": {
     "end_time": "2019-12-27T01:52:35.379162Z",
     "start_time": "2019-12-27T01:52:35.369297Z"
    }
   },
   "outputs": [
    {
     "data": {
      "text/plain": [
       "datetime\n",
       "2019-09-08    26\n",
       "2019-09-15    29\n",
       "2019-09-22     5\n",
       "2019-09-29     3\n",
       "2019-10-06     3\n",
       "2019-10-13    69\n",
       "2019-10-20    45\n",
       "2019-10-27    14\n",
       "2019-11-03    58\n",
       "2019-11-10    32\n",
       "2019-11-17    40\n",
       "2019-11-24    42\n",
       "2019-12-01    12\n",
       "2019-12-08     0\n",
       "2019-12-15    28\n",
       "2019-12-22    33\n",
       "2019-12-29    12\n",
       "Freq: W-SUN, Name: lesson, dtype: int64"
      ]
     },
     "execution_count": 236,
     "metadata": {},
     "output_type": "execute_result"
    }
   ],
   "source": [
    "weekly = df.set_index('datetime').resample('W')['lesson'].count()\n",
    "weekly"
   ]
  },
  {
   "cell_type": "code",
   "execution_count": 136,
   "metadata": {
    "ExecuteTime": {
     "end_time": "2019-12-27T01:26:55.146010Z",
     "start_time": "2019-12-27T01:26:54.976496Z"
    }
   },
   "outputs": [
    {
     "data": {
      "image/png": "[encoded data removed]",
      "text/plain": [
       "<Figure size 432x288 with 1 Axes>"
      ]
     },
     "metadata": {
      "needs_background": "light"
     },
     "output_type": "display_data"
    }
   ],
   "source": [
    "ax = weekly.plot()\n",
    "fig = ax.get_figure()\n",
    "\n",
    "import matplotlib.dates as mdates\n",
    "import datetime\n",
    "days = mdates.DayLocator(interval=7)\n",
    "ax.xaxis.set_major_locator(days) #mdates.DayLocator(interval=5))\n",
    "ax.xaxis.set_major_formatter(mdates.DateFormatter('%b-%d-%y'))\n",
    "\n",
    "ax.xaxis.grid()\n",
    "# fig\n",
    "# ax.axis"
   ]
  },
  {
   "cell_type": "code",
   "execution_count": 120,
   "metadata": {
    "ExecuteTime": {
     "end_time": "2019-12-27T01:24:11.600815Z",
     "start_time": "2019-12-27T01:24:11.482683Z"
    }
   },
   "outputs": [
    {
     "data": {
      "image/png": "[encoded data removed]",
      "text/plain": [
       "<Figure size 432x288 with 1 Axes>"
      ]
     },
     "execution_count": 120,
     "metadata": {},
     "output_type": "execute_result"
    }
   ],
   "source": [
    "import matplotlib.dates as mdates\n",
    "import datetime\n",
    "days = mdates.DayLocator(interval=7)\n",
    "ax.xaxis.set_major_locator(days) #mdates.DayLocator(interval=5))\n",
    "ax.xaxis.set_major_formatter(mdates.DateFormatter('%b-%d'))\n",
    "fig"
   ]
  },
  {
   "cell_type": "markdown",
   "metadata": {},
   "source": [
    "## EXAMPLE DATE FORMATTING CODE\n",
    "```python \n",
    "### FROM CAPSTONE PLOTTING FUNCTION\n",
    "import matplotlib.dates as mdates\n",
    "import datetime\n",
    "\n",
    "# Instantiate Locators to be used\n",
    "years = mdates.YearLocator()   # every year\n",
    "months = mdates.MonthLocator()#interval=2)  # every month\n",
    "quarters = mdates.MonthLocator(interval=3)#interval=2)  # every month\n",
    "\n",
    "# Define various date formatting to be used\n",
    "monthsFmt = mdates.DateFormatter('%Y-%b')\n",
    "yearsFmt = mdates.DateFormatter('%Y') #'%Y')\n",
    "yr_mo_day_fmt = mdates.DateFormatter('%Y-%m')\n",
    "monthDayFmt = mdates.DateFormatter('%m-%d-%y')\n",
    "\n",
    "\n",
    "## AX2 SET TICK LOCATIONS AND FORMATTING\n",
    "\n",
    "# Set locators (since using for both location and formatter)\n",
    "auto_major_loc = mdates.AutoDateLocator(minticks=5)\n",
    "auto_minor_loc = mdates.AutoDateLocator(minticks=10)\n",
    "\n",
    "# Set Major X Axis Ticks\n",
    "ax1.xaxis.set_major_locator(auto_major_loc)\n",
    "ax1.xaxis.set_major_formatter(mdates.AutoDateFormatter(auto_major_loc))\n",
    "\n",
    "# Set Minor X Axis Ticks\n",
    "ax1.xaxis.set_minor_locator(auto_minor_loc)\n",
    "ax1.xaxis.set_major_formatter(mdates.AutoDateFormatter(auto_minor_loc))\n",
    "\n",
    "\n",
    "ax1.tick_params(axis='x',which='both',rotation=30)\n",
    "ax1.grid(axis='x',which='major')\n",
    "\n",
    "ax2.xaxis.set_major_locator(months) #mdates.DayLocator(interval=5))\n",
    "ax2.xaxis.set_major_formatter(mdates.DateFormatter('%b-%Y')) #monthsFmt) #mdates.DateFormatter('%m-%Y')) #AutoDateFormatter(locator=locator))#yearsFmt)\n",
    "\n",
    "# Minor X-Axis Ticks\n",
    "ax2.xaxis.set_minor_locator(mdates.DayLocator(interval=5))#,interval=5))\n",
    "ax2.xaxis.set_minor_formatter(mdates.DateFormatter('%d')) #, fontdict={'weight':'bold'})\n",
    "\n",
    "# Changing Tick spacing and rotation.\n",
    "ax2.tick_params(axis='x',which='major',rotation=90, direction='inout',length=10, pad=5)\n",
    "ax2.tick_params(axis='x',which='minor',length=4,pad=2, direction='in') #,horizontalalignment='right')#,ha='left')\n",
    "ax2.grid(axis='x',which='major')\n",
    "         ```"
   ]
  },
  {
   "cell_type": "code",
   "execution_count": 121,
   "metadata": {
    "ExecuteTime": {
     "end_time": "2019-12-27T01:24:29.484285Z",
     "start_time": "2019-12-27T01:24:29.482294Z"
    }
   },
   "outputs": [],
   "source": [
    "# orig_locator = ax.xaxis.get_major_locator()\n",
    "# orig_formatter = ax.xaxis.get_major_formatter()\n",
    "# orig_ticks = ax.xaxis.get_major_ticks()\n",
    "# tick = orig_ticks[0]\n",
    "# help(tick)"
   ]
  },
  {
   "cell_type": "code",
   "execution_count": 97,
   "metadata": {
    "ExecuteTime": {
     "end_time": "2019-12-27T01:16:25.722555Z",
     "start_time": "2019-12-27T01:16:25.710806Z"
    }
   },
   "outputs": [
    {
     "data": {
      "text/plain": [
       "<Figure size 432x288 with 1 Axes>"
      ]
     },
     "execution_count": 97,
     "metadata": {},
     "output_type": "execute_result"
    }
   ],
   "source": [
    "locator= mpl.dates.DateLocator()\n",
    "ax.xaxis.set_major_locator(locator)\n",
    "fig"
   ]
  },
  {
   "cell_type": "code",
   "execution_count": 101,
   "metadata": {
    "ExecuteTime": {
     "end_time": "2019-12-27T01:16:47.558480Z",
     "start_time": "2019-12-27T01:16:47.556249Z"
    }
   },
   "outputs": [],
   "source": [
    "# plt.show()"
   ]
  },
  {
   "cell_type": "code",
   "execution_count": 89,
   "metadata": {
    "ExecuteTime": {
     "end_time": "2019-12-27T01:14:01.579490Z",
     "start_time": "2019-12-27T01:14:01.494742Z"
    }
   },
   "outputs": [
    {
     "data": {
      "image/png": "[encoded data removed]",
      "text/plain": [
       "<Figure size 432x288 with 1 Axes>"
      ]
     },
     "execution_count": 89,
     "metadata": {},
     "output_type": "execute_result"
    }
   ],
   "source": [
    "# mdates\n",
    "ax.xaxis.set_major_locator(mpl.dates.WeekdayLocator(interval=1))\n",
    "ax.xaxis.set_major_formatter(mpl.dates.DateFormatter(\"%b-%d\"))\n",
    "fig\n",
    "# ax.xaxis.get_major_formatter()"
   ]
  },
  {
   "cell_type": "code",
   "execution_count": 72,
   "metadata": {
    "ExecuteTime": {
     "end_time": "2019-12-27T01:05:24.494418Z",
     "start_time": "2019-12-27T01:05:24.363196Z"
    }
   },
   "outputs": [
    {
     "name": "stdout",
     "output_type": "stream",
     "text": [
      "Error in callback <function install_repl_displayhook.<locals>.post_execute at 0x120855ae8> (for post_execute):\n"
     ]
    },
    {
     "ename": "ValueError",
     "evalue": "DateFormatter found a value of x=0, which is an illegal date; this usually occurs because you have not informed the axis that it is plotting dates, e.g., with ax.xaxis_date()",
     "output_type": "error",
     "traceback": [
      "\u001b[0;31m---------------------------------------------------------------------------\u001b[0m",
      "\u001b[0;31mValueError\u001b[0m                                Traceback (most recent call last)",
      "\u001b[0;32m//anaconda3/envs/learn-env/lib/python3.6/site-packages/matplotlib/pyplot.py\u001b[0m in \u001b[0;36mpost_execute\u001b[0;34m()\u001b[0m\n\u001b[1;32m    107\u001b[0m             \u001b[0;32mdef\u001b[0m \u001b[0mpost_execute\u001b[0m\u001b[0;34m(\u001b[0m\u001b[0;34m)\u001b[0m\u001b[0;34m:\u001b[0m\u001b[0;34m\u001b[0m\u001b[0;34m\u001b[0m\u001b[0m\n\u001b[1;32m    108\u001b[0m                 \u001b[0;32mif\u001b[0m \u001b[0mmatplotlib\u001b[0m\u001b[0;34m.\u001b[0m\u001b[0mis_interactive\u001b[0m\u001b[0;34m(\u001b[0m\u001b[0;34m)\u001b[0m\u001b[0;34m:\u001b[0m\u001b[0;34m\u001b[0m\u001b[0;34m\u001b[0m\u001b[0m\n\u001b[0;32m--> 109\u001b[0;31m                     \u001b[0mdraw_all\u001b[0m\u001b[0;34m(\u001b[0m\u001b[0;34m)\u001b[0m\u001b[0;34m\u001b[0m\u001b[0;34m\u001b[0m\u001b[0m\n\u001b[0m\u001b[1;32m    110\u001b[0m \u001b[0;34m\u001b[0m\u001b[0m\n\u001b[1;32m    111\u001b[0m             \u001b[0;31m# IPython >= 2\u001b[0m\u001b[0;34m\u001b[0m\u001b[0;34m\u001b[0m\u001b[0;34m\u001b[0m\u001b[0m\n",
      "\u001b[0;32m//anaconda3/envs/learn-env/lib/python3.6/site-packages/matplotlib/_pylab_helpers.py\u001b[0m in \u001b[0;36mdraw_all\u001b[0;34m(cls, force)\u001b[0m\n\u001b[1;32m    126\u001b[0m         \u001b[0;32mfor\u001b[0m \u001b[0mf_mgr\u001b[0m \u001b[0;32min\u001b[0m \u001b[0mcls\u001b[0m\u001b[0;34m.\u001b[0m\u001b[0mget_all_fig_managers\u001b[0m\u001b[0;34m(\u001b[0m\u001b[0;34m)\u001b[0m\u001b[0;34m:\u001b[0m\u001b[0;34m\u001b[0m\u001b[0;34m\u001b[0m\u001b[0m\n\u001b[1;32m    127\u001b[0m             \u001b[0;32mif\u001b[0m \u001b[0mforce\u001b[0m \u001b[0;32mor\u001b[0m \u001b[0mf_mgr\u001b[0m\u001b[0;34m.\u001b[0m\u001b[0mcanvas\u001b[0m\u001b[0;34m.\u001b[0m\u001b[0mfigure\u001b[0m\u001b[0;34m.\u001b[0m\u001b[0mstale\u001b[0m\u001b[0;34m:\u001b[0m\u001b[0;34m\u001b[0m\u001b[0;34m\u001b[0m\u001b[0m\n\u001b[0;32m--> 128\u001b[0;31m                 \u001b[0mf_mgr\u001b[0m\u001b[0;34m.\u001b[0m\u001b[0mcanvas\u001b[0m\u001b[0;34m.\u001b[0m\u001b[0mdraw_idle\u001b[0m\u001b[0;34m(\u001b[0m\u001b[0;34m)\u001b[0m\u001b[0;34m\u001b[0m\u001b[0;34m\u001b[0m\u001b[0m\n\u001b[0m\u001b[1;32m    129\u001b[0m \u001b[0;34m\u001b[0m\u001b[0m\n\u001b[1;32m    130\u001b[0m \u001b[0matexit\u001b[0m\u001b[0;34m.\u001b[0m\u001b[0mregister\u001b[0m\u001b[0;34m(\u001b[0m\u001b[0mGcf\u001b[0m\u001b[0;34m.\u001b[0m\u001b[0mdestroy_all\u001b[0m\u001b[0;34m)\u001b[0m\u001b[0;34m\u001b[0m\u001b[0;34m\u001b[0m\u001b[0m\n",
      "\u001b[0;32m//anaconda3/envs/learn-env/lib/python3.6/site-packages/matplotlib/backend_bases.py\u001b[0m in \u001b[0;36mdraw_idle\u001b[0;34m(self, *args, **kwargs)\u001b[0m\n\u001b[1;32m   1905\u001b[0m         \u001b[0;32mif\u001b[0m \u001b[0;32mnot\u001b[0m \u001b[0mself\u001b[0m\u001b[0;34m.\u001b[0m\u001b[0m_is_idle_drawing\u001b[0m\u001b[0;34m:\u001b[0m\u001b[0;34m\u001b[0m\u001b[0;34m\u001b[0m\u001b[0m\n\u001b[1;32m   1906\u001b[0m             \u001b[0;32mwith\u001b[0m \u001b[0mself\u001b[0m\u001b[0;34m.\u001b[0m\u001b[0m_idle_draw_cntx\u001b[0m\u001b[0;34m(\u001b[0m\u001b[0;34m)\u001b[0m\u001b[0;34m:\u001b[0m\u001b[0;34m\u001b[0m\u001b[0;34m\u001b[0m\u001b[0m\n\u001b[0;32m-> 1907\u001b[0;31m                 \u001b[0mself\u001b[0m\u001b[0;34m.\u001b[0m\u001b[0mdraw\u001b[0m\u001b[0;34m(\u001b[0m\u001b[0;34m*\u001b[0m\u001b[0margs\u001b[0m\u001b[0;34m,\u001b[0m \u001b[0;34m**\u001b[0m\u001b[0mkwargs\u001b[0m\u001b[0;34m)\u001b[0m\u001b[0;34m\u001b[0m\u001b[0;34m\u001b[0m\u001b[0m\n\u001b[0m\u001b[1;32m   1908\u001b[0m \u001b[0;34m\u001b[0m\u001b[0m\n\u001b[1;32m   1909\u001b[0m     \u001b[0;32mdef\u001b[0m \u001b[0mdraw_cursor\u001b[0m\u001b[0;34m(\u001b[0m\u001b[0mself\u001b[0m\u001b[0;34m,\u001b[0m \u001b[0mevent\u001b[0m\u001b[0;34m)\u001b[0m\u001b[0;34m:\u001b[0m\u001b[0;34m\u001b[0m\u001b[0;34m\u001b[0m\u001b[0m\n",
      "\u001b[0;32m//anaconda3/envs/learn-env/lib/python3.6/site-packages/matplotlib/backends/backend_agg.py\u001b[0m in \u001b[0;36mdraw\u001b[0;34m(self)\u001b[0m\n\u001b[1;32m    386\u001b[0m         \u001b[0mself\u001b[0m\u001b[0;34m.\u001b[0m\u001b[0mrenderer\u001b[0m \u001b[0;34m=\u001b[0m \u001b[0mself\u001b[0m\u001b[0;34m.\u001b[0m\u001b[0mget_renderer\u001b[0m\u001b[0;34m(\u001b[0m\u001b[0mcleared\u001b[0m\u001b[0;34m=\u001b[0m\u001b[0;32mTrue\u001b[0m\u001b[0;34m)\u001b[0m\u001b[0;34m\u001b[0m\u001b[0;34m\u001b[0m\u001b[0m\n\u001b[1;32m    387\u001b[0m         \u001b[0;32mwith\u001b[0m \u001b[0mRendererAgg\u001b[0m\u001b[0;34m.\u001b[0m\u001b[0mlock\u001b[0m\u001b[0;34m:\u001b[0m\u001b[0;34m\u001b[0m\u001b[0;34m\u001b[0m\u001b[0m\n\u001b[0;32m--> 388\u001b[0;31m             \u001b[0mself\u001b[0m\u001b[0;34m.\u001b[0m\u001b[0mfigure\u001b[0m\u001b[0;34m.\u001b[0m\u001b[0mdraw\u001b[0m\u001b[0;34m(\u001b[0m\u001b[0mself\u001b[0m\u001b[0;34m.\u001b[0m\u001b[0mrenderer\u001b[0m\u001b[0;34m)\u001b[0m\u001b[0;34m\u001b[0m\u001b[0;34m\u001b[0m\u001b[0m\n\u001b[0m\u001b[1;32m    389\u001b[0m             \u001b[0;31m# A GUI class may be need to update a window using this draw, so\u001b[0m\u001b[0;34m\u001b[0m\u001b[0;34m\u001b[0m\u001b[0;34m\u001b[0m\u001b[0m\n\u001b[1;32m    390\u001b[0m             \u001b[0;31m# don't forget to call the superclass.\u001b[0m\u001b[0;34m\u001b[0m\u001b[0;34m\u001b[0m\u001b[0;34m\u001b[0m\u001b[0m\n",
      "\u001b[0;32m//anaconda3/envs/learn-env/lib/python3.6/site-packages/matplotlib/artist.py\u001b[0m in \u001b[0;36mdraw_wrapper\u001b[0;34m(artist, renderer, *args, **kwargs)\u001b[0m\n\u001b[1;32m     36\u001b[0m                 \u001b[0mrenderer\u001b[0m\u001b[0;34m.\u001b[0m\u001b[0mstart_filter\u001b[0m\u001b[0;34m(\u001b[0m\u001b[0;34m)\u001b[0m\u001b[0;34m\u001b[0m\u001b[0;34m\u001b[0m\u001b[0m\n\u001b[1;32m     37\u001b[0m \u001b[0;34m\u001b[0m\u001b[0m\n\u001b[0;32m---> 38\u001b[0;31m             \u001b[0;32mreturn\u001b[0m \u001b[0mdraw\u001b[0m\u001b[0;34m(\u001b[0m\u001b[0martist\u001b[0m\u001b[0;34m,\u001b[0m \u001b[0mrenderer\u001b[0m\u001b[0;34m,\u001b[0m \u001b[0;34m*\u001b[0m\u001b[0margs\u001b[0m\u001b[0;34m,\u001b[0m \u001b[0;34m**\u001b[0m\u001b[0mkwargs\u001b[0m\u001b[0;34m)\u001b[0m\u001b[0;34m\u001b[0m\u001b[0;34m\u001b[0m\u001b[0m\n\u001b[0m\u001b[1;32m     39\u001b[0m         \u001b[0;32mfinally\u001b[0m\u001b[0;34m:\u001b[0m\u001b[0;34m\u001b[0m\u001b[0;34m\u001b[0m\u001b[0m\n\u001b[1;32m     40\u001b[0m             \u001b[0;32mif\u001b[0m \u001b[0martist\u001b[0m\u001b[0;34m.\u001b[0m\u001b[0mget_agg_filter\u001b[0m\u001b[0;34m(\u001b[0m\u001b[0;34m)\u001b[0m \u001b[0;32mis\u001b[0m \u001b[0;32mnot\u001b[0m \u001b[0;32mNone\u001b[0m\u001b[0;34m:\u001b[0m\u001b[0;34m\u001b[0m\u001b[0;34m\u001b[0m\u001b[0m\n",
      "\u001b[0;32m//anaconda3/envs/learn-env/lib/python3.6/site-packages/matplotlib/figure.py\u001b[0m in \u001b[0;36mdraw\u001b[0;34m(self, renderer)\u001b[0m\n\u001b[1;32m   1707\u001b[0m             \u001b[0mself\u001b[0m\u001b[0;34m.\u001b[0m\u001b[0mpatch\u001b[0m\u001b[0;34m.\u001b[0m\u001b[0mdraw\u001b[0m\u001b[0;34m(\u001b[0m\u001b[0mrenderer\u001b[0m\u001b[0;34m)\u001b[0m\u001b[0;34m\u001b[0m\u001b[0;34m\u001b[0m\u001b[0m\n\u001b[1;32m   1708\u001b[0m             mimage._draw_list_compositing_images(\n\u001b[0;32m-> 1709\u001b[0;31m                 renderer, self, artists, self.suppressComposite)\n\u001b[0m\u001b[1;32m   1710\u001b[0m \u001b[0;34m\u001b[0m\u001b[0m\n\u001b[1;32m   1711\u001b[0m             \u001b[0mrenderer\u001b[0m\u001b[0;34m.\u001b[0m\u001b[0mclose_group\u001b[0m\u001b[0;34m(\u001b[0m\u001b[0;34m'figure'\u001b[0m\u001b[0;34m)\u001b[0m\u001b[0;34m\u001b[0m\u001b[0;34m\u001b[0m\u001b[0m\n",
      "\u001b[0;32m//anaconda3/envs/learn-env/lib/python3.6/site-packages/matplotlib/image.py\u001b[0m in \u001b[0;36m_draw_list_compositing_images\u001b[0;34m(renderer, parent, artists, suppress_composite)\u001b[0m\n\u001b[1;32m    133\u001b[0m     \u001b[0;32mif\u001b[0m \u001b[0mnot_composite\u001b[0m \u001b[0;32mor\u001b[0m \u001b[0;32mnot\u001b[0m \u001b[0mhas_images\u001b[0m\u001b[0;34m:\u001b[0m\u001b[0;34m\u001b[0m\u001b[0;34m\u001b[0m\u001b[0m\n\u001b[1;32m    134\u001b[0m         \u001b[0;32mfor\u001b[0m \u001b[0ma\u001b[0m \u001b[0;32min\u001b[0m \u001b[0martists\u001b[0m\u001b[0;34m:\u001b[0m\u001b[0;34m\u001b[0m\u001b[0;34m\u001b[0m\u001b[0m\n\u001b[0;32m--> 135\u001b[0;31m             \u001b[0ma\u001b[0m\u001b[0;34m.\u001b[0m\u001b[0mdraw\u001b[0m\u001b[0;34m(\u001b[0m\u001b[0mrenderer\u001b[0m\u001b[0;34m)\u001b[0m\u001b[0;34m\u001b[0m\u001b[0;34m\u001b[0m\u001b[0m\n\u001b[0m\u001b[1;32m    136\u001b[0m     \u001b[0;32melse\u001b[0m\u001b[0;34m:\u001b[0m\u001b[0;34m\u001b[0m\u001b[0;34m\u001b[0m\u001b[0m\n\u001b[1;32m    137\u001b[0m         \u001b[0;31m# Composite any adjacent images together\u001b[0m\u001b[0;34m\u001b[0m\u001b[0;34m\u001b[0m\u001b[0;34m\u001b[0m\u001b[0m\n",
      "\u001b[0;32m//anaconda3/envs/learn-env/lib/python3.6/site-packages/matplotlib/artist.py\u001b[0m in \u001b[0;36mdraw_wrapper\u001b[0;34m(artist, renderer, *args, **kwargs)\u001b[0m\n\u001b[1;32m     36\u001b[0m                 \u001b[0mrenderer\u001b[0m\u001b[0;34m.\u001b[0m\u001b[0mstart_filter\u001b[0m\u001b[0;34m(\u001b[0m\u001b[0;34m)\u001b[0m\u001b[0;34m\u001b[0m\u001b[0;34m\u001b[0m\u001b[0m\n\u001b[1;32m     37\u001b[0m \u001b[0;34m\u001b[0m\u001b[0m\n\u001b[0;32m---> 38\u001b[0;31m             \u001b[0;32mreturn\u001b[0m \u001b[0mdraw\u001b[0m\u001b[0;34m(\u001b[0m\u001b[0martist\u001b[0m\u001b[0;34m,\u001b[0m \u001b[0mrenderer\u001b[0m\u001b[0;34m,\u001b[0m \u001b[0;34m*\u001b[0m\u001b[0margs\u001b[0m\u001b[0;34m,\u001b[0m \u001b[0;34m**\u001b[0m\u001b[0mkwargs\u001b[0m\u001b[0;34m)\u001b[0m\u001b[0;34m\u001b[0m\u001b[0;34m\u001b[0m\u001b[0m\n\u001b[0m\u001b[1;32m     39\u001b[0m         \u001b[0;32mfinally\u001b[0m\u001b[0;34m:\u001b[0m\u001b[0;34m\u001b[0m\u001b[0;34m\u001b[0m\u001b[0m\n\u001b[1;32m     40\u001b[0m             \u001b[0;32mif\u001b[0m \u001b[0martist\u001b[0m\u001b[0;34m.\u001b[0m\u001b[0mget_agg_filter\u001b[0m\u001b[0;34m(\u001b[0m\u001b[0;34m)\u001b[0m \u001b[0;32mis\u001b[0m \u001b[0;32mnot\u001b[0m \u001b[0;32mNone\u001b[0m\u001b[0;34m:\u001b[0m\u001b[0;34m\u001b[0m\u001b[0;34m\u001b[0m\u001b[0m\n",
      "\u001b[0;32m//anaconda3/envs/learn-env/lib/python3.6/site-packages/matplotlib/axes/_base.py\u001b[0m in \u001b[0;36mdraw\u001b[0;34m(self, renderer, inframe)\u001b[0m\n\u001b[1;32m   2645\u001b[0m             \u001b[0mrenderer\u001b[0m\u001b[0;34m.\u001b[0m\u001b[0mstop_rasterizing\u001b[0m\u001b[0;34m(\u001b[0m\u001b[0;34m)\u001b[0m\u001b[0;34m\u001b[0m\u001b[0;34m\u001b[0m\u001b[0m\n\u001b[1;32m   2646\u001b[0m \u001b[0;34m\u001b[0m\u001b[0m\n\u001b[0;32m-> 2647\u001b[0;31m         \u001b[0mmimage\u001b[0m\u001b[0;34m.\u001b[0m\u001b[0m_draw_list_compositing_images\u001b[0m\u001b[0;34m(\u001b[0m\u001b[0mrenderer\u001b[0m\u001b[0;34m,\u001b[0m \u001b[0mself\u001b[0m\u001b[0;34m,\u001b[0m \u001b[0martists\u001b[0m\u001b[0;34m)\u001b[0m\u001b[0;34m\u001b[0m\u001b[0;34m\u001b[0m\u001b[0m\n\u001b[0m\u001b[1;32m   2648\u001b[0m \u001b[0;34m\u001b[0m\u001b[0m\n\u001b[1;32m   2649\u001b[0m         \u001b[0mrenderer\u001b[0m\u001b[0;34m.\u001b[0m\u001b[0mclose_group\u001b[0m\u001b[0;34m(\u001b[0m\u001b[0;34m'axes'\u001b[0m\u001b[0;34m)\u001b[0m\u001b[0;34m\u001b[0m\u001b[0;34m\u001b[0m\u001b[0m\n",
      "\u001b[0;32m//anaconda3/envs/learn-env/lib/python3.6/site-packages/matplotlib/image.py\u001b[0m in \u001b[0;36m_draw_list_compositing_images\u001b[0;34m(renderer, parent, artists, suppress_composite)\u001b[0m\n\u001b[1;32m    133\u001b[0m     \u001b[0;32mif\u001b[0m \u001b[0mnot_composite\u001b[0m \u001b[0;32mor\u001b[0m \u001b[0;32mnot\u001b[0m \u001b[0mhas_images\u001b[0m\u001b[0;34m:\u001b[0m\u001b[0;34m\u001b[0m\u001b[0;34m\u001b[0m\u001b[0m\n\u001b[1;32m    134\u001b[0m         \u001b[0;32mfor\u001b[0m \u001b[0ma\u001b[0m \u001b[0;32min\u001b[0m \u001b[0martists\u001b[0m\u001b[0;34m:\u001b[0m\u001b[0;34m\u001b[0m\u001b[0;34m\u001b[0m\u001b[0m\n\u001b[0;32m--> 135\u001b[0;31m             \u001b[0ma\u001b[0m\u001b[0;34m.\u001b[0m\u001b[0mdraw\u001b[0m\u001b[0;34m(\u001b[0m\u001b[0mrenderer\u001b[0m\u001b[0;34m)\u001b[0m\u001b[0;34m\u001b[0m\u001b[0;34m\u001b[0m\u001b[0m\n\u001b[0m\u001b[1;32m    136\u001b[0m     \u001b[0;32melse\u001b[0m\u001b[0;34m:\u001b[0m\u001b[0;34m\u001b[0m\u001b[0;34m\u001b[0m\u001b[0m\n\u001b[1;32m    137\u001b[0m         \u001b[0;31m# Composite any adjacent images together\u001b[0m\u001b[0;34m\u001b[0m\u001b[0;34m\u001b[0m\u001b[0;34m\u001b[0m\u001b[0m\n",
      "\u001b[0;32m//anaconda3/envs/learn-env/lib/python3.6/site-packages/matplotlib/artist.py\u001b[0m in \u001b[0;36mdraw_wrapper\u001b[0;34m(artist, renderer, *args, **kwargs)\u001b[0m\n\u001b[1;32m     36\u001b[0m                 \u001b[0mrenderer\u001b[0m\u001b[0;34m.\u001b[0m\u001b[0mstart_filter\u001b[0m\u001b[0;34m(\u001b[0m\u001b[0;34m)\u001b[0m\u001b[0;34m\u001b[0m\u001b[0;34m\u001b[0m\u001b[0m\n\u001b[1;32m     37\u001b[0m \u001b[0;34m\u001b[0m\u001b[0m\n\u001b[0;32m---> 38\u001b[0;31m             \u001b[0;32mreturn\u001b[0m \u001b[0mdraw\u001b[0m\u001b[0;34m(\u001b[0m\u001b[0martist\u001b[0m\u001b[0;34m,\u001b[0m \u001b[0mrenderer\u001b[0m\u001b[0;34m,\u001b[0m \u001b[0;34m*\u001b[0m\u001b[0margs\u001b[0m\u001b[0;34m,\u001b[0m \u001b[0;34m**\u001b[0m\u001b[0mkwargs\u001b[0m\u001b[0;34m)\u001b[0m\u001b[0;34m\u001b[0m\u001b[0;34m\u001b[0m\u001b[0m\n\u001b[0m\u001b[1;32m     39\u001b[0m         \u001b[0;32mfinally\u001b[0m\u001b[0;34m:\u001b[0m\u001b[0;34m\u001b[0m\u001b[0;34m\u001b[0m\u001b[0m\n\u001b[1;32m     40\u001b[0m             \u001b[0;32mif\u001b[0m \u001b[0martist\u001b[0m\u001b[0;34m.\u001b[0m\u001b[0mget_agg_filter\u001b[0m\u001b[0;34m(\u001b[0m\u001b[0;34m)\u001b[0m \u001b[0;32mis\u001b[0m \u001b[0;32mnot\u001b[0m \u001b[0;32mNone\u001b[0m\u001b[0;34m:\u001b[0m\u001b[0;34m\u001b[0m\u001b[0;34m\u001b[0m\u001b[0m\n",
      "\u001b[0;32m//anaconda3/envs/learn-env/lib/python3.6/site-packages/matplotlib/axis.py\u001b[0m in \u001b[0;36mdraw\u001b[0;34m(self, renderer, *args, **kwargs)\u001b[0m\n\u001b[1;32m   1201\u001b[0m         \u001b[0mrenderer\u001b[0m\u001b[0;34m.\u001b[0m\u001b[0mopen_group\u001b[0m\u001b[0;34m(\u001b[0m\u001b[0m__name__\u001b[0m\u001b[0;34m)\u001b[0m\u001b[0;34m\u001b[0m\u001b[0;34m\u001b[0m\u001b[0m\n\u001b[1;32m   1202\u001b[0m \u001b[0;34m\u001b[0m\u001b[0m\n\u001b[0;32m-> 1203\u001b[0;31m         \u001b[0mticks_to_draw\u001b[0m \u001b[0;34m=\u001b[0m \u001b[0mself\u001b[0m\u001b[0;34m.\u001b[0m\u001b[0m_update_ticks\u001b[0m\u001b[0;34m(\u001b[0m\u001b[0;34m)\u001b[0m\u001b[0;34m\u001b[0m\u001b[0;34m\u001b[0m\u001b[0m\n\u001b[0m\u001b[1;32m   1204\u001b[0m         ticklabelBoxes, ticklabelBoxes2 = self._get_tick_bboxes(ticks_to_draw,\n\u001b[1;32m   1205\u001b[0m                                                                 renderer)\n",
      "\u001b[0;32m//anaconda3/envs/learn-env/lib/python3.6/site-packages/matplotlib/axis.py\u001b[0m in \u001b[0;36m_update_ticks\u001b[0;34m(self)\u001b[0m\n\u001b[1;32m   1078\u001b[0m         \"\"\"\n\u001b[1;32m   1079\u001b[0m         \u001b[0mmajor_locs\u001b[0m \u001b[0;34m=\u001b[0m \u001b[0mself\u001b[0m\u001b[0;34m.\u001b[0m\u001b[0mget_majorticklocs\u001b[0m\u001b[0;34m(\u001b[0m\u001b[0;34m)\u001b[0m\u001b[0;34m\u001b[0m\u001b[0;34m\u001b[0m\u001b[0m\n\u001b[0;32m-> 1080\u001b[0;31m         \u001b[0mmajor_labels\u001b[0m \u001b[0;34m=\u001b[0m \u001b[0mself\u001b[0m\u001b[0;34m.\u001b[0m\u001b[0mmajor\u001b[0m\u001b[0;34m.\u001b[0m\u001b[0mformatter\u001b[0m\u001b[0;34m.\u001b[0m\u001b[0mformat_ticks\u001b[0m\u001b[0;34m(\u001b[0m\u001b[0mmajor_locs\u001b[0m\u001b[0;34m)\u001b[0m\u001b[0;34m\u001b[0m\u001b[0;34m\u001b[0m\u001b[0m\n\u001b[0m\u001b[1;32m   1081\u001b[0m         \u001b[0mmajor_ticks\u001b[0m \u001b[0;34m=\u001b[0m \u001b[0mself\u001b[0m\u001b[0;34m.\u001b[0m\u001b[0mget_major_ticks\u001b[0m\u001b[0;34m(\u001b[0m\u001b[0mlen\u001b[0m\u001b[0;34m(\u001b[0m\u001b[0mmajor_locs\u001b[0m\u001b[0;34m)\u001b[0m\u001b[0;34m)\u001b[0m\u001b[0;34m\u001b[0m\u001b[0;34m\u001b[0m\u001b[0m\n\u001b[1;32m   1082\u001b[0m         \u001b[0mself\u001b[0m\u001b[0;34m.\u001b[0m\u001b[0mmajor\u001b[0m\u001b[0;34m.\u001b[0m\u001b[0mformatter\u001b[0m\u001b[0;34m.\u001b[0m\u001b[0mset_locs\u001b[0m\u001b[0;34m(\u001b[0m\u001b[0mmajor_locs\u001b[0m\u001b[0;34m)\u001b[0m\u001b[0;34m\u001b[0m\u001b[0;34m\u001b[0m\u001b[0m\n",
      "\u001b[0;32m//anaconda3/envs/learn-env/lib/python3.6/site-packages/matplotlib/ticker.py\u001b[0m in \u001b[0;36mformat_ticks\u001b[0;34m(self, values)\u001b[0m\n\u001b[1;32m    257\u001b[0m         \u001b[0;34m\"\"\"Return the tick labels for all the ticks at once.\"\"\"\u001b[0m\u001b[0;34m\u001b[0m\u001b[0;34m\u001b[0m\u001b[0m\n\u001b[1;32m    258\u001b[0m         \u001b[0mself\u001b[0m\u001b[0;34m.\u001b[0m\u001b[0mset_locs\u001b[0m\u001b[0;34m(\u001b[0m\u001b[0mvalues\u001b[0m\u001b[0;34m)\u001b[0m\u001b[0;34m\u001b[0m\u001b[0;34m\u001b[0m\u001b[0m\n\u001b[0;32m--> 259\u001b[0;31m         \u001b[0;32mreturn\u001b[0m \u001b[0;34m[\u001b[0m\u001b[0mself\u001b[0m\u001b[0;34m(\u001b[0m\u001b[0mvalue\u001b[0m\u001b[0;34m,\u001b[0m \u001b[0mi\u001b[0m\u001b[0;34m)\u001b[0m \u001b[0;32mfor\u001b[0m \u001b[0mi\u001b[0m\u001b[0;34m,\u001b[0m \u001b[0mvalue\u001b[0m \u001b[0;32min\u001b[0m \u001b[0menumerate\u001b[0m\u001b[0;34m(\u001b[0m\u001b[0mvalues\u001b[0m\u001b[0;34m)\u001b[0m\u001b[0;34m]\u001b[0m\u001b[0;34m\u001b[0m\u001b[0;34m\u001b[0m\u001b[0m\n\u001b[0m\u001b[1;32m    260\u001b[0m \u001b[0;34m\u001b[0m\u001b[0m\n\u001b[1;32m    261\u001b[0m     \u001b[0;32mdef\u001b[0m \u001b[0mformat_data\u001b[0m\u001b[0;34m(\u001b[0m\u001b[0mself\u001b[0m\u001b[0;34m,\u001b[0m \u001b[0mvalue\u001b[0m\u001b[0;34m)\u001b[0m\u001b[0;34m:\u001b[0m\u001b[0;34m\u001b[0m\u001b[0;34m\u001b[0m\u001b[0m\n",
      "\u001b[0;32m//anaconda3/envs/learn-env/lib/python3.6/site-packages/matplotlib/ticker.py\u001b[0m in \u001b[0;36m<listcomp>\u001b[0;34m(.0)\u001b[0m\n\u001b[1;32m    257\u001b[0m         \u001b[0;34m\"\"\"Return the tick labels for all the ticks at once.\"\"\"\u001b[0m\u001b[0;34m\u001b[0m\u001b[0;34m\u001b[0m\u001b[0m\n\u001b[1;32m    258\u001b[0m         \u001b[0mself\u001b[0m\u001b[0;34m.\u001b[0m\u001b[0mset_locs\u001b[0m\u001b[0;34m(\u001b[0m\u001b[0mvalues\u001b[0m\u001b[0;34m)\u001b[0m\u001b[0;34m\u001b[0m\u001b[0;34m\u001b[0m\u001b[0m\n\u001b[0;32m--> 259\u001b[0;31m         \u001b[0;32mreturn\u001b[0m \u001b[0;34m[\u001b[0m\u001b[0mself\u001b[0m\u001b[0;34m(\u001b[0m\u001b[0mvalue\u001b[0m\u001b[0;34m,\u001b[0m \u001b[0mi\u001b[0m\u001b[0;34m)\u001b[0m \u001b[0;32mfor\u001b[0m \u001b[0mi\u001b[0m\u001b[0;34m,\u001b[0m \u001b[0mvalue\u001b[0m \u001b[0;32min\u001b[0m \u001b[0menumerate\u001b[0m\u001b[0;34m(\u001b[0m\u001b[0mvalues\u001b[0m\u001b[0;34m)\u001b[0m\u001b[0;34m]\u001b[0m\u001b[0;34m\u001b[0m\u001b[0;34m\u001b[0m\u001b[0m\n\u001b[0m\u001b[1;32m    260\u001b[0m \u001b[0;34m\u001b[0m\u001b[0m\n\u001b[1;32m    261\u001b[0m     \u001b[0;32mdef\u001b[0m \u001b[0mformat_data\u001b[0m\u001b[0;34m(\u001b[0m\u001b[0mself\u001b[0m\u001b[0;34m,\u001b[0m \u001b[0mvalue\u001b[0m\u001b[0;34m)\u001b[0m\u001b[0;34m:\u001b[0m\u001b[0;34m\u001b[0m\u001b[0;34m\u001b[0m\u001b[0m\n",
      "\u001b[0;32m//anaconda3/envs/learn-env/lib/python3.6/site-packages/matplotlib/dates.py\u001b[0m in \u001b[0;36m__call__\u001b[0;34m(self, x, pos)\u001b[0m\n\u001b[1;32m    599\u001b[0m     \u001b[0;32mdef\u001b[0m \u001b[0m__call__\u001b[0m\u001b[0;34m(\u001b[0m\u001b[0mself\u001b[0m\u001b[0;34m,\u001b[0m \u001b[0mx\u001b[0m\u001b[0;34m,\u001b[0m \u001b[0mpos\u001b[0m\u001b[0;34m=\u001b[0m\u001b[0;36m0\u001b[0m\u001b[0;34m)\u001b[0m\u001b[0;34m:\u001b[0m\u001b[0;34m\u001b[0m\u001b[0;34m\u001b[0m\u001b[0m\n\u001b[1;32m    600\u001b[0m         \u001b[0;32mif\u001b[0m \u001b[0mx\u001b[0m \u001b[0;34m==\u001b[0m \u001b[0;36m0\u001b[0m\u001b[0;34m:\u001b[0m\u001b[0;34m\u001b[0m\u001b[0;34m\u001b[0m\u001b[0m\n\u001b[0;32m--> 601\u001b[0;31m             raise ValueError('DateFormatter found a value of x=0, which is '\n\u001b[0m\u001b[1;32m    602\u001b[0m                              \u001b[0;34m'an illegal date; this usually occurs because '\u001b[0m\u001b[0;34m\u001b[0m\u001b[0;34m\u001b[0m\u001b[0m\n\u001b[1;32m    603\u001b[0m                              \u001b[0;34m'you have not informed the axis that it is '\u001b[0m\u001b[0;34m\u001b[0m\u001b[0;34m\u001b[0m\u001b[0m\n",
      "\u001b[0;31mValueError\u001b[0m: DateFormatter found a value of x=0, which is an illegal date; this usually occurs because you have not informed the axis that it is plotting dates, e.g., with ax.xaxis_date()"
     ]
    },
    {
     "ename": "ValueError",
     "evalue": "DateFormatter found a value of x=0, which is an illegal date; this usually occurs because you have not informed the axis that it is plotting dates, e.g., with ax.xaxis_date()",
     "output_type": "error",
     "traceback": [
      "\u001b[0;31m---------------------------------------------------------------------------\u001b[0m",
      "\u001b[0;31mValueError\u001b[0m                                Traceback (most recent call last)",
      "\u001b[0;32m//anaconda3/envs/learn-env/lib/python3.6/site-packages/IPython/core/formatters.py\u001b[0m in \u001b[0;36m__call__\u001b[0;34m(self, obj)\u001b[0m\n\u001b[1;32m    339\u001b[0m                 \u001b[0;32mpass\u001b[0m\u001b[0;34m\u001b[0m\u001b[0;34m\u001b[0m\u001b[0m\n\u001b[1;32m    340\u001b[0m             \u001b[0;32melse\u001b[0m\u001b[0;34m:\u001b[0m\u001b[0;34m\u001b[0m\u001b[0;34m\u001b[0m\u001b[0m\n\u001b[0;32m--> 341\u001b[0;31m                 \u001b[0;32mreturn\u001b[0m \u001b[0mprinter\u001b[0m\u001b[0;34m(\u001b[0m\u001b[0mobj\u001b[0m\u001b[0;34m)\u001b[0m\u001b[0;34m\u001b[0m\u001b[0;34m\u001b[0m\u001b[0m\n\u001b[0m\u001b[1;32m    342\u001b[0m             \u001b[0;31m# Finally look for special method names\u001b[0m\u001b[0;34m\u001b[0m\u001b[0;34m\u001b[0m\u001b[0;34m\u001b[0m\u001b[0m\n\u001b[1;32m    343\u001b[0m             \u001b[0mmethod\u001b[0m \u001b[0;34m=\u001b[0m \u001b[0mget_real_method\u001b[0m\u001b[0;34m(\u001b[0m\u001b[0mobj\u001b[0m\u001b[0;34m,\u001b[0m \u001b[0mself\u001b[0m\u001b[0;34m.\u001b[0m\u001b[0mprint_method\u001b[0m\u001b[0;34m)\u001b[0m\u001b[0;34m\u001b[0m\u001b[0;34m\u001b[0m\u001b[0m\n",
      "\u001b[0;32m//anaconda3/envs/learn-env/lib/python3.6/site-packages/IPython/core/pylabtools.py\u001b[0m in \u001b[0;36m<lambda>\u001b[0;34m(fig)\u001b[0m\n\u001b[1;32m    242\u001b[0m \u001b[0;34m\u001b[0m\u001b[0m\n\u001b[1;32m    243\u001b[0m     \u001b[0;32mif\u001b[0m \u001b[0;34m'png'\u001b[0m \u001b[0;32min\u001b[0m \u001b[0mformats\u001b[0m\u001b[0;34m:\u001b[0m\u001b[0;34m\u001b[0m\u001b[0;34m\u001b[0m\u001b[0m\n\u001b[0;32m--> 244\u001b[0;31m         \u001b[0mpng_formatter\u001b[0m\u001b[0;34m.\u001b[0m\u001b[0mfor_type\u001b[0m\u001b[0;34m(\u001b[0m\u001b[0mFigure\u001b[0m\u001b[0;34m,\u001b[0m \u001b[0;32mlambda\u001b[0m \u001b[0mfig\u001b[0m\u001b[0;34m:\u001b[0m \u001b[0mprint_figure\u001b[0m\u001b[0;34m(\u001b[0m\u001b[0mfig\u001b[0m\u001b[0;34m,\u001b[0m \u001b[0;34m'png'\u001b[0m\u001b[0;34m,\u001b[0m \u001b[0;34m**\u001b[0m\u001b[0mkwargs\u001b[0m\u001b[0;34m)\u001b[0m\u001b[0;34m)\u001b[0m\u001b[0;34m\u001b[0m\u001b[0;34m\u001b[0m\u001b[0m\n\u001b[0m\u001b[1;32m    245\u001b[0m     \u001b[0;32mif\u001b[0m \u001b[0;34m'retina'\u001b[0m \u001b[0;32min\u001b[0m \u001b[0mformats\u001b[0m \u001b[0;32mor\u001b[0m \u001b[0;34m'png2x'\u001b[0m \u001b[0;32min\u001b[0m \u001b[0mformats\u001b[0m\u001b[0;34m:\u001b[0m\u001b[0;34m\u001b[0m\u001b[0;34m\u001b[0m\u001b[0m\n\u001b[1;32m    246\u001b[0m         \u001b[0mpng_formatter\u001b[0m\u001b[0;34m.\u001b[0m\u001b[0mfor_type\u001b[0m\u001b[0;34m(\u001b[0m\u001b[0mFigure\u001b[0m\u001b[0;34m,\u001b[0m \u001b[0;32mlambda\u001b[0m \u001b[0mfig\u001b[0m\u001b[0;34m:\u001b[0m \u001b[0mretina_figure\u001b[0m\u001b[0;34m(\u001b[0m\u001b[0mfig\u001b[0m\u001b[0;34m,\u001b[0m \u001b[0;34m**\u001b[0m\u001b[0mkwargs\u001b[0m\u001b[0;34m)\u001b[0m\u001b[0;34m)\u001b[0m\u001b[0;34m\u001b[0m\u001b[0;34m\u001b[0m\u001b[0m\n",
      "\u001b[0;32m//anaconda3/envs/learn-env/lib/python3.6/site-packages/IPython/core/pylabtools.py\u001b[0m in \u001b[0;36mprint_figure\u001b[0;34m(fig, fmt, bbox_inches, **kwargs)\u001b[0m\n\u001b[1;32m    126\u001b[0m \u001b[0;34m\u001b[0m\u001b[0m\n\u001b[1;32m    127\u001b[0m     \u001b[0mbytes_io\u001b[0m \u001b[0;34m=\u001b[0m \u001b[0mBytesIO\u001b[0m\u001b[0;34m(\u001b[0m\u001b[0;34m)\u001b[0m\u001b[0;34m\u001b[0m\u001b[0;34m\u001b[0m\u001b[0m\n\u001b[0;32m--> 128\u001b[0;31m     \u001b[0mfig\u001b[0m\u001b[0;34m.\u001b[0m\u001b[0mcanvas\u001b[0m\u001b[0;34m.\u001b[0m\u001b[0mprint_figure\u001b[0m\u001b[0;34m(\u001b[0m\u001b[0mbytes_io\u001b[0m\u001b[0;34m,\u001b[0m \u001b[0;34m**\u001b[0m\u001b[0mkw\u001b[0m\u001b[0;34m)\u001b[0m\u001b[0;34m\u001b[0m\u001b[0;34m\u001b[0m\u001b[0m\n\u001b[0m\u001b[1;32m    129\u001b[0m     \u001b[0mdata\u001b[0m \u001b[0;34m=\u001b[0m \u001b[0mbytes_io\u001b[0m\u001b[0;34m.\u001b[0m\u001b[0mgetvalue\u001b[0m\u001b[0;34m(\u001b[0m\u001b[0;34m)\u001b[0m\u001b[0;34m\u001b[0m\u001b[0;34m\u001b[0m\u001b[0m\n\u001b[1;32m    130\u001b[0m     \u001b[0;32mif\u001b[0m \u001b[0mfmt\u001b[0m \u001b[0;34m==\u001b[0m \u001b[0;34m'svg'\u001b[0m\u001b[0;34m:\u001b[0m\u001b[0;34m\u001b[0m\u001b[0;34m\u001b[0m\u001b[0m\n",
      "\u001b[0;32m//anaconda3/envs/learn-env/lib/python3.6/site-packages/matplotlib/backend_bases.py\u001b[0m in \u001b[0;36mprint_figure\u001b[0;34m(self, filename, dpi, facecolor, edgecolor, orientation, format, bbox_inches, **kwargs)\u001b[0m\n\u001b[1;32m   2054\u001b[0m                         \u001b[0morientation\u001b[0m\u001b[0;34m=\u001b[0m\u001b[0morientation\u001b[0m\u001b[0;34m,\u001b[0m\u001b[0;34m\u001b[0m\u001b[0;34m\u001b[0m\u001b[0m\n\u001b[1;32m   2055\u001b[0m                         \u001b[0mdryrun\u001b[0m\u001b[0;34m=\u001b[0m\u001b[0;32mTrue\u001b[0m\u001b[0;34m,\u001b[0m\u001b[0;34m\u001b[0m\u001b[0;34m\u001b[0m\u001b[0m\n\u001b[0;32m-> 2056\u001b[0;31m                         **kwargs)\n\u001b[0m\u001b[1;32m   2057\u001b[0m                     \u001b[0mrenderer\u001b[0m \u001b[0;34m=\u001b[0m \u001b[0mself\u001b[0m\u001b[0;34m.\u001b[0m\u001b[0mfigure\u001b[0m\u001b[0;34m.\u001b[0m\u001b[0m_cachedRenderer\u001b[0m\u001b[0;34m\u001b[0m\u001b[0;34m\u001b[0m\u001b[0m\n\u001b[1;32m   2058\u001b[0m                     \u001b[0mbbox_artists\u001b[0m \u001b[0;34m=\u001b[0m \u001b[0mkwargs\u001b[0m\u001b[0;34m.\u001b[0m\u001b[0mpop\u001b[0m\u001b[0;34m(\u001b[0m\u001b[0;34m\"bbox_extra_artists\"\u001b[0m\u001b[0;34m,\u001b[0m \u001b[0;32mNone\u001b[0m\u001b[0;34m)\u001b[0m\u001b[0;34m\u001b[0m\u001b[0;34m\u001b[0m\u001b[0m\n",
      "\u001b[0;32m//anaconda3/envs/learn-env/lib/python3.6/site-packages/matplotlib/backends/backend_agg.py\u001b[0m in \u001b[0;36mprint_png\u001b[0;34m(self, filename_or_obj, metadata, pil_kwargs, *args, **kwargs)\u001b[0m\n\u001b[1;32m    525\u001b[0m \u001b[0;34m\u001b[0m\u001b[0m\n\u001b[1;32m    526\u001b[0m         \u001b[0;32melse\u001b[0m\u001b[0;34m:\u001b[0m\u001b[0;34m\u001b[0m\u001b[0;34m\u001b[0m\u001b[0m\n\u001b[0;32m--> 527\u001b[0;31m             \u001b[0mFigureCanvasAgg\u001b[0m\u001b[0;34m.\u001b[0m\u001b[0mdraw\u001b[0m\u001b[0;34m(\u001b[0m\u001b[0mself\u001b[0m\u001b[0;34m)\u001b[0m\u001b[0;34m\u001b[0m\u001b[0;34m\u001b[0m\u001b[0m\n\u001b[0m\u001b[1;32m    528\u001b[0m             \u001b[0mrenderer\u001b[0m \u001b[0;34m=\u001b[0m \u001b[0mself\u001b[0m\u001b[0;34m.\u001b[0m\u001b[0mget_renderer\u001b[0m\u001b[0;34m(\u001b[0m\u001b[0;34m)\u001b[0m\u001b[0;34m\u001b[0m\u001b[0;34m\u001b[0m\u001b[0m\n\u001b[1;32m    529\u001b[0m             \u001b[0;32mwith\u001b[0m \u001b[0mcbook\u001b[0m\u001b[0;34m.\u001b[0m\u001b[0m_setattr_cm\u001b[0m\u001b[0;34m(\u001b[0m\u001b[0mrenderer\u001b[0m\u001b[0;34m,\u001b[0m \u001b[0mdpi\u001b[0m\u001b[0;34m=\u001b[0m\u001b[0mself\u001b[0m\u001b[0;34m.\u001b[0m\u001b[0mfigure\u001b[0m\u001b[0;34m.\u001b[0m\u001b[0mdpi\u001b[0m\u001b[0;34m)\u001b[0m\u001b[0;34m,\u001b[0m\u001b[0;31m \u001b[0m\u001b[0;31m\\\u001b[0m\u001b[0;34m\u001b[0m\u001b[0;34m\u001b[0m\u001b[0m\n",
      "\u001b[0;32m//anaconda3/envs/learn-env/lib/python3.6/site-packages/matplotlib/backends/backend_agg.py\u001b[0m in \u001b[0;36mdraw\u001b[0;34m(self)\u001b[0m\n\u001b[1;32m    386\u001b[0m         \u001b[0mself\u001b[0m\u001b[0;34m.\u001b[0m\u001b[0mrenderer\u001b[0m \u001b[0;34m=\u001b[0m \u001b[0mself\u001b[0m\u001b[0;34m.\u001b[0m\u001b[0mget_renderer\u001b[0m\u001b[0;34m(\u001b[0m\u001b[0mcleared\u001b[0m\u001b[0;34m=\u001b[0m\u001b[0;32mTrue\u001b[0m\u001b[0;34m)\u001b[0m\u001b[0;34m\u001b[0m\u001b[0;34m\u001b[0m\u001b[0m\n\u001b[1;32m    387\u001b[0m         \u001b[0;32mwith\u001b[0m \u001b[0mRendererAgg\u001b[0m\u001b[0;34m.\u001b[0m\u001b[0mlock\u001b[0m\u001b[0;34m:\u001b[0m\u001b[0;34m\u001b[0m\u001b[0;34m\u001b[0m\u001b[0m\n\u001b[0;32m--> 388\u001b[0;31m             \u001b[0mself\u001b[0m\u001b[0;34m.\u001b[0m\u001b[0mfigure\u001b[0m\u001b[0;34m.\u001b[0m\u001b[0mdraw\u001b[0m\u001b[0;34m(\u001b[0m\u001b[0mself\u001b[0m\u001b[0;34m.\u001b[0m\u001b[0mrenderer\u001b[0m\u001b[0;34m)\u001b[0m\u001b[0;34m\u001b[0m\u001b[0;34m\u001b[0m\u001b[0m\n\u001b[0m\u001b[1;32m    389\u001b[0m             \u001b[0;31m# A GUI class may be need to update a window using this draw, so\u001b[0m\u001b[0;34m\u001b[0m\u001b[0;34m\u001b[0m\u001b[0;34m\u001b[0m\u001b[0m\n\u001b[1;32m    390\u001b[0m             \u001b[0;31m# don't forget to call the superclass.\u001b[0m\u001b[0;34m\u001b[0m\u001b[0;34m\u001b[0m\u001b[0;34m\u001b[0m\u001b[0m\n",
      "\u001b[0;32m//anaconda3/envs/learn-env/lib/python3.6/site-packages/matplotlib/artist.py\u001b[0m in \u001b[0;36mdraw_wrapper\u001b[0;34m(artist, renderer, *args, **kwargs)\u001b[0m\n\u001b[1;32m     36\u001b[0m                 \u001b[0mrenderer\u001b[0m\u001b[0;34m.\u001b[0m\u001b[0mstart_filter\u001b[0m\u001b[0;34m(\u001b[0m\u001b[0;34m)\u001b[0m\u001b[0;34m\u001b[0m\u001b[0;34m\u001b[0m\u001b[0m\n\u001b[1;32m     37\u001b[0m \u001b[0;34m\u001b[0m\u001b[0m\n\u001b[0;32m---> 38\u001b[0;31m             \u001b[0;32mreturn\u001b[0m \u001b[0mdraw\u001b[0m\u001b[0;34m(\u001b[0m\u001b[0martist\u001b[0m\u001b[0;34m,\u001b[0m \u001b[0mrenderer\u001b[0m\u001b[0;34m,\u001b[0m \u001b[0;34m*\u001b[0m\u001b[0margs\u001b[0m\u001b[0;34m,\u001b[0m \u001b[0;34m**\u001b[0m\u001b[0mkwargs\u001b[0m\u001b[0;34m)\u001b[0m\u001b[0;34m\u001b[0m\u001b[0;34m\u001b[0m\u001b[0m\n\u001b[0m\u001b[1;32m     39\u001b[0m         \u001b[0;32mfinally\u001b[0m\u001b[0;34m:\u001b[0m\u001b[0;34m\u001b[0m\u001b[0;34m\u001b[0m\u001b[0m\n\u001b[1;32m     40\u001b[0m             \u001b[0;32mif\u001b[0m \u001b[0martist\u001b[0m\u001b[0;34m.\u001b[0m\u001b[0mget_agg_filter\u001b[0m\u001b[0;34m(\u001b[0m\u001b[0;34m)\u001b[0m \u001b[0;32mis\u001b[0m \u001b[0;32mnot\u001b[0m \u001b[0;32mNone\u001b[0m\u001b[0;34m:\u001b[0m\u001b[0;34m\u001b[0m\u001b[0;34m\u001b[0m\u001b[0m\n",
      "\u001b[0;32m//anaconda3/envs/learn-env/lib/python3.6/site-packages/matplotlib/figure.py\u001b[0m in \u001b[0;36mdraw\u001b[0;34m(self, renderer)\u001b[0m\n\u001b[1;32m   1707\u001b[0m             \u001b[0mself\u001b[0m\u001b[0;34m.\u001b[0m\u001b[0mpatch\u001b[0m\u001b[0;34m.\u001b[0m\u001b[0mdraw\u001b[0m\u001b[0;34m(\u001b[0m\u001b[0mrenderer\u001b[0m\u001b[0;34m)\u001b[0m\u001b[0;34m\u001b[0m\u001b[0;34m\u001b[0m\u001b[0m\n\u001b[1;32m   1708\u001b[0m             mimage._draw_list_compositing_images(\n\u001b[0;32m-> 1709\u001b[0;31m                 renderer, self, artists, self.suppressComposite)\n\u001b[0m\u001b[1;32m   1710\u001b[0m \u001b[0;34m\u001b[0m\u001b[0m\n\u001b[1;32m   1711\u001b[0m             \u001b[0mrenderer\u001b[0m\u001b[0;34m.\u001b[0m\u001b[0mclose_group\u001b[0m\u001b[0;34m(\u001b[0m\u001b[0;34m'figure'\u001b[0m\u001b[0;34m)\u001b[0m\u001b[0;34m\u001b[0m\u001b[0;34m\u001b[0m\u001b[0m\n",
      "\u001b[0;32m//anaconda3/envs/learn-env/lib/python3.6/site-packages/matplotlib/image.py\u001b[0m in \u001b[0;36m_draw_list_compositing_images\u001b[0;34m(renderer, parent, artists, suppress_composite)\u001b[0m\n\u001b[1;32m    133\u001b[0m     \u001b[0;32mif\u001b[0m \u001b[0mnot_composite\u001b[0m \u001b[0;32mor\u001b[0m \u001b[0;32mnot\u001b[0m \u001b[0mhas_images\u001b[0m\u001b[0;34m:\u001b[0m\u001b[0;34m\u001b[0m\u001b[0;34m\u001b[0m\u001b[0m\n\u001b[1;32m    134\u001b[0m         \u001b[0;32mfor\u001b[0m \u001b[0ma\u001b[0m \u001b[0;32min\u001b[0m \u001b[0martists\u001b[0m\u001b[0;34m:\u001b[0m\u001b[0;34m\u001b[0m\u001b[0;34m\u001b[0m\u001b[0m\n\u001b[0;32m--> 135\u001b[0;31m             \u001b[0ma\u001b[0m\u001b[0;34m.\u001b[0m\u001b[0mdraw\u001b[0m\u001b[0;34m(\u001b[0m\u001b[0mrenderer\u001b[0m\u001b[0;34m)\u001b[0m\u001b[0;34m\u001b[0m\u001b[0;34m\u001b[0m\u001b[0m\n\u001b[0m\u001b[1;32m    136\u001b[0m     \u001b[0;32melse\u001b[0m\u001b[0;34m:\u001b[0m\u001b[0;34m\u001b[0m\u001b[0;34m\u001b[0m\u001b[0m\n\u001b[1;32m    137\u001b[0m         \u001b[0;31m# Composite any adjacent images together\u001b[0m\u001b[0;34m\u001b[0m\u001b[0;34m\u001b[0m\u001b[0;34m\u001b[0m\u001b[0m\n",
      "\u001b[0;32m//anaconda3/envs/learn-env/lib/python3.6/site-packages/matplotlib/artist.py\u001b[0m in \u001b[0;36mdraw_wrapper\u001b[0;34m(artist, renderer, *args, **kwargs)\u001b[0m\n\u001b[1;32m     36\u001b[0m                 \u001b[0mrenderer\u001b[0m\u001b[0;34m.\u001b[0m\u001b[0mstart_filter\u001b[0m\u001b[0;34m(\u001b[0m\u001b[0;34m)\u001b[0m\u001b[0;34m\u001b[0m\u001b[0;34m\u001b[0m\u001b[0m\n\u001b[1;32m     37\u001b[0m \u001b[0;34m\u001b[0m\u001b[0m\n\u001b[0;32m---> 38\u001b[0;31m             \u001b[0;32mreturn\u001b[0m \u001b[0mdraw\u001b[0m\u001b[0;34m(\u001b[0m\u001b[0martist\u001b[0m\u001b[0;34m,\u001b[0m \u001b[0mrenderer\u001b[0m\u001b[0;34m,\u001b[0m \u001b[0;34m*\u001b[0m\u001b[0margs\u001b[0m\u001b[0;34m,\u001b[0m \u001b[0;34m**\u001b[0m\u001b[0mkwargs\u001b[0m\u001b[0;34m)\u001b[0m\u001b[0;34m\u001b[0m\u001b[0;34m\u001b[0m\u001b[0m\n\u001b[0m\u001b[1;32m     39\u001b[0m         \u001b[0;32mfinally\u001b[0m\u001b[0;34m:\u001b[0m\u001b[0;34m\u001b[0m\u001b[0;34m\u001b[0m\u001b[0m\n\u001b[1;32m     40\u001b[0m             \u001b[0;32mif\u001b[0m \u001b[0martist\u001b[0m\u001b[0;34m.\u001b[0m\u001b[0mget_agg_filter\u001b[0m\u001b[0;34m(\u001b[0m\u001b[0;34m)\u001b[0m \u001b[0;32mis\u001b[0m \u001b[0;32mnot\u001b[0m \u001b[0;32mNone\u001b[0m\u001b[0;34m:\u001b[0m\u001b[0;34m\u001b[0m\u001b[0;34m\u001b[0m\u001b[0m\n",
      "\u001b[0;32m//anaconda3/envs/learn-env/lib/python3.6/site-packages/matplotlib/axes/_base.py\u001b[0m in \u001b[0;36mdraw\u001b[0;34m(self, renderer, inframe)\u001b[0m\n\u001b[1;32m   2645\u001b[0m             \u001b[0mrenderer\u001b[0m\u001b[0;34m.\u001b[0m\u001b[0mstop_rasterizing\u001b[0m\u001b[0;34m(\u001b[0m\u001b[0;34m)\u001b[0m\u001b[0;34m\u001b[0m\u001b[0;34m\u001b[0m\u001b[0m\n\u001b[1;32m   2646\u001b[0m \u001b[0;34m\u001b[0m\u001b[0m\n\u001b[0;32m-> 2647\u001b[0;31m         \u001b[0mmimage\u001b[0m\u001b[0;34m.\u001b[0m\u001b[0m_draw_list_compositing_images\u001b[0m\u001b[0;34m(\u001b[0m\u001b[0mrenderer\u001b[0m\u001b[0;34m,\u001b[0m \u001b[0mself\u001b[0m\u001b[0;34m,\u001b[0m \u001b[0martists\u001b[0m\u001b[0;34m)\u001b[0m\u001b[0;34m\u001b[0m\u001b[0;34m\u001b[0m\u001b[0m\n\u001b[0m\u001b[1;32m   2648\u001b[0m \u001b[0;34m\u001b[0m\u001b[0m\n\u001b[1;32m   2649\u001b[0m         \u001b[0mrenderer\u001b[0m\u001b[0;34m.\u001b[0m\u001b[0mclose_group\u001b[0m\u001b[0;34m(\u001b[0m\u001b[0;34m'axes'\u001b[0m\u001b[0;34m)\u001b[0m\u001b[0;34m\u001b[0m\u001b[0;34m\u001b[0m\u001b[0m\n",
      "\u001b[0;32m//anaconda3/envs/learn-env/lib/python3.6/site-packages/matplotlib/image.py\u001b[0m in \u001b[0;36m_draw_list_compositing_images\u001b[0;34m(renderer, parent, artists, suppress_composite)\u001b[0m\n\u001b[1;32m    133\u001b[0m     \u001b[0;32mif\u001b[0m \u001b[0mnot_composite\u001b[0m \u001b[0;32mor\u001b[0m \u001b[0;32mnot\u001b[0m \u001b[0mhas_images\u001b[0m\u001b[0;34m:\u001b[0m\u001b[0;34m\u001b[0m\u001b[0;34m\u001b[0m\u001b[0m\n\u001b[1;32m    134\u001b[0m         \u001b[0;32mfor\u001b[0m \u001b[0ma\u001b[0m \u001b[0;32min\u001b[0m \u001b[0martists\u001b[0m\u001b[0;34m:\u001b[0m\u001b[0;34m\u001b[0m\u001b[0;34m\u001b[0m\u001b[0m\n\u001b[0;32m--> 135\u001b[0;31m             \u001b[0ma\u001b[0m\u001b[0;34m.\u001b[0m\u001b[0mdraw\u001b[0m\u001b[0;34m(\u001b[0m\u001b[0mrenderer\u001b[0m\u001b[0;34m)\u001b[0m\u001b[0;34m\u001b[0m\u001b[0;34m\u001b[0m\u001b[0m\n\u001b[0m\u001b[1;32m    136\u001b[0m     \u001b[0;32melse\u001b[0m\u001b[0;34m:\u001b[0m\u001b[0;34m\u001b[0m\u001b[0;34m\u001b[0m\u001b[0m\n\u001b[1;32m    137\u001b[0m         \u001b[0;31m# Composite any adjacent images together\u001b[0m\u001b[0;34m\u001b[0m\u001b[0;34m\u001b[0m\u001b[0;34m\u001b[0m\u001b[0m\n",
      "\u001b[0;32m//anaconda3/envs/learn-env/lib/python3.6/site-packages/matplotlib/artist.py\u001b[0m in \u001b[0;36mdraw_wrapper\u001b[0;34m(artist, renderer, *args, **kwargs)\u001b[0m\n\u001b[1;32m     36\u001b[0m                 \u001b[0mrenderer\u001b[0m\u001b[0;34m.\u001b[0m\u001b[0mstart_filter\u001b[0m\u001b[0;34m(\u001b[0m\u001b[0;34m)\u001b[0m\u001b[0;34m\u001b[0m\u001b[0;34m\u001b[0m\u001b[0m\n\u001b[1;32m     37\u001b[0m \u001b[0;34m\u001b[0m\u001b[0m\n\u001b[0;32m---> 38\u001b[0;31m             \u001b[0;32mreturn\u001b[0m \u001b[0mdraw\u001b[0m\u001b[0;34m(\u001b[0m\u001b[0martist\u001b[0m\u001b[0;34m,\u001b[0m \u001b[0mrenderer\u001b[0m\u001b[0;34m,\u001b[0m \u001b[0;34m*\u001b[0m\u001b[0margs\u001b[0m\u001b[0;34m,\u001b[0m \u001b[0;34m**\u001b[0m\u001b[0mkwargs\u001b[0m\u001b[0;34m)\u001b[0m\u001b[0;34m\u001b[0m\u001b[0;34m\u001b[0m\u001b[0m\n\u001b[0m\u001b[1;32m     39\u001b[0m         \u001b[0;32mfinally\u001b[0m\u001b[0;34m:\u001b[0m\u001b[0;34m\u001b[0m\u001b[0;34m\u001b[0m\u001b[0m\n\u001b[1;32m     40\u001b[0m             \u001b[0;32mif\u001b[0m \u001b[0martist\u001b[0m\u001b[0;34m.\u001b[0m\u001b[0mget_agg_filter\u001b[0m\u001b[0;34m(\u001b[0m\u001b[0;34m)\u001b[0m \u001b[0;32mis\u001b[0m \u001b[0;32mnot\u001b[0m \u001b[0;32mNone\u001b[0m\u001b[0;34m:\u001b[0m\u001b[0;34m\u001b[0m\u001b[0;34m\u001b[0m\u001b[0m\n",
      "\u001b[0;32m//anaconda3/envs/learn-env/lib/python3.6/site-packages/matplotlib/axis.py\u001b[0m in \u001b[0;36mdraw\u001b[0;34m(self, renderer, *args, **kwargs)\u001b[0m\n\u001b[1;32m   1201\u001b[0m         \u001b[0mrenderer\u001b[0m\u001b[0;34m.\u001b[0m\u001b[0mopen_group\u001b[0m\u001b[0;34m(\u001b[0m\u001b[0m__name__\u001b[0m\u001b[0;34m)\u001b[0m\u001b[0;34m\u001b[0m\u001b[0;34m\u001b[0m\u001b[0m\n\u001b[1;32m   1202\u001b[0m \u001b[0;34m\u001b[0m\u001b[0m\n\u001b[0;32m-> 1203\u001b[0;31m         \u001b[0mticks_to_draw\u001b[0m \u001b[0;34m=\u001b[0m \u001b[0mself\u001b[0m\u001b[0;34m.\u001b[0m\u001b[0m_update_ticks\u001b[0m\u001b[0;34m(\u001b[0m\u001b[0;34m)\u001b[0m\u001b[0;34m\u001b[0m\u001b[0;34m\u001b[0m\u001b[0m\n\u001b[0m\u001b[1;32m   1204\u001b[0m         ticklabelBoxes, ticklabelBoxes2 = self._get_tick_bboxes(ticks_to_draw,\n\u001b[1;32m   1205\u001b[0m                                                                 renderer)\n",
      "\u001b[0;32m//anaconda3/envs/learn-env/lib/python3.6/site-packages/matplotlib/axis.py\u001b[0m in \u001b[0;36m_update_ticks\u001b[0;34m(self)\u001b[0m\n\u001b[1;32m   1078\u001b[0m         \"\"\"\n\u001b[1;32m   1079\u001b[0m         \u001b[0mmajor_locs\u001b[0m \u001b[0;34m=\u001b[0m \u001b[0mself\u001b[0m\u001b[0;34m.\u001b[0m\u001b[0mget_majorticklocs\u001b[0m\u001b[0;34m(\u001b[0m\u001b[0;34m)\u001b[0m\u001b[0;34m\u001b[0m\u001b[0;34m\u001b[0m\u001b[0m\n\u001b[0;32m-> 1080\u001b[0;31m         \u001b[0mmajor_labels\u001b[0m \u001b[0;34m=\u001b[0m \u001b[0mself\u001b[0m\u001b[0;34m.\u001b[0m\u001b[0mmajor\u001b[0m\u001b[0;34m.\u001b[0m\u001b[0mformatter\u001b[0m\u001b[0;34m.\u001b[0m\u001b[0mformat_ticks\u001b[0m\u001b[0;34m(\u001b[0m\u001b[0mmajor_locs\u001b[0m\u001b[0;34m)\u001b[0m\u001b[0;34m\u001b[0m\u001b[0;34m\u001b[0m\u001b[0m\n\u001b[0m\u001b[1;32m   1081\u001b[0m         \u001b[0mmajor_ticks\u001b[0m \u001b[0;34m=\u001b[0m \u001b[0mself\u001b[0m\u001b[0;34m.\u001b[0m\u001b[0mget_major_ticks\u001b[0m\u001b[0;34m(\u001b[0m\u001b[0mlen\u001b[0m\u001b[0;34m(\u001b[0m\u001b[0mmajor_locs\u001b[0m\u001b[0;34m)\u001b[0m\u001b[0;34m)\u001b[0m\u001b[0;34m\u001b[0m\u001b[0;34m\u001b[0m\u001b[0m\n\u001b[1;32m   1082\u001b[0m         \u001b[0mself\u001b[0m\u001b[0;34m.\u001b[0m\u001b[0mmajor\u001b[0m\u001b[0;34m.\u001b[0m\u001b[0mformatter\u001b[0m\u001b[0;34m.\u001b[0m\u001b[0mset_locs\u001b[0m\u001b[0;34m(\u001b[0m\u001b[0mmajor_locs\u001b[0m\u001b[0;34m)\u001b[0m\u001b[0;34m\u001b[0m\u001b[0;34m\u001b[0m\u001b[0m\n",
      "\u001b[0;32m//anaconda3/envs/learn-env/lib/python3.6/site-packages/matplotlib/ticker.py\u001b[0m in \u001b[0;36mformat_ticks\u001b[0;34m(self, values)\u001b[0m\n\u001b[1;32m    257\u001b[0m         \u001b[0;34m\"\"\"Return the tick labels for all the ticks at once.\"\"\"\u001b[0m\u001b[0;34m\u001b[0m\u001b[0;34m\u001b[0m\u001b[0m\n\u001b[1;32m    258\u001b[0m         \u001b[0mself\u001b[0m\u001b[0;34m.\u001b[0m\u001b[0mset_locs\u001b[0m\u001b[0;34m(\u001b[0m\u001b[0mvalues\u001b[0m\u001b[0;34m)\u001b[0m\u001b[0;34m\u001b[0m\u001b[0;34m\u001b[0m\u001b[0m\n\u001b[0;32m--> 259\u001b[0;31m         \u001b[0;32mreturn\u001b[0m \u001b[0;34m[\u001b[0m\u001b[0mself\u001b[0m\u001b[0;34m(\u001b[0m\u001b[0mvalue\u001b[0m\u001b[0;34m,\u001b[0m \u001b[0mi\u001b[0m\u001b[0;34m)\u001b[0m \u001b[0;32mfor\u001b[0m \u001b[0mi\u001b[0m\u001b[0;34m,\u001b[0m \u001b[0mvalue\u001b[0m \u001b[0;32min\u001b[0m \u001b[0menumerate\u001b[0m\u001b[0;34m(\u001b[0m\u001b[0mvalues\u001b[0m\u001b[0;34m)\u001b[0m\u001b[0;34m]\u001b[0m\u001b[0;34m\u001b[0m\u001b[0;34m\u001b[0m\u001b[0m\n\u001b[0m\u001b[1;32m    260\u001b[0m \u001b[0;34m\u001b[0m\u001b[0m\n\u001b[1;32m    261\u001b[0m     \u001b[0;32mdef\u001b[0m \u001b[0mformat_data\u001b[0m\u001b[0;34m(\u001b[0m\u001b[0mself\u001b[0m\u001b[0;34m,\u001b[0m \u001b[0mvalue\u001b[0m\u001b[0;34m)\u001b[0m\u001b[0;34m:\u001b[0m\u001b[0;34m\u001b[0m\u001b[0;34m\u001b[0m\u001b[0m\n",
      "\u001b[0;32m//anaconda3/envs/learn-env/lib/python3.6/site-packages/matplotlib/ticker.py\u001b[0m in \u001b[0;36m<listcomp>\u001b[0;34m(.0)\u001b[0m\n\u001b[1;32m    257\u001b[0m         \u001b[0;34m\"\"\"Return the tick labels for all the ticks at once.\"\"\"\u001b[0m\u001b[0;34m\u001b[0m\u001b[0;34m\u001b[0m\u001b[0m\n\u001b[1;32m    258\u001b[0m         \u001b[0mself\u001b[0m\u001b[0;34m.\u001b[0m\u001b[0mset_locs\u001b[0m\u001b[0;34m(\u001b[0m\u001b[0mvalues\u001b[0m\u001b[0;34m)\u001b[0m\u001b[0;34m\u001b[0m\u001b[0;34m\u001b[0m\u001b[0m\n\u001b[0;32m--> 259\u001b[0;31m         \u001b[0;32mreturn\u001b[0m \u001b[0;34m[\u001b[0m\u001b[0mself\u001b[0m\u001b[0;34m(\u001b[0m\u001b[0mvalue\u001b[0m\u001b[0;34m,\u001b[0m \u001b[0mi\u001b[0m\u001b[0;34m)\u001b[0m \u001b[0;32mfor\u001b[0m \u001b[0mi\u001b[0m\u001b[0;34m,\u001b[0m \u001b[0mvalue\u001b[0m \u001b[0;32min\u001b[0m \u001b[0menumerate\u001b[0m\u001b[0;34m(\u001b[0m\u001b[0mvalues\u001b[0m\u001b[0;34m)\u001b[0m\u001b[0;34m]\u001b[0m\u001b[0;34m\u001b[0m\u001b[0;34m\u001b[0m\u001b[0m\n\u001b[0m\u001b[1;32m    260\u001b[0m \u001b[0;34m\u001b[0m\u001b[0m\n\u001b[1;32m    261\u001b[0m     \u001b[0;32mdef\u001b[0m \u001b[0mformat_data\u001b[0m\u001b[0;34m(\u001b[0m\u001b[0mself\u001b[0m\u001b[0;34m,\u001b[0m \u001b[0mvalue\u001b[0m\u001b[0;34m)\u001b[0m\u001b[0;34m:\u001b[0m\u001b[0;34m\u001b[0m\u001b[0;34m\u001b[0m\u001b[0m\n",
      "\u001b[0;32m//anaconda3/envs/learn-env/lib/python3.6/site-packages/matplotlib/dates.py\u001b[0m in \u001b[0;36m__call__\u001b[0;34m(self, x, pos)\u001b[0m\n\u001b[1;32m    599\u001b[0m     \u001b[0;32mdef\u001b[0m \u001b[0m__call__\u001b[0m\u001b[0;34m(\u001b[0m\u001b[0mself\u001b[0m\u001b[0;34m,\u001b[0m \u001b[0mx\u001b[0m\u001b[0;34m,\u001b[0m \u001b[0mpos\u001b[0m\u001b[0;34m=\u001b[0m\u001b[0;36m0\u001b[0m\u001b[0;34m)\u001b[0m\u001b[0;34m:\u001b[0m\u001b[0;34m\u001b[0m\u001b[0;34m\u001b[0m\u001b[0m\n\u001b[1;32m    600\u001b[0m         \u001b[0;32mif\u001b[0m \u001b[0mx\u001b[0m \u001b[0;34m==\u001b[0m \u001b[0;36m0\u001b[0m\u001b[0;34m:\u001b[0m\u001b[0;34m\u001b[0m\u001b[0;34m\u001b[0m\u001b[0m\n\u001b[0;32m--> 601\u001b[0;31m             raise ValueError('DateFormatter found a value of x=0, which is '\n\u001b[0m\u001b[1;32m    602\u001b[0m                              \u001b[0;34m'an illegal date; this usually occurs because '\u001b[0m\u001b[0;34m\u001b[0m\u001b[0;34m\u001b[0m\u001b[0m\n\u001b[1;32m    603\u001b[0m                              \u001b[0;34m'you have not informed the axis that it is '\u001b[0m\u001b[0;34m\u001b[0m\u001b[0;34m\u001b[0m\u001b[0m\n",
      "\u001b[0;31mValueError\u001b[0m: DateFormatter found a value of x=0, which is an illegal date; this usually occurs because you have not informed the axis that it is plotting dates, e.g., with ax.xaxis_date()"
     ]
    },
    {
     "data": {
      "text/plain": [
       "<Figure size 432x288 with 1 Axes>"
      ]
     },
     "metadata": {
      "needs_background": "light"
     },
     "output_type": "display_data"
    }
   ],
   "source": [
    "ax.xaxis.set_major_formatter(mpl.dates.DateFormatter('%b-%D'))"
   ]
  },
  {
   "cell_type": "markdown",
   "metadata": {},
   "source": [
    "# JEFF:\n"
   ]
  },
  {
   "cell_type": "code",
   "execution_count": 95,
   "metadata": {},
   "outputs": [],
   "source": [
    "df = pd.read_csv('./lessons/grad/andrewwongls.csv')"
   ]
  },
  {
   "cell_type": "code",
   "execution_count": 96,
   "metadata": {},
   "outputs": [
    {
     "data": {
      "text/html": [
       "<div>\n",
       "<style scoped>\n",
       "    .dataframe tbody tr th:only-of-type {\n",
       "        vertical-align: middle;\n",
       "    }\n",
       "\n",
       "    .dataframe tbody tr th {\n",
       "        vertical-align: top;\n",
       "    }\n",
       "\n",
       "    .dataframe thead th {\n",
       "        text-align: right;\n",
       "    }\n",
       "</style>\n",
       "<table border=\"1\" class=\"dataframe\">\n",
       "  <thead>\n",
       "    <tr style=\"text-align: right;\">\n",
       "      <th></th>\n",
       "      <th>Unnamed: 0</th>\n",
       "      <th>dates</th>\n",
       "      <th>lesson</th>\n",
       "    </tr>\n",
       "  </thead>\n",
       "  <tbody>\n",
       "    <tr>\n",
       "      <td>0</td>\n",
       "      <td>69</td>\n",
       "      <td>Saturday, Aug 17th</td>\n",
       "      <td>Getting Started on Your Resume</td>\n",
       "    </tr>\n",
       "    <tr>\n",
       "      <td>1</td>\n",
       "      <td>70</td>\n",
       "      <td>Saturday, Jun 22nd</td>\n",
       "      <td>Section Recap</td>\n",
       "    </tr>\n",
       "    <tr>\n",
       "      <td>2</td>\n",
       "      <td>71</td>\n",
       "      <td>Saturday, Jun 22nd</td>\n",
       "      <td>Bidirectional Sequence Models - Lab</td>\n",
       "    </tr>\n",
       "    <tr>\n",
       "      <td>3</td>\n",
       "      <td>72</td>\n",
       "      <td>Saturday, Jun 22nd</td>\n",
       "      <td>Bidirectional Sequence Models</td>\n",
       "    </tr>\n",
       "    <tr>\n",
       "      <td>4</td>\n",
       "      <td>73</td>\n",
       "      <td>Friday, May 31st</td>\n",
       "      <td>LSTMs and GRUs - Lab</td>\n",
       "    </tr>\n",
       "  </tbody>\n",
       "</table>\n",
       "</div>"
      ],
      "text/plain": [
       "   Unnamed: 0               dates                               lesson\n",
       "0          69  Saturday, Aug 17th       Getting Started on Your Resume\n",
       "1          70  Saturday, Jun 22nd                        Section Recap\n",
       "2          71  Saturday, Jun 22nd  Bidirectional Sequence Models - Lab\n",
       "3          72  Saturday, Jun 22nd        Bidirectional Sequence Models\n",
       "4          73    Friday, May 31st                 LSTMs and GRUs - Lab"
      ]
     },
     "execution_count": 96,
     "metadata": {},
     "output_type": "execute_result"
    }
   ],
   "source": [
    "df.head()"
   ]
  },
  {
   "cell_type": "code",
   "execution_count": 97,
   "metadata": {},
   "outputs": [
    {
     "data": {
      "text/html": [
       "<div>\n",
       "<style scoped>\n",
       "    .dataframe tbody tr th:only-of-type {\n",
       "        vertical-align: middle;\n",
       "    }\n",
       "\n",
       "    .dataframe tbody tr th {\n",
       "        vertical-align: top;\n",
       "    }\n",
       "\n",
       "    .dataframe thead th {\n",
       "        text-align: right;\n",
       "    }\n",
       "</style>\n",
       "<table border=\"1\" class=\"dataframe\">\n",
       "  <thead>\n",
       "    <tr style=\"text-align: right;\">\n",
       "      <th></th>\n",
       "      <th>Unnamed: 0</th>\n",
       "      <th>dates</th>\n",
       "      <th>lesson</th>\n",
       "    </tr>\n",
       "  </thead>\n",
       "  <tbody>\n",
       "    <tr>\n",
       "      <td>1063</td>\n",
       "      <td>1132</td>\n",
       "      <td>Friday, Oct 19th 2018</td>\n",
       "      <td>Problems Data Science Can Solve</td>\n",
       "    </tr>\n",
       "    <tr>\n",
       "      <td>1064</td>\n",
       "      <td>1133</td>\n",
       "      <td>Friday, Oct 19th 2018</td>\n",
       "      <td>Introduction</td>\n",
       "    </tr>\n",
       "    <tr>\n",
       "      <td>1065</td>\n",
       "      <td>1134</td>\n",
       "      <td>Friday, Oct 19th 2018</td>\n",
       "      <td>Introduction</td>\n",
       "    </tr>\n",
       "    <tr>\n",
       "      <td>1066</td>\n",
       "      <td>1135</td>\n",
       "      <td>Friday, Oct 19th 2018</td>\n",
       "      <td>Welcome</td>\n",
       "    </tr>\n",
       "    <tr>\n",
       "      <td>1067</td>\n",
       "      <td>1136</td>\n",
       "      <td>Friday, Oct 19th 2018</td>\n",
       "      <td>Welcome</td>\n",
       "    </tr>\n",
       "  </tbody>\n",
       "</table>\n",
       "</div>"
      ],
      "text/plain": [
       "      Unnamed: 0                  dates                           lesson\n",
       "1063        1132  Friday, Oct 19th 2018  Problems Data Science Can Solve\n",
       "1064        1133  Friday, Oct 19th 2018                     Introduction\n",
       "1065        1134  Friday, Oct 19th 2018                     Introduction\n",
       "1066        1135  Friday, Oct 19th 2018                          Welcome\n",
       "1067        1136  Friday, Oct 19th 2018                          Welcome"
      ]
     },
     "execution_count": 97,
     "metadata": {},
     "output_type": "execute_result"
    }
   ],
   "source": [
    "df.tail()"
   ]
  },
  {
   "cell_type": "code",
   "execution_count": 98,
   "metadata": {},
   "outputs": [
    {
     "data": {
      "text/html": [
       "<div>\n",
       "<style scoped>\n",
       "    .dataframe tbody tr th:only-of-type {\n",
       "        vertical-align: middle;\n",
       "    }\n",
       "\n",
       "    .dataframe tbody tr th {\n",
       "        vertical-align: top;\n",
       "    }\n",
       "\n",
       "    .dataframe thead th {\n",
       "        text-align: right;\n",
       "    }\n",
       "</style>\n",
       "<table border=\"1\" class=\"dataframe\">\n",
       "  <thead>\n",
       "    <tr style=\"text-align: right;\">\n",
       "      <th></th>\n",
       "      <th>Unnamed: 0</th>\n",
       "      <th>dates</th>\n",
       "      <th>lesson</th>\n",
       "    </tr>\n",
       "  </thead>\n",
       "  <tbody>\n",
       "    <tr>\n",
       "      <td>1066</td>\n",
       "      <td>1135</td>\n",
       "      <td>Friday, Oct 19th 2018</td>\n",
       "      <td>Welcome</td>\n",
       "    </tr>\n",
       "    <tr>\n",
       "      <td>1067</td>\n",
       "      <td>1136</td>\n",
       "      <td>Friday, Oct 19th 2018</td>\n",
       "      <td>Welcome</td>\n",
       "    </tr>\n",
       "  </tbody>\n",
       "</table>\n",
       "</div>"
      ],
      "text/plain": [
       "      Unnamed: 0                  dates   lesson\n",
       "1066        1135  Friday, Oct 19th 2018  Welcome\n",
       "1067        1136  Friday, Oct 19th 2018  Welcome"
      ]
     },
     "execution_count": 98,
     "metadata": {},
     "output_type": "execute_result"
    }
   ],
   "source": [
    "df[df['lesson'] == 'Welcome']"
   ]
  },
  {
   "cell_type": "code",
   "execution_count": 99,
   "metadata": {},
   "outputs": [
    {
     "data": {
      "text/plain": [
       "(1068, 3)"
      ]
     },
     "execution_count": 99,
     "metadata": {},
     "output_type": "execute_result"
    }
   ],
   "source": [
    "df.shape"
   ]
  },
  {
   "cell_type": "code",
   "execution_count": 100,
   "metadata": {},
   "outputs": [],
   "source": [
    "df.drop_duplicates(subset = ['lesson'], inplace = True)"
   ]
  },
  {
   "cell_type": "code",
   "execution_count": 101,
   "metadata": {},
   "outputs": [
    {
     "data": {
      "text/html": [
       "<div>\n",
       "<style scoped>\n",
       "    .dataframe tbody tr th:only-of-type {\n",
       "        vertical-align: middle;\n",
       "    }\n",
       "\n",
       "    .dataframe tbody tr th {\n",
       "        vertical-align: top;\n",
       "    }\n",
       "\n",
       "    .dataframe thead th {\n",
       "        text-align: right;\n",
       "    }\n",
       "</style>\n",
       "<table border=\"1\" class=\"dataframe\">\n",
       "  <thead>\n",
       "    <tr style=\"text-align: right;\">\n",
       "      <th></th>\n",
       "      <th>Unnamed: 0</th>\n",
       "      <th>dates</th>\n",
       "      <th>lesson</th>\n",
       "    </tr>\n",
       "  </thead>\n",
       "  <tbody>\n",
       "    <tr>\n",
       "      <td>0</td>\n",
       "      <td>69</td>\n",
       "      <td>Saturday, Aug 17th</td>\n",
       "      <td>Getting Started on Your Resume</td>\n",
       "    </tr>\n",
       "    <tr>\n",
       "      <td>1</td>\n",
       "      <td>70</td>\n",
       "      <td>Saturday, Jun 22nd</td>\n",
       "      <td>Section Recap</td>\n",
       "    </tr>\n",
       "    <tr>\n",
       "      <td>2</td>\n",
       "      <td>71</td>\n",
       "      <td>Saturday, Jun 22nd</td>\n",
       "      <td>Bidirectional Sequence Models - Lab</td>\n",
       "    </tr>\n",
       "    <tr>\n",
       "      <td>3</td>\n",
       "      <td>72</td>\n",
       "      <td>Saturday, Jun 22nd</td>\n",
       "      <td>Bidirectional Sequence Models</td>\n",
       "    </tr>\n",
       "    <tr>\n",
       "      <td>4</td>\n",
       "      <td>73</td>\n",
       "      <td>Friday, May 31st</td>\n",
       "      <td>LSTMs and GRUs - Lab</td>\n",
       "    </tr>\n",
       "  </tbody>\n",
       "</table>\n",
       "</div>"
      ],
      "text/plain": [
       "   Unnamed: 0               dates                               lesson\n",
       "0          69  Saturday, Aug 17th       Getting Started on Your Resume\n",
       "1          70  Saturday, Jun 22nd                        Section Recap\n",
       "2          71  Saturday, Jun 22nd  Bidirectional Sequence Models - Lab\n",
       "3          72  Saturday, Jun 22nd        Bidirectional Sequence Models\n",
       "4          73    Friday, May 31st                 LSTMs and GRUs - Lab"
      ]
     },
     "execution_count": 101,
     "metadata": {},
     "output_type": "execute_result"
    }
   ],
   "source": [
    "df.head()"
   ]
  },
  {
   "cell_type": "code",
   "execution_count": 102,
   "metadata": {},
   "outputs": [
    {
     "data": {
      "text/html": [
       "<div>\n",
       "<style scoped>\n",
       "    .dataframe tbody tr th:only-of-type {\n",
       "        vertical-align: middle;\n",
       "    }\n",
       "\n",
       "    .dataframe tbody tr th {\n",
       "        vertical-align: top;\n",
       "    }\n",
       "\n",
       "    .dataframe thead th {\n",
       "        text-align: right;\n",
       "    }\n",
       "</style>\n",
       "<table border=\"1\" class=\"dataframe\">\n",
       "  <thead>\n",
       "    <tr style=\"text-align: right;\">\n",
       "      <th></th>\n",
       "      <th>Unnamed: 0</th>\n",
       "      <th>dates</th>\n",
       "      <th>lesson</th>\n",
       "    </tr>\n",
       "  </thead>\n",
       "  <tbody>\n",
       "    <tr>\n",
       "      <td>1058</td>\n",
       "      <td>1127</td>\n",
       "      <td>Saturday, Oct 20th 2018</td>\n",
       "      <td>Working With Lessons On Learn</td>\n",
       "    </tr>\n",
       "    <tr>\n",
       "      <td>1059</td>\n",
       "      <td>1128</td>\n",
       "      <td>Saturday, Oct 20th 2018</td>\n",
       "      <td>Working with Lessons on Learn</td>\n",
       "    </tr>\n",
       "    <tr>\n",
       "      <td>1060</td>\n",
       "      <td>1129</td>\n",
       "      <td>Friday, Oct 19th 2018</td>\n",
       "      <td>The Data Science Process</td>\n",
       "    </tr>\n",
       "    <tr>\n",
       "      <td>1062</td>\n",
       "      <td>1131</td>\n",
       "      <td>Friday, Oct 19th 2018</td>\n",
       "      <td>Problems Data Science Can Solve</td>\n",
       "    </tr>\n",
       "    <tr>\n",
       "      <td>1066</td>\n",
       "      <td>1135</td>\n",
       "      <td>Friday, Oct 19th 2018</td>\n",
       "      <td>Welcome</td>\n",
       "    </tr>\n",
       "  </tbody>\n",
       "</table>\n",
       "</div>"
      ],
      "text/plain": [
       "      Unnamed: 0                    dates                           lesson\n",
       "1058        1127  Saturday, Oct 20th 2018    Working With Lessons On Learn\n",
       "1059        1128  Saturday, Oct 20th 2018    Working with Lessons on Learn\n",
       "1060        1129    Friday, Oct 19th 2018         The Data Science Process\n",
       "1062        1131    Friday, Oct 19th 2018  Problems Data Science Can Solve\n",
       "1066        1135    Friday, Oct 19th 2018                          Welcome"
      ]
     },
     "execution_count": 102,
     "metadata": {},
     "output_type": "execute_result"
    }
   ],
   "source": [
    "df.tail()"
   ]
  },
  {
   "cell_type": "code",
   "execution_count": 103,
   "metadata": {},
   "outputs": [
    {
     "data": {
      "text/plain": [
       "(629, 3)"
      ]
     },
     "execution_count": 103,
     "metadata": {},
     "output_type": "execute_result"
    }
   ],
   "source": [
    "df.shape"
   ]
  },
  {
   "cell_type": "code",
   "execution_count": 104,
   "metadata": {},
   "outputs": [],
   "source": [
    "df.drop('Unnamed: 0', axis = 1, inplace = True)"
   ]
  },
  {
   "cell_type": "code",
   "execution_count": 105,
   "metadata": {},
   "outputs": [],
   "source": [
    "test_19 = df.loc[0, 'dates']\n",
    "test_18 = df.loc[1066, 'dates']"
   ]
  },
  {
   "cell_type": "code",
   "execution_count": 106,
   "metadata": {},
   "outputs": [
    {
     "data": {
      "text/plain": [
       "('Saturday, Aug 17th', 'Friday, Oct 19th 2018')"
      ]
     },
     "execution_count": 106,
     "metadata": {},
     "output_type": "execute_result"
    }
   ],
   "source": [
    "test_19, test_18"
   ]
  },
  {
   "cell_type": "code",
   "execution_count": 107,
   "metadata": {},
   "outputs": [],
   "source": [
    "mon, day = test_19.split(',')[1].strip().split(' ')"
   ]
  },
  {
   "cell_type": "code",
   "execution_count": 108,
   "metadata": {},
   "outputs": [],
   "source": [
    "month = {'Jan': 1, 'Feb': 2, 'Mar': 3, 'Apr': 4, 'May': 5, 'Jun': 6, 'Jul': 7, \n",
    "        'Aug': 8, 'Sep': 9, 'Oct': 10, 'Nov': 11, 'Dec': 12}"
   ]
  },
  {
   "cell_type": "code",
   "execution_count": 109,
   "metadata": {},
   "outputs": [
    {
     "data": {
      "text/plain": [
       "8"
      ]
     },
     "execution_count": 109,
     "metadata": {},
     "output_type": "execute_result"
    }
   ],
   "source": [
    "month[mon]"
   ]
  },
  {
   "cell_type": "code",
   "execution_count": 110,
   "metadata": {},
   "outputs": [
    {
     "data": {
      "text/plain": [
       "'17th'"
      ]
     },
     "execution_count": 110,
     "metadata": {},
     "output_type": "execute_result"
    }
   ],
   "source": [
    "day"
   ]
  },
  {
   "cell_type": "code",
   "execution_count": null,
   "metadata": {},
   "outputs": [],
   "source": []
  },
  {
   "cell_type": "code",
   "execution_count": 111,
   "metadata": {},
   "outputs": [],
   "source": [
    "def update_date(date_value):\n",
    "    split_date = date_value.split(',')[1].strip().split(' ')\n",
    "    day_extract = re.findall(r'\\d+', split_date[1])[0]\n",
    "    if len(split_date) == 2:\n",
    "        return (f\"{month[split_date[0]]}/{day_extract}/2019\")\n",
    "    else:\n",
    "        return (f\"{month[split_date[0]]}/{day_extract}/{split_date[2]}\")"
   ]
  },
  {
   "cell_type": "code",
   "execution_count": 112,
   "metadata": {},
   "outputs": [
    {
     "data": {
      "text/plain": [
       "'8/17/2019'"
      ]
     },
     "execution_count": 112,
     "metadata": {},
     "output_type": "execute_result"
    }
   ],
   "source": [
    "update_date(test_19)"
   ]
  },
  {
   "cell_type": "code",
   "execution_count": 113,
   "metadata": {},
   "outputs": [
    {
     "data": {
      "text/plain": [
       "'10/19/2018'"
      ]
     },
     "execution_count": 113,
     "metadata": {},
     "output_type": "execute_result"
    }
   ],
   "source": [
    "update_date(test_18)"
   ]
  },
  {
   "cell_type": "code",
   "execution_count": 114,
   "metadata": {},
   "outputs": [
    {
     "data": {
      "text/html": [
       "<div>\n",
       "<style scoped>\n",
       "    .dataframe tbody tr th:only-of-type {\n",
       "        vertical-align: middle;\n",
       "    }\n",
       "\n",
       "    .dataframe tbody tr th {\n",
       "        vertical-align: top;\n",
       "    }\n",
       "\n",
       "    .dataframe thead th {\n",
       "        text-align: right;\n",
       "    }\n",
       "</style>\n",
       "<table border=\"1\" class=\"dataframe\">\n",
       "  <thead>\n",
       "    <tr style=\"text-align: right;\">\n",
       "      <th></th>\n",
       "      <th>dates</th>\n",
       "      <th>lesson</th>\n",
       "    </tr>\n",
       "  </thead>\n",
       "  <tbody>\n",
       "    <tr>\n",
       "      <td>0</td>\n",
       "      <td>Saturday, Aug 17th</td>\n",
       "      <td>Getting Started on Your Resume</td>\n",
       "    </tr>\n",
       "    <tr>\n",
       "      <td>1</td>\n",
       "      <td>Saturday, Jun 22nd</td>\n",
       "      <td>Section Recap</td>\n",
       "    </tr>\n",
       "    <tr>\n",
       "      <td>2</td>\n",
       "      <td>Saturday, Jun 22nd</td>\n",
       "      <td>Bidirectional Sequence Models - Lab</td>\n",
       "    </tr>\n",
       "    <tr>\n",
       "      <td>3</td>\n",
       "      <td>Saturday, Jun 22nd</td>\n",
       "      <td>Bidirectional Sequence Models</td>\n",
       "    </tr>\n",
       "    <tr>\n",
       "      <td>4</td>\n",
       "      <td>Friday, May 31st</td>\n",
       "      <td>LSTMs and GRUs - Lab</td>\n",
       "    </tr>\n",
       "  </tbody>\n",
       "</table>\n",
       "</div>"
      ],
      "text/plain": [
       "                dates                               lesson\n",
       "0  Saturday, Aug 17th       Getting Started on Your Resume\n",
       "1  Saturday, Jun 22nd                        Section Recap\n",
       "2  Saturday, Jun 22nd  Bidirectional Sequence Models - Lab\n",
       "3  Saturday, Jun 22nd        Bidirectional Sequence Models\n",
       "4    Friday, May 31st                 LSTMs and GRUs - Lab"
      ]
     },
     "execution_count": 114,
     "metadata": {},
     "output_type": "execute_result"
    }
   ],
   "source": [
    "df.head()"
   ]
  },
  {
   "cell_type": "code",
   "execution_count": 115,
   "metadata": {},
   "outputs": [],
   "source": [
    "new_dates = []\n",
    "\n",
    "for x in df['dates']:\n",
    "    new_dates.append(update_date(x))"
   ]
  },
  {
   "cell_type": "code",
   "execution_count": 116,
   "metadata": {},
   "outputs": [],
   "source": [
    "df['new_dates'] = new_dates"
   ]
  },
  {
   "cell_type": "code",
   "execution_count": 117,
   "metadata": {},
   "outputs": [
    {
     "data": {
      "text/html": [
       "<div>\n",
       "<style scoped>\n",
       "    .dataframe tbody tr th:only-of-type {\n",
       "        vertical-align: middle;\n",
       "    }\n",
       "\n",
       "    .dataframe tbody tr th {\n",
       "        vertical-align: top;\n",
       "    }\n",
       "\n",
       "    .dataframe thead th {\n",
       "        text-align: right;\n",
       "    }\n",
       "</style>\n",
       "<table border=\"1\" class=\"dataframe\">\n",
       "  <thead>\n",
       "    <tr style=\"text-align: right;\">\n",
       "      <th></th>\n",
       "      <th>dates</th>\n",
       "      <th>lesson</th>\n",
       "      <th>new_dates</th>\n",
       "    </tr>\n",
       "  </thead>\n",
       "  <tbody>\n",
       "    <tr>\n",
       "      <td>0</td>\n",
       "      <td>Saturday, Aug 17th</td>\n",
       "      <td>Getting Started on Your Resume</td>\n",
       "      <td>8/17/2019</td>\n",
       "    </tr>\n",
       "    <tr>\n",
       "      <td>1</td>\n",
       "      <td>Saturday, Jun 22nd</td>\n",
       "      <td>Section Recap</td>\n",
       "      <td>6/22/2019</td>\n",
       "    </tr>\n",
       "    <tr>\n",
       "      <td>2</td>\n",
       "      <td>Saturday, Jun 22nd</td>\n",
       "      <td>Bidirectional Sequence Models - Lab</td>\n",
       "      <td>6/22/2019</td>\n",
       "    </tr>\n",
       "    <tr>\n",
       "      <td>3</td>\n",
       "      <td>Saturday, Jun 22nd</td>\n",
       "      <td>Bidirectional Sequence Models</td>\n",
       "      <td>6/22/2019</td>\n",
       "    </tr>\n",
       "    <tr>\n",
       "      <td>4</td>\n",
       "      <td>Friday, May 31st</td>\n",
       "      <td>LSTMs and GRUs - Lab</td>\n",
       "      <td>5/31/2019</td>\n",
       "    </tr>\n",
       "  </tbody>\n",
       "</table>\n",
       "</div>"
      ],
      "text/plain": [
       "                dates                               lesson  new_dates\n",
       "0  Saturday, Aug 17th       Getting Started on Your Resume  8/17/2019\n",
       "1  Saturday, Jun 22nd                        Section Recap  6/22/2019\n",
       "2  Saturday, Jun 22nd  Bidirectional Sequence Models - Lab  6/22/2019\n",
       "3  Saturday, Jun 22nd        Bidirectional Sequence Models  6/22/2019\n",
       "4    Friday, May 31st                 LSTMs and GRUs - Lab  5/31/2019"
      ]
     },
     "execution_count": 117,
     "metadata": {},
     "output_type": "execute_result"
    }
   ],
   "source": [
    "df.head()"
   ]
  },
  {
   "cell_type": "code",
   "execution_count": 118,
   "metadata": {},
   "outputs": [],
   "source": [
    "df['new_dates'] = pd.to_datetime(df['new_dates'])"
   ]
  },
  {
   "cell_type": "code",
   "execution_count": 119,
   "metadata": {},
   "outputs": [
    {
     "data": {
      "text/html": [
       "<div>\n",
       "<style scoped>\n",
       "    .dataframe tbody tr th:only-of-type {\n",
       "        vertical-align: middle;\n",
       "    }\n",
       "\n",
       "    .dataframe tbody tr th {\n",
       "        vertical-align: top;\n",
       "    }\n",
       "\n",
       "    .dataframe thead th {\n",
       "        text-align: right;\n",
       "    }\n",
       "</style>\n",
       "<table border=\"1\" class=\"dataframe\">\n",
       "  <thead>\n",
       "    <tr style=\"text-align: right;\">\n",
       "      <th></th>\n",
       "      <th>dates</th>\n",
       "      <th>lesson</th>\n",
       "      <th>new_dates</th>\n",
       "    </tr>\n",
       "  </thead>\n",
       "  <tbody>\n",
       "    <tr>\n",
       "      <td>0</td>\n",
       "      <td>Saturday, Aug 17th</td>\n",
       "      <td>Getting Started on Your Resume</td>\n",
       "      <td>2019-08-17</td>\n",
       "    </tr>\n",
       "    <tr>\n",
       "      <td>1</td>\n",
       "      <td>Saturday, Jun 22nd</td>\n",
       "      <td>Section Recap</td>\n",
       "      <td>2019-06-22</td>\n",
       "    </tr>\n",
       "    <tr>\n",
       "      <td>2</td>\n",
       "      <td>Saturday, Jun 22nd</td>\n",
       "      <td>Bidirectional Sequence Models - Lab</td>\n",
       "      <td>2019-06-22</td>\n",
       "    </tr>\n",
       "    <tr>\n",
       "      <td>3</td>\n",
       "      <td>Saturday, Jun 22nd</td>\n",
       "      <td>Bidirectional Sequence Models</td>\n",
       "      <td>2019-06-22</td>\n",
       "    </tr>\n",
       "    <tr>\n",
       "      <td>4</td>\n",
       "      <td>Friday, May 31st</td>\n",
       "      <td>LSTMs and GRUs - Lab</td>\n",
       "      <td>2019-05-31</td>\n",
       "    </tr>\n",
       "  </tbody>\n",
       "</table>\n",
       "</div>"
      ],
      "text/plain": [
       "                dates                               lesson  new_dates\n",
       "0  Saturday, Aug 17th       Getting Started on Your Resume 2019-08-17\n",
       "1  Saturday, Jun 22nd                        Section Recap 2019-06-22\n",
       "2  Saturday, Jun 22nd  Bidirectional Sequence Models - Lab 2019-06-22\n",
       "3  Saturday, Jun 22nd        Bidirectional Sequence Models 2019-06-22\n",
       "4    Friday, May 31st                 LSTMs and GRUs - Lab 2019-05-31"
      ]
     },
     "execution_count": 119,
     "metadata": {},
     "output_type": "execute_result"
    }
   ],
   "source": [
    "df.head()"
   ]
  },
  {
   "cell_type": "code",
   "execution_count": 120,
   "metadata": {},
   "outputs": [
    {
     "data": {
      "text/plain": [
       "dates                object\n",
       "lesson               object\n",
       "new_dates    datetime64[ns]\n",
       "dtype: object"
      ]
     },
     "execution_count": 120,
     "metadata": {},
     "output_type": "execute_result"
    }
   ],
   "source": [
    "df.dtypes"
   ]
  },
  {
   "cell_type": "code",
   "execution_count": 121,
   "metadata": {},
   "outputs": [
    {
     "data": {
      "text/plain": [
       "<matplotlib.axes._subplots.AxesSubplot at 0x1177903d0>"
      ]
     },
     "execution_count": 121,
     "metadata": {},
     "output_type": "execute_result"
    },
    {
     "data": {
      "image/png": "[encoded data removed]",
      "text/plain": [
       "<Figure size 432x288 with 1 Axes>"
      ]
     },
     "metadata": {},
     "output_type": "display_data"
    }
   ],
   "source": [
    "df.set_index('new_dates').resample('D')['lesson'].count().plot(kind = 'line')"
   ]
  },
  {
   "cell_type": "code",
   "execution_count": 122,
   "metadata": {},
   "outputs": [
    {
     "data": {
      "text/plain": [
       "<matplotlib.axes._subplots.AxesSubplot at 0x117b2f510>"
      ]
     },
     "execution_count": 122,
     "metadata": {},
     "output_type": "execute_result"
    },
    {
     "data": {
      "image/png": "[encoded data removed]",
      "text/plain": [
       "<Figure size 432x288 with 1 Axes>"
      ]
     },
     "metadata": {},
     "output_type": "display_data"
    }
   ],
   "source": [
    "df.set_index('new_dates').resample('M')['lesson'].count().plot(kind = 'line')"
   ]
  },
  {
   "cell_type": "code",
   "execution_count": 123,
   "metadata": {},
   "outputs": [],
   "source": [
    "awong = df.set_index('new_dates').resample('1D')['lesson'].count()"
   ]
  },
  {
   "cell_type": "code",
   "execution_count": 124,
   "metadata": {},
   "outputs": [],
   "source": [
    "awong = pd.DataFrame(awong)"
   ]
  },
  {
   "cell_type": "code",
   "execution_count": 125,
   "metadata": {},
   "outputs": [],
   "source": [
    "awong.reset_index(inplace = True)"
   ]
  },
  {
   "cell_type": "code",
   "execution_count": 126,
   "metadata": {},
   "outputs": [],
   "source": [
    "awong.drop('new_dates', axis = 1, inplace = True)"
   ]
  },
  {
   "cell_type": "code",
   "execution_count": 127,
   "metadata": {},
   "outputs": [],
   "source": [
    "awong.columns = ['Andrew_Wong']"
   ]
  },
  {
   "cell_type": "code",
   "execution_count": 128,
   "metadata": {},
   "outputs": [
    {
     "data": {
      "text/plain": [
       "<matplotlib.axes._subplots.AxesSubplot at 0x117fe1bd0>"
      ]
     },
     "execution_count": 128,
     "metadata": {},
     "output_type": "execute_result"
    },
    {
     "data": {
      "image/png": "[encoded data removed]",
      "text/plain": [
       "<Figure size 432x288 with 1 Axes>"
      ]
     },
     "metadata": {},
     "output_type": "display_data"
    }
   ],
   "source": [
    "awong['Andrew_Wong'].cumsum().plot(kind = 'line')"
   ]
  },
  {
   "cell_type": "code",
   "execution_count": 129,
   "metadata": {},
   "outputs": [],
   "source": [
    "mike = pd.read_csv('./lessons/grad/cytmike.csv')"
   ]
  },
  {
   "cell_type": "code",
   "execution_count": 130,
   "metadata": {},
   "outputs": [
    {
     "data": {
      "text/html": [
       "<div>\n",
       "<style scoped>\n",
       "    .dataframe tbody tr th:only-of-type {\n",
       "        vertical-align: middle;\n",
       "    }\n",
       "\n",
       "    .dataframe tbody tr th {\n",
       "        vertical-align: top;\n",
       "    }\n",
       "\n",
       "    .dataframe thead th {\n",
       "        text-align: right;\n",
       "    }\n",
       "</style>\n",
       "<table border=\"1\" class=\"dataframe\">\n",
       "  <thead>\n",
       "    <tr style=\"text-align: right;\">\n",
       "      <th></th>\n",
       "      <th>dates</th>\n",
       "      <th>lesson</th>\n",
       "    </tr>\n",
       "  </thead>\n",
       "  <tbody>\n",
       "    <tr>\n",
       "      <td>0</td>\n",
       "      <td>Monday, Dec 2nd</td>\n",
       "      <td>Capstone Project</td>\n",
       "    </tr>\n",
       "    <tr>\n",
       "      <td>1</td>\n",
       "      <td>Tuesday, Nov 26th</td>\n",
       "      <td>Managing Your Job Search</td>\n",
       "    </tr>\n",
       "    <tr>\n",
       "      <td>2</td>\n",
       "      <td>Wednesday, Nov 13th</td>\n",
       "      <td>CSC Weekly Activity</td>\n",
       "    </tr>\n",
       "    <tr>\n",
       "      <td>3</td>\n",
       "      <td>Wednesday, Nov 13th</td>\n",
       "      <td>Job Search Action Plan</td>\n",
       "    </tr>\n",
       "    <tr>\n",
       "      <td>4</td>\n",
       "      <td>Wednesday, Nov 13th</td>\n",
       "      <td>Confidence</td>\n",
       "    </tr>\n",
       "    <tr>\n",
       "      <td>...</td>\n",
       "      <td>...</td>\n",
       "      <td>...</td>\n",
       "    </tr>\n",
       "    <tr>\n",
       "      <td>559</td>\n",
       "      <td>Thursday, Feb 7th</td>\n",
       "      <td>Your First Data Science Codealong!</td>\n",
       "    </tr>\n",
       "    <tr>\n",
       "      <td>560</td>\n",
       "      <td>Thursday, Feb 7th</td>\n",
       "      <td>Introduction to Variables: Variable Assignment</td>\n",
       "    </tr>\n",
       "    <tr>\n",
       "      <td>561</td>\n",
       "      <td>Thursday, Feb 7th</td>\n",
       "      <td>Working with Lessons on Learn - Lab</td>\n",
       "    </tr>\n",
       "    <tr>\n",
       "      <td>562</td>\n",
       "      <td>Thursday, Feb 7th</td>\n",
       "      <td>Working with Lessons on Learn</td>\n",
       "    </tr>\n",
       "    <tr>\n",
       "      <td>563</td>\n",
       "      <td>Wednesday, Feb 6th</td>\n",
       "      <td>Setting up a Professional Data Science Environ...</td>\n",
       "    </tr>\n",
       "  </tbody>\n",
       "</table>\n",
       "<p>564 rows × 2 columns</p>\n",
       "</div>"
      ],
      "text/plain": [
       "                   dates                                             lesson\n",
       "0        Monday, Dec 2nd                                   Capstone Project\n",
       "1      Tuesday, Nov 26th                           Managing Your Job Search\n",
       "2    Wednesday, Nov 13th                                CSC Weekly Activity\n",
       "3    Wednesday, Nov 13th                            Job Search Action Plan \n",
       "4    Wednesday, Nov 13th                                         Confidence\n",
       "..                   ...                                                ...\n",
       "559    Thursday, Feb 7th                 Your First Data Science Codealong!\n",
       "560    Thursday, Feb 7th     Introduction to Variables: Variable Assignment\n",
       "561    Thursday, Feb 7th                Working with Lessons on Learn - Lab\n",
       "562    Thursday, Feb 7th                      Working with Lessons on Learn\n",
       "563   Wednesday, Feb 6th  Setting up a Professional Data Science Environ...\n",
       "\n",
       "[564 rows x 2 columns]"
      ]
     },
     "execution_count": 130,
     "metadata": {},
     "output_type": "execute_result"
    }
   ],
   "source": [
    "mike"
   ]
  },
  {
   "cell_type": "code",
   "execution_count": 131,
   "metadata": {},
   "outputs": [],
   "source": [
    "new_dates = []\n",
    "\n",
    "for x in mike['dates']:\n",
    "    new_dates.append(update_date(x))\n",
    "mike['new_dates'] = new_dates\n",
    "mike['new_dates'] = pd.to_datetime(mike['new_dates'])"
   ]
  },
  {
   "cell_type": "code",
   "execution_count": 132,
   "metadata": {},
   "outputs": [],
   "source": [
    "mike_c = mike.set_index('new_dates').resample('1D')['lesson'].count()"
   ]
  },
  {
   "cell_type": "code",
   "execution_count": 133,
   "metadata": {},
   "outputs": [],
   "source": [
    "mike_c = pd.DataFrame(mike_c)"
   ]
  },
  {
   "cell_type": "code",
   "execution_count": 134,
   "metadata": {},
   "outputs": [],
   "source": [
    "mike_c.reset_index(inplace = True)\n",
    "mike_c.drop('new_dates', axis = 1, inplace = True)\n",
    "mike_c.columns = ['Michael_Cheng']"
   ]
  },
  {
   "cell_type": "code",
   "execution_count": 135,
   "metadata": {},
   "outputs": [
    {
     "data": {
      "text/plain": [
       "<matplotlib.axes._subplots.AxesSubplot at 0x105644e10>"
      ]
     },
     "execution_count": 135,
     "metadata": {},
     "output_type": "execute_result"
    },
    {
     "data": {
      "image/png": "[encoded data removed]",
      "text/plain": [
       "<Figure size 432x288 with 1 Axes>"
      ]
     },
     "metadata": {},
     "output_type": "display_data"
    }
   ],
   "source": [
    "mike_c['Michael_Cheng'].cumsum().plot(kind = 'line')"
   ]
  },
  {
   "cell_type": "code",
   "execution_count": 136,
   "metadata": {},
   "outputs": [],
   "source": [
    "kyle = pd.read_csv('./lessons/grad/kylejohnson363.csv')"
   ]
  },
  {
   "cell_type": "code",
   "execution_count": 137,
   "metadata": {},
   "outputs": [
    {
     "data": {
      "text/plain": [
       "(1074, 2)"
      ]
     },
     "execution_count": 137,
     "metadata": {},
     "output_type": "execute_result"
    }
   ],
   "source": [
    "kyle.shape"
   ]
  },
  {
   "cell_type": "code",
   "execution_count": 138,
   "metadata": {},
   "outputs": [],
   "source": [
    "kyle.drop_duplicates(subset = ['lesson'], inplace = True)"
   ]
  },
  {
   "cell_type": "code",
   "execution_count": 139,
   "metadata": {},
   "outputs": [
    {
     "data": {
      "text/plain": [
       "(639, 2)"
      ]
     },
     "execution_count": 139,
     "metadata": {},
     "output_type": "execute_result"
    }
   ],
   "source": [
    "kyle.shape"
   ]
  },
  {
   "cell_type": "code",
   "execution_count": 140,
   "metadata": {},
   "outputs": [],
   "source": [
    "new_dates = []\n",
    "\n",
    "for x in kyle['dates']:\n",
    "    new_dates.append(update_date(x))\n",
    "kyle['new_dates'] = new_dates\n",
    "kyle['new_dates'] = pd.to_datetime(kyle['new_dates'])"
   ]
  },
  {
   "cell_type": "code",
   "execution_count": 141,
   "metadata": {},
   "outputs": [],
   "source": [
    "kyle_j = kyle.set_index('new_dates').resample('1D')['lesson'].count()"
   ]
  },
  {
   "cell_type": "code",
   "execution_count": 142,
   "metadata": {},
   "outputs": [],
   "source": [
    "kyle_j = pd.DataFrame(kyle_j)"
   ]
  },
  {
   "cell_type": "code",
   "execution_count": 143,
   "metadata": {},
   "outputs": [],
   "source": [
    "kyle_j.reset_index(inplace = True)\n",
    "kyle_j.drop('new_dates', axis = 1, inplace = True)\n",
    "kyle_j.columns = ['Kyle_Johnson']"
   ]
  },
  {
   "cell_type": "code",
   "execution_count": 144,
   "metadata": {},
   "outputs": [],
   "source": [
    "matt = pd.read_csv('./lessons/grad/matthewsparr.csv')"
   ]
  },
  {
   "cell_type": "code",
   "execution_count": 145,
   "metadata": {},
   "outputs": [],
   "source": [
    "new_dates = []\n",
    "\n",
    "for x in matt['dates']:\n",
    "    new_dates.append(update_date(x))\n",
    "matt['new_dates'] = new_dates\n",
    "matt['new_dates'] = pd.to_datetime(matt['new_dates'])"
   ]
  },
  {
   "cell_type": "code",
   "execution_count": 146,
   "metadata": {},
   "outputs": [],
   "source": [
    "matt_s = matt.set_index('new_dates').resample('1D')['lesson'].count()"
   ]
  },
  {
   "cell_type": "code",
   "execution_count": 147,
   "metadata": {},
   "outputs": [],
   "source": [
    "matt_s = pd.DataFrame(matt_s)"
   ]
  },
  {
   "cell_type": "code",
   "execution_count": 148,
   "metadata": {},
   "outputs": [],
   "source": [
    "matt_s.reset_index(inplace = True)\n",
    "matt_s.drop('new_dates', axis = 1, inplace = True)\n",
    "matt_s.columns = ['Matt_Sparr']"
   ]
  },
  {
   "cell_type": "code",
   "execution_count": 149,
   "metadata": {},
   "outputs": [],
   "source": [
    "ray = pd.read_csv('./lessons/grad/rwilleynyc.csv')"
   ]
  },
  {
   "cell_type": "code",
   "execution_count": 150,
   "metadata": {},
   "outputs": [
    {
     "data": {
      "text/plain": [
       "(1069, 2)"
      ]
     },
     "execution_count": 150,
     "metadata": {},
     "output_type": "execute_result"
    }
   ],
   "source": [
    "ray.shape"
   ]
  },
  {
   "cell_type": "code",
   "execution_count": 151,
   "metadata": {},
   "outputs": [],
   "source": [
    "ray.drop_duplicates(subset = ['lesson'], inplace = True)"
   ]
  },
  {
   "cell_type": "code",
   "execution_count": 152,
   "metadata": {},
   "outputs": [
    {
     "data": {
      "text/plain": [
       "(633, 2)"
      ]
     },
     "execution_count": 152,
     "metadata": {},
     "output_type": "execute_result"
    }
   ],
   "source": [
    "ray.shape"
   ]
  },
  {
   "cell_type": "code",
   "execution_count": 153,
   "metadata": {},
   "outputs": [],
   "source": [
    "new_dates = []\n",
    "\n",
    "for x in ray['dates']:\n",
    "    new_dates.append(update_date(x))\n",
    "ray['new_dates'] = new_dates\n",
    "ray['new_dates'] = pd.to_datetime(ray['new_dates'])"
   ]
  },
  {
   "cell_type": "code",
   "execution_count": 154,
   "metadata": {},
   "outputs": [],
   "source": [
    "ray_w = ray.set_index('new_dates').resample('1D')['lesson'].count()"
   ]
  },
  {
   "cell_type": "code",
   "execution_count": 155,
   "metadata": {},
   "outputs": [],
   "source": [
    "ray_w = pd.DataFrame(ray_w)"
   ]
  },
  {
   "cell_type": "code",
   "execution_count": 156,
   "metadata": {},
   "outputs": [],
   "source": [
    "ray_w.reset_index(inplace = True)\n",
    "ray_w.drop('new_dates', axis = 1, inplace = True)\n",
    "ray_w.columns = ['Raymond_Wiley']"
   ]
  },
  {
   "cell_type": "code",
   "execution_count": 157,
   "metadata": {},
   "outputs": [],
   "source": [
    "steve = pd.read_csv('./lessons/grad/stevhliu.csv')"
   ]
  },
  {
   "cell_type": "code",
   "execution_count": 158,
   "metadata": {},
   "outputs": [],
   "source": [
    "new_dates = []\n",
    "\n",
    "for x in steve['dates']:\n",
    "    new_dates.append(update_date(x))\n",
    "steve['new_dates'] = new_dates\n",
    "steve['new_dates'] = pd.to_datetime(steve['new_dates'])"
   ]
  },
  {
   "cell_type": "code",
   "execution_count": 159,
   "metadata": {},
   "outputs": [],
   "source": [
    "steve_l = steve.set_index('new_dates').resample('1D')['lesson'].count()"
   ]
  },
  {
   "cell_type": "code",
   "execution_count": 160,
   "metadata": {},
   "outputs": [],
   "source": [
    "steve_l = pd.DataFrame(steve_l)"
   ]
  },
  {
   "cell_type": "code",
   "execution_count": 161,
   "metadata": {},
   "outputs": [],
   "source": [
    "steve_l.reset_index(inplace = True)\n",
    "steve_l.drop('new_dates', axis = 1, inplace = True)\n",
    "steve_l.columns = ['Steven_Liu']"
   ]
  },
  {
   "cell_type": "code",
   "execution_count": 162,
   "metadata": {},
   "outputs": [],
   "source": [
    "df = pd.concat([awong, mike_c, kyle_j, matt_s, ray_w, steve_l], axis = 1)"
   ]
  },
  {
   "cell_type": "code",
   "execution_count": 164,
   "metadata": {},
   "outputs": [],
   "source": [
    "df.to_csv('df.csv', index = False)"
   ]
  },
  {
   "cell_type": "code",
   "execution_count": 163,
   "metadata": {},
   "outputs": [],
   "source": [
    "plt.style.use('dark_background')"
   ]
  },
  {
   "cell_type": "code",
   "execution_count": 71,
   "metadata": {},
   "outputs": [
    {
     "data": {
      "text/plain": [
       "Text(0.5, 1.0, 'Number of Lessons Completed by SP Graduates')"
      ]
     },
     "execution_count": 71,
     "metadata": {},
     "output_type": "execute_result"
    },
    {
     "data": {
      "image/png": "[encoded data removed]",
      "text/plain": [
       "<Figure size 864x576 with 1 Axes>"
      ]
     },
     "metadata": {},
     "output_type": "display_data"
    }
   ],
   "source": [
    "\n",
    "my_fig = df.cumsum().plot(kind = 'line', figsize = (12, 8))\n",
    "my_fig.set_xlim(0, 50)\n",
    "my_fig.axvline(28, color = 'white')\n",
    "my_fig.text(29, 500, '28 Day Average: 199', fontsize = 18)\n",
    "my_fig.set_ylabel('Number of Lessons Completed', fontsize = 18)\n",
    "my_fig.set_xlabel('Days in Program', fontsize = 18)\n",
    "my_fig.set_title('Number of Lessons Completed by SP Graduates', fontsize = 22)"
   ]
  },
  {
   "cell_type": "code",
   "execution_count": 73,
   "metadata": {},
   "outputs": [
    {
     "data": {
      "text/plain": [
       "199.16666666666666"
      ]
     },
     "execution_count": 73,
     "metadata": {},
     "output_type": "execute_result"
    }
   ],
   "source": [
    "df.head(28).sum().mean()"
   ]
  },
  {
   "cell_type": "code",
   "execution_count": 85,
   "metadata": {},
   "outputs": [
    {
     "data": {
      "text/plain": [
       "216.33333333333334"
      ]
     },
     "execution_count": 85,
     "metadata": {},
     "output_type": "execute_result"
    }
   ],
   "source": [
    "df.loc[0:29].sum().mean()"
   ]
  },
  {
   "cell_type": "code",
   "execution_count": 86,
   "metadata": {},
   "outputs": [
    {
     "data": {
      "text/plain": [
       "103.5"
      ]
     },
     "execution_count": 86,
     "metadata": {},
     "output_type": "execute_result"
    }
   ],
   "source": [
    "df.loc[30:60].sum().mean()"
   ]
  },
  {
   "cell_type": "code",
   "execution_count": 87,
   "metadata": {},
   "outputs": [
    {
     "data": {
      "text/plain": [
       "67.83333333333333"
      ]
     },
     "execution_count": 87,
     "metadata": {},
     "output_type": "execute_result"
    }
   ],
   "source": [
    "df.loc[61:90].sum().mean()"
   ]
  },
  {
   "cell_type": "code",
   "execution_count": 88,
   "metadata": {},
   "outputs": [
    {
     "data": {
      "text/plain": [
       "66.16666666666667"
      ]
     },
     "execution_count": 88,
     "metadata": {},
     "output_type": "execute_result"
    }
   ],
   "source": [
    "df.loc[91:120].sum().mean()"
   ]
  },
  {
   "cell_type": "code",
   "execution_count": 89,
   "metadata": {},
   "outputs": [
    {
     "data": {
      "text/plain": [
       "28.0"
      ]
     },
     "execution_count": 89,
     "metadata": {},
     "output_type": "execute_result"
    }
   ],
   "source": [
    "df.loc[121:150].sum().mean()"
   ]
  },
  {
   "cell_type": "code",
   "execution_count": 92,
   "metadata": {},
   "outputs": [
    {
     "data": {
      "text/plain": [
       "27.166666666666668"
      ]
     },
     "execution_count": 92,
     "metadata": {},
     "output_type": "execute_result"
    }
   ],
   "source": [
    "df.loc[151:180].sum().mean()"
   ]
  }
 ],
 "metadata": {
  "kernelspec": {
   "display_name": "Python 3",
   "language": "python",
   "name": "python3"
  },
  "language_info": {
   "codemirror_mode": {
    "name": "ipython",
    "version": 3
   },
   "file_extension": ".py",
   "mimetype": "text/x-python",
   "name": "python",
   "nbconvert_exporter": "python",
   "pygments_lexer": "ipython3",
   "version": "3.6.9"
  },
  "toc": {
   "base_numbering": 1,
   "nav_menu": {},
   "number_sections": true,
   "sideBar": true,
   "skip_h1_title": false,
   "title_cell": "Table of Contents",
   "title_sidebar": "Contents",
   "toc_cell": false,
   "toc_position": {},
   "toc_section_display": true,
   "toc_window_display": false
  }
 },
 "nbformat": 4,
 "nbformat_minor": 2
}
