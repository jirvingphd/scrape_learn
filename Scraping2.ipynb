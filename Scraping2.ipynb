{
 "cells": [
  {
   "cell_type": "markdown",
   "metadata": {},
   "source": [
    "# James' Version of Scraping.ipynb following Jeff's Workflow"
   ]
  },
  {
   "cell_type": "markdown",
   "metadata": {},
   "source": [
    "**BOOKMARKS/TABLE OF CONTENTS:**\n",
    "\n",
    "[Bookmark: 12/23/19](#📓BOOKMARK-FOR-JAMES-&-JEFF)"
   ]
  },
  {
   "cell_type": "markdown",
   "metadata": {},
   "source": [
    "### To Do:\n",
    "- Get links from `custom-badges`\n",
    "    - Use Jeff's code to scrapen the lesson completion from learn\n",
    "    - Add Portfolio project page extraction (also in custom-badges)"
   ]
  },
  {
   "cell_type": "markdown",
   "metadata": {},
   "source": [
    "___"
   ]
  },
  {
   "cell_type": "code",
   "execution_count": 1,
   "metadata": {
    "ExecuteTime": {
     "end_time": "2019-12-24T16:36:22.712171Z",
     "start_time": "2019-12-24T16:36:19.019854Z"
    }
   },
   "outputs": [
    {
     "name": "stdout",
     "output_type": "stream",
     "text": [
      "fsds_1007219  v0.5.13 loaded.  Read the docs: https://fsds.readthedocs.io/en/latest/ \n"
     ]
    },
    {
     "data": {
      "text/html": [
       "<style  type=\"text/css\" >\n",
       "</style><table id=\"T_853d74b4_266b_11ea_b5be_acde48001122\" ><caption>Loaded Packages and Handles</caption><thead>    <tr>        <th class=\"col_heading level0 col0\" >Handle</th>        <th class=\"col_heading level0 col1\" >Package</th>        <th class=\"col_heading level0 col2\" >Description</th>    </tr></thead><tbody>\n",
       "                <tr>\n",
       "                                <td id=\"T_853d74b4_266b_11ea_b5be_acde48001122row0_col0\" class=\"data row0 col0\" >dp</td>\n",
       "                        <td id=\"T_853d74b4_266b_11ea_b5be_acde48001122row0_col1\" class=\"data row0 col1\" >IPython.display</td>\n",
       "                        <td id=\"T_853d74b4_266b_11ea_b5be_acde48001122row0_col2\" class=\"data row0 col2\" >Display modules with helpful display and clearing commands.</td>\n",
       "            </tr>\n",
       "            <tr>\n",
       "                                <td id=\"T_853d74b4_266b_11ea_b5be_acde48001122row1_col0\" class=\"data row1 col0\" >fs</td>\n",
       "                        <td id=\"T_853d74b4_266b_11ea_b5be_acde48001122row1_col1\" class=\"data row1 col1\" >fsds_100719</td>\n",
       "                        <td id=\"T_853d74b4_266b_11ea_b5be_acde48001122row1_col2\" class=\"data row1 col2\" >Custom data science bootcamp student package</td>\n",
       "            </tr>\n",
       "            <tr>\n",
       "                                <td id=\"T_853d74b4_266b_11ea_b5be_acde48001122row2_col0\" class=\"data row2 col0\" >mpl</td>\n",
       "                        <td id=\"T_853d74b4_266b_11ea_b5be_acde48001122row2_col1\" class=\"data row2 col1\" >matplotlib</td>\n",
       "                        <td id=\"T_853d74b4_266b_11ea_b5be_acde48001122row2_col2\" class=\"data row2 col2\" >Matplotlib's base OOP module with formatting artists</td>\n",
       "            </tr>\n",
       "            <tr>\n",
       "                                <td id=\"T_853d74b4_266b_11ea_b5be_acde48001122row3_col0\" class=\"data row3 col0\" >plt</td>\n",
       "                        <td id=\"T_853d74b4_266b_11ea_b5be_acde48001122row3_col1\" class=\"data row3 col1\" >matplotlib.pyplot</td>\n",
       "                        <td id=\"T_853d74b4_266b_11ea_b5be_acde48001122row3_col2\" class=\"data row3 col2\" >Matplotlib's matlab-like plotting module</td>\n",
       "            </tr>\n",
       "            <tr>\n",
       "                                <td id=\"T_853d74b4_266b_11ea_b5be_acde48001122row4_col0\" class=\"data row4 col0\" >np</td>\n",
       "                        <td id=\"T_853d74b4_266b_11ea_b5be_acde48001122row4_col1\" class=\"data row4 col1\" >numpy</td>\n",
       "                        <td id=\"T_853d74b4_266b_11ea_b5be_acde48001122row4_col2\" class=\"data row4 col2\" >scientific computing with Python</td>\n",
       "            </tr>\n",
       "            <tr>\n",
       "                                <td id=\"T_853d74b4_266b_11ea_b5be_acde48001122row5_col0\" class=\"data row5 col0\" >pd</td>\n",
       "                        <td id=\"T_853d74b4_266b_11ea_b5be_acde48001122row5_col1\" class=\"data row5 col1\" >pandas</td>\n",
       "                        <td id=\"T_853d74b4_266b_11ea_b5be_acde48001122row5_col2\" class=\"data row5 col2\" >High performance data structures and tools</td>\n",
       "            </tr>\n",
       "            <tr>\n",
       "                                <td id=\"T_853d74b4_266b_11ea_b5be_acde48001122row6_col0\" class=\"data row6 col0\" >sns</td>\n",
       "                        <td id=\"T_853d74b4_266b_11ea_b5be_acde48001122row6_col1\" class=\"data row6 col1\" >seaborn</td>\n",
       "                        <td id=\"T_853d74b4_266b_11ea_b5be_acde48001122row6_col2\" class=\"data row6 col2\" >High-level data visualization library based on matplotlib</td>\n",
       "            </tr>\n",
       "    </tbody></table>"
      ],
      "text/plain": [
       "<pandas.io.formats.style.Styler at 0x1062284a8>"
      ]
     },
     "metadata": {},
     "output_type": "display_data"
    }
   ],
   "source": [
    "!pip install -U fsds_100719\n",
    "from fsds_100719.imports import *"
   ]
  },
  {
   "cell_type": "code",
   "execution_count": 2,
   "metadata": {
    "ExecuteTime": {
     "end_time": "2019-12-24T16:36:22.954011Z",
     "start_time": "2019-12-24T16:36:22.713381Z"
    }
   },
   "outputs": [],
   "source": [
    "import requests\n",
    "import time\n",
    "\n",
    "from selenium import webdriver\n",
    "from selenium.webdriver import ActionChains\n",
    "from selenium.webdriver.common.keys import Keys\n",
    "from bs4 import BeautifulSoup\n",
    "import pandas as pd"
   ]
  },
  {
   "cell_type": "code",
   "execution_count": 3,
   "metadata": {
    "ExecuteTime": {
     "end_time": "2019-12-24T16:36:35.529321Z",
     "start_time": "2019-12-24T16:36:32.747926Z"
    }
   },
   "outputs": [],
   "source": [
    "driver = webdriver.Chrome()\n",
    "\n",
    "url = 'https://instruction.learn.co/staff/students'\n",
    "\n",
    "driver.get(url)"
   ]
  },
  {
   "cell_type": "markdown",
   "metadata": {},
   "source": [
    "## Username for Github"
   ]
  },
  {
   "cell_type": "code",
   "execution_count": 4,
   "metadata": {
    "ExecuteTime": {
     "end_time": "2019-12-24T16:37:01.041884Z",
     "start_time": "2019-12-24T16:37:01.036780Z"
    }
   },
   "outputs": [
    {
     "data": {
      "text/plain": [
       "dict_keys(['username', 'password'])"
      ]
     },
     "execution_count": 4,
     "metadata": {},
     "output_type": "execute_result"
    }
   ],
   "source": [
    "with open(\"/Users/jamesirving/.secret/learn_login.json\") as f:\n",
    "    import json\n",
    "    login_info = json.loads(f.read())\n",
    "login_info.keys()"
   ]
  },
  {
   "cell_type": "code",
   "execution_count": 5,
   "metadata": {
    "ExecuteTime": {
     "end_time": "2019-12-24T16:37:01.793321Z",
     "start_time": "2019-12-24T16:37:01.716085Z"
    }
   },
   "outputs": [],
   "source": [
    "username = driver.find_element_by_xpath('//*[@id=\"login_field\"]')\n",
    "username.send_keys(login_info['username'])"
   ]
  },
  {
   "cell_type": "markdown",
   "metadata": {},
   "source": [
    "## Password for Github"
   ]
  },
  {
   "cell_type": "code",
   "execution_count": 6,
   "metadata": {
    "ExecuteTime": {
     "end_time": "2019-12-24T16:37:02.952329Z",
     "start_time": "2019-12-24T16:37:02.883217Z"
    }
   },
   "outputs": [],
   "source": [
    "password = driver.find_element_by_xpath('//*[@id=\"password\"]')\n",
    "password.send_keys(login_info['password'])"
   ]
  },
  {
   "cell_type": "code",
   "execution_count": 7,
   "metadata": {
    "ExecuteTime": {
     "end_time": "2019-12-24T16:37:05.897664Z",
     "start_time": "2019-12-24T16:37:03.389801Z"
    }
   },
   "outputs": [],
   "source": [
    "sign_in = driver.find_element_by_xpath('//*[@id=\"login\"]/form/div[2]/input[8]')\n",
    "sign_in.click()"
   ]
  },
  {
   "cell_type": "code",
   "execution_count": null,
   "metadata": {
    "ExecuteTime": {
     "end_time": "2019-12-24T01:25:01.777566Z",
     "start_time": "2019-12-24T01:24:54.070319Z"
    }
   },
   "outputs": [],
   "source": [
    "# click view students to get to the students section\n",
    "view = driver.find_element_by_xpath('/html/body/div[4]/div[2]/div[1]/div/div[2]/a')\n",
    "view.click()"
   ]
  },
  {
   "cell_type": "markdown",
   "metadata": {
    "heading_collapsed": true
   },
   "source": [
    "## [i/o] Can jump down to loading in student dataframe"
   ]
  },
  {
   "cell_type": "code",
   "execution_count": null,
   "metadata": {
    "hidden": true
   },
   "outputs": [],
   "source": [
    "stop"
   ]
  },
  {
   "cell_type": "markdown",
   "metadata": {
    "hidden": true
   },
   "source": [
    "### Active students (JMI)"
   ]
  },
  {
   "cell_type": "code",
   "execution_count": null,
   "metadata": {
    "ExecuteTime": {
     "end_time": "2019-12-24T01:19:39.813825Z",
     "start_time": "2019-12-24T01:19:38.760190Z"
    },
    "hidden": true
   },
   "outputs": [],
   "source": [
    "# grab canceled students\n",
    "my_html = driver.page_source\n",
    "soup = BeautifulSoup(my_html, 'html.parser')"
   ]
  },
  {
   "cell_type": "code",
   "execution_count": null,
   "metadata": {
    "ExecuteTime": {
     "end_time": "2019-12-24T01:19:40.008426Z",
     "start_time": "2019-12-24T01:19:39.815311Z"
    },
    "hidden": true
   },
   "outputs": [],
   "source": [
    "active_url = []\n",
    "active_name = []\n",
    "for x in soup.find(id = 'js-students-active').find_all('a'):\n",
    "    print(x['href'] + ' - ' + x.text)\n",
    "    active_url.append(x['href'])\n",
    "    active_name.append(x.text)\n",
    "    "
   ]
  },
  {
   "cell_type": "markdown",
   "metadata": {
    "hidden": true
   },
   "source": [
    "### Compare Active vs Roster"
   ]
  },
  {
   "cell_type": "code",
   "execution_count": null,
   "metadata": {
    "ExecuteTime": {
     "end_time": "2019-12-24T01:19:45.927357Z",
     "start_time": "2019-12-24T01:19:45.888502Z"
    },
    "hidden": true
   },
   "outputs": [],
   "source": [
    "df_roster = pd.read_csv('cohort_rosters/online-ds-ft_pt-100719 planing - Cohort Roster.csv')\n",
    "df_roster['full_names']  = df_roster['First Name'] + ' ' +df_roster['Last Name']\n",
    "df_roster"
   ]
  },
  {
   "cell_type": "code",
   "execution_count": null,
   "metadata": {
    "ExecuteTime": {
     "end_time": "2019-12-24T01:19:46.749409Z",
     "start_time": "2019-12-24T01:19:46.746366Z"
    },
    "hidden": true
   },
   "outputs": [],
   "source": [
    "df_roster.set_index('full_names',inplace=True)"
   ]
  },
  {
   "cell_type": "code",
   "execution_count": null,
   "metadata": {
    "ExecuteTime": {
     "end_time": "2019-12-24T01:19:47.428287Z",
     "start_time": "2019-12-24T01:19:47.404316Z"
    },
    "hidden": true
   },
   "outputs": [],
   "source": [
    "try:\n",
    "    students_to_drop = ['Anila Qureshi','Ameer Saleemi','Jean Robert Malbranche','Ayaan Harper-Shaw']\n",
    "    df_roster.drop(students_to_drop,inplace=True)\n",
    "except:\n",
    "    print('Could not drop stuents.')\n",
    "\n",
    "df_roster"
   ]
  },
  {
   "cell_type": "code",
   "execution_count": null,
   "metadata": {
    "ExecuteTime": {
     "end_time": "2019-12-24T01:19:48.096726Z",
     "start_time": "2019-12-24T01:19:48.086874Z"
    },
    "hidden": true
   },
   "outputs": [],
   "source": [
    "##\n",
    "active_students = pd.DataFrame({'name': active_name,'url':active_url})\n",
    "active_students"
   ]
  },
  {
   "cell_type": "markdown",
   "metadata": {
    "hidden": true
   },
   "source": [
    "#### Notes:\n",
    "- Name contains email addresses for the later students. \n",
    "- Not sure if its an error or related to actual missing data"
   ]
  },
  {
   "cell_type": "code",
   "execution_count": null,
   "metadata": {
    "ExecuteTime": {
     "end_time": "2019-12-24T01:19:50.490064Z",
     "start_time": "2019-12-24T01:19:50.485351Z"
    },
    "hidden": true
   },
   "outputs": [],
   "source": [
    "my_students = df_roster.index.to_series()\n",
    "my_students"
   ]
  },
  {
   "cell_type": "code",
   "execution_count": null,
   "metadata": {
    "ExecuteTime": {
     "end_time": "2019-12-24T01:19:51.449805Z",
     "start_time": "2019-12-24T01:19:51.438999Z"
    },
    "hidden": true
   },
   "outputs": [],
   "source": [
    "active_students['my_student'] = active_students['name'].isin(my_students.values)\n",
    "active_students"
   ]
  },
  {
   "cell_type": "code",
   "execution_count": null,
   "metadata": {
    "ExecuteTime": {
     "end_time": "2019-12-24T01:19:52.246289Z",
     "start_time": "2019-12-24T01:19:52.236496Z"
    },
    "hidden": true
   },
   "outputs": [],
   "source": [
    "df_my_students = active_students.loc[active_students['my_student']==True].copy()\n",
    "df_my_students"
   ]
  },
  {
   "cell_type": "code",
   "execution_count": null,
   "metadata": {
    "hidden": true
   },
   "outputs": [],
   "source": []
  },
  {
   "cell_type": "markdown",
   "metadata": {},
   "source": [
    "## 💾 SAVING/LOADING LIST OF MY STUDENTS TO CSV"
   ]
  },
  {
   "cell_type": "code",
   "execution_count": 8,
   "metadata": {
    "ExecuteTime": {
     "end_time": "2019-12-24T16:38:25.543291Z",
     "start_time": "2019-12-24T16:38:25.540290Z"
    }
   },
   "outputs": [],
   "source": [
    "import requests\n",
    "import time\n",
    "\n",
    "from selenium import webdriver\n",
    "from selenium.webdriver import ActionChains\n",
    "from selenium.webdriver.common.keys import Keys\n",
    "from bs4 import BeautifulSoup\n",
    "import pandas as pd"
   ]
  },
  {
   "cell_type": "code",
   "execution_count": 9,
   "metadata": {
    "ExecuteTime": {
     "end_time": "2019-12-24T16:38:26.008816Z",
     "start_time": "2019-12-24T16:38:25.989635Z"
    }
   },
   "outputs": [
    {
     "data": {
      "text/html": [
       "<div>\n",
       "<style scoped>\n",
       "    .dataframe tbody tr th:only-of-type {\n",
       "        vertical-align: middle;\n",
       "    }\n",
       "\n",
       "    .dataframe tbody tr th {\n",
       "        vertical-align: top;\n",
       "    }\n",
       "\n",
       "    .dataframe thead th {\n",
       "        text-align: right;\n",
       "    }\n",
       "</style>\n",
       "<table border=\"1\" class=\"dataframe\">\n",
       "  <thead>\n",
       "    <tr style=\"text-align: right;\">\n",
       "      <th></th>\n",
       "      <th>name</th>\n",
       "      <th>url</th>\n",
       "      <th>my_student</th>\n",
       "    </tr>\n",
       "  </thead>\n",
       "  <tbody>\n",
       "    <tr>\n",
       "      <td>17</td>\n",
       "      <td>Acusio Bivona</td>\n",
       "      <td>/staff/students/coachcooz</td>\n",
       "      <td>True</td>\n",
       "    </tr>\n",
       "    <tr>\n",
       "      <td>170</td>\n",
       "      <td>Andrea Osika</td>\n",
       "      <td>/staff/students/andiosika</td>\n",
       "      <td>True</td>\n",
       "    </tr>\n",
       "    <tr>\n",
       "      <td>621</td>\n",
       "      <td>Darius Fuller</td>\n",
       "      <td>/staff/students/dfuller22</td>\n",
       "      <td>True</td>\n",
       "    </tr>\n",
       "    <tr>\n",
       "      <td>676</td>\n",
       "      <td>Devin Belden</td>\n",
       "      <td>/staff/students/devinbelden</td>\n",
       "      <td>True</td>\n",
       "    </tr>\n",
       "    <tr>\n",
       "      <td>699</td>\n",
       "      <td>Douglas Steen</td>\n",
       "      <td>/staff/students/douglaspsteen</td>\n",
       "      <td>True</td>\n",
       "    </tr>\n",
       "    <tr>\n",
       "      <td>924</td>\n",
       "      <td>Ice Asortse</td>\n",
       "      <td>/staff/students/dantarshi</td>\n",
       "      <td>True</td>\n",
       "    </tr>\n",
       "    <tr>\n",
       "      <td>975</td>\n",
       "      <td>Jamaal Smith</td>\n",
       "      <td>/staff/students/jdsmithwes</td>\n",
       "      <td>True</td>\n",
       "    </tr>\n",
       "    <tr>\n",
       "      <td>1109</td>\n",
       "      <td>John Kline</td>\n",
       "      <td>/staff/students/katahdin28</td>\n",
       "      <td>True</td>\n",
       "    </tr>\n",
       "    <tr>\n",
       "      <td>1111</td>\n",
       "      <td>John Lemaster</td>\n",
       "      <td>/staff/students/lemaster1</td>\n",
       "      <td>True</td>\n",
       "    </tr>\n",
       "    <tr>\n",
       "      <td>1116</td>\n",
       "      <td>John Ofrecio</td>\n",
       "      <td>/staff/students/jofrecio</td>\n",
       "      <td>True</td>\n",
       "    </tr>\n",
       "    <tr>\n",
       "      <td>1543</td>\n",
       "      <td>Melvin Gonzalez</td>\n",
       "      <td>/staff/students/melvingonzalezjr</td>\n",
       "      <td>True</td>\n",
       "    </tr>\n",
       "    <tr>\n",
       "      <td>1552</td>\n",
       "      <td>Michael Burak</td>\n",
       "      <td>/staff/students/michaelburak</td>\n",
       "      <td>True</td>\n",
       "    </tr>\n",
       "    <tr>\n",
       "      <td>1878</td>\n",
       "      <td>Ru Kein</td>\n",
       "      <td>/staff/students/hakkeray</td>\n",
       "      <td>True</td>\n",
       "    </tr>\n",
       "    <tr>\n",
       "      <td>2090</td>\n",
       "      <td>Susanna Han</td>\n",
       "      <td>/staff/students/ohsusanna93</td>\n",
       "      <td>True</td>\n",
       "    </tr>\n",
       "    <tr>\n",
       "      <td>2145</td>\n",
       "      <td>Terry Ollila</td>\n",
       "      <td>/staff/students/terryollila</td>\n",
       "      <td>True</td>\n",
       "    </tr>\n",
       "  </tbody>\n",
       "</table>\n",
       "</div>"
      ],
      "text/plain": [
       "                 name                               url  my_student\n",
       "17      Acusio Bivona         /staff/students/coachcooz        True\n",
       "170      Andrea Osika         /staff/students/andiosika        True\n",
       "621     Darius Fuller         /staff/students/dfuller22        True\n",
       "676      Devin Belden       /staff/students/devinbelden        True\n",
       "699     Douglas Steen     /staff/students/douglaspsteen        True\n",
       "924       Ice Asortse         /staff/students/dantarshi        True\n",
       "975      Jamaal Smith        /staff/students/jdsmithwes        True\n",
       "1109       John Kline        /staff/students/katahdin28        True\n",
       "1111    John Lemaster         /staff/students/lemaster1        True\n",
       "1116     John Ofrecio          /staff/students/jofrecio        True\n",
       "1543  Melvin Gonzalez  /staff/students/melvingonzalezjr        True\n",
       "1552    Michael Burak      /staff/students/michaelburak        True\n",
       "1878          Ru Kein          /staff/students/hakkeray        True\n",
       "2090      Susanna Han       /staff/students/ohsusanna93        True\n",
       "2145     Terry Ollila       /staff/students/terryollila        True"
      ]
     },
     "execution_count": 9,
     "metadata": {},
     "output_type": "execute_result"
    }
   ],
   "source": [
    "# df_my_students.to_csv('jmi_students_from_active_students.csv')\n",
    "df_my_students = pd.read_csv('jmi_students_from_active_students.csv',index_col=0)\n",
    "df_my_students"
   ]
  },
  {
   "cell_type": "markdown",
   "metadata": {},
   "source": [
    "### Further Processing My Students"
   ]
  },
  {
   "cell_type": "code",
   "execution_count": 10,
   "metadata": {
    "ExecuteTime": {
     "end_time": "2019-12-24T16:38:30.123784Z",
     "start_time": "2019-12-24T16:38:30.121156Z"
    }
   },
   "outputs": [],
   "source": [
    "df = df_my_students.copy()"
   ]
  },
  {
   "cell_type": "code",
   "execution_count": 11,
   "metadata": {
    "ExecuteTime": {
     "end_time": "2019-12-24T16:38:43.251648Z",
     "start_time": "2019-12-24T16:38:43.239924Z"
    }
   },
   "outputs": [
    {
     "data": {
      "text/html": [
       "<div>\n",
       "<style scoped>\n",
       "    .dataframe tbody tr th:only-of-type {\n",
       "        vertical-align: middle;\n",
       "    }\n",
       "\n",
       "    .dataframe tbody tr th {\n",
       "        vertical-align: top;\n",
       "    }\n",
       "\n",
       "    .dataframe thead th {\n",
       "        text-align: right;\n",
       "    }\n",
       "</style>\n",
       "<table border=\"1\" class=\"dataframe\">\n",
       "  <thead>\n",
       "    <tr style=\"text-align: right;\">\n",
       "      <th></th>\n",
       "      <th>name</th>\n",
       "      <th>url</th>\n",
       "      <th>my_student</th>\n",
       "      <th>full_url</th>\n",
       "    </tr>\n",
       "  </thead>\n",
       "  <tbody>\n",
       "    <tr>\n",
       "      <td>17</td>\n",
       "      <td>Acusio Bivona</td>\n",
       "      <td>/staff/students/coachcooz</td>\n",
       "      <td>True</td>\n",
       "      <td>https://instruction.learn.co/staff/students/co...</td>\n",
       "    </tr>\n",
       "    <tr>\n",
       "      <td>170</td>\n",
       "      <td>Andrea Osika</td>\n",
       "      <td>/staff/students/andiosika</td>\n",
       "      <td>True</td>\n",
       "      <td>https://instruction.learn.co/staff/students/an...</td>\n",
       "    </tr>\n",
       "    <tr>\n",
       "      <td>621</td>\n",
       "      <td>Darius Fuller</td>\n",
       "      <td>/staff/students/dfuller22</td>\n",
       "      <td>True</td>\n",
       "      <td>https://instruction.learn.co/staff/students/df...</td>\n",
       "    </tr>\n",
       "    <tr>\n",
       "      <td>676</td>\n",
       "      <td>Devin Belden</td>\n",
       "      <td>/staff/students/devinbelden</td>\n",
       "      <td>True</td>\n",
       "      <td>https://instruction.learn.co/staff/students/de...</td>\n",
       "    </tr>\n",
       "    <tr>\n",
       "      <td>699</td>\n",
       "      <td>Douglas Steen</td>\n",
       "      <td>/staff/students/douglaspsteen</td>\n",
       "      <td>True</td>\n",
       "      <td>https://instruction.learn.co/staff/students/do...</td>\n",
       "    </tr>\n",
       "    <tr>\n",
       "      <td>924</td>\n",
       "      <td>Ice Asortse</td>\n",
       "      <td>/staff/students/dantarshi</td>\n",
       "      <td>True</td>\n",
       "      <td>https://instruction.learn.co/staff/students/da...</td>\n",
       "    </tr>\n",
       "    <tr>\n",
       "      <td>975</td>\n",
       "      <td>Jamaal Smith</td>\n",
       "      <td>/staff/students/jdsmithwes</td>\n",
       "      <td>True</td>\n",
       "      <td>https://instruction.learn.co/staff/students/jd...</td>\n",
       "    </tr>\n",
       "    <tr>\n",
       "      <td>1109</td>\n",
       "      <td>John Kline</td>\n",
       "      <td>/staff/students/katahdin28</td>\n",
       "      <td>True</td>\n",
       "      <td>https://instruction.learn.co/staff/students/ka...</td>\n",
       "    </tr>\n",
       "    <tr>\n",
       "      <td>1111</td>\n",
       "      <td>John Lemaster</td>\n",
       "      <td>/staff/students/lemaster1</td>\n",
       "      <td>True</td>\n",
       "      <td>https://instruction.learn.co/staff/students/le...</td>\n",
       "    </tr>\n",
       "    <tr>\n",
       "      <td>1116</td>\n",
       "      <td>John Ofrecio</td>\n",
       "      <td>/staff/students/jofrecio</td>\n",
       "      <td>True</td>\n",
       "      <td>https://instruction.learn.co/staff/students/jo...</td>\n",
       "    </tr>\n",
       "    <tr>\n",
       "      <td>1543</td>\n",
       "      <td>Melvin Gonzalez</td>\n",
       "      <td>/staff/students/melvingonzalezjr</td>\n",
       "      <td>True</td>\n",
       "      <td>https://instruction.learn.co/staff/students/me...</td>\n",
       "    </tr>\n",
       "    <tr>\n",
       "      <td>1552</td>\n",
       "      <td>Michael Burak</td>\n",
       "      <td>/staff/students/michaelburak</td>\n",
       "      <td>True</td>\n",
       "      <td>https://instruction.learn.co/staff/students/mi...</td>\n",
       "    </tr>\n",
       "    <tr>\n",
       "      <td>1878</td>\n",
       "      <td>Ru Kein</td>\n",
       "      <td>/staff/students/hakkeray</td>\n",
       "      <td>True</td>\n",
       "      <td>https://instruction.learn.co/staff/students/ha...</td>\n",
       "    </tr>\n",
       "    <tr>\n",
       "      <td>2090</td>\n",
       "      <td>Susanna Han</td>\n",
       "      <td>/staff/students/ohsusanna93</td>\n",
       "      <td>True</td>\n",
       "      <td>https://instruction.learn.co/staff/students/oh...</td>\n",
       "    </tr>\n",
       "    <tr>\n",
       "      <td>2145</td>\n",
       "      <td>Terry Ollila</td>\n",
       "      <td>/staff/students/terryollila</td>\n",
       "      <td>True</td>\n",
       "      <td>https://instruction.learn.co/staff/students/te...</td>\n",
       "    </tr>\n",
       "  </tbody>\n",
       "</table>\n",
       "</div>"
      ],
      "text/plain": [
       "                 name                               url  my_student  \\\n",
       "17      Acusio Bivona         /staff/students/coachcooz        True   \n",
       "170      Andrea Osika         /staff/students/andiosika        True   \n",
       "621     Darius Fuller         /staff/students/dfuller22        True   \n",
       "676      Devin Belden       /staff/students/devinbelden        True   \n",
       "699     Douglas Steen     /staff/students/douglaspsteen        True   \n",
       "924       Ice Asortse         /staff/students/dantarshi        True   \n",
       "975      Jamaal Smith        /staff/students/jdsmithwes        True   \n",
       "1109       John Kline        /staff/students/katahdin28        True   \n",
       "1111    John Lemaster         /staff/students/lemaster1        True   \n",
       "1116     John Ofrecio          /staff/students/jofrecio        True   \n",
       "1543  Melvin Gonzalez  /staff/students/melvingonzalezjr        True   \n",
       "1552    Michael Burak      /staff/students/michaelburak        True   \n",
       "1878          Ru Kein          /staff/students/hakkeray        True   \n",
       "2090      Susanna Han       /staff/students/ohsusanna93        True   \n",
       "2145     Terry Ollila       /staff/students/terryollila        True   \n",
       "\n",
       "                                               full_url  \n",
       "17    https://instruction.learn.co/staff/students/co...  \n",
       "170   https://instruction.learn.co/staff/students/an...  \n",
       "621   https://instruction.learn.co/staff/students/df...  \n",
       "676   https://instruction.learn.co/staff/students/de...  \n",
       "699   https://instruction.learn.co/staff/students/do...  \n",
       "924   https://instruction.learn.co/staff/students/da...  \n",
       "975   https://instruction.learn.co/staff/students/jd...  \n",
       "1109  https://instruction.learn.co/staff/students/ka...  \n",
       "1111  https://instruction.learn.co/staff/students/le...  \n",
       "1116  https://instruction.learn.co/staff/students/jo...  \n",
       "1543  https://instruction.learn.co/staff/students/me...  \n",
       "1552  https://instruction.learn.co/staff/students/mi...  \n",
       "1878  https://instruction.learn.co/staff/students/ha...  \n",
       "2090  https://instruction.learn.co/staff/students/oh...  \n",
       "2145  https://instruction.learn.co/staff/students/te...  "
      ]
     },
     "execution_count": 11,
     "metadata": {},
     "output_type": "execute_result"
    }
   ],
   "source": [
    "def make_instructor_learn_url(partial_url):\n",
    "    \"\"\"Prepends the base url to relative url for df.apply\"\"\"\n",
    "    base_url = 'https://instruction.learn.co' + partial_url\n",
    "    return base_url\n",
    "\n",
    "df['full_url'] = df['url'].apply(make_instructor_learn_url)\n",
    "df"
   ]
  },
  {
   "cell_type": "markdown",
   "metadata": {},
   "source": [
    "### Now grab info from each student's learn page"
   ]
  },
  {
   "cell_type": "code",
   "execution_count": null,
   "metadata": {
    "ExecuteTime": {
     "end_time": "2019-12-24T01:47:26.914949Z",
     "start_time": "2019-12-24T01:47:26.913073Z"
    }
   },
   "outputs": [],
   "source": [
    "# my_html = driver.page_source\n",
    "# soup = BeautifulSoup(my_html, 'html.parser')"
   ]
  },
  {
   "cell_type": "code",
   "execution_count": null,
   "metadata": {
    "ExecuteTime": {
     "end_time": "2019-12-24T01:47:27.272161Z",
     "start_time": "2019-12-24T01:47:27.270133Z"
    }
   },
   "outputs": [],
   "source": [
    "# ## Example edge case of not having a maximum num of sessions\n",
    "# coach_max_link = 'https://instruction.learn.co/staff/students/abbyox'\n",
    "# driver.get(coach_max_link)"
   ]
  },
  {
   "cell_type": "code",
   "execution_count": null,
   "metadata": {
    "ExecuteTime": {
     "end_time": "2019-12-23T19:36:44.933337Z",
     "start_time": "2019-12-23T19:36:43.894560Z"
    }
   },
   "outputs": [],
   "source": []
  },
  {
   "cell_type": "code",
   "execution_count": null,
   "metadata": {
    "ExecuteTime": {
     "end_time": "2019-12-24T01:47:27.592034Z",
     "start_time": "2019-12-24T01:47:27.590151Z"
    }
   },
   "outputs": [],
   "source": [
    "# test_link = df['full_url'].iloc[1]\n",
    "# driver.get(test_link)"
   ]
  },
  {
   "cell_type": "markdown",
   "metadata": {},
   "source": [
    "#### Divergence"
   ]
  },
  {
   "cell_type": "code",
   "execution_count": 12,
   "metadata": {
    "ExecuteTime": {
     "end_time": "2019-12-24T16:39:13.863686Z",
     "start_time": "2019-12-24T16:39:13.860178Z"
    },
    "code_folding": []
   },
   "outputs": [],
   "source": [
    "def get_student_info_from_full_url(full_url):\n",
    "    \"\"\"Get the `uk-card-body` text from student's instruction.learn full url\"\"\"\n",
    "    driver.get(full_url)\n",
    "    my_html = driver.page_source\n",
    "    student_soup = BeautifulSoup(my_html, 'html.parser')\n",
    "    tag = student_soup.find('div',attrs={'class':'uk-card-body'})\n",
    "    student_info = tag#.text\n",
    "    print('Function used to return the .text, now it returns the tag itself.')\n",
    "    return student_info\n"
   ]
  },
  {
   "cell_type": "code",
   "execution_count": 74,
   "metadata": {
    "ExecuteTime": {
     "end_time": "2019-12-24T17:09:37.605743Z",
     "start_time": "2019-12-24T17:09:37.587337Z"
    },
    "code_folding": []
   },
   "outputs": [],
   "source": [
    "import re\n",
    "def get_urls_from_custom_badges(student_info_card):\n",
    "    \"\"\"Accepts the student_info card from instruction.learn\n",
    "    profile.  Retreives the urls from the custom-badges div.\"\"\"\n",
    "    links = student_info_card.find_all('a',href=True)\n",
    "    # learn_url = links[1]['href']\n",
    "\n",
    "\n",
    "    ## List of Links \n",
    "    student_links = dict(\n",
    "        slack_url = [links[0]['href']],\n",
    "        learn_url = [links[1]['href']],\n",
    "        github_url = [links[2]['href']],\n",
    "        mailto_url = [links[3]['href']],\n",
    "        projects_url = [links[4]['href']], \n",
    "        grad_dash_url = [links[5]['href']])\n",
    "    \n",
    "    return student_links\n",
    "\n",
    "\n",
    "def get_student_dict_from_student_info(student_info_tag):\n",
    "    \"\"\"Uses regex to parse info from student's\n",
    "    instruction.learn.co/staff/students/____ page:\n",
    "    \n",
    "\n",
    "    Ex Use:\n",
    "    full_link = df['full_url'].iloc[i]\n",
    "    student_info_tag =  get_student_info_from_full_url(full_link)\n",
    "    \n",
    "    student_dict = get_student_dict_from_student_info(student_info_tag)\n",
    "    \"\"\"\n",
    "    student_info = student_info_tag.text\n",
    "\n",
    "    import re\n",
    "\n",
    "    student_dict = {}\n",
    "    \n",
    "    ## Get urls\n",
    "    student_urls= get_urls_from_custom_badges(student_info_tag)\n",
    "    for k,v in student_urls.items():\n",
    "        student_dict[k] = v\n",
    "\n",
    "\n",
    "    ## Cohort Lead\n",
    "    re_cohort_lead = re.compile(r\"Cohort Lead: (\\w* \\w*)\")\n",
    "    student_dict['cohort_lead'] = re_cohort_lead.findall(student_info)#[0]\n",
    "\n",
    "    ## Ed Coach\n",
    "    re_ed_coach = re.compile(r\"Educational Coach: Currently assigned to (\\w*.\\w*)\")\n",
    "    student_dict['ed_coach'] = re_ed_coach.findall(student_info)#[0]\n",
    "\n",
    "\n",
    "    ## Last Active\n",
    "    re_last_active = re.compile(r\"last.active.(\\d{2,}/\\d{2,}/\\d{2,})\")\n",
    "    student_dict['last_active'] = re_last_active.findall(student_info)#[0]\n",
    "\n",
    "\n",
    "    ## Completed Lessons\n",
    "    re_comp_lessons = re.compile(r\"(\\d{1,4}).completed lessons\")\n",
    "    student_dict['completed_lessons'] = re_comp_lessons.findall(student_info)#[0]\n",
    "\n",
    "    ## Joined learn\n",
    "    re_joined = re.compile(r\"Joined Learn (\\d{2}/\\d{2}/\\d{2})\")\n",
    "    student_dict['joined'] = re_joined.findall(student_info)#[0]\n",
    "\n",
    "\n",
    "\n",
    "    ## Career Coach - MUST BETTER ADDRESS NOT CURRENTLY ASSIGNED\n",
    "    re_career_coach= re.compile(r\"Career Coach: (\\w* \\w*)\")\n",
    "    student_dict['career_coach'] = re_career_coach.findall(student_info)#[0]\n",
    "\n",
    "    re_section = re.compile(r\"Section: ([A-Za-z\\t .]+)\")\n",
    "    student_dict['section'] = re_section.findall(student_info)#[0]\n",
    "    \n",
    "    ## Adding Unpacking of lists via dict loop\n",
    "    \n",
    "    for k,v in student_dict.items():\n",
    "        try:\n",
    "            student_dict[k] = v[0]\n",
    "        except:\n",
    "            continue\n",
    "        \n",
    "    return student_dict\n",
    "\n",
    "\n",
    "def get_program_info(program_info_tag):\n",
    "    \n",
    "    program_info = program_info_tag.text\n",
    "    \n",
    "    program_dict = {}\n",
    "    \n",
    "    re_coach_sess= re.compile(r\"Touchpoints: (\\d{1,2}) (of (\\d{1,2}))?\") #\"Touchpoints: (\\d{1,2}) of (\\d{1,2})\")\n",
    "    num_ed_coach_sess = re_coach_sess.findall(program_info)\n",
    "    \n",
    "    num_used= num_ed_coach_sess[0][0]\n",
    "    num_avail = num_ed_coach_sess[0][-1]\n",
    "    \n",
    "    program_dict['ed_coach_avail'] = num_avail\n",
    "    program_dict['ed_coach_used'] = num_used\n",
    "\n",
    "    \n",
    "    re_cohort = re.compile(r\"Cohort: ([A-Za-z-\\d]+)\")\n",
    "    program_dict['cohort'] = re_cohort.findall(program_info)[0]\n",
    "    \n",
    "    re_pacing = re.compile(r\"Pacing: ([A-Za-z-\\d ]+)\")\n",
    "    program_dict['pacing'] =re_pacing.findall(program_info)[0]\n",
    "    \n",
    "    \n",
    "    return program_dict\n",
    "    \n",
    "\n",
    "def get_profile_info(profile_info_tag):\n",
    "    \n",
    "    profile_dict = {}\n",
    "    profile_text = profile_info_tag.text\n",
    "    grad_date = re.compile(r\"Ideal Graduation Date: (([\\d-]?)*)\")\n",
    "    \n",
    "    profile_dict['grad_date'] = grad_date.findall(profile_text)#[0][0]\n",
    "    \n",
    "    \n",
    "    re_comm_level = re.compile(r\"Commitment Level: (\\w* Time)\")\n",
    "    profile_dict['commitment_level'] = re_comm_level.findall(profile_text)#[0]\n",
    "    \n",
    "    re_lives_in = re.compile(r\"Lives in ([A-Za-z ,]+)\")\n",
    "    profile_dict['lives_in'] = re_lives_in.findall(profile_text)#[0]\n",
    "    return profile_dict"
   ]
  },
  {
   "cell_type": "code",
   "execution_count": 14,
   "metadata": {
    "ExecuteTime": {
     "end_time": "2019-12-24T16:39:16.025012Z",
     "start_time": "2019-12-24T16:39:16.022884Z"
    }
   },
   "outputs": [],
   "source": [
    "# tags[0].text"
   ]
  },
  {
   "cell_type": "code",
   "execution_count": 15,
   "metadata": {
    "ExecuteTime": {
     "end_time": "2019-12-24T16:39:16.368259Z",
     "start_time": "2019-12-24T16:39:16.363260Z"
    }
   },
   "outputs": [],
   "source": [
    "\"\"\"tags = get_student_instruct_cards(full_url)\n",
    "student_data_dict =  process_student_instruct_cards(tags)\"\"\"\n",
    "\n",
    "def get_student_instruct_cards(full_url):\n",
    "    \"\"\"Get the `uk-card-body` text from student's instruction.learn full url\"\"\"\n",
    "    driver.get(full_url)\n",
    "    my_html = driver.page_source\n",
    "    student_soup = BeautifulSoup(my_html, 'html.parser')\n",
    "    tags = student_soup.find_all('div',attrs={'class':'uk-card-body'})\n",
    "    return tags\n",
    "\n",
    "def process_student_instruct_cards(tags_with_cards):\n",
    "    \"\"\"Calls on get_student_dict_from_student_info,\n",
    "    get_program_info, and get_profile_info to make\n",
    "    student_data_dict.\n",
    "    \"\"\"\n",
    "    student_info_dict = {}\n",
    "    ### Tags have all 3 boxes\n",
    "    # blue student_info \n",
    "    student_info = tags_with_cards[0]\n",
    "    student_info_dict['student_info'] = get_student_dict_from_student_info(student_info)\n",
    "\n",
    "    # red student_info \n",
    "    program_info = tags_with_cards[1]\n",
    "    student_info_dict['program_info'] = get_program_info(program_info)\n",
    "\n",
    "    # purple profile \n",
    "    profile_info = tags_with_cards[2]\n",
    "    \n",
    "    student_info_dict['profile_info'] = get_profile_info(profile_info)\n",
    "    \n",
    "    return student_info_dict \n",
    "    "
   ]
  },
  {
   "cell_type": "code",
   "execution_count": null,
   "metadata": {
    "ExecuteTime": {
     "end_time": "2019-12-24T01:47:30.461259Z",
     "start_time": "2019-12-24T01:47:30.459212Z"
    }
   },
   "outputs": [],
   "source": [
    "# test_link\n",
    "# tags = get_student_instruct_cards(test_link)\n",
    "\n",
    "# tags[0].text"
   ]
  },
  {
   "cell_type": "code",
   "execution_count": null,
   "metadata": {
    "ExecuteTime": {
     "end_time": "2019-12-24T01:47:30.875571Z",
     "start_time": "2019-12-24T01:47:30.873586Z"
    }
   },
   "outputs": [],
   "source": [
    "# ## TROUBLESHOOTING\n",
    "# tags = get_student_instruct_cards(test_link)\n",
    "# student_info_tag = tags[0]\n",
    "# student_info = student_info_tag.text\n",
    "\n",
    "# student_info"
   ]
  },
  {
   "cell_type": "code",
   "execution_count": 17,
   "metadata": {
    "ExecuteTime": {
     "end_time": "2019-12-24T16:40:13.325053Z",
     "start_time": "2019-12-24T16:40:13.320715Z"
    }
   },
   "outputs": [],
   "source": [
    "def apply_student_info_retrieval(full_url):\n",
    "    import time \n",
    "    time.sleep(2)\n",
    "    ## Using the streamlined functions\n",
    "    student_tags = get_student_instruct_cards(full_url)\n",
    "    student_dict = process_student_instruct_cards(student_tags)\n",
    "\n",
    "\n",
    "    student_row = pd.Series(student_dict['student_info'])\n",
    "    for k,v in student_dict['program_info'].items():\n",
    "        student_row[k]=v\n",
    "\n",
    "    for k,v in student_dict['profile_info'].items():\n",
    "        student_row[k]=v    \n",
    "\n",
    "    return student_row"
   ]
  },
  {
   "cell_type": "markdown",
   "metadata": {},
   "source": [
    "# BOOKMARK 12/23/19 5:45pm\n",
    "- Andi doesn't officially have me listed as her cohort lead and caused an error when triyng to get info\n",
    "\n",
    "- Replaced unpacking of tags from the end of each line to a for loop with at try except clause"
   ]
  },
  {
   "cell_type": "code",
   "execution_count": 16,
   "metadata": {
    "ExecuteTime": {
     "end_time": "2019-12-24T16:39:32.810439Z",
     "start_time": "2019-12-24T16:39:25.769480Z"
    }
   },
   "outputs": [
    {
     "name": "stdout",
     "output_type": "stream",
     "text": [
      "[i] Workflow:\n",
      "driver = start_driver()\n",
      "login_data=load_login_data()\n",
      "github_login(driver,login_data)\n",
      "instruct_menu_to_cohort_roster(driver,cohort='pt')\n",
      "df = cohort_driver_to_csv(driver,'pt_cohort_data.csv',load=True)\n",
      "Loaded json data. Keys:\n",
      "dict_keys(['username', 'password'])\n"
     ]
    }
   ],
   "source": [
    "import learn_scrape as ls\n",
    "\n",
    "driver = ls.start_driver()\n",
    "ls.github_login(driver)"
   ]
  },
  {
   "cell_type": "markdown",
   "metadata": {},
   "source": [
    "## WORKING ON GETTING CUSTOM BADGE LINKS"
   ]
  },
  {
   "cell_type": "code",
   "execution_count": 18,
   "metadata": {
    "ExecuteTime": {
     "end_time": "2019-12-24T16:40:32.414154Z",
     "start_time": "2019-12-24T16:40:32.405231Z"
    }
   },
   "outputs": [
    {
     "data": {
      "text/plain": [
       "'https://instruction.learn.co/staff/students/coachcooz'"
      ]
     },
     "execution_count": 18,
     "metadata": {},
     "output_type": "execute_result"
    }
   ],
   "source": [
    "test_link = df['full_url'].iloc[0]\n",
    "test_link"
   ]
  },
  {
   "cell_type": "code",
   "execution_count": 20,
   "metadata": {
    "ExecuteTime": {
     "end_time": "2019-12-24T16:41:18.378444Z",
     "start_time": "2019-12-24T16:41:13.037238Z"
    },
    "collapsed": true
   },
   "outputs": [
    {
     "data": {
      "text/plain": [
       "[<div class=\"uk-card-body\">\n",
       " <div class=\"custom-badges\">\n",
       " <a class=\"custom-badge-icon\" href=\"slack://user?team=learn-co&amp;id=\" rel=\"nofollow\" target=\"_blank\">\n",
       " <svg height=\"16\" viewbox=\"0 0 150 150\" width=\"16\">\n",
       " <path d=\"M13.533,78.487c-5.494,0.042-10.148-3.232-11.864-8.342c-0.066-0.198-0.123-0.391-0.178-0.583 c-1.87-6.544,1.756-13.391,8.255-15.582l104.24-34.923c1.267-0.363,2.543-0.549,3.807-0.557 c5.64-0.044,10.422,3.303,12.18,8.521l0.156,0.504c1.95,6.815-2.895,12.899-8.7,14.85c-0.004,0.003-1.06,0.36-103.662,35.392 C16.38,78.237,14.957,78.475,13.533,78.487L13.533,78.487z\" fill=\"#70CADB\"></path>\n",
       " <path d=\"M30.908,129.752c-5.537,0.04-10.207-3.188-11.903-8.225c-0.064-0.192-0.125-0.385-0.18-0.579 c-1.896-6.622,1.726-13.54,8.247-15.735L131.316,69.97c1.347-0.45,2.738-0.681,4.137-0.693c5.552-0.042,10.43,3.35,12.151,8.445 l0.16,0.529c1.007,3.521,0.412,7.479-1.59,10.602c-1.492,2.321-6.198,4.365-6.198,4.365l-104.64,35.779 c-1.458,0.487-2.945,0.744-4.428,0.757V129.752z\" fill=\"#E01765\"></path>\n",
       " <path d=\"M117.684,129.975c-5.56,0.043-10.483-3.465-12.255-8.724l-34.79-103.34l-0.174-0.58 c-1.885-6.59,1.74-13.464,8.237-15.653c1.3-0.438,2.644-0.665,3.997-0.678c2.01-0.015,3.955,0.438,5.787,1.344 c3.063,1.524,5.354,4.149,6.449,7.392l34.787,103.332l0.101,0.332c1.954,6.842-1.663,13.72-8.16,15.91 C120.376,129.738,119.036,129.963,117.684,129.975L117.684,129.975z\" fill=\"#E8A723\"></path>\n",
       " <path d=\"M65.971,147.381c-5.56,0.043-10.487-3.465-12.26-8.729L18.93,35.315c-0.06-0.19-0.12-0.38-0.178-0.575 c-1.88-6.588,1.734-13.463,8.229-15.655c1.295-0.43,2.634-0.656,3.985-0.668c5.561-0.044,10.485,3.463,12.257,8.724 l34.782,103.34c0.065,0.18,0.124,0.379,0.177,0.568c1.884,6.594-1.732,13.473-8.237,15.664 c-1.292,0.432-2.629,0.656-3.978,0.667L65.971,147.381L65.971,147.381z\" fill=\"#3EB890\"></path>\n",
       " <path d=\"M100.533,106.703l24.258-8.294l-7.93-23.55l-24.286,8.207L100.533,106.703z\" fill=\"#CC2027\"></path>\n",
       " <path d=\"M48.9,124.357l24.256-8.293l-7.99-23.73l-24.28,8.21L48.9,124.357z\" fill=\"#361238\"></path>\n",
       " <path d=\"M83.263,55.406l24.26-8.283l-7.837-23.274l-24.305,8.143L83.263,55.406z\" fill=\"#65863A\"></path>\n",
       " <path d=\"M31.624,73.036l24.26-8.283l-7.933-23.571l-24.305,8.142L31.624,73.036L31.624,73.036z\" fill=\"#1A937D\"></path>\n",
       " </svg>\n",
       " </a>\n",
       " <a class=\"custom-badge-icon\" href=\"http://learn.co/coachcooz\" rel=\"nofollow\" target=\"_blank\">\n",
       " <svg height=\"16\" viewbox=\"0 0 217.9 342.1\" width=\"16\">\n",
       " <path d=\"M118.3,179l73.3,0.1l-73.4,119L118.3,179z M99.6,42.5l-0.1,119.1l-73.3-0.1L99.6,42.5z M101.1,4.5L1.4,166.1c-1.8,2.9-1.9,5.7-0.2,8.7s4.8,4,8.2,4l90.1,0.1L99.4,332c0,4.2,2.8,8.3,6.8,9.5c0.9,0.2,1.7,0.6,2.6,0.6 c3.2,0,6.3-1.5,8-4.4l99.7-161.6c1.8-2.9,1.9-6.5,0.2-9.5s-4.8-4.9-8.2-4.9l-90.1-0.1l0.2-152.2c0-4.2-2.8-7.9-6.8-9 c-1-0.3-1.8-0.4-2.7-0.4C105.9,0,102.8,1.7,101.1,4.5\"></path>\n",
       " </svg>\n",
       " </a>\n",
       " <a class=\"custom-badge-icon\" href=\"http://github.com/coachcooz\" rel=\"nofollow\" target=\"_blank\">\n",
       " <svg height=\"16\" viewbox=\"0 0 438.549 438.549\" width=\"16\">\n",
       " <path d=\"M409.132,114.573c-19.608-33.596-46.205-60.194-79.798-79.8C295.736,15.166,259.057,5.365,219.271,5.365 c-39.781,0-76.472,9.804-110.063,29.408c-33.596,19.605-60.192,46.204-79.8,79.8C9.803,148.168,0,184.854,0,224.63 c0,47.78,13.94,90.745,41.827,128.906c27.884,38.164,63.906,64.572,108.063,79.227c5.14,0.954,8.945,0.283,11.419-1.996 c2.475-2.282,3.711-5.14,3.711-8.562c0-0.571-0.049-5.708-0.144-15.417c-0.098-9.709-0.144-18.179-0.144-25.406l-6.567,1.136 c-4.187,0.767-9.469,1.092-15.846,1c-6.374-0.089-12.991-0.757-19.842-1.999c-6.854-1.231-13.229-4.086-19.13-8.559 c-5.898-4.473-10.085-10.328-12.56-17.556l-2.855-6.57c-1.903-4.374-4.899-9.233-8.992-14.559 c-4.093-5.331-8.232-8.945-12.419-10.848l-1.999-1.431c-1.332-0.951-2.568-2.098-3.711-3.429c-1.142-1.331-1.997-2.663-2.568-3.997 c-0.572-1.335-0.098-2.43,1.427-3.289c1.525-0.859,4.281-1.276,8.28-1.276l5.708,0.853c3.807,0.763,8.516,3.042,14.133,6.851 c5.614,3.806,10.229,8.754,13.846,14.842c4.38,7.806,9.657,13.754,15.846,17.847c6.184,4.093,12.419,6.136,18.699,6.136 c6.28,0,11.704-0.476,16.274-1.423c4.565-0.952,8.848-2.383,12.847-4.285c1.713-12.758,6.377-22.559,13.988-29.41 c-10.848-1.14-20.601-2.857-29.264-5.14c-8.658-2.286-17.605-5.996-26.835-11.14c-9.235-5.137-16.896-11.516-22.985-19.126 c-6.09-7.614-11.088-17.61-14.987-29.979c-3.901-12.374-5.852-26.648-5.852-42.826c0-23.035,7.52-42.637,22.557-58.817 c-7.044-17.318-6.379-36.732,1.997-58.24c5.52-1.715,13.706-0.428,24.554,3.853c10.85,4.283,18.794,7.952,23.84,10.994 c5.046,3.041,9.089,5.618,12.135,7.708c17.705-4.947,35.976-7.421,54.818-7.421s37.117,2.474,54.823,7.421l10.849-6.849 c7.419-4.57,16.18-8.758,26.262-12.565c10.088-3.805,17.802-4.853,23.134-3.138c8.562,21.509,9.325,40.922,2.279,58.24 c15.036,16.18,22.559,35.787,22.559,58.817c0,16.178-1.958,30.497-5.853,42.966c-3.9,12.471-8.941,22.457-15.125,29.979 c-6.191,7.521-13.901,13.85-23.131,18.986c-9.232,5.14-18.182,8.85-26.84,11.136c-8.662,2.286-18.415,4.004-29.263,5.146 c9.894,8.562,14.842,22.077,14.842,40.539v60.237c0,3.422,1.19,6.279,3.572,8.562c2.379,2.279,6.136,2.95,11.276,1.995 c44.163-14.653,80.185-41.062,108.068-79.226c27.88-38.161,41.825-81.126,41.825-128.906 C438.536,184.851,428.728,148.168,409.132,114.573z\"></path>\n",
       " </svg>\n",
       " </a>\n",
       " <a class=\"custom-badge-icon\" href=\"mailto:acusio13@gmail.com\" target=\"_blank\">\n",
       " <svg fill=\"black\" height=\"16\" viewbox=\"0 0 16 14\" width=\"16\">\n",
       " <g transform=\"translate(-7.000000, -8.000000)\">\n",
       " <path d=\"M14.5,16.9 L7,12.7 L7,21 C7,21.6 7.4,22 8,22 L22,22 C22.6,22 23,21.6 23,21 L23,12.7 L15.5,16.9 C15.22,17.04 14.78,17.04 14.5,16.9 Z M22,8 L8,8 C7.4,8 7,8.4 7,9 L7,10.4 L15,14.9 L23,10.5 L23,9 C23,8.4 22.6,8 22,8 Z\"></path>\n",
       " </g>\n",
       " </svg>\n",
       " </a>\n",
       " <a class=\"custom-badge-icon\" href=\"https://learn.co/portfolio-projects/student-dashboard/coachcooz\" target=\"_blank\">\n",
       " <svg enable-background=\"new 0 0 100 100\" fill=\"#000000\" height=\"16\" version=\"1.1\" viewbox=\"0 0 100 100\" width=\"16\" x=\"0px\" xml:space=\"preserve\" xmlns=\"http://www.w3.org/2000/svg\" xmlns:xlink=\"http://www.w3.org/1999/xlink\" y=\"0px\">\n",
       " <g>\n",
       " <g>\n",
       " <path d=\"M57.691,21.364v-0.545c0-4.2-3.436-7.636-7.691-7.636c-4.2,0-7.636,3.436-7.636,7.636v0.545H57.691z     M86.818,79.509V36.855c0-4.036-3.273-7.309-7.255-7.309H61.782H38.273H20.491c-4.036,0-7.255,3.273-7.309,7.309v42.655    c0.055,4.036,3.273,7.309,7.309,7.309h59.073C83.545,86.818,86.818,83.545,86.818,79.509z M95,36.855v42.655    C95,88.073,88.073,95,79.564,95H20.491C11.982,95,5.055,88.073,5,79.509V36.855c0.055-8.564,6.982-15.491,15.491-15.491h13.691    v-0.545C34.182,12.091,41.273,5,50,5c8.782,0,15.873,7.091,15.873,15.818v0.545h13.691C88.073,21.364,95,28.291,95,36.855z\" fill=\"#000000\"></path>\n",
       " </g>\n",
       " </g>\n",
       " </svg>\n",
       " </a>\n",
       " <a class=\"custom-badge-icon\" href=\"https://learn.co/graduation/student-dashboard/coachcooz\" target=\"_blank\">\n",
       " <svg aria-hidden=\"true\" class=\"svg-inline--fa fa-graduation-cap fa-w-20\" data-icon=\"graduation-cap\" data-prefix=\"fas\" fill=\"black\" focusable=\"false\" height=\"16\" role=\"img\" viewbox=\"0 0 640 512\" width=\"16\" xmlns=\"http://www.w3.org/2000/svg\">\n",
       " <path d=\"M622.34 153.2L343.4 67.5c-15.2-4.67-31.6-4.67-46.79 0L17.66 153.2c-23.54 7.23-23.54 38.36 0 45.59l48.63 14.94c-10.67 13.19-17.23 29.28-17.88 46.9C38.78 266.15 32 276.11 32 288c0 10.78 5.68 19.85 13.86 25.65L20.33 428.53C18.11 438.52 25.71 448 35.94 448h56.11c10.24 0 17.84-9.48 15.62-19.47L82.14 313.65C90.32 307.85 96 298.78 96 288c0-11.57-6.47-21.25-15.66-26.87.76-15.02 8.44-28.3 20.69-36.72L296.6 284.5c9.06 2.78 26.44 6.25 46.79 0l278.95-85.7c23.55-7.24 23.55-38.36 0-45.6zM352.79 315.09c-28.53 8.76-52.84 3.92-65.59 0l-145.02-44.55L128 384c0 35.35 85.96 64 192 64s192-28.65 192-64l-14.18-113.47-145.03 44.56z\" fill=\"#000000\"></path>\n",
       " </svg>\n",
       " </a>\n",
       " </div>\n",
       " <p class=\"uk-text\"><time datetime=\"2019-12-23 17:34:47 -0500\">last active 12/23/19</time></p>\n",
       " <div class\"uk-card-title=\"\" uk-button=\"\" uk-button-text\"=\"\" uk-margin-remove-top=\"\">Section: Data Science</div>\n",
       " <!-- Educational Coaching Assignments -->\n",
       " <p>Educational Coach: Currently assigned to Dara Paoletti</p>\n",
       " <div class=\"uk-margin-top\">\n",
       " <p>Educational Coach Status Changes?</p>\n",
       " </div>\n",
       " <p>Career Coach: Not currently assigned</p>\n",
       " <p> Cohort Lead: James Irving\n",
       " \n",
       "           </p><p>207 completed lessons <em>(30%, 0 questions asked)</em></p>\n",
       " <p>Joined Learn 10/07/19 <em>(3 months ago)</em></p>\n",
       " <p>Started FSWD 10/07/19 <em>(3 months ago)</em></p>\n",
       " </div>, <div class=\"uk-card-body\">\n",
       " <div class\"uk-card-title=\"\" uk-button=\"\" uk-button-text\"=\"\" uk-margin-remove-top=\"\">Cohort: online-ds-pt-100719</div>\n",
       " <div class\"uk-card-title=\"\" uk-button=\"\" uk-button-text\"=\"\" uk-margin-remove-top=\"\">Pacing: Part Time</div>\n",
       "         Educational Coaching Meaningful Touchpoints: 3 of 11 Maximum\n",
       "       </div>, <div class=\"uk-card-body\"><div><div><h5>Current Objective</h5><p>Type: Complete Asap</p><p>Ideal Graduation Date: 2020-08-15</p><p>Flex Graduation Date: 2020-08-15</p></div><div><h5>Current Progress Satisfaction</h5><p>Type: Satisfied</p></div><div><h5>Onboarding Info</h5><p>Commitment Level: Part Time</p><p class=\"uk-margin-small\">Lives in Los Angeles, California, United States</p></div></div></div>, <div class=\"uk-card-body\">\n",
       " <div id=\"js-studentHistoryChart\"><div id=\"chart-1\" style='height: 220px; line-height: normal; width: 100%; text-align: center; color: rgb(153, 153, 153); font-size: 14px; font-family: \"Lucida Grande\", \"Lucida Sans Unicode\", Verdana, Arial, Helvetica, sans-serif;'><div style=\"position: relative;\"><div dir=\"ltr\" style=\"position: relative; width: 1090px; height: 220px;\"><div style=\"position: absolute; left: 0px; top: 0px; width: 100%; height: 100%;\"><svg aria-label=\"A chart.\" height=\"220\" style=\"overflow: hidden;\" width=\"1090\"><defs id=\"_ABSTRACT_RENDERER_ID_1\"></defs><g><rect fill=\"#ffffff\" height=\"40.992\" stroke=\"none\" stroke-width=\"0\" width=\"1090\" x=\"0\" y=\"0\"></rect><path d=\"M54,0L54,40.992\" fill=\"none\" fill-opacity=\"1\" stroke=\"#e6e6e6\" stroke-width=\"1\"></path><path d=\"M88.90500701918577,0L88.90500701918577,40.992\" fill=\"none\" fill-opacity=\"1\" stroke=\"#e6e6e6\" stroke-width=\"1\"></path><path d=\"M170.35002339728592,0L170.35002339728592,40.992\" fill=\"none\" fill-opacity=\"1\" stroke=\"#e6e6e6\" stroke-width=\"1\"></path><path d=\"M251.79503977538607,0L251.79503977538607,40.992\" fill=\"none\" fill-opacity=\"1\" stroke=\"#e6e6e6\" stroke-width=\"1\"></path><path d=\"M333.2400561534862,0L333.2400561534862,40.992\" fill=\"none\" fill-opacity=\"1\" stroke=\"#e6e6e6\" stroke-width=\"1\"></path><path d=\"M414.68507253158634,0L414.68507253158634,40.992\" fill=\"none\" fill-opacity=\"1\" stroke=\"#e6e6e6\" stroke-width=\"1\"></path><path d=\"M496.1300889096865,0L496.1300889096865,40.992\" fill=\"none\" fill-opacity=\"1\" stroke=\"#e6e6e6\" stroke-width=\"1\"></path><path d=\"M578.059897051942,0L578.059897051942,40.992\" fill=\"none\" fill-opacity=\"1\" stroke=\"#e6e6e6\" stroke-width=\"1\"></path><path d=\"M659.5049134300422,0L659.5049134300422,40.992\" fill=\"none\" fill-opacity=\"1\" stroke=\"#e6e6e6\" stroke-width=\"1\"></path><path d=\"M740.9499298081423,0L740.9499298081423,40.992\" fill=\"none\" fill-opacity=\"1\" stroke=\"#e6e6e6\" stroke-width=\"1\"></path><path d=\"M822.3949461862425,0L822.3949461862425,40.992\" fill=\"none\" fill-opacity=\"1\" stroke=\"#e6e6e6\" stroke-width=\"1\"></path><path d=\"M903.8399625643426,0L903.8399625643426,40.992\" fill=\"none\" fill-opacity=\"1\" stroke=\"#e6e6e6\" stroke-width=\"1\"></path><path d=\"M985.2849789424428,0L985.2849789424428,40.992\" fill=\"none\" fill-opacity=\"1\" stroke=\"#e6e6e6\" stroke-width=\"1\"></path><path d=\"M1066.729995320543,0L1066.729995320543,40.992\" fill=\"none\" fill-opacity=\"1\" stroke=\"#e6e6e6\" stroke-width=\"1\"></path><text fill=\"#4d4d4d\" font-family=\"Arial\" font-size=\"13\" stroke=\"none\" stroke-width=\"0\" text-anchor=\"end\" x=\"41\" y=\"25.046\">Slow</text><rect fill=\"none\" fill-opacity=\"1\" height=\"40.992\" stroke=\"#9a9a9a\" stroke-width=\"1\" width=\"1090\" x=\"0\" y=\"0\"></rect></g><g><text fill=\"#000000\" font-family=\"Arial\" font-size=\"13\" font-weight=\"bold\" stroke=\"none\" stroke-width=\"0\" text-anchor=\"middle\" x=\"88.90500701918577\" y=\"62.042\">Sep 29</text><text fill=\"#000000\" font-family=\"Arial\" font-size=\"13\" stroke=\"none\" stroke-width=\"0\" text-anchor=\"middle\" x=\"170.35002339728592\" y=\"62.042\">Oct 6</text><text fill=\"#000000\" font-family=\"Arial\" font-size=\"13\" stroke=\"none\" stroke-width=\"0\" text-anchor=\"middle\" x=\"251.79503977538607\" y=\"62.042\">Oct 13</text><text fill=\"#000000\" font-family=\"Arial\" font-size=\"13\" stroke=\"none\" stroke-width=\"0\" text-anchor=\"middle\" x=\"333.2400561534862\" y=\"62.042\">Oct 20</text><text fill=\"#000000\" font-family=\"Arial\" font-size=\"13\" stroke=\"none\" stroke-width=\"0\" text-anchor=\"middle\" x=\"414.68507253158634\" y=\"62.042\">Oct 27</text><text fill=\"#000000\" font-family=\"Arial\" font-size=\"13\" stroke=\"none\" stroke-width=\"0\" text-anchor=\"middle\" x=\"496.1300889096865\" y=\"62.042\">Nov 3</text><text fill=\"#000000\" font-family=\"Arial\" font-size=\"13\" stroke=\"none\" stroke-width=\"0\" text-anchor=\"middle\" x=\"578.059897051942\" y=\"62.042\">Nov 10</text><text fill=\"#000000\" font-family=\"Arial\" font-size=\"13\" stroke=\"none\" stroke-width=\"0\" text-anchor=\"middle\" x=\"659.5049134300422\" y=\"62.042\">Nov 17</text><text fill=\"#000000\" font-family=\"Arial\" font-size=\"13\" stroke=\"none\" stroke-width=\"0\" text-anchor=\"middle\" x=\"740.9499298081423\" y=\"62.042\">Nov 24</text><text fill=\"#000000\" font-family=\"Arial\" font-size=\"13\" stroke=\"none\" stroke-width=\"0\" text-anchor=\"middle\" x=\"822.3949461862425\" y=\"62.042\">Dec 1</text><text fill=\"#000000\" font-family=\"Arial\" font-size=\"13\" stroke=\"none\" stroke-width=\"0\" text-anchor=\"middle\" x=\"903.8399625643426\" y=\"62.042\">Dec 8</text><text fill=\"#000000\" font-family=\"Arial\" font-size=\"13\" stroke=\"none\" stroke-width=\"0\" text-anchor=\"middle\" x=\"985.2849789424428\" y=\"62.042\">Dec 15</text><text fill=\"#000000\" font-family=\"Arial\" font-size=\"13\" stroke=\"none\" stroke-width=\"0\" text-anchor=\"middle\" x=\"1066.729995320543\" y=\"62.042\">Dec 22</text></g><g></g><g><rect fill=\"#f9c51a\" height=\"22.991999999999997\" stroke=\"none\" stroke-width=\"0\" width=\"1035\" x=\"55\" y=\"9\"></rect></g><g></g><g></g><g></g><g></g></svg></div></div><div aria-hidden=\"true\" style=\"display: none; position: absolute; top: 230px; left: 1100px; white-space: nowrap; font-family: Arial; font-size: 13px;\">Dec 15</div><div></div></div></div></div>\n",
       " </div>, <div class=\"uk-card-body\">\n",
       " <form accept-charset=\"UTF-8\" action=\"/staff/students/4794/notes\" class=\"new_note\" id=\"new_note\" method=\"post\"><input name=\"utf8\" type=\"hidden\" value=\"✓\"/><input name=\"authenticity_token\" type=\"hidden\" value=\"hyY9kxDo+7EaruSzF3/jvqefKUEmi+ckn1lpd4wOQBCqpko5XweCCGKY3KiLV40AEsDVw7MN/0mBmTiWY7CkwQ==\"/>\n",
       " <fieldset class=\"uk-fieldset\">\n",
       " <div class=\"uk-margin\">\n",
       " <label for=\"note_Note Type\">Note type</label>\n",
       " <div class=\"uk-form-controls uk-background-default\">\n",
       " <select class=\"uk-select uk-background-default uk-text\" id=\"note_note_type_id\" name=\"note[note_type_id]\" required=\"required\" style=\"color: black;\"><option value=\"\">-- Select Note Type --</option>\n",
       " <option value=\"1\">1-on-1</option>\n",
       " <option value=\"3\">Outreach</option>\n",
       " <option value=\"4\">Comment</option>\n",
       " <option value=\"5\">Environment</option>\n",
       " <option value=\"6\">1-on-1: Portfolio Project Support</option>\n",
       " <option value=\"7\">1-on-1: Remedial Support</option>\n",
       " <option value=\"8\">1-on-1: Coaching Checkin</option>\n",
       " <option value=\"9\">No-Show: Instructional Checkin</option>\n",
       " <option value=\"10\">No-Show: Coaching Checkin</option>\n",
       " <option value=\"11\">1-on-1: Instructional Checkin</option>\n",
       " <option value=\"44\">Electronic Meaningful Touchpoint</option></select>\n",
       " </div>\n",
       " </div>\n",
       " <div class=\"uk-margin\">\n",
       " <label for=\"note_body\">Body</label>\n",
       " <div class=\"uk-form-controls uk-background-default\">\n",
       " <textarea class=\"uk-textarea uk-background-default uk-text\" cols=\"30\" id=\"note_body\" name=\"note[body]\" rows=\"8\" style=\"color: black;\"></textarea>\n",
       " </div>\n",
       " </div>\n",
       " <div class=\"uk-margin\">\n",
       " <label for=\"note_date\">Date</label>\n",
       " <div class=\"uk-form-controls uk-background-default\">\n",
       " <input class=\"uk-input\" id=\"note_date\" name=\"note[date]\" style=\"color: black;\" type=\"datetime-local\"/>\n",
       " </div>\n",
       " </div>\n",
       " <input class=\"uk-button uk-margin-small-top uk-button-default uk-button-large uk-width-1-1\" data-disable-with=\"Add Note\" name=\"commit\" type=\"submit\" value=\"Add Note\"/>\n",
       " </fieldset>\n",
       " </form>\n",
       " <script type=\"text/javascript\">\n",
       "   (function() {\n",
       "     function pad(number) {\n",
       "       if (number < 10) {\n",
       "         return `0${number}`;\n",
       "       }\n",
       "       return number;\n",
       "     }\n",
       " \n",
       "     Date.prototype.toLocaleDateTime = function() {\n",
       "        return `${this.getFullYear()}-${pad(this.getMonth() + 1)}-${pad(this.getDate())}T${pad(this.getHours())}:${pad(this.getMinutes())}:${pad(this.getSeconds())}.${(this.getMilliseconds() / 1000).toFixed(3).slice(2, 5)}Z`;\n",
       "     }\n",
       " \n",
       "     document.getElementById('note_date').value = new Date().toLocaleDateTime().slice(0,16)\n",
       "   }());\n",
       " </script>\n",
       " </div>, <div class=\"uk-card-body student-notes-card\">\n",
       " <div class=\"student-card-list\">\n",
       " <ul class=\"uk-list uk-list-striped\">\n",
       " <li>\n",
       " <p class=\"uk-text-left\"><strong>12/03/19 | Type: 1-on-1: Coaching Checkin</strong></p>\n",
       " <p class=\"uk-text-left\">\n",
       "         Acusio is getting back into the groove after coming back from the break. He's slightly behind but not worried about catching up. He has his final project review on Saturday. Really enjoyed the Mod 1 project. What he learned/wants to do differently for next project: be more orderly + organized, slow down, create structure + boundaries, puts a lot of pressure on himself (understand it doesn’t have to be perfect).\n",
       " What worked well: set small goals each day + set timer, took regular breaks (paced himself). \n",
       " For next time: check in on pacing\n",
       "       </p>\n",
       " <p class=\"uk-text-right\"><em>- Dara Paoletti</em></p>\n",
       " </li>\n",
       " <li>\n",
       " <p class=\"uk-text-left\"><strong>10/31/19 | Type: 1-on-1: Coaching Checkin</strong></p>\n",
       " <p class=\"uk-text-left\">\n",
       "         Acusio finished S7 and plans to complete S8 by this weekend. He's feeling good about the curriculum so far and is excited and nervous for the project next week. His biggest challenge for the project will be time management. What works: breaking things down in to small chunks, creating a structure and daily schedule for what he will accomplish. When he gets stuck: look for resources, take a break/regroup, adapt, reach out and ask for help. Learned a lot about adapting + thinking on his feet from playing football for many years. \n",
       " For next time: mindset check + Mod 1 project celebration\n",
       " \n",
       "       </p>\n",
       " <p class=\"uk-text-right\"><em>- Dara Paoletti</em></p>\n",
       " </li>\n",
       " <li>\n",
       " <p class=\"uk-text-left\"><strong>10/15/19 | Type: 1-on-1: Coaching Checkin</strong></p>\n",
       " <p class=\"uk-text-left\">\n",
       "         K/O call: Acusio works as a personal trainer and is setting up a side hustle dog walking business. Graduated with a degree in exercise science. Training is stressful, schedule and income are unpredictable. Looking to change careers and get into tech - started looking into coding and discovered data science. \n",
       " Currently lives with his dad in LA and would like a career with income that gives him financial independence + ability to pay off debt.\n",
       " Has trips planned to Columbia in March and Israel in May. \n",
       " Shared that he's a very visual learner. I shared a few Python YouTube resources and also suggested he discuss it with Jeff and reach out on Slack.\n",
       " For next time: study habits + accountability\n",
       "       </p>\n",
       " <p class=\"uk-text-right\"><em>- Dara Paoletti</em></p>\n",
       " </li>\n",
       " <li>\n",
       " <p class=\"uk-text-left\"><strong>10/11/19 | Type: 1-on-1: Instructional Checkin</strong></p>\n",
       " <p class=\"uk-text-left\">\n",
       "         Based in LA, works as a personal trainer.  Goes by 'Cuz'.  Dream job is to work in football analytics.  Talked with him about a Kaggle competition the NFL is putting on right now.  Talked about the structure of the course, would like to potentially set up a reoccurying call at 1:00 pm PST on Fridays.  \n",
       "       </p>\n",
       " <p class=\"uk-text-right\"><em>- Jeff Herman</em></p>\n",
       " </li>\n",
       " <li>\n",
       " <p class=\"uk-text-left\"><strong>10/11/19 | Type: Comment</strong></p>\n",
       " <p class=\"uk-text-left\">\n",
       "         Attended 1 study group this week; reached out to say he was not going to be able to attend the 2nd study group \n",
       "       </p>\n",
       " <p class=\"uk-text-right\"><em>- Jeff Herman</em></p>\n",
       " </li>\n",
       " </ul>\n",
       " </div>\n",
       " <div class=\"module\">\n",
       " <div class=\"module__body\">\n",
       " </div>\n",
       " </div>\n",
       " </div>, <div class=\"uk-card-body\">\n",
       " <p>This student has not attempted any project reviews.</p>\n",
       " <p>This student has not attempted any project reviews.</p>\n",
       " </div>, <div class=\"uk-card-body\">\n",
       " <p>Has no current Risk Markers</p>\n",
       " </div>, <div class=\"uk-card-body\">\n",
       " <div class=\"student-card-list\">\n",
       " <ul class=\"uk-list uk-list-striped\">\n",
       " <li>\n",
       " <p class=\"uk-text-left\"><strong>10/15/19 | Activity: Instructor Change</strong></p>\n",
       " <p class=\"uk-text-left\">\n",
       "                   Student instructor changed to James Irving\n",
       "                 </p>\n",
       " </li>\n",
       " <li>\n",
       " <p class=\"uk-text-left\"><strong>10/09/19 | Activity: Educational Coach Status</strong></p>\n",
       " <p class=\"uk-text-left\">\n",
       "                   Assigned to educational coach Dara Paoletti\n",
       "                 </p>\n",
       " </li>\n",
       " <li>\n",
       " <p class=\"uk-text-left\"><strong>10/08/19 | Activity: Enrollment Status Change</strong></p>\n",
       " <p class=\"uk-text-left\">\n",
       "                   Enrollment status changed from 'pending' to active\n",
       "                 </p>\n",
       " </li>\n",
       " <li>\n",
       " <p class=\"uk-text-left\"><strong>09/25/19 | Activity: Instructor Change</strong></p>\n",
       " <p class=\"uk-text-left\">\n",
       "                   Student instructor changed to unassigned\n",
       "                 </p>\n",
       " </li>\n",
       " <li>\n",
       " <p class=\"uk-text-left\"><strong>09/25/19 | Activity: Enrollment Status Change</strong></p>\n",
       " <p class=\"uk-text-left\">\n",
       "                   Student enrolled in cohort online-ds-pt-100719\n",
       "                 </p>\n",
       " </li>\n",
       " </ul>\n",
       " </div>\n",
       " </div>]"
      ]
     },
     "execution_count": 20,
     "metadata": {},
     "output_type": "execute_result"
    }
   ],
   "source": [
    "cards = get_student_instruct_cards(test_link)\n",
    "cards"
   ]
  },
  {
   "cell_type": "code",
   "execution_count": 21,
   "metadata": {
    "ExecuteTime": {
     "end_time": "2019-12-24T16:41:54.251223Z",
     "start_time": "2019-12-24T16:41:54.238562Z"
    },
    "collapsed": true
   },
   "outputs": [
    {
     "data": {
      "text/plain": [
       "<div class=\"uk-card-body\">\n",
       "<div class=\"custom-badges\">\n",
       "<a class=\"custom-badge-icon\" href=\"slack://user?team=learn-co&amp;id=\" rel=\"nofollow\" target=\"_blank\">\n",
       "<svg height=\"16\" viewbox=\"0 0 150 150\" width=\"16\">\n",
       "<path d=\"M13.533,78.487c-5.494,0.042-10.148-3.232-11.864-8.342c-0.066-0.198-0.123-0.391-0.178-0.583 c-1.87-6.544,1.756-13.391,8.255-15.582l104.24-34.923c1.267-0.363,2.543-0.549,3.807-0.557 c5.64-0.044,10.422,3.303,12.18,8.521l0.156,0.504c1.95,6.815-2.895,12.899-8.7,14.85c-0.004,0.003-1.06,0.36-103.662,35.392 C16.38,78.237,14.957,78.475,13.533,78.487L13.533,78.487z\" fill=\"#70CADB\"></path>\n",
       "<path d=\"M30.908,129.752c-5.537,0.04-10.207-3.188-11.903-8.225c-0.064-0.192-0.125-0.385-0.18-0.579 c-1.896-6.622,1.726-13.54,8.247-15.735L131.316,69.97c1.347-0.45,2.738-0.681,4.137-0.693c5.552-0.042,10.43,3.35,12.151,8.445 l0.16,0.529c1.007,3.521,0.412,7.479-1.59,10.602c-1.492,2.321-6.198,4.365-6.198,4.365l-104.64,35.779 c-1.458,0.487-2.945,0.744-4.428,0.757V129.752z\" fill=\"#E01765\"></path>\n",
       "<path d=\"M117.684,129.975c-5.56,0.043-10.483-3.465-12.255-8.724l-34.79-103.34l-0.174-0.58 c-1.885-6.59,1.74-13.464,8.237-15.653c1.3-0.438,2.644-0.665,3.997-0.678c2.01-0.015,3.955,0.438,5.787,1.344 c3.063,1.524,5.354,4.149,6.449,7.392l34.787,103.332l0.101,0.332c1.954,6.842-1.663,13.72-8.16,15.91 C120.376,129.738,119.036,129.963,117.684,129.975L117.684,129.975z\" fill=\"#E8A723\"></path>\n",
       "<path d=\"M65.971,147.381c-5.56,0.043-10.487-3.465-12.26-8.729L18.93,35.315c-0.06-0.19-0.12-0.38-0.178-0.575 c-1.88-6.588,1.734-13.463,8.229-15.655c1.295-0.43,2.634-0.656,3.985-0.668c5.561-0.044,10.485,3.463,12.257,8.724 l34.782,103.34c0.065,0.18,0.124,0.379,0.177,0.568c1.884,6.594-1.732,13.473-8.237,15.664 c-1.292,0.432-2.629,0.656-3.978,0.667L65.971,147.381L65.971,147.381z\" fill=\"#3EB890\"></path>\n",
       "<path d=\"M100.533,106.703l24.258-8.294l-7.93-23.55l-24.286,8.207L100.533,106.703z\" fill=\"#CC2027\"></path>\n",
       "<path d=\"M48.9,124.357l24.256-8.293l-7.99-23.73l-24.28,8.21L48.9,124.357z\" fill=\"#361238\"></path>\n",
       "<path d=\"M83.263,55.406l24.26-8.283l-7.837-23.274l-24.305,8.143L83.263,55.406z\" fill=\"#65863A\"></path>\n",
       "<path d=\"M31.624,73.036l24.26-8.283l-7.933-23.571l-24.305,8.142L31.624,73.036L31.624,73.036z\" fill=\"#1A937D\"></path>\n",
       "</svg>\n",
       "</a>\n",
       "<a class=\"custom-badge-icon\" href=\"http://learn.co/coachcooz\" rel=\"nofollow\" target=\"_blank\">\n",
       "<svg height=\"16\" viewbox=\"0 0 217.9 342.1\" width=\"16\">\n",
       "<path d=\"M118.3,179l73.3,0.1l-73.4,119L118.3,179z M99.6,42.5l-0.1,119.1l-73.3-0.1L99.6,42.5z M101.1,4.5L1.4,166.1c-1.8,2.9-1.9,5.7-0.2,8.7s4.8,4,8.2,4l90.1,0.1L99.4,332c0,4.2,2.8,8.3,6.8,9.5c0.9,0.2,1.7,0.6,2.6,0.6 c3.2,0,6.3-1.5,8-4.4l99.7-161.6c1.8-2.9,1.9-6.5,0.2-9.5s-4.8-4.9-8.2-4.9l-90.1-0.1l0.2-152.2c0-4.2-2.8-7.9-6.8-9 c-1-0.3-1.8-0.4-2.7-0.4C105.9,0,102.8,1.7,101.1,4.5\"></path>\n",
       "</svg>\n",
       "</a>\n",
       "<a class=\"custom-badge-icon\" href=\"http://github.com/coachcooz\" rel=\"nofollow\" target=\"_blank\">\n",
       "<svg height=\"16\" viewbox=\"0 0 438.549 438.549\" width=\"16\">\n",
       "<path d=\"M409.132,114.573c-19.608-33.596-46.205-60.194-79.798-79.8C295.736,15.166,259.057,5.365,219.271,5.365 c-39.781,0-76.472,9.804-110.063,29.408c-33.596,19.605-60.192,46.204-79.8,79.8C9.803,148.168,0,184.854,0,224.63 c0,47.78,13.94,90.745,41.827,128.906c27.884,38.164,63.906,64.572,108.063,79.227c5.14,0.954,8.945,0.283,11.419-1.996 c2.475-2.282,3.711-5.14,3.711-8.562c0-0.571-0.049-5.708-0.144-15.417c-0.098-9.709-0.144-18.179-0.144-25.406l-6.567,1.136 c-4.187,0.767-9.469,1.092-15.846,1c-6.374-0.089-12.991-0.757-19.842-1.999c-6.854-1.231-13.229-4.086-19.13-8.559 c-5.898-4.473-10.085-10.328-12.56-17.556l-2.855-6.57c-1.903-4.374-4.899-9.233-8.992-14.559 c-4.093-5.331-8.232-8.945-12.419-10.848l-1.999-1.431c-1.332-0.951-2.568-2.098-3.711-3.429c-1.142-1.331-1.997-2.663-2.568-3.997 c-0.572-1.335-0.098-2.43,1.427-3.289c1.525-0.859,4.281-1.276,8.28-1.276l5.708,0.853c3.807,0.763,8.516,3.042,14.133,6.851 c5.614,3.806,10.229,8.754,13.846,14.842c4.38,7.806,9.657,13.754,15.846,17.847c6.184,4.093,12.419,6.136,18.699,6.136 c6.28,0,11.704-0.476,16.274-1.423c4.565-0.952,8.848-2.383,12.847-4.285c1.713-12.758,6.377-22.559,13.988-29.41 c-10.848-1.14-20.601-2.857-29.264-5.14c-8.658-2.286-17.605-5.996-26.835-11.14c-9.235-5.137-16.896-11.516-22.985-19.126 c-6.09-7.614-11.088-17.61-14.987-29.979c-3.901-12.374-5.852-26.648-5.852-42.826c0-23.035,7.52-42.637,22.557-58.817 c-7.044-17.318-6.379-36.732,1.997-58.24c5.52-1.715,13.706-0.428,24.554,3.853c10.85,4.283,18.794,7.952,23.84,10.994 c5.046,3.041,9.089,5.618,12.135,7.708c17.705-4.947,35.976-7.421,54.818-7.421s37.117,2.474,54.823,7.421l10.849-6.849 c7.419-4.57,16.18-8.758,26.262-12.565c10.088-3.805,17.802-4.853,23.134-3.138c8.562,21.509,9.325,40.922,2.279,58.24 c15.036,16.18,22.559,35.787,22.559,58.817c0,16.178-1.958,30.497-5.853,42.966c-3.9,12.471-8.941,22.457-15.125,29.979 c-6.191,7.521-13.901,13.85-23.131,18.986c-9.232,5.14-18.182,8.85-26.84,11.136c-8.662,2.286-18.415,4.004-29.263,5.146 c9.894,8.562,14.842,22.077,14.842,40.539v60.237c0,3.422,1.19,6.279,3.572,8.562c2.379,2.279,6.136,2.95,11.276,1.995 c44.163-14.653,80.185-41.062,108.068-79.226c27.88-38.161,41.825-81.126,41.825-128.906 C438.536,184.851,428.728,148.168,409.132,114.573z\"></path>\n",
       "</svg>\n",
       "</a>\n",
       "<a class=\"custom-badge-icon\" href=\"mailto:acusio13@gmail.com\" target=\"_blank\">\n",
       "<svg fill=\"black\" height=\"16\" viewbox=\"0 0 16 14\" width=\"16\">\n",
       "<g transform=\"translate(-7.000000, -8.000000)\">\n",
       "<path d=\"M14.5,16.9 L7,12.7 L7,21 C7,21.6 7.4,22 8,22 L22,22 C22.6,22 23,21.6 23,21 L23,12.7 L15.5,16.9 C15.22,17.04 14.78,17.04 14.5,16.9 Z M22,8 L8,8 C7.4,8 7,8.4 7,9 L7,10.4 L15,14.9 L23,10.5 L23,9 C23,8.4 22.6,8 22,8 Z\"></path>\n",
       "</g>\n",
       "</svg>\n",
       "</a>\n",
       "<a class=\"custom-badge-icon\" href=\"https://learn.co/portfolio-projects/student-dashboard/coachcooz\" target=\"_blank\">\n",
       "<svg enable-background=\"new 0 0 100 100\" fill=\"#000000\" height=\"16\" version=\"1.1\" viewbox=\"0 0 100 100\" width=\"16\" x=\"0px\" xml:space=\"preserve\" xmlns=\"http://www.w3.org/2000/svg\" xmlns:xlink=\"http://www.w3.org/1999/xlink\" y=\"0px\">\n",
       "<g>\n",
       "<g>\n",
       "<path d=\"M57.691,21.364v-0.545c0-4.2-3.436-7.636-7.691-7.636c-4.2,0-7.636,3.436-7.636,7.636v0.545H57.691z     M86.818,79.509V36.855c0-4.036-3.273-7.309-7.255-7.309H61.782H38.273H20.491c-4.036,0-7.255,3.273-7.309,7.309v42.655    c0.055,4.036,3.273,7.309,7.309,7.309h59.073C83.545,86.818,86.818,83.545,86.818,79.509z M95,36.855v42.655    C95,88.073,88.073,95,79.564,95H20.491C11.982,95,5.055,88.073,5,79.509V36.855c0.055-8.564,6.982-15.491,15.491-15.491h13.691    v-0.545C34.182,12.091,41.273,5,50,5c8.782,0,15.873,7.091,15.873,15.818v0.545h13.691C88.073,21.364,95,28.291,95,36.855z\" fill=\"#000000\"></path>\n",
       "</g>\n",
       "</g>\n",
       "</svg>\n",
       "</a>\n",
       "<a class=\"custom-badge-icon\" href=\"https://learn.co/graduation/student-dashboard/coachcooz\" target=\"_blank\">\n",
       "<svg aria-hidden=\"true\" class=\"svg-inline--fa fa-graduation-cap fa-w-20\" data-icon=\"graduation-cap\" data-prefix=\"fas\" fill=\"black\" focusable=\"false\" height=\"16\" role=\"img\" viewbox=\"0 0 640 512\" width=\"16\" xmlns=\"http://www.w3.org/2000/svg\">\n",
       "<path d=\"M622.34 153.2L343.4 67.5c-15.2-4.67-31.6-4.67-46.79 0L17.66 153.2c-23.54 7.23-23.54 38.36 0 45.59l48.63 14.94c-10.67 13.19-17.23 29.28-17.88 46.9C38.78 266.15 32 276.11 32 288c0 10.78 5.68 19.85 13.86 25.65L20.33 428.53C18.11 438.52 25.71 448 35.94 448h56.11c10.24 0 17.84-9.48 15.62-19.47L82.14 313.65C90.32 307.85 96 298.78 96 288c0-11.57-6.47-21.25-15.66-26.87.76-15.02 8.44-28.3 20.69-36.72L296.6 284.5c9.06 2.78 26.44 6.25 46.79 0l278.95-85.7c23.55-7.24 23.55-38.36 0-45.6zM352.79 315.09c-28.53 8.76-52.84 3.92-65.59 0l-145.02-44.55L128 384c0 35.35 85.96 64 192 64s192-28.65 192-64l-14.18-113.47-145.03 44.56z\" fill=\"#000000\"></path>\n",
       "</svg>\n",
       "</a>\n",
       "</div>\n",
       "<p class=\"uk-text\"><time datetime=\"2019-12-23 17:34:47 -0500\">last active 12/23/19</time></p>\n",
       "<div class\"uk-card-title=\"\" uk-button=\"\" uk-button-text\"=\"\" uk-margin-remove-top=\"\">Section: Data Science</div>\n",
       "<!-- Educational Coaching Assignments -->\n",
       "<p>Educational Coach: Currently assigned to Dara Paoletti</p>\n",
       "<div class=\"uk-margin-top\">\n",
       "<p>Educational Coach Status Changes?</p>\n",
       "</div>\n",
       "<p>Career Coach: Not currently assigned</p>\n",
       "<p> Cohort Lead: James Irving\n",
       "\n",
       "          </p><p>207 completed lessons <em>(30%, 0 questions asked)</em></p>\n",
       "<p>Joined Learn 10/07/19 <em>(3 months ago)</em></p>\n",
       "<p>Started FSWD 10/07/19 <em>(3 months ago)</em></p>\n",
       "</div>"
      ]
     },
     "execution_count": 21,
     "metadata": {},
     "output_type": "execute_result"
    }
   ],
   "source": [
    "cards[0]"
   ]
  },
  {
   "cell_type": "code",
   "execution_count": 24,
   "metadata": {
    "ExecuteTime": {
     "end_time": "2019-12-24T16:42:51.757617Z",
     "start_time": "2019-12-24T16:42:51.753791Z"
    }
   },
   "outputs": [
    {
     "data": {
      "text/plain": [
       "{'cohort_lead': 'James Irving',\n",
       " 'ed_coach': 'Dara Paoletti',\n",
       " 'last_active': '12/23/19',\n",
       " 'completed_lessons': '207',\n",
       " 'joined': '10/07/19',\n",
       " 'career_coach': 'Not currently',\n",
       " 'section': 'Data Science'}"
      ]
     },
     "execution_count": 24,
     "metadata": {},
     "output_type": "execute_result"
    }
   ],
   "source": [
    "test_dict = get_student_dict_from_student_info(cards[0])\n",
    "test_dict"
   ]
  },
  {
   "cell_type": "code",
   "execution_count": 25,
   "metadata": {
    "ExecuteTime": {
     "end_time": "2019-12-24T16:43:01.439182Z",
     "start_time": "2019-12-24T16:43:01.433059Z"
    }
   },
   "outputs": [
    {
     "name": "stdout",
     "output_type": "stream",
     "text": [
      "------------------------------------------------------------------------------------\n",
      "------ HELP ------------------------------------------------------------------------\n",
      "\n",
      "Help on function get_student_dict_from_student_info in module __main__:\n",
      "\n",
      "get_student_dict_from_student_info(student_info_tag)\n",
      "    Uses regex to parse info from student's\n",
      "    instruction.learn.co/staff/students/____ page:\n",
      "    \n",
      "    \n",
      "    Ex Use:\n",
      "    full_link = df['full_url'].iloc[i]\n",
      "    student_info_tag =  get_student_info_from_full_url(full_link)\n",
      "    \n",
      "    student_dict = get_student_dict_from_student_info(student_info_tag)\n",
      "\n",
      "------------------------------------------------------------------------------------\n",
      "------ SOURCE ----------------------------------------------------------------------\n"
     ]
    },
    {
     "data": {
      "text/markdown": [
       "```python\n",
       "def get_student_dict_from_student_info(student_info_tag):\n",
       "    \"\"\"Uses regex to parse info from student's\n",
       "    instruction.learn.co/staff/students/____ page:\n",
       "    \n",
       "\n",
       "    Ex Use:\n",
       "    full_link = df['full_url'].iloc[i]\n",
       "    student_info_tag =  get_student_info_from_full_url(full_link)\n",
       "    \n",
       "    student_dict = get_student_dict_from_student_info(student_info_tag)\n",
       "    \"\"\"\n",
       "    student_info = student_info_tag.text\n",
       "\n",
       "    import re\n",
       "\n",
       "    student_dict = {}\n",
       "\n",
       "    ## Cohort Lead\n",
       "    re_cohort_lead = re.compile(r\"Cohort Lead: (\\w* \\w*)\")\n",
       "    student_dict['cohort_lead'] = re_cohort_lead.findall(student_info)#[0]\n",
       "\n",
       "    ## Ed Coach\n",
       "    re_ed_coach = re.compile(r\"Educational Coach: Currently assigned to (\\w*.\\w*)\")\n",
       "    student_dict['ed_coach'] = re_ed_coach.findall(student_info)#[0]\n",
       "\n",
       "\n",
       "    ## Last Active\n",
       "    re_last_active = re.compile(r\"last.active.(\\d{2,}/\\d{2,}/\\d{2,})\")\n",
       "    student_dict['last_active'] = re_last_active.findall(student_info)#[0]\n",
       "\n",
       "\n",
       "    ## Completed Lessons\n",
       "    re_comp_lessons = re.compile(r\"(\\d{1,4}).completed lessons\")\n",
       "    student_dict['completed_lessons'] = re_comp_lessons.findall(student_info)#[0]\n",
       "\n",
       "    ## Joined learn\n",
       "    re_joined = re.compile(r\"Joined Learn (\\d{2}/\\d{2}/\\d{2})\")\n",
       "    student_dict['joined'] = re_joined.findall(student_info)#[0]\n",
       "\n",
       "\n",
       "\n",
       "    ## Career Coach - MUST BETTER ADDRESS NOT CURRENTLY ASSIGNED\n",
       "    re_career_coach= re.compile(r\"Career Coach: (\\w* \\w*)\")\n",
       "    student_dict['career_coach'] = re_career_coach.findall(student_info)#[0]\n",
       "\n",
       "    re_section = re.compile(r\"Section: ([A-Za-z\\t .]+)\")\n",
       "    student_dict['section'] = re_section.findall(student_info)#[0]\n",
       "    \n",
       "    ## Adding Unpacking of lists via dict loop\n",
       "    \n",
       "    for k,v in student_dict.items():\n",
       "        try:\n",
       "            student_dict[k] = v[0]\n",
       "        except:\n",
       "            continue\n",
       "        \n",
       "    return student_dict\n",
       "\n",
       "```"
      ],
      "text/plain": [
       "<IPython.core.display.Markdown object>"
      ]
     },
     "metadata": {},
     "output_type": "display_data"
    }
   ],
   "source": [
    "fs.ihelp(get_student_dict_from_student_info)"
   ]
  },
  {
   "cell_type": "code",
   "execution_count": 28,
   "metadata": {
    "ExecuteTime": {
     "end_time": "2019-12-24T16:44:57.324996Z",
     "start_time": "2019-12-24T16:44:57.322251Z"
    }
   },
   "outputs": [],
   "source": [
    "### Tags have all 3 boxes\n",
    "# blue student_info \n",
    "student_info_card = cards[0]#.text\n",
    "\n",
    "# red student_info \n",
    "program_info_card = cards[1]\n",
    "\n",
    "# purple profile \n",
    "profile_info_card = cards[2]"
   ]
  },
  {
   "cell_type": "code",
   "execution_count": 29,
   "metadata": {
    "ExecuteTime": {
     "end_time": "2019-12-24T16:44:58.044477Z",
     "start_time": "2019-12-24T16:44:58.041165Z"
    }
   },
   "outputs": [
    {
     "data": {
      "text/plain": [
       "'\\n\\n\\n\\n\\n\\n\\n\\n\\n\\n\\n\\n\\n\\n\\n\\n\\n\\n\\n\\n\\n\\n\\n\\n\\n\\n\\n\\n\\n\\n\\n\\n\\n\\n\\n\\n\\n\\n\\n\\n\\n\\n\\n\\n\\n\\nlast active 12/23/19\\nSection: Data Science\\n\\nEducational Coach: Currently assigned to Dara Paoletti\\n\\nEducational Coach Status Changes?\\n\\nCareer Coach: Not currently assigned\\n Cohort Lead: James Irving\\n\\n          207 completed lessons (30%, 0 questions asked)\\nJoined Learn 10/07/19 (3 months ago)\\nStarted FSWD 10/07/19 (3 months ago)\\n'"
      ]
     },
     "execution_count": 29,
     "metadata": {},
     "output_type": "execute_result"
    }
   ],
   "source": [
    "student_info_card.text"
   ]
  },
  {
   "cell_type": "code",
   "execution_count": 38,
   "metadata": {
    "ExecuteTime": {
     "end_time": "2019-12-24T16:48:08.748748Z",
     "start_time": "2019-12-24T16:48:08.746567Z"
    }
   },
   "outputs": [],
   "source": [
    "# student_info_card"
   ]
  },
  {
   "cell_type": "markdown",
   "metadata": {},
   "source": [
    "## Scraping links from 'custom-badges'"
   ]
  },
  {
   "cell_type": "code",
   "execution_count": 73,
   "metadata": {
    "ExecuteTime": {
     "end_time": "2019-12-24T17:08:50.885169Z",
     "start_time": "2019-12-24T17:08:50.881113Z"
    }
   },
   "outputs": [
    {
     "data": {
      "text/plain": [
       "{'slack_url': 'slack://user?team=learn-co&id=',\n",
       " 'learn_url': 'http://learn.co/coachcooz',\n",
       " 'github_url': 'http://github.com/coachcooz',\n",
       " 'mailto_url': 'mailto:acusio13@gmail.com',\n",
       " 'projects_url': 'https://learn.co/portfolio-projects/student-dashboard/coachcooz',\n",
       " 'grad_dash_url': 'https://learn.co/graduation/student-dashboard/coachcooz',\n",
       " 'cohort_lead': 'James Irving',\n",
       " 'ed_coach': 'Dara Paoletti',\n",
       " 'last_active': '12/23/19',\n",
       " 'completed_lessons': '207',\n",
       " 'joined': '10/07/19',\n",
       " 'career_coach': 'Not currently',\n",
       " 'section': 'Data Science'}"
      ]
     },
     "execution_count": 73,
     "metadata": {},
     "output_type": "execute_result"
    }
   ],
   "source": [
    "test_student = get_student_dict_from_student_info(\n",
    "    student_info_card)\n",
    "test_student"
   ]
  },
  {
   "cell_type": "code",
   "execution_count": 75,
   "metadata": {
    "ExecuteTime": {
     "end_time": "2019-12-24T17:09:53.223811Z",
     "start_time": "2019-12-24T17:09:53.221584Z"
    }
   },
   "outputs": [],
   "source": [
    "# if 'urls' in test_student:\n",
    "#     student_urls = test_student['urls']\n",
    "#     test_student.pop('urls')\n",
    "\n",
    "# for k,v in student_urls.items():\n",
    "#     print(f\"{k}: {v}\")\n",
    "#     test_student[k] = v"
   ]
  },
  {
   "cell_type": "code",
   "execution_count": 76,
   "metadata": {
    "ExecuteTime": {
     "end_time": "2019-12-24T17:09:55.296413Z",
     "start_time": "2019-12-24T17:09:55.292878Z"
    }
   },
   "outputs": [
    {
     "data": {
      "text/plain": [
       "{'slack_url': 'slack://user?team=learn-co&id=',\n",
       " 'learn_url': 'http://learn.co/coachcooz',\n",
       " 'github_url': 'http://github.com/coachcooz',\n",
       " 'mailto_url': 'mailto:acusio13@gmail.com',\n",
       " 'projects_url': 'https://learn.co/portfolio-projects/student-dashboard/coachcooz',\n",
       " 'grad_dash_url': 'https://learn.co/graduation/student-dashboard/coachcooz',\n",
       " 'cohort_lead': 'James Irving',\n",
       " 'ed_coach': 'Dara Paoletti',\n",
       " 'last_active': '12/23/19',\n",
       " 'completed_lessons': '207',\n",
       " 'joined': '10/07/19',\n",
       " 'career_coach': 'Not currently',\n",
       " 'section': 'Data Science'}"
      ]
     },
     "execution_count": 76,
     "metadata": {},
     "output_type": "execute_result"
    }
   ],
   "source": [
    "test_student"
   ]
  },
  {
   "cell_type": "markdown",
   "metadata": {},
   "source": [
    "### Now Make a Function to .apply to df"
   ]
  },
  {
   "cell_type": "code",
   "execution_count": 77,
   "metadata": {
    "ExecuteTime": {
     "end_time": "2019-12-24T17:10:38.839129Z",
     "start_time": "2019-12-24T17:10:38.829166Z"
    }
   },
   "outputs": [
    {
     "data": {
      "text/html": [
       "<div>\n",
       "<style scoped>\n",
       "    .dataframe tbody tr th:only-of-type {\n",
       "        vertical-align: middle;\n",
       "    }\n",
       "\n",
       "    .dataframe tbody tr th {\n",
       "        vertical-align: top;\n",
       "    }\n",
       "\n",
       "    .dataframe thead th {\n",
       "        text-align: right;\n",
       "    }\n",
       "</style>\n",
       "<table border=\"1\" class=\"dataframe\">\n",
       "  <thead>\n",
       "    <tr style=\"text-align: right;\">\n",
       "      <th></th>\n",
       "      <th>url</th>\n",
       "      <th>my_student</th>\n",
       "      <th>full_url</th>\n",
       "    </tr>\n",
       "    <tr>\n",
       "      <th>name</th>\n",
       "      <th></th>\n",
       "      <th></th>\n",
       "      <th></th>\n",
       "    </tr>\n",
       "  </thead>\n",
       "  <tbody>\n",
       "    <tr>\n",
       "      <td>Acusio Bivona</td>\n",
       "      <td>/staff/students/coachcooz</td>\n",
       "      <td>True</td>\n",
       "      <td>https://instruction.learn.co/staff/students/co...</td>\n",
       "    </tr>\n",
       "    <tr>\n",
       "      <td>Andrea Osika</td>\n",
       "      <td>/staff/students/andiosika</td>\n",
       "      <td>True</td>\n",
       "      <td>https://instruction.learn.co/staff/students/an...</td>\n",
       "    </tr>\n",
       "    <tr>\n",
       "      <td>Darius Fuller</td>\n",
       "      <td>/staff/students/dfuller22</td>\n",
       "      <td>True</td>\n",
       "      <td>https://instruction.learn.co/staff/students/df...</td>\n",
       "    </tr>\n",
       "    <tr>\n",
       "      <td>Devin Belden</td>\n",
       "      <td>/staff/students/devinbelden</td>\n",
       "      <td>True</td>\n",
       "      <td>https://instruction.learn.co/staff/students/de...</td>\n",
       "    </tr>\n",
       "    <tr>\n",
       "      <td>Douglas Steen</td>\n",
       "      <td>/staff/students/douglaspsteen</td>\n",
       "      <td>True</td>\n",
       "      <td>https://instruction.learn.co/staff/students/do...</td>\n",
       "    </tr>\n",
       "    <tr>\n",
       "      <td>Ice Asortse</td>\n",
       "      <td>/staff/students/dantarshi</td>\n",
       "      <td>True</td>\n",
       "      <td>https://instruction.learn.co/staff/students/da...</td>\n",
       "    </tr>\n",
       "    <tr>\n",
       "      <td>Jamaal Smith</td>\n",
       "      <td>/staff/students/jdsmithwes</td>\n",
       "      <td>True</td>\n",
       "      <td>https://instruction.learn.co/staff/students/jd...</td>\n",
       "    </tr>\n",
       "    <tr>\n",
       "      <td>John Kline</td>\n",
       "      <td>/staff/students/katahdin28</td>\n",
       "      <td>True</td>\n",
       "      <td>https://instruction.learn.co/staff/students/ka...</td>\n",
       "    </tr>\n",
       "    <tr>\n",
       "      <td>John Lemaster</td>\n",
       "      <td>/staff/students/lemaster1</td>\n",
       "      <td>True</td>\n",
       "      <td>https://instruction.learn.co/staff/students/le...</td>\n",
       "    </tr>\n",
       "    <tr>\n",
       "      <td>John Ofrecio</td>\n",
       "      <td>/staff/students/jofrecio</td>\n",
       "      <td>True</td>\n",
       "      <td>https://instruction.learn.co/staff/students/jo...</td>\n",
       "    </tr>\n",
       "    <tr>\n",
       "      <td>Melvin Gonzalez</td>\n",
       "      <td>/staff/students/melvingonzalezjr</td>\n",
       "      <td>True</td>\n",
       "      <td>https://instruction.learn.co/staff/students/me...</td>\n",
       "    </tr>\n",
       "    <tr>\n",
       "      <td>Michael Burak</td>\n",
       "      <td>/staff/students/michaelburak</td>\n",
       "      <td>True</td>\n",
       "      <td>https://instruction.learn.co/staff/students/mi...</td>\n",
       "    </tr>\n",
       "    <tr>\n",
       "      <td>Ru Kein</td>\n",
       "      <td>/staff/students/hakkeray</td>\n",
       "      <td>True</td>\n",
       "      <td>https://instruction.learn.co/staff/students/ha...</td>\n",
       "    </tr>\n",
       "    <tr>\n",
       "      <td>Susanna Han</td>\n",
       "      <td>/staff/students/ohsusanna93</td>\n",
       "      <td>True</td>\n",
       "      <td>https://instruction.learn.co/staff/students/oh...</td>\n",
       "    </tr>\n",
       "    <tr>\n",
       "      <td>Terry Ollila</td>\n",
       "      <td>/staff/students/terryollila</td>\n",
       "      <td>True</td>\n",
       "      <td>https://instruction.learn.co/staff/students/te...</td>\n",
       "    </tr>\n",
       "  </tbody>\n",
       "</table>\n",
       "</div>"
      ],
      "text/plain": [
       "                                              url  my_student  \\\n",
       "name                                                            \n",
       "Acusio Bivona           /staff/students/coachcooz        True   \n",
       "Andrea Osika            /staff/students/andiosika        True   \n",
       "Darius Fuller           /staff/students/dfuller22        True   \n",
       "Devin Belden          /staff/students/devinbelden        True   \n",
       "Douglas Steen       /staff/students/douglaspsteen        True   \n",
       "Ice Asortse             /staff/students/dantarshi        True   \n",
       "Jamaal Smith           /staff/students/jdsmithwes        True   \n",
       "John Kline             /staff/students/katahdin28        True   \n",
       "John Lemaster           /staff/students/lemaster1        True   \n",
       "John Ofrecio             /staff/students/jofrecio        True   \n",
       "Melvin Gonzalez  /staff/students/melvingonzalezjr        True   \n",
       "Michael Burak        /staff/students/michaelburak        True   \n",
       "Ru Kein                  /staff/students/hakkeray        True   \n",
       "Susanna Han           /staff/students/ohsusanna93        True   \n",
       "Terry Ollila          /staff/students/terryollila        True   \n",
       "\n",
       "                                                          full_url  \n",
       "name                                                                \n",
       "Acusio Bivona    https://instruction.learn.co/staff/students/co...  \n",
       "Andrea Osika     https://instruction.learn.co/staff/students/an...  \n",
       "Darius Fuller    https://instruction.learn.co/staff/students/df...  \n",
       "Devin Belden     https://instruction.learn.co/staff/students/de...  \n",
       "Douglas Steen    https://instruction.learn.co/staff/students/do...  \n",
       "Ice Asortse      https://instruction.learn.co/staff/students/da...  \n",
       "Jamaal Smith     https://instruction.learn.co/staff/students/jd...  \n",
       "John Kline       https://instruction.learn.co/staff/students/ka...  \n",
       "John Lemaster    https://instruction.learn.co/staff/students/le...  \n",
       "John Ofrecio     https://instruction.learn.co/staff/students/jo...  \n",
       "Melvin Gonzalez  https://instruction.learn.co/staff/students/me...  \n",
       "Michael Burak    https://instruction.learn.co/staff/students/mi...  \n",
       "Ru Kein          https://instruction.learn.co/staff/students/ha...  \n",
       "Susanna Han      https://instruction.learn.co/staff/students/oh...  \n",
       "Terry Ollila     https://instruction.learn.co/staff/students/te...  "
      ]
     },
     "execution_count": 77,
     "metadata": {},
     "output_type": "execute_result"
    }
   ],
   "source": [
    "df.set_index('name',inplace=True)#@['full_url']#inplace=True)\n",
    "df"
   ]
  },
  {
   "cell_type": "code",
   "execution_count": null,
   "metadata": {},
   "outputs": [],
   "source": []
  },
  {
   "cell_type": "markdown",
   "metadata": {},
   "source": [
    "# MAKING A LIST OF URLS FOR PROGRESS SCRAPING"
   ]
  },
  {
   "cell_type": "code",
   "execution_count": 78,
   "metadata": {
    "ExecuteTime": {
     "end_time": "2019-12-24T17:12:03.070921Z",
     "start_time": "2019-12-24T17:12:03.066777Z"
    }
   },
   "outputs": [
    {
     "data": {
      "text/plain": [
       "{'Acusio Bivona': 'https://instruction.learn.co/staff/students/coachcooz',\n",
       " 'Andrea Osika': 'https://instruction.learn.co/staff/students/andiosika',\n",
       " 'Darius Fuller': 'https://instruction.learn.co/staff/students/dfuller22',\n",
       " 'Devin Belden': 'https://instruction.learn.co/staff/students/devinbelden',\n",
       " 'Douglas Steen': 'https://instruction.learn.co/staff/students/douglaspsteen',\n",
       " 'Ice Asortse': 'https://instruction.learn.co/staff/students/dantarshi',\n",
       " 'Jamaal Smith': 'https://instruction.learn.co/staff/students/jdsmithwes',\n",
       " 'John Kline': 'https://instruction.learn.co/staff/students/katahdin28',\n",
       " 'John Lemaster': 'https://instruction.learn.co/staff/students/lemaster1',\n",
       " 'John Ofrecio': 'https://instruction.learn.co/staff/students/jofrecio',\n",
       " 'Melvin Gonzalez': 'https://instruction.learn.co/staff/students/melvingonzalezjr',\n",
       " 'Michael Burak': 'https://instruction.learn.co/staff/students/michaelburak',\n",
       " 'Ru Kein': 'https://instruction.learn.co/staff/students/hakkeray',\n",
       " 'Susanna Han': 'https://instruction.learn.co/staff/students/ohsusanna93',\n",
       " 'Terry Ollila': 'https://instruction.learn.co/staff/students/terryollila'}"
      ]
     },
     "execution_count": 78,
     "metadata": {},
     "output_type": "execute_result"
    }
   ],
   "source": [
    "STUDENTS = dict(df['full_url'])\n",
    "STUDENTS"
   ]
  },
  {
   "cell_type": "code",
   "execution_count": 79,
   "metadata": {
    "ExecuteTime": {
     "end_time": "2019-12-24T17:13:56.701223Z",
     "start_time": "2019-12-24T17:12:10.887489Z"
    }
   },
   "outputs": [
    {
     "data": {
      "text/plain": [
       "{'Acusio Bivona': slack_url                               slack://user?team=learn-co&id=\n",
       " learn_url                                    http://learn.co/coachcooz\n",
       " github_url                                 http://github.com/coachcooz\n",
       " mailto_url                                   mailto:acusio13@gmail.com\n",
       " projects_url         https://learn.co/portfolio-projects/student-da...\n",
       " grad_dash_url        https://learn.co/graduation/student-dashboard/...\n",
       " cohort_lead                                               James Irving\n",
       " ed_coach                                                 Dara Paoletti\n",
       " last_active                                                   12/23/19\n",
       " completed_lessons                                                  207\n",
       " joined                                                        10/07/19\n",
       " career_coach                                             Not currently\n",
       " section                                                   Data Science\n",
       " ed_coach_avail                                                      11\n",
       " ed_coach_used                                                        3\n",
       " cohort                                             online-ds-pt-100719\n",
       " pacing                                                       Part Time\n",
       " grad_date                                             [(2020-08-15, )]\n",
       " commitment_level                                           [Part Time]\n",
       " lives_in                      [Los Angeles, California, United States]\n",
       " dtype: object,\n",
       " 'Andrea Osika': slack_url             slack://user?team=learn-co&id=andio (Andi Osika)\n",
       " learn_url                                    http://learn.co/andiosika\n",
       " github_url                                 http://github.com/andiosika\n",
       " mailto_url                                  mailto:andiosika@gmail.com\n",
       " projects_url         https://learn.co/portfolio-projects/student-da...\n",
       " grad_dash_url        https://learn.co/graduation/student-dashboard/...\n",
       " cohort_lead                                                         []\n",
       " ed_coach                                                 Dara Paoletti\n",
       " last_active                                                   12/23/19\n",
       " completed_lessons                                                  220\n",
       " joined                                                        10/07/19\n",
       " career_coach                                             Not currently\n",
       " section                                                   Data Science\n",
       " ed_coach_avail                                                      11\n",
       " ed_coach_used                                                        2\n",
       " cohort                                             online-ds-pt-100719\n",
       " pacing                                                       Part Time\n",
       " grad_date                                                           []\n",
       " commitment_level                                                    []\n",
       " lives_in                                                            []\n",
       " dtype: object,\n",
       " 'Darius Fuller': slack_url                      slack://user?team=learn-co&id=Darius F.\n",
       " learn_url                                    http://learn.co/dfuller22\n",
       " github_url                                 http://github.com/dfuller22\n",
       " mailto_url                                   mailto:d_full22@yahoo.com\n",
       " projects_url         https://learn.co/portfolio-projects/student-da...\n",
       " grad_dash_url        https://learn.co/graduation/student-dashboard/...\n",
       " cohort_lead                                               James Irving\n",
       " ed_coach                                                 Dara Paoletti\n",
       " last_active                                                   12/24/19\n",
       " completed_lessons                                                  208\n",
       " joined                                                        10/07/19\n",
       " career_coach                                             Not currently\n",
       " section                                                   Data Science\n",
       " ed_coach_avail                                                      11\n",
       " ed_coach_used                                                        2\n",
       " cohort                                             online-ds-pt-100719\n",
       " pacing                                                       Part Time\n",
       " grad_date                                             [(2020-08-31, )]\n",
       " commitment_level                                           [Part Time]\n",
       " lives_in                          [Seattle, Washington, United States]\n",
       " dtype: object,\n",
       " 'Devin Belden': slack_url                        slack://user?team=learn-co&id=Devin B\n",
       " learn_url                                  http://learn.co/devinbelden\n",
       " github_url                               http://github.com/devinbelden\n",
       " mailto_url                            mailto:devin.belden.28@gmail.com\n",
       " projects_url         https://learn.co/portfolio-projects/student-da...\n",
       " grad_dash_url        https://learn.co/graduation/student-dashboard/...\n",
       " cohort_lead                                               James Irving\n",
       " ed_coach                                                 Dara Paoletti\n",
       " last_active                                                   12/20/19\n",
       " completed_lessons                                                  361\n",
       " joined                                                        10/07/19\n",
       " career_coach                                             Not currently\n",
       " section                                                   Data Science\n",
       " ed_coach_avail                                                      11\n",
       " ed_coach_used                                                        5\n",
       " cohort                                             online-ds-ft-100719\n",
       " pacing                                                       Full Time\n",
       " grad_date                                             [(2020-03-31, )]\n",
       " commitment_level                                           [Full Time]\n",
       " lives_in                                               [United States]\n",
       " dtype: object,\n",
       " 'Douglas Steen': slack_url                     slack://user?team=learn-co&id=Doug Steen\n",
       " learn_url                                http://learn.co/douglaspsteen\n",
       " github_url                             http://github.com/douglaspsteen\n",
       " mailto_url                              mailto:douglaspsteen@gmail.com\n",
       " projects_url         https://learn.co/portfolio-projects/student-da...\n",
       " grad_dash_url        https://learn.co/graduation/student-dashboard/...\n",
       " cohort_lead                                               James Irving\n",
       " ed_coach                                                 Dara Paoletti\n",
       " last_active                                                   12/21/19\n",
       " completed_lessons                                                  359\n",
       " joined                                                        10/07/19\n",
       " career_coach                                             Not currently\n",
       " section                                                   Data Science\n",
       " ed_coach_avail                                                      11\n",
       " ed_coach_used                                                        3\n",
       " cohort                                             online-ds-ft-100719\n",
       " pacing                                                       Full Time\n",
       " grad_date                                             [(2020-03-31, )]\n",
       " commitment_level                                           [Full Time]\n",
       " lives_in                             [Grapevine, Texas, United States]\n",
       " dtype: object,\n",
       " 'Ice Asortse': slack_url                               slack://user?team=learn-co&id=\n",
       " learn_url                                    http://learn.co/dantarshi\n",
       " github_url                                 http://github.com/dantarshi\n",
       " mailto_url                                  mailto:dantarshi@gmail.com\n",
       " projects_url         https://learn.co/portfolio-projects/student-da...\n",
       " grad_dash_url        https://learn.co/graduation/student-dashboard/...\n",
       " cohort_lead                                               James Irving\n",
       " ed_coach                                                 Dara Paoletti\n",
       " last_active                                                   12/24/19\n",
       " completed_lessons                                                  295\n",
       " joined                                                        10/07/19\n",
       " career_coach                                             Not currently\n",
       " section                                                   Data Science\n",
       " ed_coach_avail                                                      11\n",
       " ed_coach_used                                                        2\n",
       " cohort                                             online-ds-ft-100719\n",
       " pacing                                                       Full Time\n",
       " grad_date                                             [(2020-03-31, )]\n",
       " commitment_level                                           [Full Time]\n",
       " lives_in                     [Pittsburgh, Pennsylvania, United States]\n",
       " dtype: object,\n",
       " 'Jamaal Smith': slack_url                   slack://user?team=learn-co&id=Jamaal Smith\n",
       " learn_url                                   http://learn.co/jdsmithwes\n",
       " github_url                                http://github.com/jdsmithwes\n",
       " mailto_url                                mailto:jdsmith1906@gmail.com\n",
       " projects_url         https://learn.co/portfolio-projects/student-da...\n",
       " grad_dash_url        https://learn.co/graduation/student-dashboard/...\n",
       " cohort_lead                                               James Irving\n",
       " ed_coach                                                 Dara Paoletti\n",
       " last_active                                                   12/21/19\n",
       " completed_lessons                                                   75\n",
       " joined                                                        10/07/19\n",
       " career_coach                                             Not currently\n",
       " section                                                   Data Science\n",
       " ed_coach_avail                                                      11\n",
       " ed_coach_used                                                        2\n",
       " cohort                                             online-ds-ft-100719\n",
       " pacing                                                       Full Time\n",
       " grad_date                                                           []\n",
       " commitment_level                                                    []\n",
       " lives_in                                                            []\n",
       " dtype: object,\n",
       " 'John Kline': slack_url                     slack://user?team=learn-co&id=John Kline\n",
       " learn_url                                   http://learn.co/katahdin28\n",
       " github_url                                http://github.com/katahdin28\n",
       " mailto_url                                 mailto:johnmkline@gmail.com\n",
       " projects_url         https://learn.co/portfolio-projects/student-da...\n",
       " grad_dash_url        https://learn.co/graduation/student-dashboard/...\n",
       " cohort_lead                                               James Irving\n",
       " ed_coach                                                 Dara Paoletti\n",
       " last_active                                                   12/19/19\n",
       " completed_lessons                                                  182\n",
       " joined                                                        10/07/19\n",
       " career_coach                                             Not currently\n",
       " section                                                   Data Science\n",
       " ed_coach_avail                                                      11\n",
       " ed_coach_used                                                        1\n",
       " cohort                                             online-ds-ft-100719\n",
       " pacing                                                       Full Time\n",
       " grad_date                                             [(2020-03-15, )]\n",
       " commitment_level                                           [Full Time]\n",
       " lives_in                                               [United States]\n",
       " dtype: object,\n",
       " 'John Lemaster': slack_url                  slack://user?team=learn-co&id=John Lemaster\n",
       " learn_url                                    http://learn.co/lemaster1\n",
       " github_url                                 http://github.com/lemaster1\n",
       " mailto_url                                mailto:heylemaster@gmail.com\n",
       " projects_url         https://learn.co/portfolio-projects/student-da...\n",
       " grad_dash_url        https://learn.co/graduation/student-dashboard/...\n",
       " cohort_lead                                               James Irving\n",
       " ed_coach                                                 Dara Paoletti\n",
       " last_active                                                   12/24/19\n",
       " completed_lessons                                                  256\n",
       " joined                                                        10/10/19\n",
       " career_coach                                             Not currently\n",
       " section                                                   Data Science\n",
       " ed_coach_avail                                                      11\n",
       " ed_coach_used                                                        2\n",
       " cohort                                             online-ds-ft-100719\n",
       " pacing                                                       Full Time\n",
       " grad_date                                             [(2020-03-31, )]\n",
       " commitment_level                                           [Full Time]\n",
       " lives_in                            [Chicago, Illinois, United States]\n",
       " dtype: object,\n",
       " 'John Ofrecio': slack_url                   slack://user?team=learn-co&id=John Ofrecio\n",
       " learn_url                                     http://learn.co/jofrecio\n",
       " github_url                                  http://github.com/jofrecio\n",
       " mailto_url                               mailto:john.ofrecio@gmail.com\n",
       " projects_url         https://learn.co/portfolio-projects/student-da...\n",
       " grad_dash_url        https://learn.co/graduation/student-dashboard/...\n",
       " cohort_lead                                               James Irving\n",
       " ed_coach                                                 Dara Paoletti\n",
       " last_active                                                   12/16/19\n",
       " completed_lessons                                                  163\n",
       " joined                                                        10/07/19\n",
       " career_coach                                             Not currently\n",
       " section                                                   Data Science\n",
       " ed_coach_avail                                                      11\n",
       " ed_coach_used                                                        2\n",
       " cohort                                             online-ds-pt-100719\n",
       " pacing                                                       Part Time\n",
       " grad_date                                                           []\n",
       " commitment_level                                           [Part Time]\n",
       " lives_in                          [Rockville, Maryland, United States]\n",
       " dtype: object,\n",
       " 'Melvin Gonzalez': slack_url            slack://user?team=learn-co&id=Melvin Gonzalez,...\n",
       " learn_url                             http://learn.co/melvingonzalezjr\n",
       " github_url                          http://github.com/melvingonzalezjr\n",
       " mailto_url                               mailto:mgonzalez713@gmail.com\n",
       " projects_url         https://learn.co/portfolio-projects/student-da...\n",
       " grad_dash_url        https://learn.co/graduation/student-dashboard/...\n",
       " cohort_lead                                               James Irving\n",
       " ed_coach                                                 Dara Paoletti\n",
       " last_active                                                   12/22/19\n",
       " completed_lessons                                                  187\n",
       " joined                                                        10/07/19\n",
       " career_coach                                             Not currently\n",
       " section                                                   Data Science\n",
       " ed_coach_avail                                                      11\n",
       " ed_coach_used                                                        5\n",
       " cohort                                             online-ds-ft-100719\n",
       " pacing                                                       Full Time\n",
       " grad_date                                             [(2020-01-31, )]\n",
       " commitment_level                                           [Full Time]\n",
       " lives_in                                               [United States]\n",
       " dtype: object,\n",
       " 'Michael Burak': slack_url            slack://user?team=learn-co&id=michaelburak(the...\n",
       " learn_url                                 http://learn.co/michaelburak\n",
       " github_url                              http://github.com/michaelburak\n",
       " mailto_url                              mailto:michaelrburak@gmail.com\n",
       " projects_url         https://learn.co/portfolio-projects/student-da...\n",
       " grad_dash_url        https://learn.co/graduation/student-dashboard/...\n",
       " cohort_lead                                                         []\n",
       " ed_coach                                                 Dara Paoletti\n",
       " last_active                                                   12/23/19\n",
       " completed_lessons                                                    0\n",
       " joined                                                        10/07/19\n",
       " career_coach                                        Currently assigned\n",
       " section                                                            Pre\n",
       " ed_coach_avail                                                      11\n",
       " ed_coach_used                                                        2\n",
       " cohort                                             online-ds-pt-100719\n",
       " pacing                                                       Part Time\n",
       " grad_date                                             [(2020-08-31, )]\n",
       " commitment_level                                           [Part Time]\n",
       " lives_in                            [Boulder, Colorado, United States]\n",
       " dtype: object,\n",
       " 'Ru Kein': slack_url                             slack://user?team=learn-co&id=ru\n",
       " learn_url                                     http://learn.co/hakkeray\n",
       " github_url                                  http://github.com/hakkeray\n",
       " mailto_url                                    mailto:rukeine@gmail.com\n",
       " projects_url         https://learn.co/portfolio-projects/student-da...\n",
       " grad_dash_url        https://learn.co/graduation/student-dashboard/...\n",
       " cohort_lead                                               James Irving\n",
       " ed_coach                                                 Dara Paoletti\n",
       " last_active                                                   12/20/19\n",
       " completed_lessons                                                  299\n",
       " joined                                                        10/07/19\n",
       " career_coach                                             Not currently\n",
       " section                                                   Data Science\n",
       " ed_coach_avail                                                      11\n",
       " ed_coach_used                                                        2\n",
       " cohort                                             online-ds-ft-100719\n",
       " pacing                                                       Full Time\n",
       " grad_date                                             [(2020-01-31, )]\n",
       " commitment_level                                           [Full Time]\n",
       " lives_in                      [Los Angeles, California, United States]\n",
       " dtype: object,\n",
       " 'Susanna Han': slack_url                    slack://user?team=learn-co&id=Susanna Han\n",
       " learn_url                                  http://learn.co/ohsusanna93\n",
       " github_url                               http://github.com/ohsusanna93\n",
       " mailto_url                          mailto:susanna.jihae.han@gmail.com\n",
       " projects_url         https://learn.co/portfolio-projects/student-da...\n",
       " grad_dash_url        https://learn.co/graduation/student-dashboard/...\n",
       " cohort_lead                                                         []\n",
       " ed_coach                                                 Dara Paoletti\n",
       " last_active                                                   12/16/19\n",
       " completed_lessons                                                  142\n",
       " joined                                                        10/07/19\n",
       " career_coach                                             Not currently\n",
       " section                                                   Data Science\n",
       " ed_coach_avail                                                      11\n",
       " ed_coach_used                                                        1\n",
       " cohort                                             online-ds-pt-100719\n",
       " pacing                                                       Part Time\n",
       " grad_date                                                           []\n",
       " commitment_level                                           [Full Time]\n",
       " lives_in                          [Champaign, Illinois, United States]\n",
       " dtype: object,\n",
       " 'Terry Ollila': slack_url                   slack://user?team=learn-co&id=Terry Ollila\n",
       " learn_url                                  http://learn.co/terryollila\n",
       " github_url                               http://github.com/terryollila\n",
       " mailto_url                                mailto:terryollila@gmail.com\n",
       " projects_url         https://learn.co/portfolio-projects/student-da...\n",
       " grad_dash_url        https://learn.co/graduation/student-dashboard/...\n",
       " cohort_lead                                               James Irving\n",
       " ed_coach                                                 Dara Paoletti\n",
       " last_active                                                   12/24/19\n",
       " completed_lessons                                                  393\n",
       " joined                                                        10/07/19\n",
       " career_coach                                             Not currently\n",
       " section                                                   Data Science\n",
       " ed_coach_avail                                                      11\n",
       " ed_coach_used                                                        3\n",
       " cohort                                             online-ds-ft-100719\n",
       " pacing                                                       Full Time\n",
       " grad_date                                             [(2020-03-31, )]\n",
       " commitment_level                                           [Full Time]\n",
       " lives_in                         [Louisville, Colorado, United States]\n",
       " dtype: object}"
      ]
     },
     "execution_count": 79,
     "metadata": {},
     "output_type": "execute_result"
    }
   ],
   "source": [
    "for k,v in STUDENTS.items():\n",
    "    STUDENTS[k] = apply_student_info_retrieval(v)\n",
    "STUDENTS"
   ]
  },
  {
   "cell_type": "markdown",
   "metadata": {},
   "source": [
    "# BOOKMARK 12/24/19 12:00pm"
   ]
  },
  {
   "cell_type": "code",
   "execution_count": 81,
   "metadata": {
    "ExecuteTime": {
     "end_time": "2019-12-24T17:14:13.778815Z",
     "start_time": "2019-12-24T17:14:13.775312Z"
    }
   },
   "outputs": [
    {
     "data": {
      "text/plain": [
       "pandas.core.series.Series"
      ]
     },
     "execution_count": 81,
     "metadata": {},
     "output_type": "execute_result"
    }
   ],
   "source": [
    "type(STUDENTS['Acusio Bivona'])"
   ]
  },
  {
   "cell_type": "code",
   "execution_count": 85,
   "metadata": {
    "ExecuteTime": {
     "end_time": "2019-12-24T17:16:37.179116Z",
     "start_time": "2019-12-24T17:16:37.170446Z"
    }
   },
   "outputs": [
    {
     "data": {
      "text/html": [
       "<div>\n",
       "<style scoped>\n",
       "    .dataframe tbody tr th:only-of-type {\n",
       "        vertical-align: middle;\n",
       "    }\n",
       "\n",
       "    .dataframe tbody tr th {\n",
       "        vertical-align: top;\n",
       "    }\n",
       "\n",
       "    .dataframe thead th {\n",
       "        text-align: right;\n",
       "    }\n",
       "</style>\n",
       "<table border=\"1\" class=\"dataframe\">\n",
       "  <thead>\n",
       "    <tr style=\"text-align: right;\">\n",
       "      <th></th>\n",
       "      <th>Acusio Bivona</th>\n",
       "    </tr>\n",
       "  </thead>\n",
       "  <tbody>\n",
       "    <tr>\n",
       "      <td>slack_url</td>\n",
       "      <td>slack://user?team=learn-co&amp;id=</td>\n",
       "    </tr>\n",
       "    <tr>\n",
       "      <td>learn_url</td>\n",
       "      <td>http://learn.co/coachcooz</td>\n",
       "    </tr>\n",
       "    <tr>\n",
       "      <td>github_url</td>\n",
       "      <td>http://github.com/coachcooz</td>\n",
       "    </tr>\n",
       "    <tr>\n",
       "      <td>mailto_url</td>\n",
       "      <td>mailto:acusio13@gmail.com</td>\n",
       "    </tr>\n",
       "    <tr>\n",
       "      <td>projects_url</td>\n",
       "      <td>https://learn.co/portfolio-projects/student-da...</td>\n",
       "    </tr>\n",
       "    <tr>\n",
       "      <td>grad_dash_url</td>\n",
       "      <td>https://learn.co/graduation/student-dashboard/...</td>\n",
       "    </tr>\n",
       "    <tr>\n",
       "      <td>cohort_lead</td>\n",
       "      <td>James Irving</td>\n",
       "    </tr>\n",
       "    <tr>\n",
       "      <td>ed_coach</td>\n",
       "      <td>Dara Paoletti</td>\n",
       "    </tr>\n",
       "    <tr>\n",
       "      <td>last_active</td>\n",
       "      <td>12/23/19</td>\n",
       "    </tr>\n",
       "    <tr>\n",
       "      <td>completed_lessons</td>\n",
       "      <td>207</td>\n",
       "    </tr>\n",
       "    <tr>\n",
       "      <td>joined</td>\n",
       "      <td>10/07/19</td>\n",
       "    </tr>\n",
       "    <tr>\n",
       "      <td>career_coach</td>\n",
       "      <td>Not currently</td>\n",
       "    </tr>\n",
       "    <tr>\n",
       "      <td>section</td>\n",
       "      <td>Data Science</td>\n",
       "    </tr>\n",
       "    <tr>\n",
       "      <td>ed_coach_avail</td>\n",
       "      <td>11</td>\n",
       "    </tr>\n",
       "    <tr>\n",
       "      <td>ed_coach_used</td>\n",
       "      <td>3</td>\n",
       "    </tr>\n",
       "    <tr>\n",
       "      <td>cohort</td>\n",
       "      <td>online-ds-pt-100719</td>\n",
       "    </tr>\n",
       "    <tr>\n",
       "      <td>pacing</td>\n",
       "      <td>Part Time</td>\n",
       "    </tr>\n",
       "    <tr>\n",
       "      <td>grad_date</td>\n",
       "      <td>[(2020-08-15, )]</td>\n",
       "    </tr>\n",
       "    <tr>\n",
       "      <td>commitment_level</td>\n",
       "      <td>[Part Time]</td>\n",
       "    </tr>\n",
       "    <tr>\n",
       "      <td>lives_in</td>\n",
       "      <td>[Los Angeles, California, United States]</td>\n",
       "    </tr>\n",
       "  </tbody>\n",
       "</table>\n",
       "</div>"
      ],
      "text/plain": [
       "                                                       Acusio Bivona\n",
       "slack_url                             slack://user?team=learn-co&id=\n",
       "learn_url                                  http://learn.co/coachcooz\n",
       "github_url                               http://github.com/coachcooz\n",
       "mailto_url                                 mailto:acusio13@gmail.com\n",
       "projects_url       https://learn.co/portfolio-projects/student-da...\n",
       "grad_dash_url      https://learn.co/graduation/student-dashboard/...\n",
       "cohort_lead                                             James Irving\n",
       "ed_coach                                               Dara Paoletti\n",
       "last_active                                                 12/23/19\n",
       "completed_lessons                                                207\n",
       "joined                                                      10/07/19\n",
       "career_coach                                           Not currently\n",
       "section                                                 Data Science\n",
       "ed_coach_avail                                                    11\n",
       "ed_coach_used                                                      3\n",
       "cohort                                           online-ds-pt-100719\n",
       "pacing                                                     Part Time\n",
       "grad_date                                           [(2020-08-15, )]\n",
       "commitment_level                                         [Part Time]\n",
       "lives_in                    [Los Angeles, California, United States]"
      ]
     },
     "execution_count": 85,
     "metadata": {},
     "output_type": "execute_result"
    }
   ],
   "source": [
    "k = 'Acusio Bivona'\n",
    "data = STUDENTS[k]\n",
    "df_test = pd.DataFrame(data,columns=[k])\n",
    "df_test"
   ]
  },
  {
   "cell_type": "code",
   "execution_count": 86,
   "metadata": {
    "ExecuteTime": {
     "end_time": "2019-12-24T17:17:26.036513Z",
     "start_time": "2019-12-24T17:17:25.994170Z"
    }
   },
   "outputs": [
    {
     "data": {
      "text/html": [
       "<div>\n",
       "<style scoped>\n",
       "    .dataframe tbody tr th:only-of-type {\n",
       "        vertical-align: middle;\n",
       "    }\n",
       "\n",
       "    .dataframe tbody tr th {\n",
       "        vertical-align: top;\n",
       "    }\n",
       "\n",
       "    .dataframe thead th {\n",
       "        text-align: right;\n",
       "    }\n",
       "</style>\n",
       "<table border=\"1\" class=\"dataframe\">\n",
       "  <thead>\n",
       "    <tr style=\"text-align: right;\">\n",
       "      <th></th>\n",
       "      <th>Acusio Bivona</th>\n",
       "      <th>Andrea Osika</th>\n",
       "      <th>Darius Fuller</th>\n",
       "      <th>Devin Belden</th>\n",
       "      <th>Douglas Steen</th>\n",
       "      <th>Ice Asortse</th>\n",
       "      <th>Jamaal Smith</th>\n",
       "      <th>John Kline</th>\n",
       "      <th>John Lemaster</th>\n",
       "      <th>John Ofrecio</th>\n",
       "      <th>Melvin Gonzalez</th>\n",
       "      <th>Michael Burak</th>\n",
       "      <th>Ru Kein</th>\n",
       "      <th>Susanna Han</th>\n",
       "      <th>Terry Ollila</th>\n",
       "    </tr>\n",
       "  </thead>\n",
       "  <tbody>\n",
       "    <tr>\n",
       "      <td>slack_url</td>\n",
       "      <td>slack://user?team=learn-co&amp;id=</td>\n",
       "      <td>slack://user?team=learn-co&amp;id=andio (Andi Osika)</td>\n",
       "      <td>slack://user?team=learn-co&amp;id=Darius F.</td>\n",
       "      <td>slack://user?team=learn-co&amp;id=Devin B</td>\n",
       "      <td>slack://user?team=learn-co&amp;id=Doug Steen</td>\n",
       "      <td>slack://user?team=learn-co&amp;id=</td>\n",
       "      <td>slack://user?team=learn-co&amp;id=Jamaal Smith</td>\n",
       "      <td>slack://user?team=learn-co&amp;id=John Kline</td>\n",
       "      <td>slack://user?team=learn-co&amp;id=John Lemaster</td>\n",
       "      <td>slack://user?team=learn-co&amp;id=John Ofrecio</td>\n",
       "      <td>slack://user?team=learn-co&amp;id=Melvin Gonzalez,...</td>\n",
       "      <td>slack://user?team=learn-co&amp;id=michaelburak(the...</td>\n",
       "      <td>slack://user?team=learn-co&amp;id=ru</td>\n",
       "      <td>slack://user?team=learn-co&amp;id=Susanna Han</td>\n",
       "      <td>slack://user?team=learn-co&amp;id=Terry Ollila</td>\n",
       "    </tr>\n",
       "    <tr>\n",
       "      <td>learn_url</td>\n",
       "      <td>http://learn.co/coachcooz</td>\n",
       "      <td>http://learn.co/andiosika</td>\n",
       "      <td>http://learn.co/dfuller22</td>\n",
       "      <td>http://learn.co/devinbelden</td>\n",
       "      <td>http://learn.co/douglaspsteen</td>\n",
       "      <td>http://learn.co/dantarshi</td>\n",
       "      <td>http://learn.co/jdsmithwes</td>\n",
       "      <td>http://learn.co/katahdin28</td>\n",
       "      <td>http://learn.co/lemaster1</td>\n",
       "      <td>http://learn.co/jofrecio</td>\n",
       "      <td>http://learn.co/melvingonzalezjr</td>\n",
       "      <td>http://learn.co/michaelburak</td>\n",
       "      <td>http://learn.co/hakkeray</td>\n",
       "      <td>http://learn.co/ohsusanna93</td>\n",
       "      <td>http://learn.co/terryollila</td>\n",
       "    </tr>\n",
       "    <tr>\n",
       "      <td>github_url</td>\n",
       "      <td>http://github.com/coachcooz</td>\n",
       "      <td>http://github.com/andiosika</td>\n",
       "      <td>http://github.com/dfuller22</td>\n",
       "      <td>http://github.com/devinbelden</td>\n",
       "      <td>http://github.com/douglaspsteen</td>\n",
       "      <td>http://github.com/dantarshi</td>\n",
       "      <td>http://github.com/jdsmithwes</td>\n",
       "      <td>http://github.com/katahdin28</td>\n",
       "      <td>http://github.com/lemaster1</td>\n",
       "      <td>http://github.com/jofrecio</td>\n",
       "      <td>http://github.com/melvingonzalezjr</td>\n",
       "      <td>http://github.com/michaelburak</td>\n",
       "      <td>http://github.com/hakkeray</td>\n",
       "      <td>http://github.com/ohsusanna93</td>\n",
       "      <td>http://github.com/terryollila</td>\n",
       "    </tr>\n",
       "    <tr>\n",
       "      <td>mailto_url</td>\n",
       "      <td>mailto:acusio13@gmail.com</td>\n",
       "      <td>mailto:andiosika@gmail.com</td>\n",
       "      <td>mailto:d_full22@yahoo.com</td>\n",
       "      <td>mailto:devin.belden.28@gmail.com</td>\n",
       "      <td>mailto:douglaspsteen@gmail.com</td>\n",
       "      <td>mailto:dantarshi@gmail.com</td>\n",
       "      <td>mailto:jdsmith1906@gmail.com</td>\n",
       "      <td>mailto:johnmkline@gmail.com</td>\n",
       "      <td>mailto:heylemaster@gmail.com</td>\n",
       "      <td>mailto:john.ofrecio@gmail.com</td>\n",
       "      <td>mailto:mgonzalez713@gmail.com</td>\n",
       "      <td>mailto:michaelrburak@gmail.com</td>\n",
       "      <td>mailto:rukeine@gmail.com</td>\n",
       "      <td>mailto:susanna.jihae.han@gmail.com</td>\n",
       "      <td>mailto:terryollila@gmail.com</td>\n",
       "    </tr>\n",
       "    <tr>\n",
       "      <td>projects_url</td>\n",
       "      <td>https://learn.co/portfolio-projects/student-da...</td>\n",
       "      <td>https://learn.co/portfolio-projects/student-da...</td>\n",
       "      <td>https://learn.co/portfolio-projects/student-da...</td>\n",
       "      <td>https://learn.co/portfolio-projects/student-da...</td>\n",
       "      <td>https://learn.co/portfolio-projects/student-da...</td>\n",
       "      <td>https://learn.co/portfolio-projects/student-da...</td>\n",
       "      <td>https://learn.co/portfolio-projects/student-da...</td>\n",
       "      <td>https://learn.co/portfolio-projects/student-da...</td>\n",
       "      <td>https://learn.co/portfolio-projects/student-da...</td>\n",
       "      <td>https://learn.co/portfolio-projects/student-da...</td>\n",
       "      <td>https://learn.co/portfolio-projects/student-da...</td>\n",
       "      <td>https://learn.co/portfolio-projects/student-da...</td>\n",
       "      <td>https://learn.co/portfolio-projects/student-da...</td>\n",
       "      <td>https://learn.co/portfolio-projects/student-da...</td>\n",
       "      <td>https://learn.co/portfolio-projects/student-da...</td>\n",
       "    </tr>\n",
       "    <tr>\n",
       "      <td>grad_dash_url</td>\n",
       "      <td>https://learn.co/graduation/student-dashboard/...</td>\n",
       "      <td>https://learn.co/graduation/student-dashboard/...</td>\n",
       "      <td>https://learn.co/graduation/student-dashboard/...</td>\n",
       "      <td>https://learn.co/graduation/student-dashboard/...</td>\n",
       "      <td>https://learn.co/graduation/student-dashboard/...</td>\n",
       "      <td>https://learn.co/graduation/student-dashboard/...</td>\n",
       "      <td>https://learn.co/graduation/student-dashboard/...</td>\n",
       "      <td>https://learn.co/graduation/student-dashboard/...</td>\n",
       "      <td>https://learn.co/graduation/student-dashboard/...</td>\n",
       "      <td>https://learn.co/graduation/student-dashboard/...</td>\n",
       "      <td>https://learn.co/graduation/student-dashboard/...</td>\n",
       "      <td>https://learn.co/graduation/student-dashboard/...</td>\n",
       "      <td>https://learn.co/graduation/student-dashboard/...</td>\n",
       "      <td>https://learn.co/graduation/student-dashboard/...</td>\n",
       "      <td>https://learn.co/graduation/student-dashboard/...</td>\n",
       "    </tr>\n",
       "    <tr>\n",
       "      <td>cohort_lead</td>\n",
       "      <td>James Irving</td>\n",
       "      <td>[]</td>\n",
       "      <td>James Irving</td>\n",
       "      <td>James Irving</td>\n",
       "      <td>James Irving</td>\n",
       "      <td>James Irving</td>\n",
       "      <td>James Irving</td>\n",
       "      <td>James Irving</td>\n",
       "      <td>James Irving</td>\n",
       "      <td>James Irving</td>\n",
       "      <td>James Irving</td>\n",
       "      <td>[]</td>\n",
       "      <td>James Irving</td>\n",
       "      <td>[]</td>\n",
       "      <td>James Irving</td>\n",
       "    </tr>\n",
       "    <tr>\n",
       "      <td>ed_coach</td>\n",
       "      <td>Dara Paoletti</td>\n",
       "      <td>Dara Paoletti</td>\n",
       "      <td>Dara Paoletti</td>\n",
       "      <td>Dara Paoletti</td>\n",
       "      <td>Dara Paoletti</td>\n",
       "      <td>Dara Paoletti</td>\n",
       "      <td>Dara Paoletti</td>\n",
       "      <td>Dara Paoletti</td>\n",
       "      <td>Dara Paoletti</td>\n",
       "      <td>Dara Paoletti</td>\n",
       "      <td>Dara Paoletti</td>\n",
       "      <td>Dara Paoletti</td>\n",
       "      <td>Dara Paoletti</td>\n",
       "      <td>Dara Paoletti</td>\n",
       "      <td>Dara Paoletti</td>\n",
       "    </tr>\n",
       "    <tr>\n",
       "      <td>last_active</td>\n",
       "      <td>12/23/19</td>\n",
       "      <td>12/23/19</td>\n",
       "      <td>12/24/19</td>\n",
       "      <td>12/20/19</td>\n",
       "      <td>12/21/19</td>\n",
       "      <td>12/24/19</td>\n",
       "      <td>12/21/19</td>\n",
       "      <td>12/19/19</td>\n",
       "      <td>12/24/19</td>\n",
       "      <td>12/16/19</td>\n",
       "      <td>12/22/19</td>\n",
       "      <td>12/23/19</td>\n",
       "      <td>12/20/19</td>\n",
       "      <td>12/16/19</td>\n",
       "      <td>12/24/19</td>\n",
       "    </tr>\n",
       "    <tr>\n",
       "      <td>completed_lessons</td>\n",
       "      <td>207</td>\n",
       "      <td>220</td>\n",
       "      <td>208</td>\n",
       "      <td>361</td>\n",
       "      <td>359</td>\n",
       "      <td>295</td>\n",
       "      <td>75</td>\n",
       "      <td>182</td>\n",
       "      <td>256</td>\n",
       "      <td>163</td>\n",
       "      <td>187</td>\n",
       "      <td>0</td>\n",
       "      <td>299</td>\n",
       "      <td>142</td>\n",
       "      <td>393</td>\n",
       "    </tr>\n",
       "    <tr>\n",
       "      <td>joined</td>\n",
       "      <td>10/07/19</td>\n",
       "      <td>10/07/19</td>\n",
       "      <td>10/07/19</td>\n",
       "      <td>10/07/19</td>\n",
       "      <td>10/07/19</td>\n",
       "      <td>10/07/19</td>\n",
       "      <td>10/07/19</td>\n",
       "      <td>10/07/19</td>\n",
       "      <td>10/10/19</td>\n",
       "      <td>10/07/19</td>\n",
       "      <td>10/07/19</td>\n",
       "      <td>10/07/19</td>\n",
       "      <td>10/07/19</td>\n",
       "      <td>10/07/19</td>\n",
       "      <td>10/07/19</td>\n",
       "    </tr>\n",
       "    <tr>\n",
       "      <td>career_coach</td>\n",
       "      <td>Not currently</td>\n",
       "      <td>Not currently</td>\n",
       "      <td>Not currently</td>\n",
       "      <td>Not currently</td>\n",
       "      <td>Not currently</td>\n",
       "      <td>Not currently</td>\n",
       "      <td>Not currently</td>\n",
       "      <td>Not currently</td>\n",
       "      <td>Not currently</td>\n",
       "      <td>Not currently</td>\n",
       "      <td>Not currently</td>\n",
       "      <td>Currently assigned</td>\n",
       "      <td>Not currently</td>\n",
       "      <td>Not currently</td>\n",
       "      <td>Not currently</td>\n",
       "    </tr>\n",
       "    <tr>\n",
       "      <td>section</td>\n",
       "      <td>Data Science</td>\n",
       "      <td>Data Science</td>\n",
       "      <td>Data Science</td>\n",
       "      <td>Data Science</td>\n",
       "      <td>Data Science</td>\n",
       "      <td>Data Science</td>\n",
       "      <td>Data Science</td>\n",
       "      <td>Data Science</td>\n",
       "      <td>Data Science</td>\n",
       "      <td>Data Science</td>\n",
       "      <td>Data Science</td>\n",
       "      <td>Pre</td>\n",
       "      <td>Data Science</td>\n",
       "      <td>Data Science</td>\n",
       "      <td>Data Science</td>\n",
       "    </tr>\n",
       "    <tr>\n",
       "      <td>ed_coach_avail</td>\n",
       "      <td>11</td>\n",
       "      <td>11</td>\n",
       "      <td>11</td>\n",
       "      <td>11</td>\n",
       "      <td>11</td>\n",
       "      <td>11</td>\n",
       "      <td>11</td>\n",
       "      <td>11</td>\n",
       "      <td>11</td>\n",
       "      <td>11</td>\n",
       "      <td>11</td>\n",
       "      <td>11</td>\n",
       "      <td>11</td>\n",
       "      <td>11</td>\n",
       "      <td>11</td>\n",
       "    </tr>\n",
       "    <tr>\n",
       "      <td>ed_coach_used</td>\n",
       "      <td>3</td>\n",
       "      <td>2</td>\n",
       "      <td>2</td>\n",
       "      <td>5</td>\n",
       "      <td>3</td>\n",
       "      <td>2</td>\n",
       "      <td>2</td>\n",
       "      <td>1</td>\n",
       "      <td>2</td>\n",
       "      <td>2</td>\n",
       "      <td>5</td>\n",
       "      <td>2</td>\n",
       "      <td>2</td>\n",
       "      <td>1</td>\n",
       "      <td>3</td>\n",
       "    </tr>\n",
       "    <tr>\n",
       "      <td>cohort</td>\n",
       "      <td>online-ds-pt-100719</td>\n",
       "      <td>online-ds-pt-100719</td>\n",
       "      <td>online-ds-pt-100719</td>\n",
       "      <td>online-ds-ft-100719</td>\n",
       "      <td>online-ds-ft-100719</td>\n",
       "      <td>online-ds-ft-100719</td>\n",
       "      <td>online-ds-ft-100719</td>\n",
       "      <td>online-ds-ft-100719</td>\n",
       "      <td>online-ds-ft-100719</td>\n",
       "      <td>online-ds-pt-100719</td>\n",
       "      <td>online-ds-ft-100719</td>\n",
       "      <td>online-ds-pt-100719</td>\n",
       "      <td>online-ds-ft-100719</td>\n",
       "      <td>online-ds-pt-100719</td>\n",
       "      <td>online-ds-ft-100719</td>\n",
       "    </tr>\n",
       "    <tr>\n",
       "      <td>pacing</td>\n",
       "      <td>Part Time</td>\n",
       "      <td>Part Time</td>\n",
       "      <td>Part Time</td>\n",
       "      <td>Full Time</td>\n",
       "      <td>Full Time</td>\n",
       "      <td>Full Time</td>\n",
       "      <td>Full Time</td>\n",
       "      <td>Full Time</td>\n",
       "      <td>Full Time</td>\n",
       "      <td>Part Time</td>\n",
       "      <td>Full Time</td>\n",
       "      <td>Part Time</td>\n",
       "      <td>Full Time</td>\n",
       "      <td>Part Time</td>\n",
       "      <td>Full Time</td>\n",
       "    </tr>\n",
       "    <tr>\n",
       "      <td>grad_date</td>\n",
       "      <td>[(2020-08-15, )]</td>\n",
       "      <td>[]</td>\n",
       "      <td>[(2020-08-31, )]</td>\n",
       "      <td>[(2020-03-31, )]</td>\n",
       "      <td>[(2020-03-31, )]</td>\n",
       "      <td>[(2020-03-31, )]</td>\n",
       "      <td>[]</td>\n",
       "      <td>[(2020-03-15, )]</td>\n",
       "      <td>[(2020-03-31, )]</td>\n",
       "      <td>[]</td>\n",
       "      <td>[(2020-01-31, )]</td>\n",
       "      <td>[(2020-08-31, )]</td>\n",
       "      <td>[(2020-01-31, )]</td>\n",
       "      <td>[]</td>\n",
       "      <td>[(2020-03-31, )]</td>\n",
       "    </tr>\n",
       "    <tr>\n",
       "      <td>commitment_level</td>\n",
       "      <td>[Part Time]</td>\n",
       "      <td>[]</td>\n",
       "      <td>[Part Time]</td>\n",
       "      <td>[Full Time]</td>\n",
       "      <td>[Full Time]</td>\n",
       "      <td>[Full Time]</td>\n",
       "      <td>[]</td>\n",
       "      <td>[Full Time]</td>\n",
       "      <td>[Full Time]</td>\n",
       "      <td>[Part Time]</td>\n",
       "      <td>[Full Time]</td>\n",
       "      <td>[Part Time]</td>\n",
       "      <td>[Full Time]</td>\n",
       "      <td>[Full Time]</td>\n",
       "      <td>[Full Time]</td>\n",
       "    </tr>\n",
       "    <tr>\n",
       "      <td>lives_in</td>\n",
       "      <td>[Los Angeles, California, United States]</td>\n",
       "      <td>[]</td>\n",
       "      <td>[Seattle, Washington, United States]</td>\n",
       "      <td>[United States]</td>\n",
       "      <td>[Grapevine, Texas, United States]</td>\n",
       "      <td>[Pittsburgh, Pennsylvania, United States]</td>\n",
       "      <td>[]</td>\n",
       "      <td>[United States]</td>\n",
       "      <td>[Chicago, Illinois, United States]</td>\n",
       "      <td>[Rockville, Maryland, United States]</td>\n",
       "      <td>[United States]</td>\n",
       "      <td>[Boulder, Colorado, United States]</td>\n",
       "      <td>[Los Angeles, California, United States]</td>\n",
       "      <td>[Champaign, Illinois, United States]</td>\n",
       "      <td>[Louisville, Colorado, United States]</td>\n",
       "    </tr>\n",
       "  </tbody>\n",
       "</table>\n",
       "</div>"
      ],
      "text/plain": [
       "                                                       Acusio Bivona  \\\n",
       "slack_url                             slack://user?team=learn-co&id=   \n",
       "learn_url                                  http://learn.co/coachcooz   \n",
       "github_url                               http://github.com/coachcooz   \n",
       "mailto_url                                 mailto:acusio13@gmail.com   \n",
       "projects_url       https://learn.co/portfolio-projects/student-da...   \n",
       "grad_dash_url      https://learn.co/graduation/student-dashboard/...   \n",
       "cohort_lead                                             James Irving   \n",
       "ed_coach                                               Dara Paoletti   \n",
       "last_active                                                 12/23/19   \n",
       "completed_lessons                                                207   \n",
       "joined                                                      10/07/19   \n",
       "career_coach                                           Not currently   \n",
       "section                                                 Data Science   \n",
       "ed_coach_avail                                                    11   \n",
       "ed_coach_used                                                      3   \n",
       "cohort                                           online-ds-pt-100719   \n",
       "pacing                                                     Part Time   \n",
       "grad_date                                           [(2020-08-15, )]   \n",
       "commitment_level                                         [Part Time]   \n",
       "lives_in                    [Los Angeles, California, United States]   \n",
       "\n",
       "                                                        Andrea Osika  \\\n",
       "slack_url           slack://user?team=learn-co&id=andio (Andi Osika)   \n",
       "learn_url                                  http://learn.co/andiosika   \n",
       "github_url                               http://github.com/andiosika   \n",
       "mailto_url                                mailto:andiosika@gmail.com   \n",
       "projects_url       https://learn.co/portfolio-projects/student-da...   \n",
       "grad_dash_url      https://learn.co/graduation/student-dashboard/...   \n",
       "cohort_lead                                                       []   \n",
       "ed_coach                                               Dara Paoletti   \n",
       "last_active                                                 12/23/19   \n",
       "completed_lessons                                                220   \n",
       "joined                                                      10/07/19   \n",
       "career_coach                                           Not currently   \n",
       "section                                                 Data Science   \n",
       "ed_coach_avail                                                    11   \n",
       "ed_coach_used                                                      2   \n",
       "cohort                                           online-ds-pt-100719   \n",
       "pacing                                                     Part Time   \n",
       "grad_date                                                         []   \n",
       "commitment_level                                                  []   \n",
       "lives_in                                                          []   \n",
       "\n",
       "                                                       Darius Fuller  \\\n",
       "slack_url                    slack://user?team=learn-co&id=Darius F.   \n",
       "learn_url                                  http://learn.co/dfuller22   \n",
       "github_url                               http://github.com/dfuller22   \n",
       "mailto_url                                 mailto:d_full22@yahoo.com   \n",
       "projects_url       https://learn.co/portfolio-projects/student-da...   \n",
       "grad_dash_url      https://learn.co/graduation/student-dashboard/...   \n",
       "cohort_lead                                             James Irving   \n",
       "ed_coach                                               Dara Paoletti   \n",
       "last_active                                                 12/24/19   \n",
       "completed_lessons                                                208   \n",
       "joined                                                      10/07/19   \n",
       "career_coach                                           Not currently   \n",
       "section                                                 Data Science   \n",
       "ed_coach_avail                                                    11   \n",
       "ed_coach_used                                                      2   \n",
       "cohort                                           online-ds-pt-100719   \n",
       "pacing                                                     Part Time   \n",
       "grad_date                                           [(2020-08-31, )]   \n",
       "commitment_level                                         [Part Time]   \n",
       "lives_in                        [Seattle, Washington, United States]   \n",
       "\n",
       "                                                        Devin Belden  \\\n",
       "slack_url                      slack://user?team=learn-co&id=Devin B   \n",
       "learn_url                                http://learn.co/devinbelden   \n",
       "github_url                             http://github.com/devinbelden   \n",
       "mailto_url                          mailto:devin.belden.28@gmail.com   \n",
       "projects_url       https://learn.co/portfolio-projects/student-da...   \n",
       "grad_dash_url      https://learn.co/graduation/student-dashboard/...   \n",
       "cohort_lead                                             James Irving   \n",
       "ed_coach                                               Dara Paoletti   \n",
       "last_active                                                 12/20/19   \n",
       "completed_lessons                                                361   \n",
       "joined                                                      10/07/19   \n",
       "career_coach                                           Not currently   \n",
       "section                                                 Data Science   \n",
       "ed_coach_avail                                                    11   \n",
       "ed_coach_used                                                      5   \n",
       "cohort                                           online-ds-ft-100719   \n",
       "pacing                                                     Full Time   \n",
       "grad_date                                           [(2020-03-31, )]   \n",
       "commitment_level                                         [Full Time]   \n",
       "lives_in                                             [United States]   \n",
       "\n",
       "                                                       Douglas Steen  \\\n",
       "slack_url                   slack://user?team=learn-co&id=Doug Steen   \n",
       "learn_url                              http://learn.co/douglaspsteen   \n",
       "github_url                           http://github.com/douglaspsteen   \n",
       "mailto_url                            mailto:douglaspsteen@gmail.com   \n",
       "projects_url       https://learn.co/portfolio-projects/student-da...   \n",
       "grad_dash_url      https://learn.co/graduation/student-dashboard/...   \n",
       "cohort_lead                                             James Irving   \n",
       "ed_coach                                               Dara Paoletti   \n",
       "last_active                                                 12/21/19   \n",
       "completed_lessons                                                359   \n",
       "joined                                                      10/07/19   \n",
       "career_coach                                           Not currently   \n",
       "section                                                 Data Science   \n",
       "ed_coach_avail                                                    11   \n",
       "ed_coach_used                                                      3   \n",
       "cohort                                           online-ds-ft-100719   \n",
       "pacing                                                     Full Time   \n",
       "grad_date                                           [(2020-03-31, )]   \n",
       "commitment_level                                         [Full Time]   \n",
       "lives_in                           [Grapevine, Texas, United States]   \n",
       "\n",
       "                                                         Ice Asortse  \\\n",
       "slack_url                             slack://user?team=learn-co&id=   \n",
       "learn_url                                  http://learn.co/dantarshi   \n",
       "github_url                               http://github.com/dantarshi   \n",
       "mailto_url                                mailto:dantarshi@gmail.com   \n",
       "projects_url       https://learn.co/portfolio-projects/student-da...   \n",
       "grad_dash_url      https://learn.co/graduation/student-dashboard/...   \n",
       "cohort_lead                                             James Irving   \n",
       "ed_coach                                               Dara Paoletti   \n",
       "last_active                                                 12/24/19   \n",
       "completed_lessons                                                295   \n",
       "joined                                                      10/07/19   \n",
       "career_coach                                           Not currently   \n",
       "section                                                 Data Science   \n",
       "ed_coach_avail                                                    11   \n",
       "ed_coach_used                                                      2   \n",
       "cohort                                           online-ds-ft-100719   \n",
       "pacing                                                     Full Time   \n",
       "grad_date                                           [(2020-03-31, )]   \n",
       "commitment_level                                         [Full Time]   \n",
       "lives_in                   [Pittsburgh, Pennsylvania, United States]   \n",
       "\n",
       "                                                        Jamaal Smith  \\\n",
       "slack_url                 slack://user?team=learn-co&id=Jamaal Smith   \n",
       "learn_url                                 http://learn.co/jdsmithwes   \n",
       "github_url                              http://github.com/jdsmithwes   \n",
       "mailto_url                              mailto:jdsmith1906@gmail.com   \n",
       "projects_url       https://learn.co/portfolio-projects/student-da...   \n",
       "grad_dash_url      https://learn.co/graduation/student-dashboard/...   \n",
       "cohort_lead                                             James Irving   \n",
       "ed_coach                                               Dara Paoletti   \n",
       "last_active                                                 12/21/19   \n",
       "completed_lessons                                                 75   \n",
       "joined                                                      10/07/19   \n",
       "career_coach                                           Not currently   \n",
       "section                                                 Data Science   \n",
       "ed_coach_avail                                                    11   \n",
       "ed_coach_used                                                      2   \n",
       "cohort                                           online-ds-ft-100719   \n",
       "pacing                                                     Full Time   \n",
       "grad_date                                                         []   \n",
       "commitment_level                                                  []   \n",
       "lives_in                                                          []   \n",
       "\n",
       "                                                          John Kline  \\\n",
       "slack_url                   slack://user?team=learn-co&id=John Kline   \n",
       "learn_url                                 http://learn.co/katahdin28   \n",
       "github_url                              http://github.com/katahdin28   \n",
       "mailto_url                               mailto:johnmkline@gmail.com   \n",
       "projects_url       https://learn.co/portfolio-projects/student-da...   \n",
       "grad_dash_url      https://learn.co/graduation/student-dashboard/...   \n",
       "cohort_lead                                             James Irving   \n",
       "ed_coach                                               Dara Paoletti   \n",
       "last_active                                                 12/19/19   \n",
       "completed_lessons                                                182   \n",
       "joined                                                      10/07/19   \n",
       "career_coach                                           Not currently   \n",
       "section                                                 Data Science   \n",
       "ed_coach_avail                                                    11   \n",
       "ed_coach_used                                                      1   \n",
       "cohort                                           online-ds-ft-100719   \n",
       "pacing                                                     Full Time   \n",
       "grad_date                                           [(2020-03-15, )]   \n",
       "commitment_level                                         [Full Time]   \n",
       "lives_in                                             [United States]   \n",
       "\n",
       "                                                       John Lemaster  \\\n",
       "slack_url                slack://user?team=learn-co&id=John Lemaster   \n",
       "learn_url                                  http://learn.co/lemaster1   \n",
       "github_url                               http://github.com/lemaster1   \n",
       "mailto_url                              mailto:heylemaster@gmail.com   \n",
       "projects_url       https://learn.co/portfolio-projects/student-da...   \n",
       "grad_dash_url      https://learn.co/graduation/student-dashboard/...   \n",
       "cohort_lead                                             James Irving   \n",
       "ed_coach                                               Dara Paoletti   \n",
       "last_active                                                 12/24/19   \n",
       "completed_lessons                                                256   \n",
       "joined                                                      10/10/19   \n",
       "career_coach                                           Not currently   \n",
       "section                                                 Data Science   \n",
       "ed_coach_avail                                                    11   \n",
       "ed_coach_used                                                      2   \n",
       "cohort                                           online-ds-ft-100719   \n",
       "pacing                                                     Full Time   \n",
       "grad_date                                           [(2020-03-31, )]   \n",
       "commitment_level                                         [Full Time]   \n",
       "lives_in                          [Chicago, Illinois, United States]   \n",
       "\n",
       "                                                        John Ofrecio  \\\n",
       "slack_url                 slack://user?team=learn-co&id=John Ofrecio   \n",
       "learn_url                                   http://learn.co/jofrecio   \n",
       "github_url                                http://github.com/jofrecio   \n",
       "mailto_url                             mailto:john.ofrecio@gmail.com   \n",
       "projects_url       https://learn.co/portfolio-projects/student-da...   \n",
       "grad_dash_url      https://learn.co/graduation/student-dashboard/...   \n",
       "cohort_lead                                             James Irving   \n",
       "ed_coach                                               Dara Paoletti   \n",
       "last_active                                                 12/16/19   \n",
       "completed_lessons                                                163   \n",
       "joined                                                      10/07/19   \n",
       "career_coach                                           Not currently   \n",
       "section                                                 Data Science   \n",
       "ed_coach_avail                                                    11   \n",
       "ed_coach_used                                                      2   \n",
       "cohort                                           online-ds-pt-100719   \n",
       "pacing                                                     Part Time   \n",
       "grad_date                                                         []   \n",
       "commitment_level                                         [Part Time]   \n",
       "lives_in                        [Rockville, Maryland, United States]   \n",
       "\n",
       "                                                     Melvin Gonzalez  \\\n",
       "slack_url          slack://user?team=learn-co&id=Melvin Gonzalez,...   \n",
       "learn_url                           http://learn.co/melvingonzalezjr   \n",
       "github_url                        http://github.com/melvingonzalezjr   \n",
       "mailto_url                             mailto:mgonzalez713@gmail.com   \n",
       "projects_url       https://learn.co/portfolio-projects/student-da...   \n",
       "grad_dash_url      https://learn.co/graduation/student-dashboard/...   \n",
       "cohort_lead                                             James Irving   \n",
       "ed_coach                                               Dara Paoletti   \n",
       "last_active                                                 12/22/19   \n",
       "completed_lessons                                                187   \n",
       "joined                                                      10/07/19   \n",
       "career_coach                                           Not currently   \n",
       "section                                                 Data Science   \n",
       "ed_coach_avail                                                    11   \n",
       "ed_coach_used                                                      5   \n",
       "cohort                                           online-ds-ft-100719   \n",
       "pacing                                                     Full Time   \n",
       "grad_date                                           [(2020-01-31, )]   \n",
       "commitment_level                                         [Full Time]   \n",
       "lives_in                                             [United States]   \n",
       "\n",
       "                                                       Michael Burak  \\\n",
       "slack_url          slack://user?team=learn-co&id=michaelburak(the...   \n",
       "learn_url                               http://learn.co/michaelburak   \n",
       "github_url                            http://github.com/michaelburak   \n",
       "mailto_url                            mailto:michaelrburak@gmail.com   \n",
       "projects_url       https://learn.co/portfolio-projects/student-da...   \n",
       "grad_dash_url      https://learn.co/graduation/student-dashboard/...   \n",
       "cohort_lead                                                       []   \n",
       "ed_coach                                               Dara Paoletti   \n",
       "last_active                                                 12/23/19   \n",
       "completed_lessons                                                  0   \n",
       "joined                                                      10/07/19   \n",
       "career_coach                                      Currently assigned   \n",
       "section                                                          Pre   \n",
       "ed_coach_avail                                                    11   \n",
       "ed_coach_used                                                      2   \n",
       "cohort                                           online-ds-pt-100719   \n",
       "pacing                                                     Part Time   \n",
       "grad_date                                           [(2020-08-31, )]   \n",
       "commitment_level                                         [Part Time]   \n",
       "lives_in                          [Boulder, Colorado, United States]   \n",
       "\n",
       "                                                             Ru Kein  \\\n",
       "slack_url                           slack://user?team=learn-co&id=ru   \n",
       "learn_url                                   http://learn.co/hakkeray   \n",
       "github_url                                http://github.com/hakkeray   \n",
       "mailto_url                                  mailto:rukeine@gmail.com   \n",
       "projects_url       https://learn.co/portfolio-projects/student-da...   \n",
       "grad_dash_url      https://learn.co/graduation/student-dashboard/...   \n",
       "cohort_lead                                             James Irving   \n",
       "ed_coach                                               Dara Paoletti   \n",
       "last_active                                                 12/20/19   \n",
       "completed_lessons                                                299   \n",
       "joined                                                      10/07/19   \n",
       "career_coach                                           Not currently   \n",
       "section                                                 Data Science   \n",
       "ed_coach_avail                                                    11   \n",
       "ed_coach_used                                                      2   \n",
       "cohort                                           online-ds-ft-100719   \n",
       "pacing                                                     Full Time   \n",
       "grad_date                                           [(2020-01-31, )]   \n",
       "commitment_level                                         [Full Time]   \n",
       "lives_in                    [Los Angeles, California, United States]   \n",
       "\n",
       "                                                         Susanna Han  \\\n",
       "slack_url                  slack://user?team=learn-co&id=Susanna Han   \n",
       "learn_url                                http://learn.co/ohsusanna93   \n",
       "github_url                             http://github.com/ohsusanna93   \n",
       "mailto_url                        mailto:susanna.jihae.han@gmail.com   \n",
       "projects_url       https://learn.co/portfolio-projects/student-da...   \n",
       "grad_dash_url      https://learn.co/graduation/student-dashboard/...   \n",
       "cohort_lead                                                       []   \n",
       "ed_coach                                               Dara Paoletti   \n",
       "last_active                                                 12/16/19   \n",
       "completed_lessons                                                142   \n",
       "joined                                                      10/07/19   \n",
       "career_coach                                           Not currently   \n",
       "section                                                 Data Science   \n",
       "ed_coach_avail                                                    11   \n",
       "ed_coach_used                                                      1   \n",
       "cohort                                           online-ds-pt-100719   \n",
       "pacing                                                     Part Time   \n",
       "grad_date                                                         []   \n",
       "commitment_level                                         [Full Time]   \n",
       "lives_in                        [Champaign, Illinois, United States]   \n",
       "\n",
       "                                                        Terry Ollila  \n",
       "slack_url                 slack://user?team=learn-co&id=Terry Ollila  \n",
       "learn_url                                http://learn.co/terryollila  \n",
       "github_url                             http://github.com/terryollila  \n",
       "mailto_url                              mailto:terryollila@gmail.com  \n",
       "projects_url       https://learn.co/portfolio-projects/student-da...  \n",
       "grad_dash_url      https://learn.co/graduation/student-dashboard/...  \n",
       "cohort_lead                                             James Irving  \n",
       "ed_coach                                               Dara Paoletti  \n",
       "last_active                                                 12/24/19  \n",
       "completed_lessons                                                393  \n",
       "joined                                                      10/07/19  \n",
       "career_coach                                           Not currently  \n",
       "section                                                 Data Science  \n",
       "ed_coach_avail                                                    11  \n",
       "ed_coach_used                                                      3  \n",
       "cohort                                           online-ds-ft-100719  \n",
       "pacing                                                     Full Time  \n",
       "grad_date                                           [(2020-03-31, )]  \n",
       "commitment_level                                         [Full Time]  \n",
       "lives_in                       [Louisville, Colorado, United States]  "
      ]
     },
     "execution_count": 86,
     "metadata": {},
     "output_type": "execute_result"
    }
   ],
   "source": [
    "for k,v in STUDENTS.items():\n",
    "    df_test[k] = v\n",
    "df_test"
   ]
  },
  {
   "cell_type": "code",
   "execution_count": 89,
   "metadata": {
    "ExecuteTime": {
     "end_time": "2019-12-24T17:18:03.050659Z",
     "start_time": "2019-12-24T17:18:03.010677Z"
    }
   },
   "outputs": [
    {
     "data": {
      "text/html": [
       "<div>\n",
       "<style scoped>\n",
       "    .dataframe tbody tr th:only-of-type {\n",
       "        vertical-align: middle;\n",
       "    }\n",
       "\n",
       "    .dataframe tbody tr th {\n",
       "        vertical-align: top;\n",
       "    }\n",
       "\n",
       "    .dataframe thead th {\n",
       "        text-align: right;\n",
       "    }\n",
       "</style>\n",
       "<table border=\"1\" class=\"dataframe\">\n",
       "  <thead>\n",
       "    <tr style=\"text-align: right;\">\n",
       "      <th></th>\n",
       "      <th>index</th>\n",
       "      <th>slack_url</th>\n",
       "      <th>learn_url</th>\n",
       "      <th>github_url</th>\n",
       "      <th>mailto_url</th>\n",
       "      <th>projects_url</th>\n",
       "      <th>grad_dash_url</th>\n",
       "      <th>cohort_lead</th>\n",
       "      <th>ed_coach</th>\n",
       "      <th>last_active</th>\n",
       "      <th>...</th>\n",
       "      <th>joined</th>\n",
       "      <th>career_coach</th>\n",
       "      <th>section</th>\n",
       "      <th>ed_coach_avail</th>\n",
       "      <th>ed_coach_used</th>\n",
       "      <th>cohort</th>\n",
       "      <th>pacing</th>\n",
       "      <th>grad_date</th>\n",
       "      <th>commitment_level</th>\n",
       "      <th>lives_in</th>\n",
       "    </tr>\n",
       "  </thead>\n",
       "  <tbody>\n",
       "    <tr>\n",
       "      <td>0</td>\n",
       "      <td>Acusio Bivona</td>\n",
       "      <td>slack://user?team=learn-co&amp;id=</td>\n",
       "      <td>http://learn.co/coachcooz</td>\n",
       "      <td>http://github.com/coachcooz</td>\n",
       "      <td>mailto:acusio13@gmail.com</td>\n",
       "      <td>https://learn.co/portfolio-projects/student-da...</td>\n",
       "      <td>https://learn.co/graduation/student-dashboard/...</td>\n",
       "      <td>James Irving</td>\n",
       "      <td>Dara Paoletti</td>\n",
       "      <td>12/23/19</td>\n",
       "      <td>...</td>\n",
       "      <td>10/07/19</td>\n",
       "      <td>Not currently</td>\n",
       "      <td>Data Science</td>\n",
       "      <td>11</td>\n",
       "      <td>3</td>\n",
       "      <td>online-ds-pt-100719</td>\n",
       "      <td>Part Time</td>\n",
       "      <td>[(2020-08-15, )]</td>\n",
       "      <td>[Part Time]</td>\n",
       "      <td>[Los Angeles, California, United States]</td>\n",
       "    </tr>\n",
       "    <tr>\n",
       "      <td>1</td>\n",
       "      <td>Andrea Osika</td>\n",
       "      <td>slack://user?team=learn-co&amp;id=andio (Andi Osika)</td>\n",
       "      <td>http://learn.co/andiosika</td>\n",
       "      <td>http://github.com/andiosika</td>\n",
       "      <td>mailto:andiosika@gmail.com</td>\n",
       "      <td>https://learn.co/portfolio-projects/student-da...</td>\n",
       "      <td>https://learn.co/graduation/student-dashboard/...</td>\n",
       "      <td>[]</td>\n",
       "      <td>Dara Paoletti</td>\n",
       "      <td>12/23/19</td>\n",
       "      <td>...</td>\n",
       "      <td>10/07/19</td>\n",
       "      <td>Not currently</td>\n",
       "      <td>Data Science</td>\n",
       "      <td>11</td>\n",
       "      <td>2</td>\n",
       "      <td>online-ds-pt-100719</td>\n",
       "      <td>Part Time</td>\n",
       "      <td>[]</td>\n",
       "      <td>[]</td>\n",
       "      <td>[]</td>\n",
       "    </tr>\n",
       "    <tr>\n",
       "      <td>2</td>\n",
       "      <td>Darius Fuller</td>\n",
       "      <td>slack://user?team=learn-co&amp;id=Darius F.</td>\n",
       "      <td>http://learn.co/dfuller22</td>\n",
       "      <td>http://github.com/dfuller22</td>\n",
       "      <td>mailto:d_full22@yahoo.com</td>\n",
       "      <td>https://learn.co/portfolio-projects/student-da...</td>\n",
       "      <td>https://learn.co/graduation/student-dashboard/...</td>\n",
       "      <td>James Irving</td>\n",
       "      <td>Dara Paoletti</td>\n",
       "      <td>12/24/19</td>\n",
       "      <td>...</td>\n",
       "      <td>10/07/19</td>\n",
       "      <td>Not currently</td>\n",
       "      <td>Data Science</td>\n",
       "      <td>11</td>\n",
       "      <td>2</td>\n",
       "      <td>online-ds-pt-100719</td>\n",
       "      <td>Part Time</td>\n",
       "      <td>[(2020-08-31, )]</td>\n",
       "      <td>[Part Time]</td>\n",
       "      <td>[Seattle, Washington, United States]</td>\n",
       "    </tr>\n",
       "    <tr>\n",
       "      <td>3</td>\n",
       "      <td>Devin Belden</td>\n",
       "      <td>slack://user?team=learn-co&amp;id=Devin B</td>\n",
       "      <td>http://learn.co/devinbelden</td>\n",
       "      <td>http://github.com/devinbelden</td>\n",
       "      <td>mailto:devin.belden.28@gmail.com</td>\n",
       "      <td>https://learn.co/portfolio-projects/student-da...</td>\n",
       "      <td>https://learn.co/graduation/student-dashboard/...</td>\n",
       "      <td>James Irving</td>\n",
       "      <td>Dara Paoletti</td>\n",
       "      <td>12/20/19</td>\n",
       "      <td>...</td>\n",
       "      <td>10/07/19</td>\n",
       "      <td>Not currently</td>\n",
       "      <td>Data Science</td>\n",
       "      <td>11</td>\n",
       "      <td>5</td>\n",
       "      <td>online-ds-ft-100719</td>\n",
       "      <td>Full Time</td>\n",
       "      <td>[(2020-03-31, )]</td>\n",
       "      <td>[Full Time]</td>\n",
       "      <td>[United States]</td>\n",
       "    </tr>\n",
       "    <tr>\n",
       "      <td>4</td>\n",
       "      <td>Douglas Steen</td>\n",
       "      <td>slack://user?team=learn-co&amp;id=Doug Steen</td>\n",
       "      <td>http://learn.co/douglaspsteen</td>\n",
       "      <td>http://github.com/douglaspsteen</td>\n",
       "      <td>mailto:douglaspsteen@gmail.com</td>\n",
       "      <td>https://learn.co/portfolio-projects/student-da...</td>\n",
       "      <td>https://learn.co/graduation/student-dashboard/...</td>\n",
       "      <td>James Irving</td>\n",
       "      <td>Dara Paoletti</td>\n",
       "      <td>12/21/19</td>\n",
       "      <td>...</td>\n",
       "      <td>10/07/19</td>\n",
       "      <td>Not currently</td>\n",
       "      <td>Data Science</td>\n",
       "      <td>11</td>\n",
       "      <td>3</td>\n",
       "      <td>online-ds-ft-100719</td>\n",
       "      <td>Full Time</td>\n",
       "      <td>[(2020-03-31, )]</td>\n",
       "      <td>[Full Time]</td>\n",
       "      <td>[Grapevine, Texas, United States]</td>\n",
       "    </tr>\n",
       "    <tr>\n",
       "      <td>5</td>\n",
       "      <td>Ice Asortse</td>\n",
       "      <td>slack://user?team=learn-co&amp;id=</td>\n",
       "      <td>http://learn.co/dantarshi</td>\n",
       "      <td>http://github.com/dantarshi</td>\n",
       "      <td>mailto:dantarshi@gmail.com</td>\n",
       "      <td>https://learn.co/portfolio-projects/student-da...</td>\n",
       "      <td>https://learn.co/graduation/student-dashboard/...</td>\n",
       "      <td>James Irving</td>\n",
       "      <td>Dara Paoletti</td>\n",
       "      <td>12/24/19</td>\n",
       "      <td>...</td>\n",
       "      <td>10/07/19</td>\n",
       "      <td>Not currently</td>\n",
       "      <td>Data Science</td>\n",
       "      <td>11</td>\n",
       "      <td>2</td>\n",
       "      <td>online-ds-ft-100719</td>\n",
       "      <td>Full Time</td>\n",
       "      <td>[(2020-03-31, )]</td>\n",
       "      <td>[Full Time]</td>\n",
       "      <td>[Pittsburgh, Pennsylvania, United States]</td>\n",
       "    </tr>\n",
       "    <tr>\n",
       "      <td>6</td>\n",
       "      <td>Jamaal Smith</td>\n",
       "      <td>slack://user?team=learn-co&amp;id=Jamaal Smith</td>\n",
       "      <td>http://learn.co/jdsmithwes</td>\n",
       "      <td>http://github.com/jdsmithwes</td>\n",
       "      <td>mailto:jdsmith1906@gmail.com</td>\n",
       "      <td>https://learn.co/portfolio-projects/student-da...</td>\n",
       "      <td>https://learn.co/graduation/student-dashboard/...</td>\n",
       "      <td>James Irving</td>\n",
       "      <td>Dara Paoletti</td>\n",
       "      <td>12/21/19</td>\n",
       "      <td>...</td>\n",
       "      <td>10/07/19</td>\n",
       "      <td>Not currently</td>\n",
       "      <td>Data Science</td>\n",
       "      <td>11</td>\n",
       "      <td>2</td>\n",
       "      <td>online-ds-ft-100719</td>\n",
       "      <td>Full Time</td>\n",
       "      <td>[]</td>\n",
       "      <td>[]</td>\n",
       "      <td>[]</td>\n",
       "    </tr>\n",
       "    <tr>\n",
       "      <td>7</td>\n",
       "      <td>John Kline</td>\n",
       "      <td>slack://user?team=learn-co&amp;id=John Kline</td>\n",
       "      <td>http://learn.co/katahdin28</td>\n",
       "      <td>http://github.com/katahdin28</td>\n",
       "      <td>mailto:johnmkline@gmail.com</td>\n",
       "      <td>https://learn.co/portfolio-projects/student-da...</td>\n",
       "      <td>https://learn.co/graduation/student-dashboard/...</td>\n",
       "      <td>James Irving</td>\n",
       "      <td>Dara Paoletti</td>\n",
       "      <td>12/19/19</td>\n",
       "      <td>...</td>\n",
       "      <td>10/07/19</td>\n",
       "      <td>Not currently</td>\n",
       "      <td>Data Science</td>\n",
       "      <td>11</td>\n",
       "      <td>1</td>\n",
       "      <td>online-ds-ft-100719</td>\n",
       "      <td>Full Time</td>\n",
       "      <td>[(2020-03-15, )]</td>\n",
       "      <td>[Full Time]</td>\n",
       "      <td>[United States]</td>\n",
       "    </tr>\n",
       "    <tr>\n",
       "      <td>8</td>\n",
       "      <td>John Lemaster</td>\n",
       "      <td>slack://user?team=learn-co&amp;id=John Lemaster</td>\n",
       "      <td>http://learn.co/lemaster1</td>\n",
       "      <td>http://github.com/lemaster1</td>\n",
       "      <td>mailto:heylemaster@gmail.com</td>\n",
       "      <td>https://learn.co/portfolio-projects/student-da...</td>\n",
       "      <td>https://learn.co/graduation/student-dashboard/...</td>\n",
       "      <td>James Irving</td>\n",
       "      <td>Dara Paoletti</td>\n",
       "      <td>12/24/19</td>\n",
       "      <td>...</td>\n",
       "      <td>10/10/19</td>\n",
       "      <td>Not currently</td>\n",
       "      <td>Data Science</td>\n",
       "      <td>11</td>\n",
       "      <td>2</td>\n",
       "      <td>online-ds-ft-100719</td>\n",
       "      <td>Full Time</td>\n",
       "      <td>[(2020-03-31, )]</td>\n",
       "      <td>[Full Time]</td>\n",
       "      <td>[Chicago, Illinois, United States]</td>\n",
       "    </tr>\n",
       "    <tr>\n",
       "      <td>9</td>\n",
       "      <td>John Ofrecio</td>\n",
       "      <td>slack://user?team=learn-co&amp;id=John Ofrecio</td>\n",
       "      <td>http://learn.co/jofrecio</td>\n",
       "      <td>http://github.com/jofrecio</td>\n",
       "      <td>mailto:john.ofrecio@gmail.com</td>\n",
       "      <td>https://learn.co/portfolio-projects/student-da...</td>\n",
       "      <td>https://learn.co/graduation/student-dashboard/...</td>\n",
       "      <td>James Irving</td>\n",
       "      <td>Dara Paoletti</td>\n",
       "      <td>12/16/19</td>\n",
       "      <td>...</td>\n",
       "      <td>10/07/19</td>\n",
       "      <td>Not currently</td>\n",
       "      <td>Data Science</td>\n",
       "      <td>11</td>\n",
       "      <td>2</td>\n",
       "      <td>online-ds-pt-100719</td>\n",
       "      <td>Part Time</td>\n",
       "      <td>[]</td>\n",
       "      <td>[Part Time]</td>\n",
       "      <td>[Rockville, Maryland, United States]</td>\n",
       "    </tr>\n",
       "    <tr>\n",
       "      <td>10</td>\n",
       "      <td>Melvin Gonzalez</td>\n",
       "      <td>slack://user?team=learn-co&amp;id=Melvin Gonzalez,...</td>\n",
       "      <td>http://learn.co/melvingonzalezjr</td>\n",
       "      <td>http://github.com/melvingonzalezjr</td>\n",
       "      <td>mailto:mgonzalez713@gmail.com</td>\n",
       "      <td>https://learn.co/portfolio-projects/student-da...</td>\n",
       "      <td>https://learn.co/graduation/student-dashboard/...</td>\n",
       "      <td>James Irving</td>\n",
       "      <td>Dara Paoletti</td>\n",
       "      <td>12/22/19</td>\n",
       "      <td>...</td>\n",
       "      <td>10/07/19</td>\n",
       "      <td>Not currently</td>\n",
       "      <td>Data Science</td>\n",
       "      <td>11</td>\n",
       "      <td>5</td>\n",
       "      <td>online-ds-ft-100719</td>\n",
       "      <td>Full Time</td>\n",
       "      <td>[(2020-01-31, )]</td>\n",
       "      <td>[Full Time]</td>\n",
       "      <td>[United States]</td>\n",
       "    </tr>\n",
       "    <tr>\n",
       "      <td>11</td>\n",
       "      <td>Michael Burak</td>\n",
       "      <td>slack://user?team=learn-co&amp;id=michaelburak(the...</td>\n",
       "      <td>http://learn.co/michaelburak</td>\n",
       "      <td>http://github.com/michaelburak</td>\n",
       "      <td>mailto:michaelrburak@gmail.com</td>\n",
       "      <td>https://learn.co/portfolio-projects/student-da...</td>\n",
       "      <td>https://learn.co/graduation/student-dashboard/...</td>\n",
       "      <td>[]</td>\n",
       "      <td>Dara Paoletti</td>\n",
       "      <td>12/23/19</td>\n",
       "      <td>...</td>\n",
       "      <td>10/07/19</td>\n",
       "      <td>Currently assigned</td>\n",
       "      <td>Pre</td>\n",
       "      <td>11</td>\n",
       "      <td>2</td>\n",
       "      <td>online-ds-pt-100719</td>\n",
       "      <td>Part Time</td>\n",
       "      <td>[(2020-08-31, )]</td>\n",
       "      <td>[Part Time]</td>\n",
       "      <td>[Boulder, Colorado, United States]</td>\n",
       "    </tr>\n",
       "    <tr>\n",
       "      <td>12</td>\n",
       "      <td>Ru Kein</td>\n",
       "      <td>slack://user?team=learn-co&amp;id=ru</td>\n",
       "      <td>http://learn.co/hakkeray</td>\n",
       "      <td>http://github.com/hakkeray</td>\n",
       "      <td>mailto:rukeine@gmail.com</td>\n",
       "      <td>https://learn.co/portfolio-projects/student-da...</td>\n",
       "      <td>https://learn.co/graduation/student-dashboard/...</td>\n",
       "      <td>James Irving</td>\n",
       "      <td>Dara Paoletti</td>\n",
       "      <td>12/20/19</td>\n",
       "      <td>...</td>\n",
       "      <td>10/07/19</td>\n",
       "      <td>Not currently</td>\n",
       "      <td>Data Science</td>\n",
       "      <td>11</td>\n",
       "      <td>2</td>\n",
       "      <td>online-ds-ft-100719</td>\n",
       "      <td>Full Time</td>\n",
       "      <td>[(2020-01-31, )]</td>\n",
       "      <td>[Full Time]</td>\n",
       "      <td>[Los Angeles, California, United States]</td>\n",
       "    </tr>\n",
       "    <tr>\n",
       "      <td>13</td>\n",
       "      <td>Susanna Han</td>\n",
       "      <td>slack://user?team=learn-co&amp;id=Susanna Han</td>\n",
       "      <td>http://learn.co/ohsusanna93</td>\n",
       "      <td>http://github.com/ohsusanna93</td>\n",
       "      <td>mailto:susanna.jihae.han@gmail.com</td>\n",
       "      <td>https://learn.co/portfolio-projects/student-da...</td>\n",
       "      <td>https://learn.co/graduation/student-dashboard/...</td>\n",
       "      <td>[]</td>\n",
       "      <td>Dara Paoletti</td>\n",
       "      <td>12/16/19</td>\n",
       "      <td>...</td>\n",
       "      <td>10/07/19</td>\n",
       "      <td>Not currently</td>\n",
       "      <td>Data Science</td>\n",
       "      <td>11</td>\n",
       "      <td>1</td>\n",
       "      <td>online-ds-pt-100719</td>\n",
       "      <td>Part Time</td>\n",
       "      <td>[]</td>\n",
       "      <td>[Full Time]</td>\n",
       "      <td>[Champaign, Illinois, United States]</td>\n",
       "    </tr>\n",
       "    <tr>\n",
       "      <td>14</td>\n",
       "      <td>Terry Ollila</td>\n",
       "      <td>slack://user?team=learn-co&amp;id=Terry Ollila</td>\n",
       "      <td>http://learn.co/terryollila</td>\n",
       "      <td>http://github.com/terryollila</td>\n",
       "      <td>mailto:terryollila@gmail.com</td>\n",
       "      <td>https://learn.co/portfolio-projects/student-da...</td>\n",
       "      <td>https://learn.co/graduation/student-dashboard/...</td>\n",
       "      <td>James Irving</td>\n",
       "      <td>Dara Paoletti</td>\n",
       "      <td>12/24/19</td>\n",
       "      <td>...</td>\n",
       "      <td>10/07/19</td>\n",
       "      <td>Not currently</td>\n",
       "      <td>Data Science</td>\n",
       "      <td>11</td>\n",
       "      <td>3</td>\n",
       "      <td>online-ds-ft-100719</td>\n",
       "      <td>Full Time</td>\n",
       "      <td>[(2020-03-31, )]</td>\n",
       "      <td>[Full Time]</td>\n",
       "      <td>[Louisville, Colorado, United States]</td>\n",
       "    </tr>\n",
       "  </tbody>\n",
       "</table>\n",
       "<p>15 rows × 21 columns</p>\n",
       "</div>"
      ],
      "text/plain": [
       "              index                                          slack_url  \\\n",
       "0     Acusio Bivona                     slack://user?team=learn-co&id=   \n",
       "1      Andrea Osika   slack://user?team=learn-co&id=andio (Andi Osika)   \n",
       "2     Darius Fuller            slack://user?team=learn-co&id=Darius F.   \n",
       "3      Devin Belden              slack://user?team=learn-co&id=Devin B   \n",
       "4     Douglas Steen           slack://user?team=learn-co&id=Doug Steen   \n",
       "5       Ice Asortse                     slack://user?team=learn-co&id=   \n",
       "6      Jamaal Smith         slack://user?team=learn-co&id=Jamaal Smith   \n",
       "7        John Kline           slack://user?team=learn-co&id=John Kline   \n",
       "8     John Lemaster        slack://user?team=learn-co&id=John Lemaster   \n",
       "9      John Ofrecio         slack://user?team=learn-co&id=John Ofrecio   \n",
       "10  Melvin Gonzalez  slack://user?team=learn-co&id=Melvin Gonzalez,...   \n",
       "11    Michael Burak  slack://user?team=learn-co&id=michaelburak(the...   \n",
       "12          Ru Kein                   slack://user?team=learn-co&id=ru   \n",
       "13      Susanna Han          slack://user?team=learn-co&id=Susanna Han   \n",
       "14     Terry Ollila         slack://user?team=learn-co&id=Terry Ollila   \n",
       "\n",
       "                           learn_url                          github_url  \\\n",
       "0          http://learn.co/coachcooz         http://github.com/coachcooz   \n",
       "1          http://learn.co/andiosika         http://github.com/andiosika   \n",
       "2          http://learn.co/dfuller22         http://github.com/dfuller22   \n",
       "3        http://learn.co/devinbelden       http://github.com/devinbelden   \n",
       "4      http://learn.co/douglaspsteen     http://github.com/douglaspsteen   \n",
       "5          http://learn.co/dantarshi         http://github.com/dantarshi   \n",
       "6         http://learn.co/jdsmithwes        http://github.com/jdsmithwes   \n",
       "7         http://learn.co/katahdin28        http://github.com/katahdin28   \n",
       "8          http://learn.co/lemaster1         http://github.com/lemaster1   \n",
       "9           http://learn.co/jofrecio          http://github.com/jofrecio   \n",
       "10  http://learn.co/melvingonzalezjr  http://github.com/melvingonzalezjr   \n",
       "11      http://learn.co/michaelburak      http://github.com/michaelburak   \n",
       "12          http://learn.co/hakkeray          http://github.com/hakkeray   \n",
       "13       http://learn.co/ohsusanna93       http://github.com/ohsusanna93   \n",
       "14       http://learn.co/terryollila       http://github.com/terryollila   \n",
       "\n",
       "                            mailto_url  \\\n",
       "0            mailto:acusio13@gmail.com   \n",
       "1           mailto:andiosika@gmail.com   \n",
       "2            mailto:d_full22@yahoo.com   \n",
       "3     mailto:devin.belden.28@gmail.com   \n",
       "4       mailto:douglaspsteen@gmail.com   \n",
       "5           mailto:dantarshi@gmail.com   \n",
       "6         mailto:jdsmith1906@gmail.com   \n",
       "7          mailto:johnmkline@gmail.com   \n",
       "8         mailto:heylemaster@gmail.com   \n",
       "9        mailto:john.ofrecio@gmail.com   \n",
       "10       mailto:mgonzalez713@gmail.com   \n",
       "11      mailto:michaelrburak@gmail.com   \n",
       "12            mailto:rukeine@gmail.com   \n",
       "13  mailto:susanna.jihae.han@gmail.com   \n",
       "14        mailto:terryollila@gmail.com   \n",
       "\n",
       "                                         projects_url  \\\n",
       "0   https://learn.co/portfolio-projects/student-da...   \n",
       "1   https://learn.co/portfolio-projects/student-da...   \n",
       "2   https://learn.co/portfolio-projects/student-da...   \n",
       "3   https://learn.co/portfolio-projects/student-da...   \n",
       "4   https://learn.co/portfolio-projects/student-da...   \n",
       "5   https://learn.co/portfolio-projects/student-da...   \n",
       "6   https://learn.co/portfolio-projects/student-da...   \n",
       "7   https://learn.co/portfolio-projects/student-da...   \n",
       "8   https://learn.co/portfolio-projects/student-da...   \n",
       "9   https://learn.co/portfolio-projects/student-da...   \n",
       "10  https://learn.co/portfolio-projects/student-da...   \n",
       "11  https://learn.co/portfolio-projects/student-da...   \n",
       "12  https://learn.co/portfolio-projects/student-da...   \n",
       "13  https://learn.co/portfolio-projects/student-da...   \n",
       "14  https://learn.co/portfolio-projects/student-da...   \n",
       "\n",
       "                                        grad_dash_url   cohort_lead  \\\n",
       "0   https://learn.co/graduation/student-dashboard/...  James Irving   \n",
       "1   https://learn.co/graduation/student-dashboard/...            []   \n",
       "2   https://learn.co/graduation/student-dashboard/...  James Irving   \n",
       "3   https://learn.co/graduation/student-dashboard/...  James Irving   \n",
       "4   https://learn.co/graduation/student-dashboard/...  James Irving   \n",
       "5   https://learn.co/graduation/student-dashboard/...  James Irving   \n",
       "6   https://learn.co/graduation/student-dashboard/...  James Irving   \n",
       "7   https://learn.co/graduation/student-dashboard/...  James Irving   \n",
       "8   https://learn.co/graduation/student-dashboard/...  James Irving   \n",
       "9   https://learn.co/graduation/student-dashboard/...  James Irving   \n",
       "10  https://learn.co/graduation/student-dashboard/...  James Irving   \n",
       "11  https://learn.co/graduation/student-dashboard/...            []   \n",
       "12  https://learn.co/graduation/student-dashboard/...  James Irving   \n",
       "13  https://learn.co/graduation/student-dashboard/...            []   \n",
       "14  https://learn.co/graduation/student-dashboard/...  James Irving   \n",
       "\n",
       "         ed_coach last_active  ...    joined        career_coach  \\\n",
       "0   Dara Paoletti    12/23/19  ...  10/07/19       Not currently   \n",
       "1   Dara Paoletti    12/23/19  ...  10/07/19       Not currently   \n",
       "2   Dara Paoletti    12/24/19  ...  10/07/19       Not currently   \n",
       "3   Dara Paoletti    12/20/19  ...  10/07/19       Not currently   \n",
       "4   Dara Paoletti    12/21/19  ...  10/07/19       Not currently   \n",
       "5   Dara Paoletti    12/24/19  ...  10/07/19       Not currently   \n",
       "6   Dara Paoletti    12/21/19  ...  10/07/19       Not currently   \n",
       "7   Dara Paoletti    12/19/19  ...  10/07/19       Not currently   \n",
       "8   Dara Paoletti    12/24/19  ...  10/10/19       Not currently   \n",
       "9   Dara Paoletti    12/16/19  ...  10/07/19       Not currently   \n",
       "10  Dara Paoletti    12/22/19  ...  10/07/19       Not currently   \n",
       "11  Dara Paoletti    12/23/19  ...  10/07/19  Currently assigned   \n",
       "12  Dara Paoletti    12/20/19  ...  10/07/19       Not currently   \n",
       "13  Dara Paoletti    12/16/19  ...  10/07/19       Not currently   \n",
       "14  Dara Paoletti    12/24/19  ...  10/07/19       Not currently   \n",
       "\n",
       "         section ed_coach_avail ed_coach_used               cohort     pacing  \\\n",
       "0   Data Science             11             3  online-ds-pt-100719  Part Time   \n",
       "1   Data Science             11             2  online-ds-pt-100719  Part Time   \n",
       "2   Data Science             11             2  online-ds-pt-100719  Part Time   \n",
       "3   Data Science             11             5  online-ds-ft-100719  Full Time   \n",
       "4   Data Science             11             3  online-ds-ft-100719  Full Time   \n",
       "5   Data Science             11             2  online-ds-ft-100719  Full Time   \n",
       "6   Data Science             11             2  online-ds-ft-100719  Full Time   \n",
       "7   Data Science             11             1  online-ds-ft-100719  Full Time   \n",
       "8   Data Science             11             2  online-ds-ft-100719  Full Time   \n",
       "9   Data Science             11             2  online-ds-pt-100719  Part Time   \n",
       "10  Data Science             11             5  online-ds-ft-100719  Full Time   \n",
       "11           Pre             11             2  online-ds-pt-100719  Part Time   \n",
       "12  Data Science             11             2  online-ds-ft-100719  Full Time   \n",
       "13  Data Science             11             1  online-ds-pt-100719  Part Time   \n",
       "14  Data Science             11             3  online-ds-ft-100719  Full Time   \n",
       "\n",
       "           grad_date commitment_level  \\\n",
       "0   [(2020-08-15, )]      [Part Time]   \n",
       "1                 []               []   \n",
       "2   [(2020-08-31, )]      [Part Time]   \n",
       "3   [(2020-03-31, )]      [Full Time]   \n",
       "4   [(2020-03-31, )]      [Full Time]   \n",
       "5   [(2020-03-31, )]      [Full Time]   \n",
       "6                 []               []   \n",
       "7   [(2020-03-15, )]      [Full Time]   \n",
       "8   [(2020-03-31, )]      [Full Time]   \n",
       "9                 []      [Part Time]   \n",
       "10  [(2020-01-31, )]      [Full Time]   \n",
       "11  [(2020-08-31, )]      [Part Time]   \n",
       "12  [(2020-01-31, )]      [Full Time]   \n",
       "13                []      [Full Time]   \n",
       "14  [(2020-03-31, )]      [Full Time]   \n",
       "\n",
       "                                     lives_in  \n",
       "0    [Los Angeles, California, United States]  \n",
       "1                                          []  \n",
       "2        [Seattle, Washington, United States]  \n",
       "3                             [United States]  \n",
       "4           [Grapevine, Texas, United States]  \n",
       "5   [Pittsburgh, Pennsylvania, United States]  \n",
       "6                                          []  \n",
       "7                             [United States]  \n",
       "8          [Chicago, Illinois, United States]  \n",
       "9        [Rockville, Maryland, United States]  \n",
       "10                            [United States]  \n",
       "11         [Boulder, Colorado, United States]  \n",
       "12   [Los Angeles, California, United States]  \n",
       "13       [Champaign, Illinois, United States]  \n",
       "14      [Louisville, Colorado, United States]  \n",
       "\n",
       "[15 rows x 21 columns]"
      ]
     },
     "execution_count": 89,
     "metadata": {},
     "output_type": "execute_result"
    }
   ],
   "source": [
    "df_students = df_test.T.copy()\n",
    "df_students.reset_index(inplace=True)\n",
    "df_students"
   ]
  },
  {
   "cell_type": "markdown",
   "metadata": {},
   "source": [
    "### i/o LOADING FULL DF_STUDENTS INFO"
   ]
  },
  {
   "cell_type": "code",
   "execution_count": 93,
   "metadata": {
    "ExecuteTime": {
     "end_time": "2019-12-24T17:19:26.812939Z",
     "start_time": "2019-12-24T17:19:26.779949Z"
    }
   },
   "outputs": [
    {
     "data": {
      "text/html": [
       "<div>\n",
       "<style scoped>\n",
       "    .dataframe tbody tr th:only-of-type {\n",
       "        vertical-align: middle;\n",
       "    }\n",
       "\n",
       "    .dataframe tbody tr th {\n",
       "        vertical-align: top;\n",
       "    }\n",
       "\n",
       "    .dataframe thead th {\n",
       "        text-align: right;\n",
       "    }\n",
       "</style>\n",
       "<table border=\"1\" class=\"dataframe\">\n",
       "  <thead>\n",
       "    <tr style=\"text-align: right;\">\n",
       "      <th></th>\n",
       "      <th>index</th>\n",
       "      <th>slack_url</th>\n",
       "      <th>learn_url</th>\n",
       "      <th>github_url</th>\n",
       "      <th>mailto_url</th>\n",
       "      <th>projects_url</th>\n",
       "      <th>grad_dash_url</th>\n",
       "      <th>cohort_lead</th>\n",
       "      <th>ed_coach</th>\n",
       "      <th>last_active</th>\n",
       "      <th>...</th>\n",
       "      <th>joined</th>\n",
       "      <th>career_coach</th>\n",
       "      <th>section</th>\n",
       "      <th>ed_coach_avail</th>\n",
       "      <th>ed_coach_used</th>\n",
       "      <th>cohort</th>\n",
       "      <th>pacing</th>\n",
       "      <th>grad_date</th>\n",
       "      <th>commitment_level</th>\n",
       "      <th>lives_in</th>\n",
       "    </tr>\n",
       "  </thead>\n",
       "  <tbody>\n",
       "    <tr>\n",
       "      <td>0</td>\n",
       "      <td>Acusio Bivona</td>\n",
       "      <td>slack://user?team=learn-co&amp;id=</td>\n",
       "      <td>http://learn.co/coachcooz</td>\n",
       "      <td>http://github.com/coachcooz</td>\n",
       "      <td>mailto:acusio13@gmail.com</td>\n",
       "      <td>https://learn.co/portfolio-projects/student-da...</td>\n",
       "      <td>https://learn.co/graduation/student-dashboard/...</td>\n",
       "      <td>James Irving</td>\n",
       "      <td>Dara Paoletti</td>\n",
       "      <td>12/23/19</td>\n",
       "      <td>...</td>\n",
       "      <td>10/07/19</td>\n",
       "      <td>Not currently</td>\n",
       "      <td>Data Science</td>\n",
       "      <td>11</td>\n",
       "      <td>3</td>\n",
       "      <td>online-ds-pt-100719</td>\n",
       "      <td>Part Time</td>\n",
       "      <td>[('2020-08-15', '')]</td>\n",
       "      <td>['Part Time']</td>\n",
       "      <td>['Los Angeles, California, United States']</td>\n",
       "    </tr>\n",
       "    <tr>\n",
       "      <td>1</td>\n",
       "      <td>Andrea Osika</td>\n",
       "      <td>slack://user?team=learn-co&amp;id=andio (Andi Osika)</td>\n",
       "      <td>http://learn.co/andiosika</td>\n",
       "      <td>http://github.com/andiosika</td>\n",
       "      <td>mailto:andiosika@gmail.com</td>\n",
       "      <td>https://learn.co/portfolio-projects/student-da...</td>\n",
       "      <td>https://learn.co/graduation/student-dashboard/...</td>\n",
       "      <td>[]</td>\n",
       "      <td>Dara Paoletti</td>\n",
       "      <td>12/23/19</td>\n",
       "      <td>...</td>\n",
       "      <td>10/07/19</td>\n",
       "      <td>Not currently</td>\n",
       "      <td>Data Science</td>\n",
       "      <td>11</td>\n",
       "      <td>2</td>\n",
       "      <td>online-ds-pt-100719</td>\n",
       "      <td>Part Time</td>\n",
       "      <td>[]</td>\n",
       "      <td>[]</td>\n",
       "      <td>[]</td>\n",
       "    </tr>\n",
       "    <tr>\n",
       "      <td>2</td>\n",
       "      <td>Darius Fuller</td>\n",
       "      <td>slack://user?team=learn-co&amp;id=Darius F.</td>\n",
       "      <td>http://learn.co/dfuller22</td>\n",
       "      <td>http://github.com/dfuller22</td>\n",
       "      <td>mailto:d_full22@yahoo.com</td>\n",
       "      <td>https://learn.co/portfolio-projects/student-da...</td>\n",
       "      <td>https://learn.co/graduation/student-dashboard/...</td>\n",
       "      <td>James Irving</td>\n",
       "      <td>Dara Paoletti</td>\n",
       "      <td>12/24/19</td>\n",
       "      <td>...</td>\n",
       "      <td>10/07/19</td>\n",
       "      <td>Not currently</td>\n",
       "      <td>Data Science</td>\n",
       "      <td>11</td>\n",
       "      <td>2</td>\n",
       "      <td>online-ds-pt-100719</td>\n",
       "      <td>Part Time</td>\n",
       "      <td>[('2020-08-31', '')]</td>\n",
       "      <td>['Part Time']</td>\n",
       "      <td>['Seattle, Washington, United States']</td>\n",
       "    </tr>\n",
       "    <tr>\n",
       "      <td>3</td>\n",
       "      <td>Devin Belden</td>\n",
       "      <td>slack://user?team=learn-co&amp;id=Devin B</td>\n",
       "      <td>http://learn.co/devinbelden</td>\n",
       "      <td>http://github.com/devinbelden</td>\n",
       "      <td>mailto:devin.belden.28@gmail.com</td>\n",
       "      <td>https://learn.co/portfolio-projects/student-da...</td>\n",
       "      <td>https://learn.co/graduation/student-dashboard/...</td>\n",
       "      <td>James Irving</td>\n",
       "      <td>Dara Paoletti</td>\n",
       "      <td>12/20/19</td>\n",
       "      <td>...</td>\n",
       "      <td>10/07/19</td>\n",
       "      <td>Not currently</td>\n",
       "      <td>Data Science</td>\n",
       "      <td>11</td>\n",
       "      <td>5</td>\n",
       "      <td>online-ds-ft-100719</td>\n",
       "      <td>Full Time</td>\n",
       "      <td>[('2020-03-31', '')]</td>\n",
       "      <td>['Full Time']</td>\n",
       "      <td>['United States']</td>\n",
       "    </tr>\n",
       "    <tr>\n",
       "      <td>4</td>\n",
       "      <td>Douglas Steen</td>\n",
       "      <td>slack://user?team=learn-co&amp;id=Doug Steen</td>\n",
       "      <td>http://learn.co/douglaspsteen</td>\n",
       "      <td>http://github.com/douglaspsteen</td>\n",
       "      <td>mailto:douglaspsteen@gmail.com</td>\n",
       "      <td>https://learn.co/portfolio-projects/student-da...</td>\n",
       "      <td>https://learn.co/graduation/student-dashboard/...</td>\n",
       "      <td>James Irving</td>\n",
       "      <td>Dara Paoletti</td>\n",
       "      <td>12/21/19</td>\n",
       "      <td>...</td>\n",
       "      <td>10/07/19</td>\n",
       "      <td>Not currently</td>\n",
       "      <td>Data Science</td>\n",
       "      <td>11</td>\n",
       "      <td>3</td>\n",
       "      <td>online-ds-ft-100719</td>\n",
       "      <td>Full Time</td>\n",
       "      <td>[('2020-03-31', '')]</td>\n",
       "      <td>['Full Time']</td>\n",
       "      <td>['Grapevine, Texas, United States']</td>\n",
       "    </tr>\n",
       "    <tr>\n",
       "      <td>5</td>\n",
       "      <td>Ice Asortse</td>\n",
       "      <td>slack://user?team=learn-co&amp;id=</td>\n",
       "      <td>http://learn.co/dantarshi</td>\n",
       "      <td>http://github.com/dantarshi</td>\n",
       "      <td>mailto:dantarshi@gmail.com</td>\n",
       "      <td>https://learn.co/portfolio-projects/student-da...</td>\n",
       "      <td>https://learn.co/graduation/student-dashboard/...</td>\n",
       "      <td>James Irving</td>\n",
       "      <td>Dara Paoletti</td>\n",
       "      <td>12/24/19</td>\n",
       "      <td>...</td>\n",
       "      <td>10/07/19</td>\n",
       "      <td>Not currently</td>\n",
       "      <td>Data Science</td>\n",
       "      <td>11</td>\n",
       "      <td>2</td>\n",
       "      <td>online-ds-ft-100719</td>\n",
       "      <td>Full Time</td>\n",
       "      <td>[('2020-03-31', '')]</td>\n",
       "      <td>['Full Time']</td>\n",
       "      <td>['Pittsburgh, Pennsylvania, United States']</td>\n",
       "    </tr>\n",
       "    <tr>\n",
       "      <td>6</td>\n",
       "      <td>Jamaal Smith</td>\n",
       "      <td>slack://user?team=learn-co&amp;id=Jamaal Smith</td>\n",
       "      <td>http://learn.co/jdsmithwes</td>\n",
       "      <td>http://github.com/jdsmithwes</td>\n",
       "      <td>mailto:jdsmith1906@gmail.com</td>\n",
       "      <td>https://learn.co/portfolio-projects/student-da...</td>\n",
       "      <td>https://learn.co/graduation/student-dashboard/...</td>\n",
       "      <td>James Irving</td>\n",
       "      <td>Dara Paoletti</td>\n",
       "      <td>12/21/19</td>\n",
       "      <td>...</td>\n",
       "      <td>10/07/19</td>\n",
       "      <td>Not currently</td>\n",
       "      <td>Data Science</td>\n",
       "      <td>11</td>\n",
       "      <td>2</td>\n",
       "      <td>online-ds-ft-100719</td>\n",
       "      <td>Full Time</td>\n",
       "      <td>[]</td>\n",
       "      <td>[]</td>\n",
       "      <td>[]</td>\n",
       "    </tr>\n",
       "    <tr>\n",
       "      <td>7</td>\n",
       "      <td>John Kline</td>\n",
       "      <td>slack://user?team=learn-co&amp;id=John Kline</td>\n",
       "      <td>http://learn.co/katahdin28</td>\n",
       "      <td>http://github.com/katahdin28</td>\n",
       "      <td>mailto:johnmkline@gmail.com</td>\n",
       "      <td>https://learn.co/portfolio-projects/student-da...</td>\n",
       "      <td>https://learn.co/graduation/student-dashboard/...</td>\n",
       "      <td>James Irving</td>\n",
       "      <td>Dara Paoletti</td>\n",
       "      <td>12/19/19</td>\n",
       "      <td>...</td>\n",
       "      <td>10/07/19</td>\n",
       "      <td>Not currently</td>\n",
       "      <td>Data Science</td>\n",
       "      <td>11</td>\n",
       "      <td>1</td>\n",
       "      <td>online-ds-ft-100719</td>\n",
       "      <td>Full Time</td>\n",
       "      <td>[('2020-03-15', '')]</td>\n",
       "      <td>['Full Time']</td>\n",
       "      <td>['United States']</td>\n",
       "    </tr>\n",
       "    <tr>\n",
       "      <td>8</td>\n",
       "      <td>John Lemaster</td>\n",
       "      <td>slack://user?team=learn-co&amp;id=John Lemaster</td>\n",
       "      <td>http://learn.co/lemaster1</td>\n",
       "      <td>http://github.com/lemaster1</td>\n",
       "      <td>mailto:heylemaster@gmail.com</td>\n",
       "      <td>https://learn.co/portfolio-projects/student-da...</td>\n",
       "      <td>https://learn.co/graduation/student-dashboard/...</td>\n",
       "      <td>James Irving</td>\n",
       "      <td>Dara Paoletti</td>\n",
       "      <td>12/24/19</td>\n",
       "      <td>...</td>\n",
       "      <td>10/10/19</td>\n",
       "      <td>Not currently</td>\n",
       "      <td>Data Science</td>\n",
       "      <td>11</td>\n",
       "      <td>2</td>\n",
       "      <td>online-ds-ft-100719</td>\n",
       "      <td>Full Time</td>\n",
       "      <td>[('2020-03-31', '')]</td>\n",
       "      <td>['Full Time']</td>\n",
       "      <td>['Chicago, Illinois, United States']</td>\n",
       "    </tr>\n",
       "    <tr>\n",
       "      <td>9</td>\n",
       "      <td>John Ofrecio</td>\n",
       "      <td>slack://user?team=learn-co&amp;id=John Ofrecio</td>\n",
       "      <td>http://learn.co/jofrecio</td>\n",
       "      <td>http://github.com/jofrecio</td>\n",
       "      <td>mailto:john.ofrecio@gmail.com</td>\n",
       "      <td>https://learn.co/portfolio-projects/student-da...</td>\n",
       "      <td>https://learn.co/graduation/student-dashboard/...</td>\n",
       "      <td>James Irving</td>\n",
       "      <td>Dara Paoletti</td>\n",
       "      <td>12/16/19</td>\n",
       "      <td>...</td>\n",
       "      <td>10/07/19</td>\n",
       "      <td>Not currently</td>\n",
       "      <td>Data Science</td>\n",
       "      <td>11</td>\n",
       "      <td>2</td>\n",
       "      <td>online-ds-pt-100719</td>\n",
       "      <td>Part Time</td>\n",
       "      <td>[]</td>\n",
       "      <td>['Part Time']</td>\n",
       "      <td>['Rockville, Maryland, United States']</td>\n",
       "    </tr>\n",
       "    <tr>\n",
       "      <td>10</td>\n",
       "      <td>Melvin Gonzalez</td>\n",
       "      <td>slack://user?team=learn-co&amp;id=Melvin Gonzalez,...</td>\n",
       "      <td>http://learn.co/melvingonzalezjr</td>\n",
       "      <td>http://github.com/melvingonzalezjr</td>\n",
       "      <td>mailto:mgonzalez713@gmail.com</td>\n",
       "      <td>https://learn.co/portfolio-projects/student-da...</td>\n",
       "      <td>https://learn.co/graduation/student-dashboard/...</td>\n",
       "      <td>James Irving</td>\n",
       "      <td>Dara Paoletti</td>\n",
       "      <td>12/22/19</td>\n",
       "      <td>...</td>\n",
       "      <td>10/07/19</td>\n",
       "      <td>Not currently</td>\n",
       "      <td>Data Science</td>\n",
       "      <td>11</td>\n",
       "      <td>5</td>\n",
       "      <td>online-ds-ft-100719</td>\n",
       "      <td>Full Time</td>\n",
       "      <td>[('2020-01-31', '')]</td>\n",
       "      <td>['Full Time']</td>\n",
       "      <td>['United States']</td>\n",
       "    </tr>\n",
       "    <tr>\n",
       "      <td>11</td>\n",
       "      <td>Michael Burak</td>\n",
       "      <td>slack://user?team=learn-co&amp;id=michaelburak(the...</td>\n",
       "      <td>http://learn.co/michaelburak</td>\n",
       "      <td>http://github.com/michaelburak</td>\n",
       "      <td>mailto:michaelrburak@gmail.com</td>\n",
       "      <td>https://learn.co/portfolio-projects/student-da...</td>\n",
       "      <td>https://learn.co/graduation/student-dashboard/...</td>\n",
       "      <td>[]</td>\n",
       "      <td>Dara Paoletti</td>\n",
       "      <td>12/23/19</td>\n",
       "      <td>...</td>\n",
       "      <td>10/07/19</td>\n",
       "      <td>Currently assigned</td>\n",
       "      <td>Pre</td>\n",
       "      <td>11</td>\n",
       "      <td>2</td>\n",
       "      <td>online-ds-pt-100719</td>\n",
       "      <td>Part Time</td>\n",
       "      <td>[('2020-08-31', '')]</td>\n",
       "      <td>['Part Time']</td>\n",
       "      <td>['Boulder, Colorado, United States']</td>\n",
       "    </tr>\n",
       "    <tr>\n",
       "      <td>12</td>\n",
       "      <td>Ru Kein</td>\n",
       "      <td>slack://user?team=learn-co&amp;id=ru</td>\n",
       "      <td>http://learn.co/hakkeray</td>\n",
       "      <td>http://github.com/hakkeray</td>\n",
       "      <td>mailto:rukeine@gmail.com</td>\n",
       "      <td>https://learn.co/portfolio-projects/student-da...</td>\n",
       "      <td>https://learn.co/graduation/student-dashboard/...</td>\n",
       "      <td>James Irving</td>\n",
       "      <td>Dara Paoletti</td>\n",
       "      <td>12/20/19</td>\n",
       "      <td>...</td>\n",
       "      <td>10/07/19</td>\n",
       "      <td>Not currently</td>\n",
       "      <td>Data Science</td>\n",
       "      <td>11</td>\n",
       "      <td>2</td>\n",
       "      <td>online-ds-ft-100719</td>\n",
       "      <td>Full Time</td>\n",
       "      <td>[('2020-01-31', '')]</td>\n",
       "      <td>['Full Time']</td>\n",
       "      <td>['Los Angeles, California, United States']</td>\n",
       "    </tr>\n",
       "    <tr>\n",
       "      <td>13</td>\n",
       "      <td>Susanna Han</td>\n",
       "      <td>slack://user?team=learn-co&amp;id=Susanna Han</td>\n",
       "      <td>http://learn.co/ohsusanna93</td>\n",
       "      <td>http://github.com/ohsusanna93</td>\n",
       "      <td>mailto:susanna.jihae.han@gmail.com</td>\n",
       "      <td>https://learn.co/portfolio-projects/student-da...</td>\n",
       "      <td>https://learn.co/graduation/student-dashboard/...</td>\n",
       "      <td>[]</td>\n",
       "      <td>Dara Paoletti</td>\n",
       "      <td>12/16/19</td>\n",
       "      <td>...</td>\n",
       "      <td>10/07/19</td>\n",
       "      <td>Not currently</td>\n",
       "      <td>Data Science</td>\n",
       "      <td>11</td>\n",
       "      <td>1</td>\n",
       "      <td>online-ds-pt-100719</td>\n",
       "      <td>Part Time</td>\n",
       "      <td>[]</td>\n",
       "      <td>['Full Time']</td>\n",
       "      <td>['Champaign, Illinois, United States']</td>\n",
       "    </tr>\n",
       "    <tr>\n",
       "      <td>14</td>\n",
       "      <td>Terry Ollila</td>\n",
       "      <td>slack://user?team=learn-co&amp;id=Terry Ollila</td>\n",
       "      <td>http://learn.co/terryollila</td>\n",
       "      <td>http://github.com/terryollila</td>\n",
       "      <td>mailto:terryollila@gmail.com</td>\n",
       "      <td>https://learn.co/portfolio-projects/student-da...</td>\n",
       "      <td>https://learn.co/graduation/student-dashboard/...</td>\n",
       "      <td>James Irving</td>\n",
       "      <td>Dara Paoletti</td>\n",
       "      <td>12/24/19</td>\n",
       "      <td>...</td>\n",
       "      <td>10/07/19</td>\n",
       "      <td>Not currently</td>\n",
       "      <td>Data Science</td>\n",
       "      <td>11</td>\n",
       "      <td>3</td>\n",
       "      <td>online-ds-ft-100719</td>\n",
       "      <td>Full Time</td>\n",
       "      <td>[('2020-03-31', '')]</td>\n",
       "      <td>['Full Time']</td>\n",
       "      <td>['Louisville, Colorado, United States']</td>\n",
       "    </tr>\n",
       "  </tbody>\n",
       "</table>\n",
       "<p>15 rows × 21 columns</p>\n",
       "</div>"
      ],
      "text/plain": [
       "              index                                          slack_url  \\\n",
       "0     Acusio Bivona                     slack://user?team=learn-co&id=   \n",
       "1      Andrea Osika   slack://user?team=learn-co&id=andio (Andi Osika)   \n",
       "2     Darius Fuller            slack://user?team=learn-co&id=Darius F.   \n",
       "3      Devin Belden              slack://user?team=learn-co&id=Devin B   \n",
       "4     Douglas Steen           slack://user?team=learn-co&id=Doug Steen   \n",
       "5       Ice Asortse                     slack://user?team=learn-co&id=   \n",
       "6      Jamaal Smith         slack://user?team=learn-co&id=Jamaal Smith   \n",
       "7        John Kline           slack://user?team=learn-co&id=John Kline   \n",
       "8     John Lemaster        slack://user?team=learn-co&id=John Lemaster   \n",
       "9      John Ofrecio         slack://user?team=learn-co&id=John Ofrecio   \n",
       "10  Melvin Gonzalez  slack://user?team=learn-co&id=Melvin Gonzalez,...   \n",
       "11    Michael Burak  slack://user?team=learn-co&id=michaelburak(the...   \n",
       "12          Ru Kein                   slack://user?team=learn-co&id=ru   \n",
       "13      Susanna Han          slack://user?team=learn-co&id=Susanna Han   \n",
       "14     Terry Ollila         slack://user?team=learn-co&id=Terry Ollila   \n",
       "\n",
       "                           learn_url                          github_url  \\\n",
       "0          http://learn.co/coachcooz         http://github.com/coachcooz   \n",
       "1          http://learn.co/andiosika         http://github.com/andiosika   \n",
       "2          http://learn.co/dfuller22         http://github.com/dfuller22   \n",
       "3        http://learn.co/devinbelden       http://github.com/devinbelden   \n",
       "4      http://learn.co/douglaspsteen     http://github.com/douglaspsteen   \n",
       "5          http://learn.co/dantarshi         http://github.com/dantarshi   \n",
       "6         http://learn.co/jdsmithwes        http://github.com/jdsmithwes   \n",
       "7         http://learn.co/katahdin28        http://github.com/katahdin28   \n",
       "8          http://learn.co/lemaster1         http://github.com/lemaster1   \n",
       "9           http://learn.co/jofrecio          http://github.com/jofrecio   \n",
       "10  http://learn.co/melvingonzalezjr  http://github.com/melvingonzalezjr   \n",
       "11      http://learn.co/michaelburak      http://github.com/michaelburak   \n",
       "12          http://learn.co/hakkeray          http://github.com/hakkeray   \n",
       "13       http://learn.co/ohsusanna93       http://github.com/ohsusanna93   \n",
       "14       http://learn.co/terryollila       http://github.com/terryollila   \n",
       "\n",
       "                            mailto_url  \\\n",
       "0            mailto:acusio13@gmail.com   \n",
       "1           mailto:andiosika@gmail.com   \n",
       "2            mailto:d_full22@yahoo.com   \n",
       "3     mailto:devin.belden.28@gmail.com   \n",
       "4       mailto:douglaspsteen@gmail.com   \n",
       "5           mailto:dantarshi@gmail.com   \n",
       "6         mailto:jdsmith1906@gmail.com   \n",
       "7          mailto:johnmkline@gmail.com   \n",
       "8         mailto:heylemaster@gmail.com   \n",
       "9        mailto:john.ofrecio@gmail.com   \n",
       "10       mailto:mgonzalez713@gmail.com   \n",
       "11      mailto:michaelrburak@gmail.com   \n",
       "12            mailto:rukeine@gmail.com   \n",
       "13  mailto:susanna.jihae.han@gmail.com   \n",
       "14        mailto:terryollila@gmail.com   \n",
       "\n",
       "                                         projects_url  \\\n",
       "0   https://learn.co/portfolio-projects/student-da...   \n",
       "1   https://learn.co/portfolio-projects/student-da...   \n",
       "2   https://learn.co/portfolio-projects/student-da...   \n",
       "3   https://learn.co/portfolio-projects/student-da...   \n",
       "4   https://learn.co/portfolio-projects/student-da...   \n",
       "5   https://learn.co/portfolio-projects/student-da...   \n",
       "6   https://learn.co/portfolio-projects/student-da...   \n",
       "7   https://learn.co/portfolio-projects/student-da...   \n",
       "8   https://learn.co/portfolio-projects/student-da...   \n",
       "9   https://learn.co/portfolio-projects/student-da...   \n",
       "10  https://learn.co/portfolio-projects/student-da...   \n",
       "11  https://learn.co/portfolio-projects/student-da...   \n",
       "12  https://learn.co/portfolio-projects/student-da...   \n",
       "13  https://learn.co/portfolio-projects/student-da...   \n",
       "14  https://learn.co/portfolio-projects/student-da...   \n",
       "\n",
       "                                        grad_dash_url   cohort_lead  \\\n",
       "0   https://learn.co/graduation/student-dashboard/...  James Irving   \n",
       "1   https://learn.co/graduation/student-dashboard/...            []   \n",
       "2   https://learn.co/graduation/student-dashboard/...  James Irving   \n",
       "3   https://learn.co/graduation/student-dashboard/...  James Irving   \n",
       "4   https://learn.co/graduation/student-dashboard/...  James Irving   \n",
       "5   https://learn.co/graduation/student-dashboard/...  James Irving   \n",
       "6   https://learn.co/graduation/student-dashboard/...  James Irving   \n",
       "7   https://learn.co/graduation/student-dashboard/...  James Irving   \n",
       "8   https://learn.co/graduation/student-dashboard/...  James Irving   \n",
       "9   https://learn.co/graduation/student-dashboard/...  James Irving   \n",
       "10  https://learn.co/graduation/student-dashboard/...  James Irving   \n",
       "11  https://learn.co/graduation/student-dashboard/...            []   \n",
       "12  https://learn.co/graduation/student-dashboard/...  James Irving   \n",
       "13  https://learn.co/graduation/student-dashboard/...            []   \n",
       "14  https://learn.co/graduation/student-dashboard/...  James Irving   \n",
       "\n",
       "         ed_coach last_active  ...    joined        career_coach  \\\n",
       "0   Dara Paoletti    12/23/19  ...  10/07/19       Not currently   \n",
       "1   Dara Paoletti    12/23/19  ...  10/07/19       Not currently   \n",
       "2   Dara Paoletti    12/24/19  ...  10/07/19       Not currently   \n",
       "3   Dara Paoletti    12/20/19  ...  10/07/19       Not currently   \n",
       "4   Dara Paoletti    12/21/19  ...  10/07/19       Not currently   \n",
       "5   Dara Paoletti    12/24/19  ...  10/07/19       Not currently   \n",
       "6   Dara Paoletti    12/21/19  ...  10/07/19       Not currently   \n",
       "7   Dara Paoletti    12/19/19  ...  10/07/19       Not currently   \n",
       "8   Dara Paoletti    12/24/19  ...  10/10/19       Not currently   \n",
       "9   Dara Paoletti    12/16/19  ...  10/07/19       Not currently   \n",
       "10  Dara Paoletti    12/22/19  ...  10/07/19       Not currently   \n",
       "11  Dara Paoletti    12/23/19  ...  10/07/19  Currently assigned   \n",
       "12  Dara Paoletti    12/20/19  ...  10/07/19       Not currently   \n",
       "13  Dara Paoletti    12/16/19  ...  10/07/19       Not currently   \n",
       "14  Dara Paoletti    12/24/19  ...  10/07/19       Not currently   \n",
       "\n",
       "         section ed_coach_avail  ed_coach_used               cohort  \\\n",
       "0   Data Science             11              3  online-ds-pt-100719   \n",
       "1   Data Science             11              2  online-ds-pt-100719   \n",
       "2   Data Science             11              2  online-ds-pt-100719   \n",
       "3   Data Science             11              5  online-ds-ft-100719   \n",
       "4   Data Science             11              3  online-ds-ft-100719   \n",
       "5   Data Science             11              2  online-ds-ft-100719   \n",
       "6   Data Science             11              2  online-ds-ft-100719   \n",
       "7   Data Science             11              1  online-ds-ft-100719   \n",
       "8   Data Science             11              2  online-ds-ft-100719   \n",
       "9   Data Science             11              2  online-ds-pt-100719   \n",
       "10  Data Science             11              5  online-ds-ft-100719   \n",
       "11           Pre             11              2  online-ds-pt-100719   \n",
       "12  Data Science             11              2  online-ds-ft-100719   \n",
       "13  Data Science             11              1  online-ds-pt-100719   \n",
       "14  Data Science             11              3  online-ds-ft-100719   \n",
       "\n",
       "       pacing             grad_date commitment_level  \\\n",
       "0   Part Time  [('2020-08-15', '')]    ['Part Time']   \n",
       "1   Part Time                    []               []   \n",
       "2   Part Time  [('2020-08-31', '')]    ['Part Time']   \n",
       "3   Full Time  [('2020-03-31', '')]    ['Full Time']   \n",
       "4   Full Time  [('2020-03-31', '')]    ['Full Time']   \n",
       "5   Full Time  [('2020-03-31', '')]    ['Full Time']   \n",
       "6   Full Time                    []               []   \n",
       "7   Full Time  [('2020-03-15', '')]    ['Full Time']   \n",
       "8   Full Time  [('2020-03-31', '')]    ['Full Time']   \n",
       "9   Part Time                    []    ['Part Time']   \n",
       "10  Full Time  [('2020-01-31', '')]    ['Full Time']   \n",
       "11  Part Time  [('2020-08-31', '')]    ['Part Time']   \n",
       "12  Full Time  [('2020-01-31', '')]    ['Full Time']   \n",
       "13  Part Time                    []    ['Full Time']   \n",
       "14  Full Time  [('2020-03-31', '')]    ['Full Time']   \n",
       "\n",
       "                                       lives_in  \n",
       "0    ['Los Angeles, California, United States']  \n",
       "1                                            []  \n",
       "2        ['Seattle, Washington, United States']  \n",
       "3                             ['United States']  \n",
       "4           ['Grapevine, Texas, United States']  \n",
       "5   ['Pittsburgh, Pennsylvania, United States']  \n",
       "6                                            []  \n",
       "7                             ['United States']  \n",
       "8          ['Chicago, Illinois, United States']  \n",
       "9        ['Rockville, Maryland, United States']  \n",
       "10                            ['United States']  \n",
       "11         ['Boulder, Colorado, United States']  \n",
       "12   ['Los Angeles, California, United States']  \n",
       "13       ['Champaign, Illinois, United States']  \n",
       "14      ['Louisville, Colorado, United States']  \n",
       "\n",
       "[15 rows x 21 columns]"
      ]
     },
     "execution_count": 93,
     "metadata": {},
     "output_type": "execute_result"
    }
   ],
   "source": [
    "# df_students.to_csv('df_students_full_info.csv')\n",
    "df_students=pd.read_csv('df_students_full_info.csv',\n",
    "                       index_col=0)\n",
    "df_students"
   ]
  },
  {
   "cell_type": "markdown",
   "metadata": {},
   "source": [
    "# 📓BOOKMARK: JAMES "
   ]
  },
  {
   "cell_type": "markdown",
   "metadata": {},
   "source": [
    "- [ ] Scraping progress from learn.co profiles. (12/24/19 12:30pm)"
   ]
  },
  {
   "cell_type": "code",
   "execution_count": 103,
   "metadata": {
    "ExecuteTime": {
     "end_time": "2019-12-24T17:27:38.012715Z",
     "start_time": "2019-12-24T17:27:38.007203Z"
    }
   },
   "outputs": [
    {
     "name": "stdout",
     "output_type": "stream",
     "text": [
      "------------------------------------------------------------------------------------\n",
      "------ HELP ------------------------------------------------------------------------\n",
      "\n",
      "Help on function github_login in module learn_scrape:\n",
      "\n",
      "github_login(driver, login_data=None)\n",
      "    Logs into GitHub Account (for instruction.learn)\n",
      "    url = 'https://instruction.learn.co/staff/students'\n",
      "\n",
      "------------------------------------------------------------------------------------\n",
      "------ SOURCE ----------------------------------------------------------------------\n"
     ]
    },
    {
     "data": {
      "text/markdown": [
       "```python\n",
       "def github_login(driver,login_data=None):\n",
       "    \"\"\"Logs into GitHub Account (for instruction.learn)\n",
       "    url = 'https://instruction.learn.co/staff/students'\n",
       "    \"\"\"\n",
       "    if login_data is None:\n",
       "        login_data= load_login_data()\n",
       "        \n",
       "    username = driver.find_element_by_xpath('//*[@id=\"login_field\"]')\n",
       "    username.send_keys(login_data['username'])\n",
       "\n",
       "    password = driver.find_element_by_xpath('//*[@id=\"password\"]')\n",
       "    password.send_keys(login_data['password'])\n",
       "\n",
       "    sign_in = driver.find_element_by_xpath('//*[@id=\"login\"]/form/div[2]/input[8]')\n",
       "    sign_in.click()\n",
       "\n",
       "```"
      ],
      "text/plain": [
       "<IPython.core.display.Markdown object>"
      ]
     },
     "metadata": {},
     "output_type": "display_data"
    }
   ],
   "source": [
    "fs.ihelp(ls.github_login)"
   ]
  },
  {
   "cell_type": "markdown",
   "metadata": {},
   "source": [
    "### Finding more flexible way of finding login fields"
   ]
  },
  {
   "cell_type": "code",
   "execution_count": 106,
   "metadata": {
    "ExecuteTime": {
     "end_time": "2019-12-24T17:29:30.286364Z",
     "start_time": "2019-12-24T17:29:30.270219Z"
    }
   },
   "outputs": [
    {
     "data": {
      "text/plain": [
       "[<input name=\"utf8\" type=\"hidden\" value=\"✓\"/>,\n",
       " <input name=\"authenticity_token\" type=\"hidden\" value=\"tJrojhvyoXQR8S/lRNFWSDOTBZ1IW/bDBEeeKXBqqRaN3xeSOKr8G1tS4BFSRE7DpW6zBjtn+Pvs/LOXtNvB4A==\"/>,\n",
       " <input class=\"input__field\" id=\"user-email\" name=\"user[email]\" required=\"required\" type=\"email\"/>,\n",
       " <input class=\"input__field\" id=\"user-password\" name=\"user[password]\" required=\"required\" type=\"password\"/>,\n",
       " <input class=\"button button--color-blue button--text-transform-none button--layout-block button--corners-tight\" name=\"commit\" type=\"submit\" value=\"Sign in\"/>]"
      ]
     },
     "execution_count": 106,
     "metadata": {},
     "output_type": "execute_result"
    }
   ],
   "source": [
    "login_soup = BeautifulSoup(driver.page_source)\n",
    "login_soup.find_all('input')"
   ]
  },
  {
   "cell_type": "code",
   "execution_count": 111,
   "metadata": {
    "ExecuteTime": {
     "end_time": "2019-12-24T17:31:51.707645Z",
     "start_time": "2019-12-24T17:31:51.606022Z"
    }
   },
   "outputs": [],
   "source": [
    "# user_email = driver.find_element_by_id('user-email')\n",
    "# user_email.click()\n",
    "# user_email.send_keys(login_info['username'])"
   ]
  },
  {
   "cell_type": "code",
   "execution_count": 112,
   "metadata": {
    "ExecuteTime": {
     "end_time": "2019-12-24T17:32:39.963744Z",
     "start_time": "2019-12-24T17:32:39.868438Z"
    }
   },
   "outputs": [],
   "source": [
    "# user_password = driver.find_element_by_id('user-password')\n",
    "# user_password.click()\n",
    "# user_password.send_keys(login_info['password'])"
   ]
  },
  {
   "cell_type": "code",
   "execution_count": 115,
   "metadata": {
    "ExecuteTime": {
     "end_time": "2019-12-24T17:34:15.867268Z",
     "start_time": "2019-12-24T17:34:15.797442Z"
    }
   },
   "outputs": [],
   "source": [
    "# submit = driver.find_element_by_xpath('//*[@id=\"js--region-main\"]/div/div[1]/div/div/div[4]/form/div/div[5]/input')\n",
    "# submit.click()"
   ]
  },
  {
   "cell_type": "code",
   "execution_count": 116,
   "metadata": {
    "ExecuteTime": {
     "end_time": "2019-12-24T17:34:55.958477Z",
     "start_time": "2019-12-24T17:34:55.956376Z"
    }
   },
   "outputs": [],
   "source": [
    "# import learn_scrape as ls\n",
    "# login_info = ls.load_login_data()\n",
    "# ls.github_login(driver,login_info)"
   ]
  },
  {
   "cell_type": "code",
   "execution_count": 94,
   "metadata": {
    "ExecuteTime": {
     "end_time": "2019-12-24T17:24:03.737553Z",
     "start_time": "2019-12-24T17:24:03.322311Z"
    }
   },
   "outputs": [],
   "source": [
    "from plotly import express as px\n",
    "import plotly.graph_objects as go"
   ]
  },
  {
   "cell_type": "code",
   "execution_count": 117,
   "metadata": {
    "ExecuteTime": {
     "end_time": "2019-12-24T17:34:59.061986Z",
     "start_time": "2019-12-24T17:34:59.058230Z"
    }
   },
   "outputs": [
    {
     "data": {
      "text/plain": [
       "'http://learn.co/dfuller22'"
      ]
     },
     "execution_count": 117,
     "metadata": {},
     "output_type": "execute_result"
    }
   ],
   "source": [
    "test_url = df_students['learn_url'].iloc[2]\n",
    "test_url"
   ]
  },
  {
   "cell_type": "code",
   "execution_count": 118,
   "metadata": {
    "ExecuteTime": {
     "end_time": "2019-12-24T17:35:06.357694Z",
     "start_time": "2019-12-24T17:35:00.601132Z"
    }
   },
   "outputs": [],
   "source": [
    "driver.get(test_url)"
   ]
  },
  {
   "cell_type": "code",
   "execution_count": null,
   "metadata": {},
   "outputs": [],
   "source": []
  },
  {
   "cell_type": "code",
   "execution_count": null,
   "metadata": {},
   "outputs": [],
   "source": []
  },
  {
   "cell_type": "markdown",
   "metadata": {},
   "source": [
    "# PRIOR SECTIONS:"
   ]
  },
  {
   "cell_type": "markdown",
   "metadata": {},
   "source": [
    "### Alternative Since can't get program url via Jeff's ` 'uk-card-title uk-margin-remove-bottom'`"
   ]
  },
  {
   "cell_type": "code",
   "execution_count": null,
   "metadata": {
    "ExecuteTime": {
     "end_time": "2019-12-23T18:04:16.074248Z",
     "start_time": "2019-12-23T18:04:16.066344Z"
    }
   },
   "outputs": [],
   "source": [
    "tag = test_soup.find('div',attrs={'class':'uk-card-body'})\n",
    "student_info = tag.text\n",
    "student_info"
   ]
  },
  {
   "cell_type": "markdown",
   "metadata": {},
   "source": [
    "\n",
    "### Using regex to capture fields from student_info\n"
   ]
  },
  {
   "cell_type": "markdown",
   "metadata": {},
   "source": [
    "### Example usage of James' functions"
   ]
  },
  {
   "cell_type": "code",
   "execution_count": null,
   "metadata": {
    "ExecuteTime": {
     "end_time": "2019-12-23T18:34:16.700636Z",
     "start_time": "2019-12-23T18:34:15.208263Z"
    }
   },
   "outputs": [],
   "source": [
    "test_url = df['full_url'].iloc[0]\n",
    "student_info = get_student_info_from_full_url(test_url)\n",
    "student_dict = get_student_dict_from_student_info(student_info)\n",
    "student_dict"
   ]
  },
  {
   "cell_type": "markdown",
   "metadata": {},
   "source": [
    "## 📓BOOKMARK FOR JAMES & JEFF\n",
    "- Understanding what info Jeff's functions grabs vs info that my functions grab and how to marry the 2"
   ]
  },
  {
   "cell_type": "code",
   "execution_count": null,
   "metadata": {
    "ExecuteTime": {
     "end_time": "2019-12-23T18:36:30.248807Z",
     "start_time": "2019-12-23T18:36:26.793501Z"
    }
   },
   "outputs": [],
   "source": [
    "## JEFF's FUCNTION'\n",
    "def get_info_full_url(full_url):\n",
    "#     driver.get('https://instruction.learn.co' + url_part2)\n",
    "    driver.get(full_url)\n",
    "    time.sleep(2)\n",
    "    \n",
    "    my_html = driver.page_source\n",
    "    soup = BeautifulSoup(my_html, 'html.parser')\n",
    "    \n",
    "    ## Targeting the Red box on instruct.learn profile\n",
    "    program = soup.findAll('h3', class_ = 'uk-card-title uk-margin-remove-bottom')[1].text.strip()\n",
    "\n",
    "    ## Searched for text in div's with uk-card-body class\n",
    "    start_ed_coach = soup.findAll('div', class_ = 'uk-card-body')[1].text.find('Educational')\n",
    "    stop_ed_coach = soup.findAll('div', class_ = 'uk-card-body')[1].text.find('Maximum')\n",
    "    my_str = soup.findAll('div', class_ = 'uk-card-body')[1].text[start_ed_coach:stop_ed_coach]\n",
    "    ed_coach_taken = [int(s) for s in my_str.split() if s.isdigit()][0]\n",
    "    try:\n",
    "        ed_coach_avail = [int(s) for s in my_str.split() if s.isdigit()][1]\n",
    "    except IndexError:\n",
    "        ed_coach_avail = ''\n",
    "    cohort = soup.findAll('div', class_ = 'uk-card-body')[1].findAll('div')[0].text\n",
    "    pacing = soup.findAll('div', class_ = 'uk-card-body')[1].findAll('div')[1].text\n",
    "    try:\n",
    "        past_cohorts = soup.findAll('div', class_ = 'uk-card-body')[1].findAll('div')[2].text\n",
    "    except IndexError:\n",
    "        past_cohorts = ''\n",
    "    learn_link = soup.find('div', class_ = 'custom-badges').findAll('a', class_ = 'custom-badge-icon')[1]['href']\n",
    "    \n",
    "    ##James's return\n",
    "    student_dict = dict( ed_coach_taken=ed_coach_taken,\n",
    "                        ed_coach_avail = ed_coach_avail,\n",
    "                        cohort = cohort,\n",
    "                        pacing=pacing,\n",
    "                        past_cohorts=past_cohorts,\n",
    "                        learn_link=learn_link)\n",
    "    return student_dict\n",
    "    ### Jeff's Return:\n",
    "#     return program, ed_coach_taken, ed_coach_avail, cohort, pacing, past_cohorts, learn_link\n",
    "\n",
    "test_dict =  get_info_full_url(test_link)"
   ]
  },
  {
   "cell_type": "code",
   "execution_count": null,
   "metadata": {
    "ExecuteTime": {
     "end_time": "2019-12-23T18:36:34.269661Z",
     "start_time": "2019-12-23T18:36:34.266245Z"
    }
   },
   "outputs": [],
   "source": [
    "test_dict"
   ]
  },
  {
   "cell_type": "markdown",
   "metadata": {},
   "source": [
    "### Got up to Scraping Program from student's instruct page"
   ]
  },
  {
   "cell_type": "code",
   "execution_count": null,
   "metadata": {
    "ExecuteTime": {
     "end_time": "2019-12-23T18:21:12.266837Z",
     "start_time": "2019-12-23T18:21:12.264697Z"
    }
   },
   "outputs": [],
   "source": [
    "# test_soup.find('a')"
   ]
  },
  {
   "cell_type": "code",
   "execution_count": null,
   "metadata": {
    "ExecuteTime": {
     "end_time": "2019-12-23T18:21:14.779949Z",
     "start_time": "2019-12-23T18:21:14.777761Z"
    }
   },
   "outputs": [],
   "source": [
    "# res = test_soup.findall('a')"
   ]
  },
  {
   "cell_type": "markdown",
   "metadata": {},
   "source": [
    "# Jeff's Original Code:"
   ]
  },
  {
   "cell_type": "markdown",
   "metadata": {
    "heading_collapsed": true
   },
   "source": [
    "## Cancelled students (JH)"
   ]
  },
  {
   "cell_type": "code",
   "execution_count": null,
   "metadata": {
    "hidden": true
   },
   "outputs": [],
   "source": [
    "# # cancelled students\n",
    "# canceled = driver.find_element_by_xpath('//*[@id=\"student-index-card\"]/h2[2]')\n",
    "# canceled.click()"
   ]
  },
  {
   "cell_type": "code",
   "execution_count": null,
   "metadata": {
    "hidden": true
   },
   "outputs": [],
   "source": [
    "# # grab canceled students\n",
    "# my_html = driver.page_source\n",
    "# soup = BeautifulSoup(my_html, 'html.parser')"
   ]
  },
  {
   "cell_type": "code",
   "execution_count": null,
   "metadata": {
    "ExecuteTime": {
     "end_time": "2019-12-23T17:40:23.789296Z",
     "start_time": "2019-12-23T17:40:23.787081Z"
    },
    "hidden": true
   },
   "outputs": [],
   "source": [
    "# canceled_url = []\n",
    "# canceled_name = []\n",
    "# for x in soup.find(id = 'js-students-cancelled').find_all('a'):\n",
    "#     print(x['href'] + ' - ' + x.text)\n",
    "#     canceled_url.append(x['href'])\n",
    "#     canceled_name.append(x.text)"
   ]
  },
  {
   "cell_type": "code",
   "execution_count": null,
   "metadata": {
    "ExecuteTime": {
     "end_time": "2019-12-23T17:43:36.448242Z",
     "start_time": "2019-12-23T17:43:36.446168Z"
    },
    "hidden": true
   },
   "outputs": [],
   "source": [
    "# canceled_df = pd.DataFrame({'name': canceled_name,\n",
    "#                             'url': canceled_url})"
   ]
  },
  {
   "cell_type": "code",
   "execution_count": null,
   "metadata": {
    "ExecuteTime": {
     "end_time": "2019-12-23T17:43:38.643246Z",
     "start_time": "2019-12-23T17:43:38.641188Z"
    },
    "hidden": true
   },
   "outputs": [],
   "source": [
    "# canceled_df.head()"
   ]
  },
  {
   "cell_type": "markdown",
   "metadata": {
    "heading_collapsed": true
   },
   "source": [
    "## Graduated Students"
   ]
  },
  {
   "cell_type": "code",
   "execution_count": null,
   "metadata": {
    "ExecuteTime": {
     "end_time": "2019-12-23T17:43:55.452669Z",
     "start_time": "2019-12-23T17:43:55.450491Z"
    },
    "hidden": true
   },
   "outputs": [],
   "source": [
    "# soup.find(id = 'js-students-graduated').find_all('a')"
   ]
  },
  {
   "cell_type": "code",
   "execution_count": null,
   "metadata": {
    "ExecuteTime": {
     "end_time": "2019-12-23T17:43:58.012478Z",
     "start_time": "2019-12-23T17:43:58.010382Z"
    },
    "hidden": true
   },
   "outputs": [],
   "source": [
    "# graduated_url = []\n",
    "# graduated_name = []\n",
    "# for x in soup.find(id = 'js-students-graduated').find_all('a'):\n",
    "#     print(x['href'] + ' - ' + x.text)\n",
    "#     graduated_url.append(x['href'])\n",
    "#     graduated_name.append(x.text)"
   ]
  },
  {
   "cell_type": "code",
   "execution_count": null,
   "metadata": {
    "ExecuteTime": {
     "end_time": "2019-12-23T17:44:00.331794Z",
     "start_time": "2019-12-23T17:44:00.329784Z"
    },
    "hidden": true
   },
   "outputs": [],
   "source": [
    "# graduated_df = pd.DataFrame({'name': graduated_name,\n",
    "#                             'url': graduated_url})"
   ]
  },
  {
   "cell_type": "code",
   "execution_count": null,
   "metadata": {
    "ExecuteTime": {
     "end_time": "2019-12-23T17:44:02.928533Z",
     "start_time": "2019-12-23T17:44:02.926436Z"
    },
    "hidden": true
   },
   "outputs": [],
   "source": [
    "# graduated_df.head()"
   ]
  },
  {
   "cell_type": "markdown",
   "metadata": {},
   "source": [
    "## Further Processing Cancelled Students"
   ]
  },
  {
   "cell_type": "code",
   "execution_count": null,
   "metadata": {},
   "outputs": [],
   "source": [
    "canceled_df.head()"
   ]
  },
  {
   "cell_type": "code",
   "execution_count": null,
   "metadata": {},
   "outputs": [],
   "source": [
    "canceled_df.loc[0, 'url']"
   ]
  },
  {
   "cell_type": "code",
   "execution_count": null,
   "metadata": {},
   "outputs": [],
   "source": [
    "https://instruction.learn.co/staff/students/siguy12"
   ]
  },
  {
   "cell_type": "markdown",
   "metadata": {},
   "source": [
    "### Making absolute URLS"
   ]
  },
  {
   "cell_type": "code",
   "execution_count": null,
   "metadata": {},
   "outputs": [],
   "source": [
    "'https://instructor.learn.co' + canceled_df.loc[0, 'url']"
   ]
  },
  {
   "cell_type": "code",
   "execution_count": null,
   "metadata": {},
   "outputs": [],
   "source": [
    "driver.get('https://instruction.learn.co/' + canceled_df.loc[0, 'url'])"
   ]
  },
  {
   "cell_type": "markdown",
   "metadata": {},
   "source": [
    "### grab program, pacing, past_cohorts, learn.co url"
   ]
  },
  {
   "cell_type": "code",
   "execution_count": null,
   "metadata": {},
   "outputs": [],
   "source": [
    "my_html = driver.page_source\n",
    "soup = BeautifulSoup(my_html, 'html.parser')"
   ]
  },
  {
   "cell_type": "code",
   "execution_count": null,
   "metadata": {
    "ExecuteTime": {
     "end_time": "2019-12-23T17:55:19.941479Z",
     "start_time": "2019-12-23T17:55:19.768662Z"
    }
   },
   "outputs": [],
   "source": [
    "# program\n",
    "soup.findAll('h3', class_ = 'uk-card-title uk-margin-remove-bottom')[1].text.strip()"
   ]
  },
  {
   "cell_type": "code",
   "execution_count": null,
   "metadata": {},
   "outputs": [],
   "source": [
    "# ed coach check ins \n",
    "soup.findAll('div', class_ = 'uk-card-body')[1]"
   ]
  },
  {
   "cell_type": "code",
   "execution_count": null,
   "metadata": {},
   "outputs": [],
   "source": [
    "soup.findAll('div', class_ = 'uk-card-body')[1].findAll('div')"
   ]
  },
  {
   "cell_type": "code",
   "execution_count": null,
   "metadata": {},
   "outputs": [],
   "source": [
    "start_ed_coach = soup.findAll('div', class_ = 'uk-card-body')[1].text.find('Educational')"
   ]
  },
  {
   "cell_type": "code",
   "execution_count": null,
   "metadata": {},
   "outputs": [],
   "source": [
    "stop_ed_coach = soup.findAll('div', class_ = 'uk-card-body')[1].text.find('Maximum')"
   ]
  },
  {
   "cell_type": "code",
   "execution_count": null,
   "metadata": {},
   "outputs": [],
   "source": [
    "my_str = soup.findAll('div', class_ = 'uk-card-body')[1].text[start_ed_coach:stop_ed_coach]"
   ]
  },
  {
   "cell_type": "code",
   "execution_count": null,
   "metadata": {},
   "outputs": [],
   "source": [
    "my_str"
   ]
  },
  {
   "cell_type": "code",
   "execution_count": null,
   "metadata": {},
   "outputs": [],
   "source": [
    "[int(s) for s in my_str.split() if s.isdigit()]"
   ]
  },
  {
   "cell_type": "code",
   "execution_count": null,
   "metadata": {},
   "outputs": [],
   "source": [
    "# cohort \n",
    "soup.findAll('div', class_ = 'uk-card-body')[1].findAll('div')[0].text"
   ]
  },
  {
   "cell_type": "code",
   "execution_count": null,
   "metadata": {},
   "outputs": [],
   "source": [
    "# pacing\n",
    "soup.findAll('div', class_ = 'uk-card-body')[1].findAll('div')[1].text"
   ]
  },
  {
   "cell_type": "code",
   "execution_count": null,
   "metadata": {},
   "outputs": [],
   "source": [
    "# past cohorts \n",
    "soup.findAll('div', class_ = 'uk-card-body')[1].findAll('div')[2].text"
   ]
  },
  {
   "cell_type": "code",
   "execution_count": null,
   "metadata": {},
   "outputs": [],
   "source": [
    "# learn.co link\n",
    "soup.find('div', class_ = 'custom-badges').findAll('a', class_ = 'custom-badge-icon')[1]['href']"
   ]
  },
  {
   "cell_type": "code",
   "execution_count": null,
   "metadata": {},
   "outputs": [],
   "source": [
    "driver.get('http://learn.co/siguy12')"
   ]
  },
  {
   "cell_type": "code",
   "execution_count": null,
   "metadata": {},
   "outputs": [],
   "source": [
    "def get_info(url_part2):\n",
    "    driver.get('https://instruction.learn.co' + url_part2)\n",
    "    time.sleep(2)\n",
    "    my_html = driver.page_source\n",
    "    soup = BeautifulSoup(my_html, 'html.parser')\n",
    "    program = soup.findAll('h3', class_ = 'uk-card-title uk-margin-remove-bottom')[1].text.strip()\n",
    "    start_ed_coach = soup.findAll('div', class_ = 'uk-card-body')[1].text.find('Educational')\n",
    "    stop_ed_coach = soup.findAll('div', class_ = 'uk-card-body')[1].text.find('Maximum')\n",
    "    my_str = soup.findAll('div', class_ = 'uk-card-body')[1].text[start_ed_coach:stop_ed_coach]\n",
    "    ed_coach_taken = [int(s) for s in my_str.split() if s.isdigit()][0]\n",
    "    try:\n",
    "        ed_coach_avail = [int(s) for s in my_str.split() if s.isdigit()][1]\n",
    "    except IndexError:\n",
    "        ed_coach_avail = ''\n",
    "    cohort = soup.findAll('div', class_ = 'uk-card-body')[1].findAll('div')[0].text\n",
    "    pacing = soup.findAll('div', class_ = 'uk-card-body')[1].findAll('div')[1].text\n",
    "    try:\n",
    "        past_cohorts = soup.findAll('div', class_ = 'uk-card-body')[1].findAll('div')[2].text\n",
    "    except IndexError:\n",
    "        past_cohorts = ''\n",
    "    learn_link = soup.find('div', class_ = 'custom-badges').findAll('a', class_ = 'custom-badge-icon')[1]['href']\n",
    "    return program, ed_coach_taken, ed_coach_avail, cohort, pacing, past_cohorts, learn_link"
   ]
  },
  {
   "cell_type": "code",
   "execution_count": null,
   "metadata": {},
   "outputs": [],
   "source": [
    "get_info('/staff/students/siguy12')"
   ]
  },
  {
   "cell_type": "code",
   "execution_count": null,
   "metadata": {},
   "outputs": [],
   "source": [
    "get_info('/staff/students/perafolio')"
   ]
  },
  {
   "cell_type": "code",
   "execution_count": null,
   "metadata": {},
   "outputs": [],
   "source": [
    "canceled_df.head(2)"
   ]
  },
  {
   "cell_type": "code",
   "execution_count": null,
   "metadata": {},
   "outputs": [],
   "source": [
    "prog_list = []\n",
    "ed_coach_used_list = []\n",
    "ed_coach_avail_list = []\n",
    "cohort_list = []\n",
    "pacing_list = []\n",
    "past_cohorts_list = []\n",
    "learn_list = []\n",
    "for index, x in enumerate(canceled_df['url']):\n",
    "    prog_elem, ed_elem1, ed_elem2, cohort_elem, pacing_elem, past_elem, learn_elem = get_info(x)\n",
    "    prog_list.append(prog_elem)\n",
    "    ed_coach_avail_list.append(ed_elem1)\n",
    "    ed_coach_used_list.append(ed_elem1)\n",
    "    cohort_list.append(cohort_elem)\n",
    "    pacing_list.append(pacing_elem)\n",
    "    past_cohorts_list.append(past_elem)\n",
    "    learn_list.append(learn_elem)\n",
    "    if index % 50 == 0:\n",
    "        print(f'Completed {index} out of {len(canceled_df[\"url\"])}')"
   ]
  },
  {
   "cell_type": "code",
   "execution_count": null,
   "metadata": {},
   "outputs": [],
   "source": [
    "canceled_df['program'] = prog_list\n",
    "canceled_df['cohort'] = cohort_list\n",
    "canceled_df['pacing'] = pacing_list\n",
    "canceled_df['past_cohorts'] = past_cohorts_list\n",
    "canceled_df['ed_coach_used'] = ed_coach_used_list\n",
    "canceled_df['ed_coach_available'] = ed_coach_avail_list\n",
    "canceled_df['learn_url'] = learn_list"
   ]
  },
  {
   "cell_type": "code",
   "execution_count": null,
   "metadata": {},
   "outputs": [],
   "source": [
    "canceled_df.to_csv('canceled_df.csv', index = False)"
   ]
  },
  {
   "cell_type": "code",
   "execution_count": null,
   "metadata": {},
   "outputs": [],
   "source": [
    "prog_list = []\n",
    "ed_coach_used_list = []\n",
    "ed_coach_avail_list = []\n",
    "cohort_list = []\n",
    "pacing_list = []\n",
    "past_cohorts_list = []\n",
    "learn_list = []\n",
    "for index, x in enumerate(graduated_df['url']):\n",
    "    prog_elem, ed_elem1, ed_elem2, cohort_elem, pacing_elem, past_elem, learn_elem = get_info(x)\n",
    "    prog_list.append(prog_elem)\n",
    "    ed_coach_avail_list.append(ed_elem1)\n",
    "    ed_coach_used_list.append(ed_elem1)\n",
    "    cohort_list.append(cohort_elem)\n",
    "    pacing_list.append(pacing_elem)\n",
    "    past_cohorts_list.append(past_elem)\n",
    "    learn_list.append(learn_elem)\n",
    "    if index % 50 == 0:\n",
    "        print(f'Completed {index} out of {len(graduated_df[\"url\"])}')"
   ]
  },
  {
   "cell_type": "code",
   "execution_count": null,
   "metadata": {},
   "outputs": [],
   "source": [
    "graduated_df['program'] = prog_list\n",
    "graduated_df['cohort'] = cohort_list\n",
    "graduated_df['pacing'] = pacing_list\n",
    "graduated_df['past_cohorts'] = past_cohorts_list\n",
    "graduated_df['ed_coach_used'] = ed_coach_used_list\n",
    "graduated_df['ed_coach_available'] = ed_coach_avail_list\n",
    "graduated_df['learn_url'] = learn_list"
   ]
  },
  {
   "cell_type": "code",
   "execution_count": null,
   "metadata": {},
   "outputs": [],
   "source": [
    "graduated_df.to_csv('graduated_df.csv', index = False)"
   ]
  },
  {
   "cell_type": "code",
   "execution_count": null,
   "metadata": {},
   "outputs": [],
   "source": [
    "graduated_df.head()"
   ]
  },
  {
   "cell_type": "code",
   "execution_count": null,
   "metadata": {},
   "outputs": [],
   "source": [
    "graduated_df[graduated_df['name'] == 'Jon Tyler']"
   ]
  },
  {
   "cell_type": "code",
   "execution_count": null,
   "metadata": {},
   "outputs": [],
   "source": [
    "graduated_df['program'].value_counts()"
   ]
  },
  {
   "cell_type": "code",
   "execution_count": null,
   "metadata": {},
   "outputs": [],
   "source": [
    "canceled_df['program'].value_counts()"
   ]
  },
  {
   "cell_type": "code",
   "execution_count": null,
   "metadata": {},
   "outputs": [],
   "source": [
    "56 / 129"
   ]
  },
  {
   "cell_type": "code",
   "execution_count": null,
   "metadata": {},
   "outputs": [],
   "source": [
    "131 / 321"
   ]
  },
  {
   "cell_type": "code",
   "execution_count": null,
   "metadata": {},
   "outputs": [],
   "source": [
    "canceled_df[canceled_df['program'].str.contains('Data Science')]['pacing'].value_counts()"
   ]
  },
  {
   "cell_type": "code",
   "execution_count": null,
   "metadata": {},
   "outputs": [],
   "source": [
    "graduated_df[graduated_df['program'].str.contains('Data Science')]['pacing'].value_counts()"
   ]
  },
  {
   "cell_type": "code",
   "execution_count": null,
   "metadata": {},
   "outputs": [],
   "source": [
    "# data for canceled students \n",
    "cancled_sp = canceled_df[(canceled_df['program'].str.contains('Data Science')) & \n",
    "           (canceled_df['pacing'].str.contains('Self Paced')) & \n",
    "           (canceled_df['past_cohorts'] == '')]"
   ]
  },
  {
   "cell_type": "code",
   "execution_count": null,
   "metadata": {},
   "outputs": [],
   "source": [
    "cancled_sp"
   ]
  },
  {
   "cell_type": "code",
   "execution_count": null,
   "metadata": {},
   "outputs": [],
   "source": [
    "driver.close()"
   ]
  },
  {
   "cell_type": "code",
   "execution_count": null,
   "metadata": {},
   "outputs": [],
   "source": [
    "driver = webdriver.Chrome()"
   ]
  },
  {
   "cell_type": "code",
   "execution_count": null,
   "metadata": {},
   "outputs": [],
   "source": [
    "test_url = cancled_sp.loc[18, 'learn_url']"
   ]
  },
  {
   "cell_type": "code",
   "execution_count": null,
   "metadata": {},
   "outputs": [],
   "source": [
    "driver.get(test_url)"
   ]
  },
  {
   "cell_type": "code",
   "execution_count": null,
   "metadata": {},
   "outputs": [],
   "source": [
    "sign_in_gh = driver.find_element_by_xpath('//*[@id=\"js--region-main\"]/div/div[1]/div/div/div[5]/form/div/div[6]/a')"
   ]
  },
  {
   "cell_type": "code",
   "execution_count": null,
   "metadata": {},
   "outputs": [],
   "source": [
    "sign_in_gh.click()"
   ]
  },
  {
   "cell_type": "markdown",
   "metadata": {},
   "source": [
    "# SCRAPING LEARN PROFILES FOR PROGRESS "
   ]
  },
  {
   "cell_type": "markdown",
   "metadata": {},
   "source": [
    "## Username for Github"
   ]
  },
  {
   "cell_type": "code",
   "execution_count": null,
   "metadata": {},
   "outputs": [],
   "source": [
    "un = driver.find_element_by_xpath('//*[@id=\"login_field\"]')\n",
    "un.send_keys()"
   ]
  },
  {
   "cell_type": "markdown",
   "metadata": {},
   "source": [
    "## Password for Github"
   ]
  },
  {
   "cell_type": "code",
   "execution_count": null,
   "metadata": {},
   "outputs": [],
   "source": [
    "pw = driver.find_element_by_xpath('//*[@id=\"password\"]')\n",
    "pw.send_keys()"
   ]
  },
  {
   "cell_type": "code",
   "execution_count": null,
   "metadata": {},
   "outputs": [],
   "source": [
    "sn = driver.find_element_by_xpath('//*[@id=\"login\"]/form/div[2]/input[8]')\n",
    "sn.click()"
   ]
  },
  {
   "cell_type": "code",
   "execution_count": null,
   "metadata": {},
   "outputs": [],
   "source": [
    "time.sleep(4)"
   ]
  },
  {
   "cell_type": "code",
   "execution_count": null,
   "metadata": {},
   "outputs": [],
   "source": [
    "driver.get(test_url)"
   ]
  },
  {
   "cell_type": "code",
   "execution_count": null,
   "metadata": {},
   "outputs": [],
   "source": [
    "my_html = driver.page_source\n",
    "soup = BeautifulSoup(my_html, 'html.parser')"
   ]
  },
  {
   "cell_type": "code",
   "execution_count": null,
   "metadata": {},
   "outputs": [],
   "source": [
    "soup.find('h4', class_ = 'heading heading--level-6 heading--color-green heading--font-size-larger heading--weight-bolder').text"
   ]
  },
  {
   "cell_type": "code",
   "execution_count": null,
   "metadata": {},
   "outputs": [],
   "source": [
    "while True:\n",
    "    try:\n",
    "        lm = driver.find_element_by_xpath(\"//*[contains(text(), 'Load more')]\")\n",
    "        lm.click()\n",
    "        time.sleep(2)\n",
    "    except:\n",
    "        break"
   ]
  },
  {
   "cell_type": "code",
   "execution_count": null,
   "metadata": {},
   "outputs": [],
   "source": [
    "driver.get('http://learn.co/govenfist')"
   ]
  },
  {
   "cell_type": "code",
   "execution_count": null,
   "metadata": {},
   "outputs": [],
   "source": [
    "my_html = driver.page_source\n",
    "soup = BeautifulSoup(my_html, 'html.parser')"
   ]
  },
  {
   "cell_type": "code",
   "execution_count": null,
   "metadata": {},
   "outputs": [],
   "source": [
    "# curriculum\n",
    "soup.find('h4', class_ = 'heading heading--level-6 heading--color-green heading--font-size-larger heading--weight-bolder').text"
   ]
  },
  {
   "cell_type": "code",
   "execution_count": null,
   "metadata": {},
   "outputs": [],
   "source": [
    "#lessons completed\n",
    "soup.find('span', class_ = 'heading heading--level-1 heading--color-green heading--font-size-largest heading--weight-lighter').text"
   ]
  },
  {
   "cell_type": "code",
   "execution_count": null,
   "metadata": {},
   "outputs": [],
   "source": [
    "# last lab \n",
    "soup.find('h4', class_ = 'heading heading--level-1 heading--color-blue heading--weight-lighter').text"
   ]
  },
  {
   "cell_type": "code",
   "execution_count": null,
   "metadata": {},
   "outputs": [],
   "source": [
    "while True:\n",
    "    try:\n",
    "        lm = driver.find_element_by_xpath(\"//*[contains(text(), 'Load more')]\")\n",
    "        lm.click()\n",
    "        time.sleep(2)\n",
    "    except:\n",
    "        break"
   ]
  },
  {
   "cell_type": "code",
   "execution_count": null,
   "metadata": {},
   "outputs": [],
   "source": [
    "my_html = driver.page_source\n",
    "soup = BeautifulSoup(my_html, 'html.parser')"
   ]
  },
  {
   "cell_type": "code",
   "execution_count": null,
   "metadata": {},
   "outputs": [],
   "source": [
    "first_date = soup.findAll('div', \n",
    "                          class_ = 'module module--flush-wings util--padding-tl util--padding-bl')[0]"
   ]
  },
  {
   "cell_type": "code",
   "execution_count": null,
   "metadata": {},
   "outputs": [],
   "source": [
    "# date\n",
    "first_date.find('div', class_ = 'heading heading--level-2 heading--color-grey-light').text"
   ]
  },
  {
   "cell_type": "code",
   "execution_count": null,
   "metadata": {},
   "outputs": [],
   "source": [
    "lessons = first_date.find('ul',\n",
    "                          class_ = 'list list--spacing-large list--separators-grey-faintest')"
   ]
  },
  {
   "cell_type": "code",
   "execution_count": null,
   "metadata": {},
   "outputs": [],
   "source": [
    "# lessons\n",
    "for l_lesson in lessons.findAll('div', class_ = 'media-block__content'):\n",
    "    print(l_lesson.find('a').text)"
   ]
  },
  {
   "cell_type": "code",
   "execution_count": null,
   "metadata": {},
   "outputs": [],
   "source": [
    "# iterate through the entire \n",
    "all_labs = soup.findAll('div', \n",
    "                          class_ = 'module module--flush-wings util--padding-tl util--padding-bl')\n",
    "\n",
    "dates_list = []\n",
    "lessons_list = []\n",
    "\n",
    "for d in all_labs:\n",
    "    date = d.find('div', \n",
    "                  class_ = 'heading heading--level-2 heading--color-grey-light').text\n",
    "    lessons = d.find('ul',\n",
    "                          class_ = 'list list--spacing-large list--separators-grey-faintest')\n",
    "    for l_lesson in lessons.findAll('div', class_ = 'media-block__content'):\n",
    "        dates_list.append(date)\n",
    "        lessons_list.append(l_lesson.find('a').text)\n",
    "        print(l_lesson.find('a').text)"
   ]
  },
  {
   "cell_type": "code",
   "execution_count": null,
   "metadata": {},
   "outputs": [],
   "source": [
    "len(dates_list)"
   ]
  },
  {
   "cell_type": "code",
   "execution_count": null,
   "metadata": {},
   "outputs": [],
   "source": [
    "len(lessons_list)"
   ]
  },
  {
   "cell_type": "code",
   "execution_count": null,
   "metadata": {},
   "outputs": [],
   "source": [
    "df_lessons = pd.DataFrame({'dates': dates_list,\n",
    "                          'lesson': lessons_list})"
   ]
  },
  {
   "cell_type": "code",
   "execution_count": null,
   "metadata": {},
   "outputs": [],
   "source": [
    "df_lessons.tail(15)"
   ]
  },
  {
   "cell_type": "code",
   "execution_count": null,
   "metadata": {},
   "outputs": [],
   "source": [
    "cancled_sp.loc[18, 'url'].split('/')[-1]"
   ]
  },
  {
   "cell_type": "code",
   "execution_count": null,
   "metadata": {},
   "outputs": [],
   "source": [
    "cancled_sp.head()"
   ]
  },
  {
   "cell_type": "code",
   "execution_count": null,
   "metadata": {},
   "outputs": [],
   "source": [
    "cancled_sp['curriculum'] = ''\n",
    "cancled_sp['lessons_completed'] = 0\n",
    "cancled_sp['last_lesson'] = ''"
   ]
  },
  {
   "cell_type": "code",
   "execution_count": null,
   "metadata": {},
   "outputs": [],
   "source": [
    "cancled_sp"
   ]
  },
  {
   "cell_type": "code",
   "execution_count": null,
   "metadata": {},
   "outputs": [],
   "source": [
    "#driver.close()\n",
    "driver = webdriver.Chrome()\n",
    "\n",
    "driver.get('http://learn.co/superguy200')\n",
    "    \n",
    "# sign into github \n",
    "\n",
    "# click sign up with github button\n",
    "sign_in_gh = driver.find_element_by_xpath('//*[@id=\"js--region-main\"]/div/div[1]/div/div/div[5]/form/div/div[6]/a')\n",
    "sign_in_gh.click()\n",
    "\n",
    "# enter github username \n",
    "un = driver.find_element_by_xpath('//*[@id=\"login_field\"]')\n",
    "un.send_keys()\n",
    "\n",
    "# enter github password\n",
    "pw = driver.find_element_by_xpath('//*[@id=\"password\"]')\n",
    "pw.send_keys()\n",
    "\n",
    "# click submit\n",
    "sn = driver.find_element_by_xpath('//*[@id=\"login\"]/form/div[2]/input[8]')\n",
    "sn.click()\n",
    "\n",
    "for index, row in cancled_sp.iterrows():\n",
    "    \n",
    "    # visit url\n",
    "    driver.get(row['learn_url'])\n",
    "    \n",
    "    # let load\n",
    "    time.sleep(2)\n",
    "    \n",
    "    # grab html\n",
    "    my_html = driver.page_source\n",
    "    soup = BeautifulSoup(my_html, 'html.parser')\n",
    "    \n",
    "    # check to see if they are in bootcamp prep\n",
    "    curriculum = soup.find('h4', \n",
    "              class_ = 'heading heading--level-6 heading--color-green heading--font-size-larger heading--weight-bolder').text\n",
    "    print(f'{row[\"name\"]} - {curriculum}')\n",
    "    if curriculum == 'Bootcamp Prep':\n",
    "        cancled_sp.loc[index, 'curriculum'] = curriculum\n",
    "        continue\n",
    "    else:\n",
    "        # add curriculum\n",
    "        cancled_sp.loc[index, 'curriculum'] = curriculum\n",
    "        \n",
    "        # grab lessons completed \n",
    "        les_completed = soup.find('span', \n",
    "                                   class_ = 'heading heading--level-1 heading--color-green heading--font-size-largest heading--weight-lighter').text\n",
    "        cancled_sp.loc[index, 'lessons_completed'] = les_completed\n",
    "        \n",
    "        # grab last lesson completed \n",
    "        las_completed = soup.find('h4', \n",
    "                                  class_ = 'heading heading--level-1 heading--color-blue heading--weight-lighter').text\n",
    "        cancled_sp.loc[index, 'last_lesson'] = las_completed\n",
    "        \n",
    "        # click load more a bunch\n",
    "        while True:\n",
    "            try:\n",
    "                lm = driver.find_element_by_xpath(\"//*[contains(text(), 'Load more')]\")\n",
    "                lm.click()\n",
    "                time.sleep(2)\n",
    "            except:\n",
    "                break\n",
    "                \n",
    "        # grab html\n",
    "        time.sleep(2)\n",
    "        my_html = driver.page_source\n",
    "        soup = BeautifulSoup(my_html, 'html.parser')\n",
    "        \n",
    "        all_labs = soup.findAll('div', \n",
    "                          class_ = 'module module--flush-wings util--padding-tl util--padding-bl')\n",
    "\n",
    "        dates_list = []\n",
    "        lessons_list = []\n",
    "\n",
    "        for d in all_labs:\n",
    "            date = d.find('div', \n",
    "                          class_ = 'heading heading--level-2 heading--color-grey-light').text\n",
    "            lessons = d.find('ul',\n",
    "                                  class_ = 'list list--spacing-large list--separators-grey-faintest')\n",
    "            for l_lesson in lessons.findAll('div', class_ = 'media-block__content'):\n",
    "                dates_list.append(date)\n",
    "                lessons_list.append(l_lesson.find('a').text)\n",
    "                \n",
    "        df_ls = pd.DataFrame({'dates': dates_list,\n",
    "                          'lesson': lessons_list})\n",
    "        \n",
    "        df_ls.to_csv(f'./lessons/canceled/{row[\"url\"].split(\"/\")[-1]}.csv')"
   ]
  },
  {
   "cell_type": "markdown",
   "metadata": {},
   "source": [
    "### grad_sp"
   ]
  },
  {
   "cell_type": "code",
   "execution_count": null,
   "metadata": {},
   "outputs": [],
   "source": [
    "# graduated students \n",
    "grad_sp = graduated_df[(graduated_df['program'].str.contains('Data Science')) & \n",
    "            (graduated_df['pacing'].str.contains('Self Pace')) & \n",
    "            (graduated_df['name'] != 'Emily Pfeifer')]"
   ]
  },
  {
   "cell_type": "code",
   "execution_count": null,
   "metadata": {},
   "outputs": [],
   "source": [
    "grad_sp['curriculum'] = ''\n",
    "grad_sp['lessons_completed'] = 0\n",
    "grad_sp['last_lesson'] = ''"
   ]
  },
  {
   "cell_type": "code",
   "execution_count": null,
   "metadata": {},
   "outputs": [],
   "source": [
    "#driver.close()\n",
    "driver = webdriver.Chrome()\n",
    "\n",
    "driver.get('http://learn.co/superguy200')\n",
    "    \n",
    "# sign into github \n",
    "\n",
    "# click sign up with github button\n",
    "sign_in_gh = driver.find_element_by_xpath('//*[@id=\"js--region-main\"]/div/div[1]/div/div/div[5]/form/div/div[6]/a')\n",
    "sign_in_gh.click()\n",
    "\n",
    "# enter github username \n",
    "un = driver.find_element_by_xpath('//*[@id=\"login_field\"]')\n",
    "un.send_keys()\n",
    "\n",
    "# enter github password\n",
    "pw = driver.find_element_by_xpath('//*[@id=\"password\"]')\n",
    "pw.send_keys()\n",
    "\n",
    "# click submit\n",
    "sn = driver.find_element_by_xpath('//*[@id=\"login\"]/form/div[2]/input[8]')\n",
    "sn.click()\n",
    "\n",
    "for index, row in grad_sp.iterrows():\n",
    "    \n",
    "    # visit url\n",
    "    driver.get(row['learn_url'])\n",
    "    \n",
    "    # let load\n",
    "    time.sleep(2)\n",
    "    \n",
    "    # grab html\n",
    "    my_html = driver.page_source\n",
    "    soup = BeautifulSoup(my_html, 'html.parser')\n",
    "    \n",
    "    # check to see if they are in bootcamp prep\n",
    "    curriculum = soup.find('h4', \n",
    "              class_ = 'heading heading--level-6 heading--color-green heading--font-size-larger heading--weight-bolder').text\n",
    "    print(f'{row[\"name\"]} - {curriculum}')\n",
    "    if curriculum == 'Bootcamp Prep':\n",
    "        grad_sp.loc[index, 'curriculum'] = curriculum\n",
    "        continue\n",
    "    else:\n",
    "        # add curriculum\n",
    "        grad_sp.loc[index, 'curriculum'] = curriculum\n",
    "        \n",
    "        # grab lessons completed \n",
    "        les_completed = soup.find('span', \n",
    "                                   class_ = 'heading heading--level-1 heading--color-green heading--font-size-largest heading--weight-lighter').text\n",
    "        grad_sp.loc[index, 'lessons_completed'] = les_completed\n",
    "        \n",
    "        # grab last lesson completed \n",
    "        las_completed = soup.find('h4', \n",
    "                                  class_ = 'heading heading--level-1 heading--color-blue heading--weight-lighter').text\n",
    "        grad_sp.loc[index, 'last_lesson'] = las_completed\n",
    "        \n",
    "        # click load more a bunch\n",
    "        while True:\n",
    "            try:\n",
    "                lm = driver.find_element_by_xpath(\"//*[contains(text(), 'Load more')]\")\n",
    "                lm.click()\n",
    "                time.sleep(2)\n",
    "            except:\n",
    "                break\n",
    "                \n",
    "        # grab html\n",
    "        time.sleep(2)\n",
    "        my_html = driver.page_source\n",
    "        soup = BeautifulSoup(my_html, 'html.parser')\n",
    "        \n",
    "        all_labs = soup.findAll('div', \n",
    "                          class_ = 'module module--flush-wings util--padding-tl util--padding-bl')\n",
    "\n",
    "        dates_list = []\n",
    "        lessons_list = []\n",
    "\n",
    "        for d in all_labs:\n",
    "            date = d.find('div', \n",
    "                          class_ = 'heading heading--level-2 heading--color-grey-light').text\n",
    "            lessons = d.find('ul',\n",
    "                                  class_ = 'list list--spacing-large list--separators-grey-faintest')\n",
    "            for l_lesson in lessons.findAll('div', class_ = 'media-block__content'):\n",
    "                dates_list.append(date)\n",
    "                lessons_list.append(l_lesson.find('a').text)\n",
    "                \n",
    "        df_ls = pd.DataFrame({'dates': dates_list,\n",
    "                          'lesson': lessons_list})\n",
    "        \n",
    "        df_ls.to_csv(f'./lessons/grad/{row[\"url\"].split(\"/\")[-1]}.csv')"
   ]
  },
  {
   "cell_type": "code",
   "execution_count": null,
   "metadata": {},
   "outputs": [],
   "source": [
    "cancled_sp.to_csv('canceled_sp.csv', index = False)\n",
    "grad_sp.to_csv('grad_sp.csv', index = False)"
   ]
  },
  {
   "cell_type": "code",
   "execution_count": null,
   "metadata": {},
   "outputs": [],
   "source": [
    "grad_sp"
   ]
  },
  {
   "cell_type": "code",
   "execution_count": null,
   "metadata": {},
   "outputs": [],
   "source": []
  }
 ],
 "metadata": {
  "kernelspec": {
   "display_name": "learn-env",
   "language": "python",
   "name": "learn-env"
  },
  "language_info": {
   "codemirror_mode": {
    "name": "ipython",
    "version": 3
   },
   "file_extension": ".py",
   "mimetype": "text/x-python",
   "name": "python",
   "nbconvert_exporter": "python",
   "pygments_lexer": "ipython3",
   "version": "3.6.9"
  },
  "toc": {
   "base_numbering": 1,
   "nav_menu": {},
   "number_sections": true,
   "sideBar": true,
   "skip_h1_title": false,
   "title_cell": "Table of Contents",
   "title_sidebar": "Contents",
   "toc_cell": false,
   "toc_position": {},
   "toc_section_display": true,
   "toc_window_display": false
  }
 },
 "nbformat": 4,
 "nbformat_minor": 2
}
